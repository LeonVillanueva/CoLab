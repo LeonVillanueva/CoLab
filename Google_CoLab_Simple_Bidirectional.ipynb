{
  "nbformat": 4,
  "nbformat_minor": 0,
  "metadata": {
    "colab": {
      "name": "Google_CoLab_Simple_Bidirectional.ipynb",
      "provenance": [],
      "authorship_tag": "ABX9TyMDfcamtVBjdqL3UO+maEbV",
      "include_colab_link": true
    },
    "kernelspec": {
      "name": "python3",
      "display_name": "Python 3"
    }
  },
  "cells": [
    {
      "cell_type": "markdown",
      "metadata": {
        "id": "view-in-github",
        "colab_type": "text"
      },
      "source": [
        "<a href=\"https://colab.research.google.com/github/LeonVillanueva/CoLab/blob/master/Google_CoLab_Simple_Bidirectional.ipynb\" target=\"_parent\"><img src=\"https://colab.research.google.com/assets/colab-badge.svg\" alt=\"Open In Colab\"/></a>"
      ]
    },
    {
      "cell_type": "code",
      "metadata": {
        "id": "bKz4wHBZ2IR4",
        "colab_type": "code",
        "colab": {}
      },
      "source": [
        "!pip install -q tensorflow==2.0.0-beta-1"
      ],
      "execution_count": 0,
      "outputs": []
    },
    {
      "cell_type": "code",
      "metadata": {
        "id": "t4CD-tlw2dWP",
        "colab_type": "code",
        "colab": {}
      },
      "source": [
        "from sklearn.model_selection import train_test_split\n",
        "from sklearn.preprocessing import StandardScaler"
      ],
      "execution_count": 0,
      "outputs": []
    },
    {
      "cell_type": "code",
      "metadata": {
        "id": "s6fS_c0r2hya",
        "colab_type": "code",
        "colab": {}
      },
      "source": [
        "%%capture\n",
        "\n",
        "import numpy as np\n",
        "import matplotlib.pyplot as plt\n",
        "import pandas as pd\n",
        "import tensorflow as tf"
      ],
      "execution_count": 0,
      "outputs": []
    },
    {
      "cell_type": "code",
      "metadata": {
        "id": "GUad79sV2iK6",
        "colab_type": "code",
        "colab": {}
      },
      "source": [
        "from tensorflow.keras.layers import InputLayer, LSTM, GRU, Input, GlobalMaxPooling1D, Bidirectional\n",
        "from tensorflow.keras.layers import Dense, Embedding\n",
        "from tensorflow.keras.models import Model"
      ],
      "execution_count": 0,
      "outputs": []
    },
    {
      "cell_type": "code",
      "metadata": {
        "id": "zx-jDI6x2p1z",
        "colab_type": "code",
        "colab": {}
      },
      "source": [
        "from tensorflow.keras.preprocessing.text import Tokenizer\n",
        "from tensorflow.keras.preprocessing.sequence import pad_sequences\n",
        "from keras.optimizers import Adam\n",
        "from sklearn.metrics import roc_auc_score"
      ],
      "execution_count": 0,
      "outputs": []
    },
    {
      "cell_type": "code",
      "metadata": {
        "id": "7z18rAwhJdhQ",
        "colab_type": "code",
        "colab": {}
      },
      "source": [
        "data = pd.read_csv  ('test_stage_2.tsv', sep='\\t')"
      ],
      "execution_count": 0,
      "outputs": []
    },
    {
      "cell_type": "code",
      "metadata": {
        "id": "KXRk1VJQLZFf",
        "colab_type": "code",
        "colab": {
          "base_uri": "https://localhost:8080/",
          "height": 129
        },
        "outputId": "22a23c67-7045-43ad-8ea9-dc09859d4f4b"
      },
      "source": [
        "data['Text'].map(len).max(), data.shape, data['Pronoun'].map(str.lower).value_counts()"
      ],
      "execution_count": 27,
      "outputs": [
        {
          "output_type": "execute_result",
          "data": {
            "text/plain": [
              "(945, (12359, 9), her    3065\n",
              " his    3051\n",
              " he     2831\n",
              " she    2795\n",
              " him     617\n",
              " Name: Pronoun, dtype: int64)"
            ]
          },
          "metadata": {
            "tags": []
          },
          "execution_count": 27
        }
      ]
    },
    {
      "cell_type": "code",
      "metadata": {
        "id": "8zaRkDZ6OMex",
        "colab_type": "code",
        "colab": {
          "base_uri": "https://localhost:8080/",
          "height": 241
        },
        "outputId": "a7b45b59-0757-42ce-e1a4-9e6c8d8dd30b"
      },
      "source": [
        "data['Text']"
      ],
      "execution_count": 28,
      "outputs": [
        {
          "output_type": "execute_result",
          "data": {
            "text/plain": [
              "0        For the U.S. Under Secretary of State, see Luc...\n",
              "1        After this match, she reached her new career h...\n",
              "2        In the same way in his Preface of the Books of...\n",
              "3        Anita's so-called homeless mate Machteld Steen...\n",
              "4        By March, she was the King's mistress, install...\n",
              "                               ...                        \n",
              "12354    The trio recorded their debut single and appea...\n",
              "12355    In London, Hill was elected to the society of ...\n",
              "12356    He has appeared on more than 65 recordings as ...\n",
              "12357    Matthias Diependaele Matthias Diependaele (bor...\n",
              "12358    Fay Templeton was born on December 25, 1865, i...\n",
              "Name: Text, Length: 12359, dtype: object"
            ]
          },
          "metadata": {
            "tags": []
          },
          "execution_count": 28
        }
      ]
    },
    {
      "cell_type": "code",
      "metadata": {
        "id": "BSqBLmb4LqoG",
        "colab_type": "code",
        "colab": {
          "base_uri": "https://localhost:8080/",
          "height": 73
        },
        "outputId": "5329760c-6742-46e0-cc86-b422df06ea76"
      },
      "source": [
        "from nltk.corpus import stopwords\n",
        "import nltk\n",
        "import re\n",
        "\n",
        "nltk.download ('stopwords')"
      ],
      "execution_count": 22,
      "outputs": [
        {
          "output_type": "stream",
          "text": [
            "[nltk_data] Downloading package stopwords to /root/nltk_data...\n",
            "[nltk_data]   Unzipping corpora/stopwords.zip.\n"
          ],
          "name": "stdout"
        },
        {
          "output_type": "execute_result",
          "data": {
            "text/plain": [
              "True"
            ]
          },
          "metadata": {
            "tags": []
          },
          "execution_count": 22
        }
      ]
    },
    {
      "cell_type": "code",
      "metadata": {
        "id": "LyRIP5V7NjXm",
        "colab_type": "code",
        "colab": {}
      },
      "source": [
        "def clean_text(x):\n",
        "    x = x.lower()\n",
        "    x = re.sub(r\"(@[A-Za-z0-9]+)|([^0-9A-Za-z \\t])|(\\w+:\\/\\/\\S+)|^rt|http.+?\", \"\", x)\n",
        "    stop_words = stopwords.words ('english')\n",
        "    words = re.sub(r'[^\\w\\s]','',x).split(' ')\n",
        "    words = [word for word in words if word not in stop_words]\n",
        "    return words"
      ],
      "execution_count": 0,
      "outputs": []
    },
    {
      "cell_type": "code",
      "metadata": {
        "id": "mm6kwnATNm-t",
        "colab_type": "code",
        "colab": {}
      },
      "source": [
        "text = data['Text'].apply (clean_text)"
      ],
      "execution_count": 0,
      "outputs": []
    },
    {
      "cell_type": "code",
      "metadata": {
        "id": "xz9dJR1rODS0",
        "colab_type": "code",
        "colab": {
          "base_uri": "https://localhost:8080/",
          "height": 709
        },
        "outputId": "b6c666d7-ceab-4fdd-d73e-ced6150130f5"
      },
      "source": [
        ""
      ],
      "execution_count": 42,
      "outputs": [
        {
          "output_type": "execute_result",
          "data": {
            "text/plain": [
              "['us',\n",
              " 'secretary',\n",
              " 'state',\n",
              " 'see',\n",
              " 'lucy',\n",
              " 'w',\n",
              " 'benson',\n",
              " 'lucy',\n",
              " 'benson',\n",
              " 'fictional',\n",
              " 'character',\n",
              " 'longrunning',\n",
              " 'channel',\n",
              " '4',\n",
              " 'soap',\n",
              " 'opera',\n",
              " 'hollyoaks',\n",
              " 'played',\n",
              " 'kerrie',\n",
              " 'taylor',\n",
              " '19952000',\n",
              " 'appeared',\n",
              " 'shows',\n",
              " 'first',\n",
              " 'ever',\n",
              " 'episode',\n",
              " 'airing',\n",
              " '23',\n",
              " 'october',\n",
              " '1995',\n",
              " 'character',\n",
              " 'left',\n",
              " 'five',\n",
              " 'years',\n",
              " 'later',\n",
              " 'went',\n",
              " 'travelling']"
            ]
          },
          "metadata": {
            "tags": []
          },
          "execution_count": 42
        }
      ]
    },
    {
      "cell_type": "code",
      "metadata": {
        "id": "rus2yAP1OIz9",
        "colab_type": "code",
        "colab": {}
      },
      "source": [
        ""
      ],
      "execution_count": 0,
      "outputs": []
    }
  ]
}