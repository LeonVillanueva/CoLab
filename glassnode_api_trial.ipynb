{
  "nbformat": 4,
  "nbformat_minor": 0,
  "metadata": {
    "colab": {
      "name": "glassnode_api_trial.ipynb",
      "provenance": [],
      "collapsed_sections": [],
      "authorship_tag": "ABX9TyPl5zuIZpx7EYhxahyuRIaD",
      "include_colab_link": true
    },
    "kernelspec": {
      "name": "python3",
      "display_name": "Python 3"
    },
    "language_info": {
      "name": "python"
    }
  },
  "cells": [
    {
      "cell_type": "markdown",
      "metadata": {
        "id": "view-in-github",
        "colab_type": "text"
      },
      "source": [
        "<a href=\"https://colab.research.google.com/github/LeonVillanueva/CoLab/blob/master/glassnode_api_trial.ipynb\" target=\"_parent\"><img src=\"https://colab.research.google.com/assets/colab-badge.svg\" alt=\"Open In Colab\"/></a>"
      ]
    },
    {
      "cell_type": "code",
      "metadata": {
        "id": "ek3aQqheZkhc"
      },
      "source": [
        "import json\n",
        "import requests\n",
        "import pandas as pd\n",
        "import numpy as np\n",
        "\n"
      ],
      "execution_count": 9,
      "outputs": []
    },
    {
      "cell_type": "code",
      "metadata": {
        "id": "1YY9EfHyZn_k"
      },
      "source": [
        "# insert your API key here\n",
        "API_KEY = '1qB8yWqDAe7Ti2LJGJAahbPhp0N'\n",
        "\n",
        "# make API request\n",
        "res = requests.get('https://api.glassnode.com/v1/metrics/indicators/net_unrealized_profit_loss',\n",
        "    params={'a': 'ETH', 'api_key': API_KEY})\n",
        "\n",
        "# convert to pandas dataframe\n",
        "df = pd.read_json(res.text, convert_dates=['t'])"
      ],
      "execution_count": 4,
      "outputs": []
    },
    {
      "cell_type": "code",
      "metadata": {
        "id": "aj2btYfRZ5OJ"
      },
      "source": [
        "nupl_sum_30 = np.sum(df.tail(30)['v'])\n",
        "nupl_mean_30 = np.mean(df.tail(30)['v'])"
      ],
      "execution_count": 10,
      "outputs": []
    }
  ]
}