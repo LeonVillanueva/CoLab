{
  "nbformat": 4,
  "nbformat_minor": 0,
  "metadata": {
    "colab": {
      "name": "glassnode_api_trial.ipynb",
      "provenance": [],
      "collapsed_sections": [],
      "authorship_tag": "ABX9TyOvVGfy8TsaAOmgZPP6Ut9w",
      "include_colab_link": true
    },
    "kernelspec": {
      "name": "python3",
      "display_name": "Python 3"
    },
    "language_info": {
      "name": "python"
    }
  },
  "cells": [
    {
      "cell_type": "markdown",
      "metadata": {
        "id": "view-in-github",
        "colab_type": "text"
      },
      "source": [
        "<a href=\"https://colab.research.google.com/github/LeonVillanueva/CoLab/blob/master/glassnode_api_trial.ipynb\" target=\"_parent\"><img src=\"https://colab.research.google.com/assets/colab-badge.svg\" alt=\"Open In Colab\"/></a>"
      ]
    },
    {
      "cell_type": "code",
      "metadata": {
        "id": "ek3aQqheZkhc"
      },
      "source": [
        "import json\n",
        "import requests\n",
        "import pandas as pd\n",
        "import numpy as np\n",
        "\n"
      ],
      "execution_count": 1,
      "outputs": []
    },
    {
      "cell_type": "code",
      "metadata": {
        "id": "1YY9EfHyZn_k"
      },
      "source": [
        "# insert your API key here\n",
        "API_KEY = '1qB8yWqDAe7Ti2LJGJAahbPhp0N'\n",
        "\n",
        "# make API request\n",
        "res = requests.get('https://api.glassnode.com/v1/metrics/indicators/net_unrealized_profit_loss',\n",
        "    params={'a': 'ETH', 'api_key': API_KEY})\n",
        "\n",
        "# convert to pandas dataframe\n",
        "df = pd.read_json(res.text, convert_dates=['t'])"
      ],
      "execution_count": 2,
      "outputs": []
    },
    {
      "cell_type": "code",
      "metadata": {
        "id": "aj2btYfRZ5OJ"
      },
      "source": [
        "nupl_sum_30 = np.sum(df.tail(30)['v'])\n",
        "nupl_mean_30 = np.mean(df.tail(30)['v'])"
      ],
      "execution_count": 3,
      "outputs": []
    },
    {
      "cell_type": "code",
      "metadata": {
        "colab": {
          "base_uri": "https://localhost:8080/"
        },
        "id": "5Lbrp-uOcDuq",
        "outputId": "713ee61c-c450-4024-9ddf-db31e4ee2256"
      },
      "source": [
        "print (nupl_mean_30)\n",
        "print (nupl_sum_30)"
      ],
      "execution_count": 4,
      "outputs": [
        {
          "output_type": "stream",
          "text": [
            "-0.2808449677173043\n",
            "-8.425349031519128\n"
          ],
          "name": "stdout"
        }
      ]
    },
    {
      "cell_type": "code",
      "metadata": {
        "colab": {
          "base_uri": "https://localhost:8080/"
        },
        "id": "-iWAw9l2dYrT",
        "outputId": "55928cec-a928-401f-e6e5-cded2645ea20"
      },
      "source": [
        "pip install pycoingecko"
      ],
      "execution_count": 5,
      "outputs": [
        {
          "output_type": "stream",
          "text": [
            "Collecting pycoingecko\n",
            "  Downloading https://files.pythonhosted.org/packages/cf/b6/abf90df392a36fad22c86dfd5d089e2b9ea748a08ca54004113572cf51b0/pycoingecko-1.4.0-py3-none-any.whl\n",
            "Requirement already satisfied: requests in /usr/local/lib/python3.7/dist-packages (from pycoingecko) (2.23.0)\n",
            "Requirement already satisfied: urllib3!=1.25.0,!=1.25.1,<1.26,>=1.21.1 in /usr/local/lib/python3.7/dist-packages (from requests->pycoingecko) (1.24.3)\n",
            "Requirement already satisfied: certifi>=2017.4.17 in /usr/local/lib/python3.7/dist-packages (from requests->pycoingecko) (2020.12.5)\n",
            "Requirement already satisfied: idna<3,>=2.5 in /usr/local/lib/python3.7/dist-packages (from requests->pycoingecko) (2.10)\n",
            "Requirement already satisfied: chardet<4,>=3.0.2 in /usr/local/lib/python3.7/dist-packages (from requests->pycoingecko) (3.0.4)\n",
            "Installing collected packages: pycoingecko\n",
            "Successfully installed pycoingecko-1.4.0\n"
          ],
          "name": "stdout"
        }
      ]
    },
    {
      "cell_type": "code",
      "metadata": {
        "id": "Rpmo3K34dZP5"
      },
      "source": [
        "from pycoingecko import CoinGeckoAPI\n",
        "cg = CoinGeckoAPI()"
      ],
      "execution_count": 6,
      "outputs": []
    },
    {
      "cell_type": "code",
      "metadata": {
        "id": "2DyOu5jtdfQl"
      },
      "source": [
        "coin_usd = cg.get_price(ids=['ethereum','bitcoin'], vs_currencies=['usd'], include_market_cap='true')"
      ],
      "execution_count": 7,
      "outputs": []
    },
    {
      "cell_type": "code",
      "metadata": {
        "colab": {
          "base_uri": "https://localhost:8080/"
        },
        "id": "vt3gM5W0dvSN",
        "outputId": "523e4279-0491-4bf4-ac7e-8cff838e8372"
      },
      "source": [
        "coin_usd['ethereum']\n",
        "\n",
        "# https://github.com/man-c/pycoingecko"
      ],
      "execution_count": 8,
      "outputs": [
        {
          "output_type": "execute_result",
          "data": {
            "text/plain": [
              "{'usd': 1606.44, 'usd_market_cap': 184808751058.51605}"
            ]
          },
          "metadata": {
            "tags": []
          },
          "execution_count": 8
        }
      ]
    },
    {
      "cell_type": "code",
      "metadata": {
        "id": "WBGki0RaeVA5"
      },
      "source": [
        "# make API request\n",
        "res = requests.get('https://api.glassnode.com/v1/metrics/indicators/nupl_less_155',\n",
        "    params={'a': 'ETH', 'api_key': API_KEY})\n",
        "\n",
        "# convert to pandas dataframe\n",
        "df = pd.read_json(res.text, convert_dates=['t'])"
      ],
      "execution_count": 9,
      "outputs": []
    },
    {
      "cell_type": "code",
      "metadata": {
        "id": "tv_DJAoOfeUR",
        "colab": {
          "base_uri": "https://localhost:8080/"
        },
        "outputId": "deefadff-6cd2-47db-9924-914e9eaf5903"
      },
      "source": [
        "snupl_sum_30 = np.sum(df.tail(30)['v'])\n",
        "snupl_mean_30 = np.mean(df.tail(30)['v'])\n",
        "\n",
        "print (snupl_mean_30)\n",
        "print (snupl_sum_30)"
      ],
      "execution_count": 10,
      "outputs": [
        {
          "output_type": "stream",
          "text": [
            "-0.10813127627730436\n",
            "-3.243938288319131\n"
          ],
          "name": "stdout"
        }
      ]
    },
    {
      "cell_type": "code",
      "metadata": {
        "colab": {
          "base_uri": "https://localhost:8080/"
        },
        "id": "Tomng47d7BP2",
        "outputId": "ace57ce4-4736-48fd-8deb-a2d5a2a616d5"
      },
      "source": [
        "coin_usd['bitcoin']"
      ],
      "execution_count": 11,
      "outputs": [
        {
          "output_type": "execute_result",
          "data": {
            "text/plain": [
              "{'usd': 51756, 'usd_market_cap': 969306439121.1964}"
            ]
          },
          "metadata": {
            "tags": []
          },
          "execution_count": 11
        }
      ]
    },
    {
      "cell_type": "code",
      "metadata": {
        "colab": {
          "base_uri": "https://localhost:8080/"
        },
        "id": "Uq08IM697BKP",
        "outputId": "db868e78-1c84-4dce-ac50-2b8dcc4092bd"
      },
      "source": [
        "cg.get_indexes()"
      ],
      "execution_count": 12,
      "outputs": [
        {
          "output_type": "execute_result",
          "data": {
            "text/plain": [
              "[{'id': 'DFN',\n",
              "  'is_multi_asset_composite': None,\n",
              "  'last': None,\n",
              "  'market': 'CoinFLEX (Futures)',\n",
              "  'name': 'CoinFLEX (Futures) DFN'},\n",
              " {'id': 'LINK',\n",
              "  'is_multi_asset_composite': None,\n",
              "  'last': None,\n",
              "  'market': 'Bibox (Futures)',\n",
              "  'name': 'Bibox (Futures) LINK'},\n",
              " {'id': 'BTC',\n",
              "  'is_multi_asset_composite': False,\n",
              "  'last': None,\n",
              "  'market': 'CME Bitcoin Futures',\n",
              "  'name': 'CME Bitcoin Futures BTC'},\n",
              " {'id': 'XRP',\n",
              "  'is_multi_asset_composite': None,\n",
              "  'last': None,\n",
              "  'market': 'Bibox (Futures)',\n",
              "  'name': 'Bibox (Futures) XRP'},\n",
              " {'id': 'BSV',\n",
              "  'is_multi_asset_composite': None,\n",
              "  'last': None,\n",
              "  'market': 'ZBG Futures',\n",
              "  'name': 'ZBG Futures BSV'},\n",
              " {'id': 'BCHABC',\n",
              "  'is_multi_asset_composite': None,\n",
              "  'last': 0.0,\n",
              "  'market': 'CoinFLEX (Futures)',\n",
              "  'name': 'CoinFLEX (Futures) BCHABC'},\n",
              " {'id': 'SUN',\n",
              "  'is_multi_asset_composite': None,\n",
              "  'last': 13.407576375,\n",
              "  'market': 'MyCoinStory',\n",
              "  'name': 'MyCoinStory SUN'},\n",
              " {'id': 'EOS',\n",
              "  'is_multi_asset_composite': False,\n",
              "  'last': 13.407576375,\n",
              "  'market': 'Bibox (Futures)',\n",
              "  'name': 'Bibox (Futures) EOS'},\n",
              " {'id': 'BTC',\n",
              "  'is_multi_asset_composite': False,\n",
              "  'last': 13.407576375,\n",
              "  'market': 'GMO Japan (Futures)',\n",
              "  'name': 'GMO Japan (Futures) BTC'},\n",
              " {'id': 'BCH',\n",
              "  'is_multi_asset_composite': False,\n",
              "  'last': 13.407576375,\n",
              "  'market': 'GMO Japan (Futures)',\n",
              "  'name': 'GMO Japan (Futures) BCH'},\n",
              " {'id': 'ETH',\n",
              "  'is_multi_asset_composite': False,\n",
              "  'last': 13.407576375,\n",
              "  'market': 'GMO Japan (Futures)',\n",
              "  'name': 'GMO Japan (Futures) ETH'},\n",
              " {'id': 'XRP',\n",
              "  'is_multi_asset_composite': False,\n",
              "  'last': 13.407576375,\n",
              "  'market': 'GMO Japan (Futures)',\n",
              "  'name': 'GMO Japan (Futures) XRP'},\n",
              " {'id': 'D',\n",
              "  'is_multi_asset_composite': False,\n",
              "  'last': 13.407576375,\n",
              "  'market': 'CoinFLEX (Futures)',\n",
              "  'name': 'CoinFLEX (Futures) D'},\n",
              " {'id': 'SUSHI',\n",
              "  'is_multi_asset_composite': None,\n",
              "  'last': 13.407576375,\n",
              "  'market': 'Bibox (Futures)',\n",
              "  'name': 'Bibox (Futures) SUSHI'},\n",
              " {'id': 'ETH',\n",
              "  'is_multi_asset_composite': None,\n",
              "  'last': 13.407576375,\n",
              "  'market': 'FMex',\n",
              "  'name': 'FMex ETH'},\n",
              " {'id': 'EOS',\n",
              "  'is_multi_asset_composite': False,\n",
              "  'last': 13.407576375,\n",
              "  'market': 'Prime XBT',\n",
              "  'name': 'Prime XBT EOS'},\n",
              " {'id': 'WETH',\n",
              "  'is_multi_asset_composite': None,\n",
              "  'last': 13.407576375,\n",
              "  'market': 'dYdX Perpetual (L1)',\n",
              "  'name': 'dYdX Perpetual (L1) WETH'},\n",
              " {'id': 'BCH',\n",
              "  'is_multi_asset_composite': False,\n",
              "  'last': 13.407576375,\n",
              "  'market': 'Bibox (Futures)',\n",
              "  'name': 'Bibox (Futures) BCH'},\n",
              " {'id': 'UNI',\n",
              "  'is_multi_asset_composite': False,\n",
              "  'last': 13.407576375,\n",
              "  'market': 'Bibox (Futures)',\n",
              "  'name': 'Bibox (Futures) UNI'},\n",
              " {'id': 'ADA',\n",
              "  'is_multi_asset_composite': None,\n",
              "  'last': 5.09e-06,\n",
              "  'market': 'Delta Exchange',\n",
              "  'name': 'Delta Exchange ADA'},\n",
              " {'id': 'BCH',\n",
              "  'is_multi_asset_composite': None,\n",
              "  'last': 315.526644,\n",
              "  'market': 'Delta Exchange',\n",
              "  'name': 'Delta Exchange BCH'},\n",
              " {'id': 'ETHG20',\n",
              "  'is_multi_asset_composite': None,\n",
              "  'last': 223.409277154,\n",
              "  'market': 'BTSE (Futures)',\n",
              "  'name': 'ETHG20'},\n",
              " {'id': 'LTC',\n",
              "  'is_multi_asset_composite': False,\n",
              "  'last': 223.409277154,\n",
              "  'market': 'Prime XBT',\n",
              "  'name': 'Prime XBT LTC'},\n",
              " {'id': 'LTC',\n",
              "  'is_multi_asset_composite': False,\n",
              "  'last': 223.409277154,\n",
              "  'market': 'Bibox (Futures)',\n",
              "  'name': 'Bibox (Futures) LTC'},\n",
              " {'id': 'LTC',\n",
              "  'is_multi_asset_composite': False,\n",
              "  'last': 223.409277154,\n",
              "  'market': 'GMO Japan (Futures)',\n",
              "  'name': 'GMO Japan (Futures) LTC'},\n",
              " {'id': 'XBT',\n",
              "  'is_multi_asset_composite': False,\n",
              "  'last': 223.409277154,\n",
              "  'market': 'CoinFLEX (Futures)',\n",
              "  'name': 'CoinFLEX (Futures) XBT'},\n",
              " {'id': 'BTC',\n",
              "  'is_multi_asset_composite': False,\n",
              "  'last': 223.409277154,\n",
              "  'market': 'Bitflyer (Futures)',\n",
              "  'name': 'Bitflyer (Futures) BTC'},\n",
              " {'id': 'HT',\n",
              "  'is_multi_asset_composite': None,\n",
              "  'last': 3.881011111111,\n",
              "  'market': 'Bitmart Futures',\n",
              "  'name': 'Bitmart Futures HT'},\n",
              " {'id': 'ETC',\n",
              "  'is_multi_asset_composite': None,\n",
              "  'last': 5.564,\n",
              "  'market': 'Bitmart Futures',\n",
              "  'name': 'Bitmart Futures ETC'},\n",
              " {'id': 'FIL',\n",
              "  'is_multi_asset_composite': None,\n",
              "  'last': 5.564,\n",
              "  'market': 'Bibox (Futures)',\n",
              "  'name': 'Bibox (Futures) FIL'},\n",
              " {'id': 'XRP',\n",
              "  'is_multi_asset_composite': False,\n",
              "  'last': 5.564,\n",
              "  'market': 'Prime XBT',\n",
              "  'name': 'Prime XBT XRP'},\n",
              " {'id': 'BTC',\n",
              "  'is_multi_asset_composite': False,\n",
              "  'last': 5.564,\n",
              "  'market': 'Bibox (Futures)',\n",
              "  'name': 'Bibox (Futures) BTC'},\n",
              " {'id': 'XMRG20',\n",
              "  'is_multi_asset_composite': None,\n",
              "  'last': 68.583952985,\n",
              "  'market': 'BTSE (Futures)',\n",
              "  'name': 'XMRG20'},\n",
              " {'id': 'ETHX19',\n",
              "  'is_multi_asset_composite': False,\n",
              "  'last': 127.299916665,\n",
              "  'market': 'BTSE (Futures)',\n",
              "  'name': 'ETHX19'},\n",
              " {'id': 'BBCXG20',\n",
              "  'is_multi_asset_composite': True,\n",
              "  'last': 114.91,\n",
              "  'market': 'BTSE (Futures)',\n",
              "  'name': 'BBCXG20'},\n",
              " {'id': 'USDC',\n",
              "  'is_multi_asset_composite': False,\n",
              "  'last': 114.91,\n",
              "  'market': 'CoinFLEX (Futures)',\n",
              "  'name': 'CoinFLEX (Futures) USDC'},\n",
              " {'id': 'BTC',\n",
              "  'is_multi_asset_composite': False,\n",
              "  'last': 114.91,\n",
              "  'market': 'Prime XBT',\n",
              "  'name': 'Prime XBT BTC'},\n",
              " {'id': 'LTCX19',\n",
              "  'is_multi_asset_composite': False,\n",
              "  'last': 39.783863299,\n",
              "  'market': 'BTSE (Futures)',\n",
              "  'name': 'LTCX19'},\n",
              " {'id': 'BTC',\n",
              "  'is_multi_asset_composite': None,\n",
              "  'last': 9767.06,\n",
              "  'market': 'FMex',\n",
              "  'name': 'FMex BTC'},\n",
              " {'id': 'DOT',\n",
              "  'is_multi_asset_composite': None,\n",
              "  'last': 9767.06,\n",
              "  'market': 'Bibox (Futures)',\n",
              "  'name': 'Bibox (Futures) DOT'},\n",
              " {'id': 'ETH',\n",
              "  'is_multi_asset_composite': False,\n",
              "  'last': 9767.06,\n",
              "  'market': 'Bibox (Futures)',\n",
              "  'name': 'Bibox (Futures) ETH'},\n",
              " {'id': 'CVC',\n",
              "  'is_multi_asset_composite': None,\n",
              "  'last': 0.08963,\n",
              "  'market': 'MXC (Futures)',\n",
              "  'name': 'MXC (Futures) CVC'},\n",
              " {'id': 'BTC',\n",
              "  'is_multi_asset_composite': False,\n",
              "  'last': 51679.7462429264,\n",
              "  'market': 'FTX (Derivatives)',\n",
              "  'name': 'Bitcoin'},\n",
              " {'id': 'AAVE',\n",
              "  'is_multi_asset_composite': None,\n",
              "  'last': 51679.7462429264,\n",
              "  'market': 'Bibox (Futures)',\n",
              "  'name': 'Bibox (Futures) AAVE'},\n",
              " {'id': 'ETH',\n",
              "  'is_multi_asset_composite': False,\n",
              "  'last': 51679.7462429264,\n",
              "  'market': 'Prime XBT',\n",
              "  'name': 'Prime XBT ETH'},\n",
              " {'id': 'BSV',\n",
              "  'is_multi_asset_composite': None,\n",
              "  'last': 193.33396878885,\n",
              "  'market': 'HBTC (Futures)',\n",
              "  'name': 'HBTC (Futures) BSV'},\n",
              " {'id': 'BTCG20',\n",
              "  'is_multi_asset_composite': None,\n",
              "  'last': 8708.829979433,\n",
              "  'market': 'BTSE (Futures)',\n",
              "  'name': 'BTCG20'},\n",
              " {'id': 'BTCX19',\n",
              "  'is_multi_asset_composite': False,\n",
              "  'last': 8630.980570571,\n",
              "  'market': 'BTSE (Futures)',\n",
              "  'name': 'BTCX19'},\n",
              " {'id': 'EOS',\n",
              "  'is_multi_asset_composite': None,\n",
              "  'last': 3.69418158,\n",
              "  'market': 'ZBG Futures',\n",
              "  'name': 'ZBG Futures EOS'},\n",
              " {'id': 'LTCG20',\n",
              "  'is_multi_asset_composite': None,\n",
              "  'last': 60.236043202,\n",
              "  'market': 'BTSE (Futures)',\n",
              "  'name': 'LTCG20'}]"
            ]
          },
          "metadata": {
            "tags": []
          },
          "execution_count": 12
        }
      ]
    },
    {
      "cell_type": "code",
      "metadata": {
        "id": "ZHv0xNjd76if"
      },
      "source": [
        "# cg.get_derivatives()"
      ],
      "execution_count": 14,
      "outputs": []
    },
    {
      "cell_type": "code",
      "metadata": {
        "id": "Nr9TwaiZ8xqo"
      },
      "source": [
        "res = requests.get('https://api.glassnode.com/v1/metrics/indicators/velocity',\n",
        "    params={'a': 'ETH', 'api_key': API_KEY})\n",
        "\n",
        "# convert to pandas dataframe\n",
        "df = pd.read_json(res.text, convert_dates=['t'])"
      ],
      "execution_count": 15,
      "outputs": []
    },
    {
      "cell_type": "code",
      "metadata": {
        "colab": {
          "base_uri": "https://localhost:8080/",
          "height": 195
        },
        "id": "oaTcwG-s8y_x",
        "outputId": "fb71c1f7-7cbe-444f-9224-2ac5f8bafd4f"
      },
      "source": [
        "df.head()"
      ],
      "execution_count": 16,
      "outputs": [
        {
          "output_type": "execute_result",
          "data": {
            "text/html": [
              "<div>\n",
              "<style scoped>\n",
              "    .dataframe tbody tr th:only-of-type {\n",
              "        vertical-align: middle;\n",
              "    }\n",
              "\n",
              "    .dataframe tbody tr th {\n",
              "        vertical-align: top;\n",
              "    }\n",
              "\n",
              "    .dataframe thead th {\n",
              "        text-align: right;\n",
              "    }\n",
              "</style>\n",
              "<table border=\"1\" class=\"dataframe\">\n",
              "  <thead>\n",
              "    <tr style=\"text-align: right;\">\n",
              "      <th></th>\n",
              "      <th>t</th>\n",
              "      <th>v</th>\n",
              "    </tr>\n",
              "  </thead>\n",
              "  <tbody>\n",
              "    <tr>\n",
              "      <th>0</th>\n",
              "      <td>2015-08-07</td>\n",
              "      <td>0.027789</td>\n",
              "    </tr>\n",
              "    <tr>\n",
              "      <th>1</th>\n",
              "      <td>2015-08-08</td>\n",
              "      <td>0.187849</td>\n",
              "    </tr>\n",
              "    <tr>\n",
              "      <th>2</th>\n",
              "      <td>2015-08-09</td>\n",
              "      <td>0.016112</td>\n",
              "    </tr>\n",
              "    <tr>\n",
              "      <th>3</th>\n",
              "      <td>2015-08-10</td>\n",
              "      <td>0.023090</td>\n",
              "    </tr>\n",
              "    <tr>\n",
              "      <th>4</th>\n",
              "      <td>2015-08-11</td>\n",
              "      <td>0.020523</td>\n",
              "    </tr>\n",
              "  </tbody>\n",
              "</table>\n",
              "</div>"
            ],
            "text/plain": [
              "           t         v\n",
              "0 2015-08-07  0.027789\n",
              "1 2015-08-08  0.187849\n",
              "2 2015-08-09  0.016112\n",
              "3 2015-08-10  0.023090\n",
              "4 2015-08-11  0.020523"
            ]
          },
          "metadata": {
            "tags": []
          },
          "execution_count": 16
        }
      ]
    },
    {
      "cell_type": "markdown",
      "metadata": {
        "id": "ZxGoWCuv9GCC"
      },
      "source": [
        "Considered API data for XGB\n",
        "\n",
        "from GLASSNODE:\n",
        "\n",
        "https://docs.glassnode.com/general-info/on-chain-data\n"
      ]
    },
    {
      "cell_type": "code",
      "metadata": {
        "id": "J3XauwQK9EY2"
      },
      "source": [
        "https://api.glassnode.com/v1/metrics/indicators/sopr_less_155\n",
        "https://api.glassnode.com/v1/metrics/indicators/sopr_more_155\n",
        "https://api.glassnode.com/v1/metrics/distribution/balance_exchanges\n",
        "https://api.glassnode.com/v1/metrics/eth2/staking_deposits_count\n",
        "https://api.glassnode.com/v1/metrics/eth2/staking_total_volume_sum\n",
        "https://api.glassnode.com/v1/metrics/market/price_usd\n",
        "https://api.glassnode.com/v1/metrics/market/marketcap_usd\n",
        "https://api.glassnode.com/v1/metrics/transactions/count\n"
      ],
      "execution_count": null,
      "outputs": []
    },
    {
      "cell_type": "markdown",
      "metadata": {
        "id": "2nC4L8kc-vpP"
      },
      "source": [
        "Considered API data for XGB\n",
        "\n",
        "from YAHOO Finance\n",
        "\n",
        "https://algotrading101.com/learn/yahoo-finance-api-guide/\n",
        "\n",
        "RAPID: https://rapidapi.com/apidojo/api/yahoo-finance1/endpoints\n",
        "\n",
        "https://money.usnews.com/funds/etfs/rankings/technology\n"
      ]
    },
    {
      "cell_type": "code",
      "metadata": {
        "id": "XcGue3Zu-t_c"
      },
      "source": [
        "'''\n",
        "req.headers({\n",
        "\t\"x-rapidapi-key\": \"SIGN-UP-FOR-KEY\",\n",
        "\t\"x-rapidapi-host\": \"apidojo-yahoo-finance-v1.p.rapidapi.com\",\n",
        "\t\"useQueryString\": true\n",
        "});\n",
        "\n",
        "\n",
        "req.end(function (res) {\n",
        "\tif (res.error) throw new Error(res.error);\n",
        "\n",
        "\tconsole.log(res.body);\n",
        "});\n",
        "\n",
        "'''"
      ],
      "execution_count": null,
      "outputs": []
    },
    {
      "cell_type": "code",
      "metadata": {
        "colab": {
          "base_uri": "https://localhost:8080/"
        },
        "id": "E_A9sQqv_PlO",
        "outputId": "b00700c8-5b6a-4f1c-a6b1-df73d84e2fa3"
      },
      "source": [
        "pip install yahoo_fin"
      ],
      "execution_count": 17,
      "outputs": [
        {
          "output_type": "stream",
          "text": [
            "Collecting yahoo_fin\n",
            "  Downloading https://files.pythonhosted.org/packages/19/ef/f56702d319682840781433e8df747407a636a313d801039e58028c77269b/yahoo_fin-0.8.7-py3-none-any.whl\n",
            "Requirement already satisfied: pandas in /usr/local/lib/python3.7/dist-packages (from yahoo_fin) (1.1.5)\n",
            "Collecting feedparser\n",
            "\u001b[?25l  Downloading https://files.pythonhosted.org/packages/1c/21/faf1bac028662cc8adb2b5ef7a6f3999a765baa2835331df365289b0ca56/feedparser-6.0.2-py3-none-any.whl (80kB)\n",
            "\u001b[K     |████████████████████████████████| 81kB 2.7MB/s \n",
            "\u001b[?25hCollecting requests-html\n",
            "  Downloading https://files.pythonhosted.org/packages/24/bc/a4380f09bab3a776182578ce6b2771e57259d0d4dbce178205779abdc347/requests_html-0.10.0-py3-none-any.whl\n",
            "Requirement already satisfied: requests in /usr/local/lib/python3.7/dist-packages (from yahoo_fin) (2.23.0)\n",
            "Requirement already satisfied: pytz>=2017.2 in /usr/local/lib/python3.7/dist-packages (from pandas->yahoo_fin) (2018.9)\n",
            "Requirement already satisfied: python-dateutil>=2.7.3 in /usr/local/lib/python3.7/dist-packages (from pandas->yahoo_fin) (2.8.1)\n",
            "Requirement already satisfied: numpy>=1.15.4 in /usr/local/lib/python3.7/dist-packages (from pandas->yahoo_fin) (1.19.5)\n",
            "Collecting sgmllib3k\n",
            "  Downloading https://files.pythonhosted.org/packages/9e/bd/3704a8c3e0942d711c1299ebf7b9091930adae6675d7c8f476a7ce48653c/sgmllib3k-1.0.0.tar.gz\n",
            "Collecting parse\n",
            "  Downloading https://files.pythonhosted.org/packages/89/a1/82ce536be577ba09d4dcee45db58423a180873ad38a2d014d26ab7b7cb8a/parse-1.19.0.tar.gz\n",
            "Collecting w3lib\n",
            "  Downloading https://files.pythonhosted.org/packages/a3/59/b6b14521090e7f42669cafdb84b0ab89301a42f1f1a82fcf5856661ea3a7/w3lib-1.22.0-py2.py3-none-any.whl\n",
            "Collecting pyquery\n",
            "  Downloading https://files.pythonhosted.org/packages/58/0b/85d15e21f660a8ea68b1e0286168938857391f4ec9f6d204d91c9e013826/pyquery-1.4.3-py3-none-any.whl\n",
            "Collecting fake-useragent\n",
            "  Downloading https://files.pythonhosted.org/packages/d1/79/af647635d6968e2deb57a208d309f6069d31cb138066d7e821e575112a80/fake-useragent-0.1.11.tar.gz\n",
            "Collecting pyppeteer>=0.0.14\n",
            "\u001b[?25l  Downloading https://files.pythonhosted.org/packages/4a/05/ea3250282e46fda60df1f1d5246bb8cdc022abb89969c61a98ea28fd6b82/pyppeteer-0.2.5-py3-none-any.whl (87kB)\n",
            "\u001b[K     |████████████████████████████████| 92kB 6.6MB/s \n",
            "\u001b[?25hRequirement already satisfied: bs4 in /usr/local/lib/python3.7/dist-packages (from requests-html->yahoo_fin) (0.0.1)\n",
            "Requirement already satisfied: certifi>=2017.4.17 in /usr/local/lib/python3.7/dist-packages (from requests->yahoo_fin) (2020.12.5)\n",
            "Requirement already satisfied: idna<3,>=2.5 in /usr/local/lib/python3.7/dist-packages (from requests->yahoo_fin) (2.10)\n",
            "Requirement already satisfied: chardet<4,>=3.0.2 in /usr/local/lib/python3.7/dist-packages (from requests->yahoo_fin) (3.0.4)\n",
            "Requirement already satisfied: urllib3!=1.25.0,!=1.25.1,<1.26,>=1.21.1 in /usr/local/lib/python3.7/dist-packages (from requests->yahoo_fin) (1.24.3)\n",
            "Requirement already satisfied: six>=1.5 in /usr/local/lib/python3.7/dist-packages (from python-dateutil>=2.7.3->pandas->yahoo_fin) (1.15.0)\n",
            "Collecting cssselect>0.7.9\n",
            "  Downloading https://files.pythonhosted.org/packages/3b/d4/3b5c17f00cce85b9a1e6f91096e1cc8e8ede2e1be8e96b87ce1ed09e92c5/cssselect-1.1.0-py2.py3-none-any.whl\n",
            "Requirement already satisfied: lxml>=2.1 in /usr/local/lib/python3.7/dist-packages (from pyquery->requests-html->yahoo_fin) (4.2.6)\n",
            "Requirement already satisfied: appdirs<2.0.0,>=1.4.3 in /usr/local/lib/python3.7/dist-packages (from pyppeteer>=0.0.14->requests-html->yahoo_fin) (1.4.4)\n",
            "Collecting tqdm<5.0.0,>=4.42.1\n",
            "\u001b[?25l  Downloading https://files.pythonhosted.org/packages/f8/3e/2730d0effc282960dbff3cf91599ad0d8f3faedc8e75720fdf224b31ab24/tqdm-4.59.0-py2.py3-none-any.whl (74kB)\n",
            "\u001b[K     |████████████████████████████████| 81kB 5.4MB/s \n",
            "\u001b[?25hCollecting importlib-metadata<3.0.0,>=2.1.1; python_version < \"3.8\"\n",
            "  Downloading https://files.pythonhosted.org/packages/98/b8/8ec57a8ef46fbe7f185318c7ff7df9a06c9df451d9a59a067bfa851bb828/importlib_metadata-2.1.1-py2.py3-none-any.whl\n",
            "Collecting websockets<9.0,>=8.1\n",
            "\u001b[?25l  Downloading https://files.pythonhosted.org/packages/5a/0b/3ebc752392a368af14dd24ee041683416ac6d2463eead94b311b11e41c82/websockets-8.1-cp37-cp37m-manylinux2010_x86_64.whl (79kB)\n",
            "\u001b[K     |████████████████████████████████| 81kB 6.1MB/s \n",
            "\u001b[?25hCollecting pyee<9.0.0,>=8.1.0\n",
            "  Downloading https://files.pythonhosted.org/packages/0d/0a/933b3931107e1da186963fd9bb9bceb9a613cff034cb0fb3b0c61003f357/pyee-8.1.0-py2.py3-none-any.whl\n",
            "Requirement already satisfied: beautifulsoup4 in /usr/local/lib/python3.7/dist-packages (from bs4->requests-html->yahoo_fin) (4.6.3)\n",
            "Requirement already satisfied: zipp>=0.5 in /usr/local/lib/python3.7/dist-packages (from importlib-metadata<3.0.0,>=2.1.1; python_version < \"3.8\"->pyppeteer>=0.0.14->requests-html->yahoo_fin) (3.4.1)\n",
            "Building wheels for collected packages: sgmllib3k, parse, fake-useragent\n",
            "  Building wheel for sgmllib3k (setup.py) ... \u001b[?25l\u001b[?25hdone\n",
            "  Created wheel for sgmllib3k: filename=sgmllib3k-1.0.0-cp37-none-any.whl size=6067 sha256=bb25291e2caba949450d0f38bcf0bbcf0b6f1d4e1594cac056be06ef0c0d8a1c\n",
            "  Stored in directory: /root/.cache/pip/wheels/f1/80/5a/444ba08a550cdd241bd9baf8bae44be750efe370adb944506a\n",
            "  Building wheel for parse (setup.py) ... \u001b[?25l\u001b[?25hdone\n",
            "  Created wheel for parse: filename=parse-1.19.0-cp37-none-any.whl size=24581 sha256=db9a13eafb41f6c745925c1b193111b09d9cf4241ad754ee71771ef336657b10\n",
            "  Stored in directory: /root/.cache/pip/wheels/c0/39/ea/e2fd678bd130953f5438470b8dfa529f00787e9b8b92b27467\n",
            "  Building wheel for fake-useragent (setup.py) ... \u001b[?25l\u001b[?25hdone\n",
            "  Created wheel for fake-useragent: filename=fake_useragent-0.1.11-cp37-none-any.whl size=13485 sha256=211931eff8f71150fafaf133079a14a1ee8cb794612b8c4bd9720a2428dd5683\n",
            "  Stored in directory: /root/.cache/pip/wheels/5e/63/09/d1dc15179f175357d3f5c00cbffbac37f9e8690d80545143ff\n",
            "Successfully built sgmllib3k parse fake-useragent\n",
            "\u001b[31mERROR: pyppeteer 0.2.5 has requirement urllib3<2.0.0,>=1.25.8, but you'll have urllib3 1.24.3 which is incompatible.\u001b[0m\n",
            "Installing collected packages: sgmllib3k, feedparser, parse, w3lib, cssselect, pyquery, fake-useragent, tqdm, importlib-metadata, websockets, pyee, pyppeteer, requests-html, yahoo-fin\n",
            "  Found existing installation: tqdm 4.41.1\n",
            "    Uninstalling tqdm-4.41.1:\n",
            "      Successfully uninstalled tqdm-4.41.1\n",
            "  Found existing installation: importlib-metadata 3.7.2\n",
            "    Uninstalling importlib-metadata-3.7.2:\n",
            "      Successfully uninstalled importlib-metadata-3.7.2\n",
            "Successfully installed cssselect-1.1.0 fake-useragent-0.1.11 feedparser-6.0.2 importlib-metadata-2.1.1 parse-1.19.0 pyee-8.1.0 pyppeteer-0.2.5 pyquery-1.4.3 requests-html-0.10.0 sgmllib3k-1.0.0 tqdm-4.59.0 w3lib-1.22.0 websockets-8.1 yahoo-fin-0.8.7\n"
          ],
          "name": "stdout"
        }
      ]
    },
    {
      "cell_type": "code",
      "metadata": {
        "id": "awpLG1lK_UhY"
      },
      "source": [
        "from yahoo_fin import stock_info"
      ],
      "execution_count": 23,
      "outputs": []
    },
    {
      "cell_type": "code",
      "metadata": {
        "id": "fh9lpZVt_q8D"
      },
      "source": [
        "sp500_data = stock_info.get_data('^GSPC')"
      ],
      "execution_count": 25,
      "outputs": []
    },
    {
      "cell_type": "code",
      "metadata": {
        "id": "Id3RRt-0AY4e"
      },
      "source": [
        "xsw_data = stock_info.get_data('XSW')"
      ],
      "execution_count": 26,
      "outputs": []
    },
    {
      "cell_type": "code",
      "metadata": {
        "colab": {
          "base_uri": "https://localhost:8080/",
          "height": 195
        },
        "id": "RTQ8gSvNA9ZW",
        "outputId": "1ef75360-bcae-414f-c4c2-72b391f8302e"
      },
      "source": [
        "xsw_data.tail()"
      ],
      "execution_count": 27,
      "outputs": [
        {
          "output_type": "execute_result",
          "data": {
            "text/html": [
              "<div>\n",
              "<style scoped>\n",
              "    .dataframe tbody tr th:only-of-type {\n",
              "        vertical-align: middle;\n",
              "    }\n",
              "\n",
              "    .dataframe tbody tr th {\n",
              "        vertical-align: top;\n",
              "    }\n",
              "\n",
              "    .dataframe thead th {\n",
              "        text-align: right;\n",
              "    }\n",
              "</style>\n",
              "<table border=\"1\" class=\"dataframe\">\n",
              "  <thead>\n",
              "    <tr style=\"text-align: right;\">\n",
              "      <th></th>\n",
              "      <th>open</th>\n",
              "      <th>high</th>\n",
              "      <th>low</th>\n",
              "      <th>close</th>\n",
              "      <th>adjclose</th>\n",
              "      <th>volume</th>\n",
              "      <th>ticker</th>\n",
              "    </tr>\n",
              "  </thead>\n",
              "  <tbody>\n",
              "    <tr>\n",
              "      <th>2021-03-19</th>\n",
              "      <td>157.809998</td>\n",
              "      <td>161.009995</td>\n",
              "      <td>157.360001</td>\n",
              "      <td>159.880005</td>\n",
              "      <td>159.876999</td>\n",
              "      <td>218200</td>\n",
              "      <td>XSW</td>\n",
              "    </tr>\n",
              "    <tr>\n",
              "      <th>2021-03-22</th>\n",
              "      <td>160.660004</td>\n",
              "      <td>161.759995</td>\n",
              "      <td>160.539993</td>\n",
              "      <td>160.729996</td>\n",
              "      <td>160.729996</td>\n",
              "      <td>24700</td>\n",
              "      <td>XSW</td>\n",
              "    </tr>\n",
              "    <tr>\n",
              "      <th>2021-03-23</th>\n",
              "      <td>160.470001</td>\n",
              "      <td>160.589996</td>\n",
              "      <td>158.070007</td>\n",
              "      <td>158.339996</td>\n",
              "      <td>158.339996</td>\n",
              "      <td>16000</td>\n",
              "      <td>XSW</td>\n",
              "    </tr>\n",
              "    <tr>\n",
              "      <th>2021-03-24</th>\n",
              "      <td>157.100006</td>\n",
              "      <td>157.899994</td>\n",
              "      <td>153.350006</td>\n",
              "      <td>153.350006</td>\n",
              "      <td>153.350006</td>\n",
              "      <td>14100</td>\n",
              "      <td>XSW</td>\n",
              "    </tr>\n",
              "    <tr>\n",
              "      <th>2021-03-25</th>\n",
              "      <td>151.490005</td>\n",
              "      <td>154.593002</td>\n",
              "      <td>150.410004</td>\n",
              "      <td>154.470001</td>\n",
              "      <td>154.470001</td>\n",
              "      <td>18314</td>\n",
              "      <td>XSW</td>\n",
              "    </tr>\n",
              "  </tbody>\n",
              "</table>\n",
              "</div>"
            ],
            "text/plain": [
              "                  open        high         low  ...    adjclose  volume  ticker\n",
              "2021-03-19  157.809998  161.009995  157.360001  ...  159.876999  218200     XSW\n",
              "2021-03-22  160.660004  161.759995  160.539993  ...  160.729996   24700     XSW\n",
              "2021-03-23  160.470001  160.589996  158.070007  ...  158.339996   16000     XSW\n",
              "2021-03-24  157.100006  157.899994  153.350006  ...  153.350006   14100     XSW\n",
              "2021-03-25  151.490005  154.593002  150.410004  ...  154.470001   18314     XSW\n",
              "\n",
              "[5 rows x 7 columns]"
            ]
          },
          "metadata": {
            "tags": []
          },
          "execution_count": 27
        }
      ]
    }
  ]
}