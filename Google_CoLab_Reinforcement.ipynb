{
  "nbformat": 4,
  "nbformat_minor": 0,
  "metadata": {
    "colab": {
      "name": "Google_CoLab_Reinforcement.ipynb",
      "provenance": [],
      "authorship_tag": "ABX9TyMh1Mv3AjzUCPXrQZ+N9BiF",
      "include_colab_link": true
    },
    "kernelspec": {
      "name": "python3",
      "display_name": "Python 3"
    }
  },
  "cells": [
    {
      "cell_type": "markdown",
      "metadata": {
        "id": "view-in-github",
        "colab_type": "text"
      },
      "source": [
        "<a href=\"https://colab.research.google.com/github/LeonVillanueva/CoLab/blob/master/Google_CoLab_Reinforcement.ipynb\" target=\"_parent\"><img src=\"https://colab.research.google.com/assets/colab-badge.svg\" alt=\"Open In Colab\"/></a>"
      ]
    },
    {
      "cell_type": "code",
      "metadata": {
        "id": "ewchOEunqapb",
        "colab_type": "code",
        "colab": {}
      },
      "source": [
        "!pip -q install tensorflow==2.0.0"
      ],
      "execution_count": 0,
      "outputs": []
    },
    {
      "cell_type": "code",
      "metadata": {
        "id": "E40trubikF53",
        "colab_type": "code",
        "colab": {}
      },
      "source": [
        "import numpy as np"
      ],
      "execution_count": 0,
      "outputs": []
    },
    {
      "cell_type": "code",
      "metadata": {
        "id": "o0SS0w5fkZ1g",
        "colab_type": "code",
        "colab": {}
      },
      "source": [
        "import pandas as pd"
      ],
      "execution_count": 0,
      "outputs": []
    },
    {
      "cell_type": "code",
      "metadata": {
        "id": "pgZ40Au1kbNI",
        "colab_type": "code",
        "colab": {}
      },
      "source": [
        "import tensorflow as tf"
      ],
      "execution_count": 0,
      "outputs": []
    },
    {
      "cell_type": "code",
      "metadata": {
        "id": "YhtQQ6CokghX",
        "colab_type": "code",
        "colab": {}
      },
      "source": [
        "from tensorflow.keras.models import Model\n",
        "from tensorflow.keras.layers import Input, Dense\n",
        "from tensorflow.keras.optimizers import Adam "
      ],
      "execution_count": 0,
      "outputs": []
    },
    {
      "cell_type": "code",
      "metadata": {
        "id": "cMnvegdnk2U-",
        "colab_type": "code",
        "colab": {}
      },
      "source": [
        "from datetime import datetime\n",
        "import argparse\n",
        "import itertools\n",
        "import re\n",
        "import os\n",
        "import pickle\n",
        "\n",
        "from sklearn.preprocessing import StandardScaler"
      ],
      "execution_count": 0,
      "outputs": []
    },
    {
      "cell_type": "code",
      "metadata": {
        "id": "jFQFW_ghhuIB",
        "colab_type": "code",
        "colab": {}
      },
      "source": [
        "df = pd.read_csv ('ams.csv') # (a)pple, (m)otorola, (s)tarbucks"
      ],
      "execution_count": 0,
      "outputs": []
    },
    {
      "cell_type": "code",
      "metadata": {
        "id": "rElScJyaibyZ",
        "colab_type": "code",
        "colab": {}
      },
      "source": [
        "dfv = df.values #close price only"
      ],
      "execution_count": 0,
      "outputs": []
    },
    {
      "cell_type": "code",
      "metadata": {
        "id": "l_Ycw_Xfie0G",
        "colab_type": "code",
        "colab": {
          "base_uri": "https://localhost:8080/",
          "height": 34
        },
        "outputId": "0571b420-2021-4b09-8b03-5c08c2aa8609"
      },
      "source": [
        "dfv.shape"
      ],
      "execution_count": 18,
      "outputs": [
        {
          "output_type": "execute_result",
          "data": {
            "text/plain": [
              "(1259, 3)"
            ]
          },
          "metadata": {
            "tags": []
          },
          "execution_count": 18
        }
      ]
    },
    {
      "cell_type": "code",
      "metadata": {
        "id": "gvoA7vFZifWH",
        "colab_type": "code",
        "colab": {}
      },
      "source": [
        "# replay buffer\n",
        "\n",
        "def ReplayBuffer ():\n",
        "  def __init__(self, obs_dim, act_dim, size): \n",
        "    self.obs1_buf = np.zeros ([size, obs_dim], dtype=np.float32)\n",
        "    self.obs2_buf = np.zeros ([size, obs_dim], dtype=np.float32)\n",
        "    self.acts_buf = np.zeros (size, dtype=np.uint8)\n",
        "    self.rews_buf = np.zeros (size, dtype=np.float32)\n",
        "    self.done_buf = np.zeros (size, dtype=np.uint8)\n",
        "    self.ptr, self.size, self.max_size = 0,0,size\n",
        "  \n",
        "  def store (self, obs_dim, act_dim, size): \n",
        "    self.obs1_buf [ptr] = obs\n",
        "    self.obs2_buf [ptr] = next_obs\n",
        "    self.acts_buf [ptr] = act\n",
        "    self.rews_buf [ptr] = rew\n",
        "    self.done_buf [ptr] = done\n",
        "    self.ptr = self.ptr+1 % self.max_size\n",
        "    self.size = min(self.size+1, self.max_size)\n",
        "  \n",
        "  def sample_batch\n",
        "  \n",
        "\n"
      ],
      "execution_count": 0,
      "outputs": []
    },
    {
      "cell_type": "code",
      "metadata": {
        "id": "ze0k5FU1kP_R",
        "colab_type": "code",
        "colab": {}
      },
      "source": [
        ""
      ],
      "execution_count": 0,
      "outputs": []
    }
  ]
}