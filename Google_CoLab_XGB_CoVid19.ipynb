{
  "nbformat": 4,
  "nbformat_minor": 0,
  "metadata": {
    "colab": {
      "name": "Google_CoLab_XGB_CoVid19.ipynb",
      "provenance": [],
      "collapsed_sections": [],
      "toc_visible": true,
      "authorship_tag": "ABX9TyMBCUy1+Zf7ONYRzbP4ZRlH",
      "include_colab_link": true
    },
    "kernelspec": {
      "name": "python3",
      "display_name": "Python 3"
    }
  },
  "cells": [
    {
      "cell_type": "markdown",
      "metadata": {
        "id": "view-in-github",
        "colab_type": "text"
      },
      "source": [
        "<a href=\"https://colab.research.google.com/github/LeonVillanueva/CoLab/blob/master/Google_CoLab_XGB_CoVid19.ipynb\" target=\"_parent\"><img src=\"https://colab.research.google.com/assets/colab-badge.svg\" alt=\"Open In Colab\"/></a>"
      ]
    },
    {
      "cell_type": "code",
      "metadata": {
        "id": "xp6Gy9Drav07",
        "colab_type": "code",
        "colab": {}
      },
      "source": [
        "from xgboost import XGBClassifier as XGBC"
      ],
      "execution_count": 0,
      "outputs": []
    },
    {
      "cell_type": "code",
      "metadata": {
        "id": "Qg1PD3HJaxuu",
        "colab_type": "code",
        "colab": {}
      },
      "source": [
        "import numpy as np\n",
        "import pandas as pd"
      ],
      "execution_count": 0,
      "outputs": []
    },
    {
      "cell_type": "code",
      "metadata": {
        "id": "_vOPgNJ6ayFg",
        "colab_type": "code",
        "colab": {}
      },
      "source": [
        "from sklearn.model_selection import train_test_split\n",
        "from sklearn.metrics import accuracy_score\n",
        "from sklearn.preprocessing import StandardScaler\n",
        "from sklearn.model_selection import StratifiedKFold\n",
        "from sklearn.model_selection import cross_val_score\n",
        "from sklearn.model_selection import cross_val_predict"
      ],
      "execution_count": 0,
      "outputs": []
    },
    {
      "cell_type": "code",
      "metadata": {
        "id": "V2neR3s2azd4",
        "colab_type": "code",
        "colab": {}
      },
      "source": [
        "!unzip -q covid19.zip"
      ],
      "execution_count": 0,
      "outputs": []
    },
    {
      "cell_type": "code",
      "metadata": {
        "id": "L4cCL1d9bgdX",
        "colab_type": "code",
        "colab": {}
      },
      "source": [
        "data = pd.read_csv ('COVID19_line_list_data.csv')"
      ],
      "execution_count": 0,
      "outputs": []
    },
    {
      "cell_type": "code",
      "metadata": {
        "id": "-un9HXoibxJu",
        "colab_type": "code",
        "colab": {
          "base_uri": "https://localhost:8080/",
          "height": 148
        },
        "outputId": "5d4aa35a-0c00-4e3c-f235-465a5ffdc086"
      },
      "source": [
        "data.columns.values"
      ],
      "execution_count": 7,
      "outputs": [
        {
          "output_type": "execute_result",
          "data": {
            "text/plain": [
              "array(['id', 'case_in_country', 'reporting date', 'Unnamed: 3', 'summary',\n",
              "       'location', 'country', 'gender', 'age', 'symptom_onset',\n",
              "       'If_onset_approximated', 'hosp_visit_date', 'exposure_start',\n",
              "       'exposure_end', 'visiting Wuhan', 'from Wuhan', 'death',\n",
              "       'recovered', 'symptom', 'source', 'link', 'Unnamed: 21',\n",
              "       'Unnamed: 22', 'Unnamed: 23', 'Unnamed: 24', 'Unnamed: 25',\n",
              "       'Unnamed: 26'], dtype=object)"
            ]
          },
          "metadata": {
            "tags": []
          },
          "execution_count": 7
        }
      ]
    },
    {
      "cell_type": "code",
      "metadata": {
        "id": "w-y1xiWIbx5W",
        "colab_type": "code",
        "colab": {}
      },
      "source": [
        "small = data [['gender','age','exposure_start','symptom_onset','death','recovered']]"
      ],
      "execution_count": 0,
      "outputs": []
    },
    {
      "cell_type": "code",
      "metadata": {
        "id": "-SGZus-YcNIG",
        "colab_type": "code",
        "colab": {
          "base_uri": "https://localhost:8080/",
          "height": 423
        },
        "outputId": "f0c938ed-3b2a-40de-98b6-d958f892d656"
      },
      "source": [
        "small.dropna()"
      ],
      "execution_count": 12,
      "outputs": [
        {
          "output_type": "execute_result",
          "data": {
            "text/html": [
              "<div>\n",
              "<style scoped>\n",
              "    .dataframe tbody tr th:only-of-type {\n",
              "        vertical-align: middle;\n",
              "    }\n",
              "\n",
              "    .dataframe tbody tr th {\n",
              "        vertical-align: top;\n",
              "    }\n",
              "\n",
              "    .dataframe thead th {\n",
              "        text-align: right;\n",
              "    }\n",
              "</style>\n",
              "<table border=\"1\" class=\"dataframe\">\n",
              "  <thead>\n",
              "    <tr style=\"text-align: right;\">\n",
              "      <th></th>\n",
              "      <th>gender</th>\n",
              "      <th>age</th>\n",
              "      <th>exposure_start</th>\n",
              "      <th>symptom_onset</th>\n",
              "      <th>death</th>\n",
              "      <th>recovered</th>\n",
              "    </tr>\n",
              "  </thead>\n",
              "  <tbody>\n",
              "    <tr>\n",
              "      <th>0</th>\n",
              "      <td>male</td>\n",
              "      <td>66.0</td>\n",
              "      <td>12/29/2019</td>\n",
              "      <td>01/03/20</td>\n",
              "      <td>0</td>\n",
              "      <td>0</td>\n",
              "    </tr>\n",
              "    <tr>\n",
              "      <th>7</th>\n",
              "      <td>male</td>\n",
              "      <td>37.0</td>\n",
              "      <td>01/10/20</td>\n",
              "      <td>1/14/2020</td>\n",
              "      <td>0</td>\n",
              "      <td>0</td>\n",
              "    </tr>\n",
              "    <tr>\n",
              "      <th>8</th>\n",
              "      <td>male</td>\n",
              "      <td>39.0</td>\n",
              "      <td>01/03/20</td>\n",
              "      <td>01/09/20</td>\n",
              "      <td>0</td>\n",
              "      <td>0</td>\n",
              "    </tr>\n",
              "    <tr>\n",
              "      <th>9</th>\n",
              "      <td>male</td>\n",
              "      <td>56.0</td>\n",
              "      <td>01/08/20</td>\n",
              "      <td>1/16/2020</td>\n",
              "      <td>0</td>\n",
              "      <td>0</td>\n",
              "    </tr>\n",
              "    <tr>\n",
              "      <th>10</th>\n",
              "      <td>female</td>\n",
              "      <td>18.0</td>\n",
              "      <td>01/12/20</td>\n",
              "      <td>1/19/2020</td>\n",
              "      <td>0</td>\n",
              "      <td>0</td>\n",
              "    </tr>\n",
              "    <tr>\n",
              "      <th>...</th>\n",
              "      <td>...</td>\n",
              "      <td>...</td>\n",
              "      <td>...</td>\n",
              "      <td>...</td>\n",
              "      <td>...</td>\n",
              "      <td>...</td>\n",
              "    </tr>\n",
              "    <tr>\n",
              "      <th>948</th>\n",
              "      <td>female</td>\n",
              "      <td>59.0</td>\n",
              "      <td>1/25/2020</td>\n",
              "      <td>2/24/2020</td>\n",
              "      <td>0</td>\n",
              "      <td>0</td>\n",
              "    </tr>\n",
              "    <tr>\n",
              "      <th>949</th>\n",
              "      <td>female</td>\n",
              "      <td>58.0</td>\n",
              "      <td>1/25/2020</td>\n",
              "      <td>02/04/20</td>\n",
              "      <td>0</td>\n",
              "      <td>0</td>\n",
              "    </tr>\n",
              "    <tr>\n",
              "      <th>957</th>\n",
              "      <td>female</td>\n",
              "      <td>21.0</td>\n",
              "      <td>1/25/2020</td>\n",
              "      <td>02/12/20</td>\n",
              "      <td>0</td>\n",
              "      <td>0</td>\n",
              "    </tr>\n",
              "    <tr>\n",
              "      <th>958</th>\n",
              "      <td>male</td>\n",
              "      <td>16.0</td>\n",
              "      <td>1/25/2020</td>\n",
              "      <td>2/17/2020</td>\n",
              "      <td>0</td>\n",
              "      <td>0</td>\n",
              "    </tr>\n",
              "    <tr>\n",
              "      <th>1084</th>\n",
              "      <td>male</td>\n",
              "      <td>70.0</td>\n",
              "      <td>2/15/2020</td>\n",
              "      <td>2/17/2020</td>\n",
              "      <td>0</td>\n",
              "      <td>0</td>\n",
              "    </tr>\n",
              "  </tbody>\n",
              "</table>\n",
              "<p>75 rows × 6 columns</p>\n",
              "</div>"
            ],
            "text/plain": [
              "      gender   age exposure_start symptom_onset death recovered\n",
              "0       male  66.0     12/29/2019      01/03/20     0         0\n",
              "7       male  37.0       01/10/20     1/14/2020     0         0\n",
              "8       male  39.0       01/03/20      01/09/20     0         0\n",
              "9       male  56.0       01/08/20     1/16/2020     0         0\n",
              "10    female  18.0       01/12/20     1/19/2020     0         0\n",
              "...      ...   ...            ...           ...   ...       ...\n",
              "948   female  59.0      1/25/2020     2/24/2020     0         0\n",
              "949   female  58.0      1/25/2020      02/04/20     0         0\n",
              "957   female  21.0      1/25/2020      02/12/20     0         0\n",
              "958     male  16.0      1/25/2020     2/17/2020     0         0\n",
              "1084    male  70.0      2/15/2020     2/17/2020     0         0\n",
              "\n",
              "[75 rows x 6 columns]"
            ]
          },
          "metadata": {
            "tags": []
          },
          "execution_count": 12
        }
      ]
    },
    {
      "cell_type": "code",
      "metadata": {
        "id": "9TMWNNuicge-",
        "colab_type": "code",
        "colab": {}
      },
      "source": [
        ""
      ],
      "execution_count": 0,
      "outputs": []
    }
  ]
}