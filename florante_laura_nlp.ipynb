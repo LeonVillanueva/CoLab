{
  "nbformat": 4,
  "nbformat_minor": 0,
  "metadata": {
    "colab": {
      "name": "florante_laura_nlp.ipynb",
      "provenance": [],
      "collapsed_sections": [],
      "authorship_tag": "ABX9TyO26RDnduhUXqUd7hqajdWu",
      "include_colab_link": true
    },
    "kernelspec": {
      "name": "python3",
      "display_name": "Python 3"
    }
  },
  "cells": [
    {
      "cell_type": "markdown",
      "metadata": {
        "id": "view-in-github",
        "colab_type": "text"
      },
      "source": [
        "<a href=\"https://colab.research.google.com/github/LeonVillanueva/CoLab/blob/master/florante_laura_nlp.ipynb\" target=\"_parent\"><img src=\"https://colab.research.google.com/assets/colab-badge.svg\" alt=\"Open In Colab\"/></a>"
      ]
    },
    {
      "cell_type": "code",
      "metadata": {
        "id": "MzfhyhbQA_xV",
        "colab_type": "code",
        "colab": {}
      },
      "source": [
        "from tensorflow.keras.preprocessing.sequence import pad_sequences\n",
        "from tensorflow.keras.layers import Embedding, LSTM, Dense, Dropout, Bidirectional\n",
        "from tensorflow.keras.preprocessing.text import Tokenizer\n",
        "from tensorflow.keras.models import Sequential\n",
        "from tensorflow.keras.optimizers import Adam\n",
        "from tensorflow.keras import regularizers\n",
        "import tensorflow.keras.utils as ku \n",
        "import numpy as np"
      ],
      "execution_count": 0,
      "outputs": []
    },
    {
      "cell_type": "code",
      "metadata": {
        "id": "jWYFb3hbBJIb",
        "colab_type": "code",
        "colab": {}
      },
      "source": [
        "tokenizer = Tokenizer()\n",
        "data = open('florante_laura.txt').read()"
      ],
      "execution_count": 0,
      "outputs": []
    },
    {
      "cell_type": "code",
      "metadata": {
        "id": "Fles0-4FBleL",
        "colab_type": "code",
        "colab": {}
      },
      "source": [
        "import re\n",
        "data = re.sub('[.*?]', '', data)"
      ],
      "execution_count": 0,
      "outputs": []
    },
    {
      "cell_type": "code",
      "metadata": {
        "id": "spRXS4WwBaB7",
        "colab_type": "code",
        "colab": {}
      },
      "source": [
        "corpus = data.lower().split(\"\\n\")"
      ],
      "execution_count": 0,
      "outputs": []
    },
    {
      "cell_type": "code",
      "metadata": {
        "id": "YZO0bsiHCjzG",
        "colab_type": "code",
        "colab": {}
      },
      "source": [
        "tokenizer.fit_on_texts(corpus)\n",
        "total_words = len(tokenizer.word_index) + 1"
      ],
      "execution_count": 0,
      "outputs": []
    },
    {
      "cell_type": "code",
      "metadata": {
        "id": "un_OJMBrCmxV",
        "colab_type": "code",
        "colab": {}
      },
      "source": [
        "input_sequences = []\n",
        "for line in corpus:\n",
        "\ttoken_list = tokenizer.texts_to_sequences([line])[0]\n",
        "\tfor i in range(1, len(token_list)):\n",
        "\t\tn_gram_sequence = token_list[:i+1]\n",
        "\t\tinput_sequences.append(n_gram_sequence)\n"
      ],
      "execution_count": 0,
      "outputs": []
    },
    {
      "cell_type": "code",
      "metadata": {
        "id": "LKbKZzkpC1hZ",
        "colab_type": "code",
        "colab": {}
      },
      "source": [
        "# pad sequences \n",
        "max_sequence_len = max([len(x) for x in input_sequences])\n",
        "input_sequences = np.array(pad_sequences(input_sequences, maxlen=max_sequence_len, padding='pre'))\n",
        "\n",
        "# create predictors and label\n",
        "predictors, label = input_sequences[:,:-1],input_sequences[:,-1]\n",
        "\n",
        "label = ku.to_categorical(label, num_classes=total_words)"
      ],
      "execution_count": 0,
      "outputs": []
    },
    {
      "cell_type": "code",
      "metadata": {
        "id": "sKIVTz1ZC69e",
        "colab_type": "code",
        "colab": {
          "base_uri": "https://localhost:8080/",
          "height": 410
        },
        "outputId": "9d1ed030-602a-4ce7-e3e7-b427ce71bdaf"
      },
      "source": [
        "model = Sequential()\n",
        "model.add(Embedding(total_words, 100, input_length=max_sequence_len-1))\n",
        "model.add(Bidirectional(LSTM(150, return_sequences = True)))\n",
        "model.add(Dropout(0.2))\n",
        "model.add(LSTM(100))\n",
        "model.add(Dense(total_words/2, activation='relu', kernel_regularizer=regularizers.l2(0.01)))\n",
        "model.add(Dense(total_words, activation='softmax'))\n",
        "model.compile(loss='categorical_crossentropy', optimizer='adam', metrics=['accuracy'])\n",
        "print(model.summary())\n"
      ],
      "execution_count": 25,
      "outputs": [
        {
          "output_type": "stream",
          "text": [
            "Model: \"sequential\"\n",
            "_________________________________________________________________\n",
            "Layer (type)                 Output Shape              Param #   \n",
            "=================================================================\n",
            "embedding (Embedding)        (None, 11, 100)           336200    \n",
            "_________________________________________________________________\n",
            "bidirectional (Bidirectional (None, 11, 300)           301200    \n",
            "_________________________________________________________________\n",
            "dropout (Dropout)            (None, 11, 300)           0         \n",
            "_________________________________________________________________\n",
            "lstm_1 (LSTM)                (None, 100)               160400    \n",
            "_________________________________________________________________\n",
            "dense (Dense)                (None, 1681)              169781    \n",
            "_________________________________________________________________\n",
            "dense_1 (Dense)              (None, 3362)              5654884   \n",
            "=================================================================\n",
            "Total params: 6,622,465\n",
            "Trainable params: 6,622,465\n",
            "Non-trainable params: 0\n",
            "_________________________________________________________________\n",
            "None\n"
          ],
          "name": "stdout"
        }
      ]
    },
    {
      "cell_type": "code",
      "metadata": {
        "id": "JnnlY184C-1V",
        "colab_type": "code",
        "colab": {
          "base_uri": "https://localhost:8080/",
          "height": 1000
        },
        "outputId": "f6380e9d-b83b-4632-9c11-2bc3215d457a"
      },
      "source": [
        "history = model.fit(predictors, label, epochs=100, verbose=1)"
      ],
      "execution_count": 26,
      "outputs": [
        {
          "output_type": "stream",
          "text": [
            "Epoch 1/100\n",
            "287/287 [==============================] - 32s 113ms/step - loss: 7.0032 - accuracy: 0.0474\n",
            "Epoch 2/100\n",
            "287/287 [==============================] - 32s 113ms/step - loss: 6.2592 - accuracy: 0.0696\n",
            "Epoch 3/100\n",
            "287/287 [==============================] - 32s 113ms/step - loss: 6.0284 - accuracy: 0.0835\n",
            "Epoch 4/100\n",
            "287/287 [==============================] - 32s 113ms/step - loss: 5.8646 - accuracy: 0.0975\n",
            "Epoch 5/100\n",
            "287/287 [==============================] - 32s 112ms/step - loss: 5.7451 - accuracy: 0.1097\n",
            "Epoch 6/100\n",
            "287/287 [==============================] - 32s 113ms/step - loss: 5.6373 - accuracy: 0.1166\n",
            "Epoch 7/100\n",
            "287/287 [==============================] - 32s 113ms/step - loss: 5.5077 - accuracy: 0.1275\n",
            "Epoch 8/100\n",
            "287/287 [==============================] - 32s 113ms/step - loss: 5.3821 - accuracy: 0.1364\n",
            "Epoch 9/100\n",
            "287/287 [==============================] - 32s 113ms/step - loss: 5.2375 - accuracy: 0.1495\n",
            "Epoch 10/100\n",
            "287/287 [==============================] - 32s 113ms/step - loss: 5.1070 - accuracy: 0.1586\n",
            "Epoch 11/100\n",
            "287/287 [==============================] - 32s 113ms/step - loss: 4.9732 - accuracy: 0.1692\n",
            "Epoch 12/100\n",
            "287/287 [==============================] - 32s 113ms/step - loss: 4.8458 - accuracy: 0.1756\n",
            "Epoch 13/100\n",
            "287/287 [==============================] - 33s 114ms/step - loss: 4.7216 - accuracy: 0.1871\n",
            "Epoch 14/100\n",
            "287/287 [==============================] - 32s 113ms/step - loss: 4.6048 - accuracy: 0.1976\n",
            "Epoch 15/100\n",
            "287/287 [==============================] - 32s 113ms/step - loss: 4.4904 - accuracy: 0.2008\n",
            "Epoch 16/100\n",
            "287/287 [==============================] - 33s 113ms/step - loss: 4.3735 - accuracy: 0.2089\n",
            "Epoch 17/100\n",
            "287/287 [==============================] - 32s 113ms/step - loss: 4.2488 - accuracy: 0.2176\n",
            "Epoch 18/100\n",
            "287/287 [==============================] - 33s 114ms/step - loss: 4.1272 - accuracy: 0.2272\n",
            "Epoch 19/100\n",
            "287/287 [==============================] - 33s 114ms/step - loss: 4.0129 - accuracy: 0.2378\n",
            "Epoch 20/100\n",
            "287/287 [==============================] - 32s 113ms/step - loss: 3.9059 - accuracy: 0.2456\n",
            "Epoch 21/100\n",
            "287/287 [==============================] - 32s 113ms/step - loss: 3.7930 - accuracy: 0.2555\n",
            "Epoch 22/100\n",
            "287/287 [==============================] - 32s 113ms/step - loss: 3.6866 - accuracy: 0.2665\n",
            "Epoch 23/100\n",
            "287/287 [==============================] - 32s 113ms/step - loss: 3.5768 - accuracy: 0.2765\n",
            "Epoch 24/100\n",
            "287/287 [==============================] - 32s 113ms/step - loss: 3.4763 - accuracy: 0.2940\n",
            "Epoch 25/100\n",
            "287/287 [==============================] - 32s 112ms/step - loss: 3.3639 - accuracy: 0.3048\n",
            "Epoch 26/100\n",
            "287/287 [==============================] - 32s 112ms/step - loss: 3.2801 - accuracy: 0.3237\n",
            "Epoch 27/100\n",
            "287/287 [==============================] - 32s 112ms/step - loss: 3.1904 - accuracy: 0.3369\n",
            "Epoch 28/100\n",
            "287/287 [==============================] - 32s 113ms/step - loss: 3.1014 - accuracy: 0.3550\n",
            "Epoch 29/100\n",
            "287/287 [==============================] - 32s 112ms/step - loss: 3.0277 - accuracy: 0.3667\n",
            "Epoch 30/100\n",
            "287/287 [==============================] - 32s 112ms/step - loss: 2.9238 - accuracy: 0.3845\n",
            "Epoch 31/100\n",
            "287/287 [==============================] - 32s 113ms/step - loss: 2.8447 - accuracy: 0.4059\n",
            "Epoch 32/100\n",
            "287/287 [==============================] - 32s 113ms/step - loss: 2.7725 - accuracy: 0.4172\n",
            "Epoch 33/100\n",
            "287/287 [==============================] - 32s 112ms/step - loss: 2.7008 - accuracy: 0.4361\n",
            "Epoch 34/100\n",
            "287/287 [==============================] - 32s 112ms/step - loss: 2.6247 - accuracy: 0.4547\n",
            "Epoch 35/100\n",
            "287/287 [==============================] - 32s 113ms/step - loss: 2.5625 - accuracy: 0.4717\n",
            "Epoch 36/100\n",
            "287/287 [==============================] - 32s 113ms/step - loss: 2.4952 - accuracy: 0.4913\n",
            "Epoch 37/100\n",
            "287/287 [==============================] - 32s 113ms/step - loss: 2.4239 - accuracy: 0.5038\n",
            "Epoch 38/100\n",
            "287/287 [==============================] - 32s 113ms/step - loss: 2.3618 - accuracy: 0.5262\n",
            "Epoch 39/100\n",
            "287/287 [==============================] - 32s 113ms/step - loss: 2.3124 - accuracy: 0.5286\n",
            "Epoch 40/100\n",
            "287/287 [==============================] - 32s 113ms/step - loss: 2.2412 - accuracy: 0.5557\n",
            "Epoch 41/100\n",
            "287/287 [==============================] - 32s 113ms/step - loss: 2.1846 - accuracy: 0.5676\n",
            "Epoch 42/100\n",
            "287/287 [==============================] - 32s 113ms/step - loss: 2.1332 - accuracy: 0.5801\n",
            "Epoch 43/100\n",
            "287/287 [==============================] - 32s 113ms/step - loss: 2.0645 - accuracy: 0.6001\n",
            "Epoch 44/100\n",
            "287/287 [==============================] - 33s 114ms/step - loss: 2.0297 - accuracy: 0.6106\n",
            "Epoch 45/100\n",
            "287/287 [==============================] - 33s 114ms/step - loss: 1.9783 - accuracy: 0.6224\n",
            "Epoch 46/100\n",
            "287/287 [==============================] - 33s 114ms/step - loss: 1.9497 - accuracy: 0.6285\n",
            "Epoch 47/100\n",
            "287/287 [==============================] - 37s 130ms/step - loss: 1.8896 - accuracy: 0.6460\n",
            "Epoch 48/100\n",
            "287/287 [==============================] - 33s 114ms/step - loss: 1.8373 - accuracy: 0.6611\n",
            "Epoch 49/100\n",
            "287/287 [==============================] - 33s 114ms/step - loss: 1.7922 - accuracy: 0.6715\n",
            "Epoch 50/100\n",
            "287/287 [==============================] - 33s 114ms/step - loss: 1.7580 - accuracy: 0.6812\n",
            "Epoch 51/100\n",
            "287/287 [==============================] - 33s 114ms/step - loss: 1.7057 - accuracy: 0.6909\n",
            "Epoch 52/100\n",
            "287/287 [==============================] - 33s 114ms/step - loss: 1.6698 - accuracy: 0.7045\n",
            "Epoch 53/100\n",
            "287/287 [==============================] - 33s 114ms/step - loss: 1.6485 - accuracy: 0.7085\n",
            "Epoch 54/100\n",
            "287/287 [==============================] - 33s 114ms/step - loss: 1.6092 - accuracy: 0.7205\n",
            "Epoch 55/100\n",
            "287/287 [==============================] - 33s 114ms/step - loss: 1.5585 - accuracy: 0.7368\n",
            "Epoch 56/100\n",
            "287/287 [==============================] - 33s 114ms/step - loss: 1.5370 - accuracy: 0.7323\n",
            "Epoch 57/100\n",
            "287/287 [==============================] - 33s 115ms/step - loss: 1.5157 - accuracy: 0.7387\n",
            "Epoch 58/100\n",
            "287/287 [==============================] - 33s 114ms/step - loss: 1.4851 - accuracy: 0.7446\n",
            "Epoch 59/100\n",
            "287/287 [==============================] - 33s 114ms/step - loss: 1.4579 - accuracy: 0.7512\n",
            "Epoch 60/100\n",
            "287/287 [==============================] - 33s 113ms/step - loss: 1.4235 - accuracy: 0.7570\n",
            "Epoch 61/100\n",
            "287/287 [==============================] - 33s 113ms/step - loss: 1.4035 - accuracy: 0.7638\n",
            "Epoch 62/100\n",
            "287/287 [==============================] - 32s 112ms/step - loss: 1.3758 - accuracy: 0.7713\n",
            "Epoch 63/100\n",
            "287/287 [==============================] - 32s 113ms/step - loss: 1.3505 - accuracy: 0.7757\n",
            "Epoch 64/100\n",
            "287/287 [==============================] - 33s 113ms/step - loss: 1.3299 - accuracy: 0.7797\n",
            "Epoch 65/100\n",
            "287/287 [==============================] - 38s 133ms/step - loss: 1.2961 - accuracy: 0.7884\n",
            "Epoch 66/100\n",
            "287/287 [==============================] - 33s 113ms/step - loss: 1.2670 - accuracy: 0.7955\n",
            "Epoch 67/100\n",
            "287/287 [==============================] - 32s 113ms/step - loss: 1.2602 - accuracy: 0.7930\n",
            "Epoch 68/100\n",
            "287/287 [==============================] - 32s 113ms/step - loss: 1.2542 - accuracy: 0.7950\n",
            "Epoch 69/100\n",
            "287/287 [==============================] - 32s 113ms/step - loss: 1.2275 - accuracy: 0.7965\n",
            "Epoch 70/100\n",
            "287/287 [==============================] - 32s 112ms/step - loss: 1.1888 - accuracy: 0.8098\n",
            "Epoch 71/100\n",
            "238/287 [=======================>......] - ETA: 5s - loss: 1.1818 - accuracy: 0.8062"
          ],
          "name": "stdout"
        },
        {
          "output_type": "error",
          "ename": "KeyboardInterrupt",
          "evalue": "ignored",
          "traceback": [
            "\u001b[0;31m---------------------------------------------------------------------------\u001b[0m",
            "\u001b[0;31mKeyboardInterrupt\u001b[0m                         Traceback (most recent call last)",
            "\u001b[0;32m<ipython-input-26-1c1448a5e7b3>\u001b[0m in \u001b[0;36m<module>\u001b[0;34m()\u001b[0m\n\u001b[0;32m----> 1\u001b[0;31m \u001b[0mhistory\u001b[0m \u001b[0;34m=\u001b[0m \u001b[0mmodel\u001b[0m\u001b[0;34m.\u001b[0m\u001b[0mfit\u001b[0m\u001b[0;34m(\u001b[0m\u001b[0mpredictors\u001b[0m\u001b[0;34m,\u001b[0m \u001b[0mlabel\u001b[0m\u001b[0;34m,\u001b[0m \u001b[0mepochs\u001b[0m\u001b[0;34m=\u001b[0m\u001b[0;36m100\u001b[0m\u001b[0;34m,\u001b[0m \u001b[0mverbose\u001b[0m\u001b[0;34m=\u001b[0m\u001b[0;36m1\u001b[0m\u001b[0;34m)\u001b[0m\u001b[0;34m\u001b[0m\u001b[0;34m\u001b[0m\u001b[0m\n\u001b[0m",
            "\u001b[0;32m/usr/local/lib/python3.6/dist-packages/tensorflow/python/keras/engine/training.py\u001b[0m in \u001b[0;36m_method_wrapper\u001b[0;34m(self, *args, **kwargs)\u001b[0m\n\u001b[1;32m     64\u001b[0m   \u001b[0;32mdef\u001b[0m \u001b[0m_method_wrapper\u001b[0m\u001b[0;34m(\u001b[0m\u001b[0mself\u001b[0m\u001b[0;34m,\u001b[0m \u001b[0;34m*\u001b[0m\u001b[0margs\u001b[0m\u001b[0;34m,\u001b[0m \u001b[0;34m**\u001b[0m\u001b[0mkwargs\u001b[0m\u001b[0;34m)\u001b[0m\u001b[0;34m:\u001b[0m\u001b[0;34m\u001b[0m\u001b[0;34m\u001b[0m\u001b[0m\n\u001b[1;32m     65\u001b[0m     \u001b[0;32mif\u001b[0m \u001b[0;32mnot\u001b[0m \u001b[0mself\u001b[0m\u001b[0;34m.\u001b[0m\u001b[0m_in_multi_worker_mode\u001b[0m\u001b[0;34m(\u001b[0m\u001b[0;34m)\u001b[0m\u001b[0;34m:\u001b[0m  \u001b[0;31m# pylint: disable=protected-access\u001b[0m\u001b[0;34m\u001b[0m\u001b[0;34m\u001b[0m\u001b[0m\n\u001b[0;32m---> 66\u001b[0;31m       \u001b[0;32mreturn\u001b[0m \u001b[0mmethod\u001b[0m\u001b[0;34m(\u001b[0m\u001b[0mself\u001b[0m\u001b[0;34m,\u001b[0m \u001b[0;34m*\u001b[0m\u001b[0margs\u001b[0m\u001b[0;34m,\u001b[0m \u001b[0;34m**\u001b[0m\u001b[0mkwargs\u001b[0m\u001b[0;34m)\u001b[0m\u001b[0;34m\u001b[0m\u001b[0;34m\u001b[0m\u001b[0m\n\u001b[0m\u001b[1;32m     67\u001b[0m \u001b[0;34m\u001b[0m\u001b[0m\n\u001b[1;32m     68\u001b[0m     \u001b[0;31m# Running inside `run_distribute_coordinator` already.\u001b[0m\u001b[0;34m\u001b[0m\u001b[0;34m\u001b[0m\u001b[0;34m\u001b[0m\u001b[0m\n",
            "\u001b[0;32m/usr/local/lib/python3.6/dist-packages/tensorflow/python/keras/engine/training.py\u001b[0m in \u001b[0;36mfit\u001b[0;34m(self, x, y, batch_size, epochs, verbose, callbacks, validation_split, validation_data, shuffle, class_weight, sample_weight, initial_epoch, steps_per_epoch, validation_steps, validation_batch_size, validation_freq, max_queue_size, workers, use_multiprocessing)\u001b[0m\n\u001b[1;32m    846\u001b[0m                 batch_size=batch_size):\n\u001b[1;32m    847\u001b[0m               \u001b[0mcallbacks\u001b[0m\u001b[0;34m.\u001b[0m\u001b[0mon_train_batch_begin\u001b[0m\u001b[0;34m(\u001b[0m\u001b[0mstep\u001b[0m\u001b[0;34m)\u001b[0m\u001b[0;34m\u001b[0m\u001b[0;34m\u001b[0m\u001b[0m\n\u001b[0;32m--> 848\u001b[0;31m               \u001b[0mtmp_logs\u001b[0m \u001b[0;34m=\u001b[0m \u001b[0mtrain_function\u001b[0m\u001b[0;34m(\u001b[0m\u001b[0miterator\u001b[0m\u001b[0;34m)\u001b[0m\u001b[0;34m\u001b[0m\u001b[0;34m\u001b[0m\u001b[0m\n\u001b[0m\u001b[1;32m    849\u001b[0m               \u001b[0;31m# Catch OutOfRangeError for Datasets of unknown size.\u001b[0m\u001b[0;34m\u001b[0m\u001b[0;34m\u001b[0m\u001b[0;34m\u001b[0m\u001b[0m\n\u001b[1;32m    850\u001b[0m               \u001b[0;31m# This blocks until the batch has finished executing.\u001b[0m\u001b[0;34m\u001b[0m\u001b[0;34m\u001b[0m\u001b[0;34m\u001b[0m\u001b[0m\n",
            "\u001b[0;32m/usr/local/lib/python3.6/dist-packages/tensorflow/python/eager/def_function.py\u001b[0m in \u001b[0;36m__call__\u001b[0;34m(self, *args, **kwds)\u001b[0m\n\u001b[1;32m    578\u001b[0m         \u001b[0mxla_context\u001b[0m\u001b[0;34m.\u001b[0m\u001b[0mExit\u001b[0m\u001b[0;34m(\u001b[0m\u001b[0;34m)\u001b[0m\u001b[0;34m\u001b[0m\u001b[0;34m\u001b[0m\u001b[0m\n\u001b[1;32m    579\u001b[0m     \u001b[0;32melse\u001b[0m\u001b[0;34m:\u001b[0m\u001b[0;34m\u001b[0m\u001b[0;34m\u001b[0m\u001b[0m\n\u001b[0;32m--> 580\u001b[0;31m       \u001b[0mresult\u001b[0m \u001b[0;34m=\u001b[0m \u001b[0mself\u001b[0m\u001b[0;34m.\u001b[0m\u001b[0m_call\u001b[0m\u001b[0;34m(\u001b[0m\u001b[0;34m*\u001b[0m\u001b[0margs\u001b[0m\u001b[0;34m,\u001b[0m \u001b[0;34m**\u001b[0m\u001b[0mkwds\u001b[0m\u001b[0;34m)\u001b[0m\u001b[0;34m\u001b[0m\u001b[0;34m\u001b[0m\u001b[0m\n\u001b[0m\u001b[1;32m    581\u001b[0m \u001b[0;34m\u001b[0m\u001b[0m\n\u001b[1;32m    582\u001b[0m     \u001b[0;32mif\u001b[0m \u001b[0mtracing_count\u001b[0m \u001b[0;34m==\u001b[0m \u001b[0mself\u001b[0m\u001b[0;34m.\u001b[0m\u001b[0m_get_tracing_count\u001b[0m\u001b[0;34m(\u001b[0m\u001b[0;34m)\u001b[0m\u001b[0;34m:\u001b[0m\u001b[0;34m\u001b[0m\u001b[0;34m\u001b[0m\u001b[0m\n",
            "\u001b[0;32m/usr/local/lib/python3.6/dist-packages/tensorflow/python/eager/def_function.py\u001b[0m in \u001b[0;36m_call\u001b[0;34m(self, *args, **kwds)\u001b[0m\n\u001b[1;32m    609\u001b[0m       \u001b[0;31m# In this case we have created variables on the first call, so we run the\u001b[0m\u001b[0;34m\u001b[0m\u001b[0;34m\u001b[0m\u001b[0;34m\u001b[0m\u001b[0m\n\u001b[1;32m    610\u001b[0m       \u001b[0;31m# defunned version which is guaranteed to never create variables.\u001b[0m\u001b[0;34m\u001b[0m\u001b[0;34m\u001b[0m\u001b[0;34m\u001b[0m\u001b[0m\n\u001b[0;32m--> 611\u001b[0;31m       \u001b[0;32mreturn\u001b[0m \u001b[0mself\u001b[0m\u001b[0;34m.\u001b[0m\u001b[0m_stateless_fn\u001b[0m\u001b[0;34m(\u001b[0m\u001b[0;34m*\u001b[0m\u001b[0margs\u001b[0m\u001b[0;34m,\u001b[0m \u001b[0;34m**\u001b[0m\u001b[0mkwds\u001b[0m\u001b[0;34m)\u001b[0m  \u001b[0;31m# pylint: disable=not-callable\u001b[0m\u001b[0;34m\u001b[0m\u001b[0;34m\u001b[0m\u001b[0m\n\u001b[0m\u001b[1;32m    612\u001b[0m     \u001b[0;32melif\u001b[0m \u001b[0mself\u001b[0m\u001b[0;34m.\u001b[0m\u001b[0m_stateful_fn\u001b[0m \u001b[0;32mis\u001b[0m \u001b[0;32mnot\u001b[0m \u001b[0;32mNone\u001b[0m\u001b[0;34m:\u001b[0m\u001b[0;34m\u001b[0m\u001b[0;34m\u001b[0m\u001b[0m\n\u001b[1;32m    613\u001b[0m       \u001b[0;31m# Release the lock early so that multiple threads can perform the call\u001b[0m\u001b[0;34m\u001b[0m\u001b[0;34m\u001b[0m\u001b[0;34m\u001b[0m\u001b[0m\n",
            "\u001b[0;32m/usr/local/lib/python3.6/dist-packages/tensorflow/python/eager/function.py\u001b[0m in \u001b[0;36m__call__\u001b[0;34m(self, *args, **kwargs)\u001b[0m\n\u001b[1;32m   2418\u001b[0m     \u001b[0;32mwith\u001b[0m \u001b[0mself\u001b[0m\u001b[0;34m.\u001b[0m\u001b[0m_lock\u001b[0m\u001b[0;34m:\u001b[0m\u001b[0;34m\u001b[0m\u001b[0;34m\u001b[0m\u001b[0m\n\u001b[1;32m   2419\u001b[0m       \u001b[0mgraph_function\u001b[0m\u001b[0;34m,\u001b[0m \u001b[0margs\u001b[0m\u001b[0;34m,\u001b[0m \u001b[0mkwargs\u001b[0m \u001b[0;34m=\u001b[0m \u001b[0mself\u001b[0m\u001b[0;34m.\u001b[0m\u001b[0m_maybe_define_function\u001b[0m\u001b[0;34m(\u001b[0m\u001b[0margs\u001b[0m\u001b[0;34m,\u001b[0m \u001b[0mkwargs\u001b[0m\u001b[0;34m)\u001b[0m\u001b[0;34m\u001b[0m\u001b[0;34m\u001b[0m\u001b[0m\n\u001b[0;32m-> 2420\u001b[0;31m     \u001b[0;32mreturn\u001b[0m \u001b[0mgraph_function\u001b[0m\u001b[0;34m.\u001b[0m\u001b[0m_filtered_call\u001b[0m\u001b[0;34m(\u001b[0m\u001b[0margs\u001b[0m\u001b[0;34m,\u001b[0m \u001b[0mkwargs\u001b[0m\u001b[0;34m)\u001b[0m  \u001b[0;31m# pylint: disable=protected-access\u001b[0m\u001b[0;34m\u001b[0m\u001b[0;34m\u001b[0m\u001b[0m\n\u001b[0m\u001b[1;32m   2421\u001b[0m \u001b[0;34m\u001b[0m\u001b[0m\n\u001b[1;32m   2422\u001b[0m   \u001b[0;34m@\u001b[0m\u001b[0mproperty\u001b[0m\u001b[0;34m\u001b[0m\u001b[0;34m\u001b[0m\u001b[0m\n",
            "\u001b[0;32m/usr/local/lib/python3.6/dist-packages/tensorflow/python/eager/function.py\u001b[0m in \u001b[0;36m_filtered_call\u001b[0;34m(self, args, kwargs)\u001b[0m\n\u001b[1;32m   1663\u001b[0m          if isinstance(t, (ops.Tensor,\n\u001b[1;32m   1664\u001b[0m                            resource_variable_ops.BaseResourceVariable))),\n\u001b[0;32m-> 1665\u001b[0;31m         self.captured_inputs)\n\u001b[0m\u001b[1;32m   1666\u001b[0m \u001b[0;34m\u001b[0m\u001b[0m\n\u001b[1;32m   1667\u001b[0m   \u001b[0;32mdef\u001b[0m \u001b[0m_call_flat\u001b[0m\u001b[0;34m(\u001b[0m\u001b[0mself\u001b[0m\u001b[0;34m,\u001b[0m \u001b[0margs\u001b[0m\u001b[0;34m,\u001b[0m \u001b[0mcaptured_inputs\u001b[0m\u001b[0;34m,\u001b[0m \u001b[0mcancellation_manager\u001b[0m\u001b[0;34m=\u001b[0m\u001b[0;32mNone\u001b[0m\u001b[0;34m)\u001b[0m\u001b[0;34m:\u001b[0m\u001b[0;34m\u001b[0m\u001b[0;34m\u001b[0m\u001b[0m\n",
            "\u001b[0;32m/usr/local/lib/python3.6/dist-packages/tensorflow/python/eager/function.py\u001b[0m in \u001b[0;36m_call_flat\u001b[0;34m(self, args, captured_inputs, cancellation_manager)\u001b[0m\n\u001b[1;32m   1744\u001b[0m       \u001b[0;31m# No tape is watching; skip to running the function.\u001b[0m\u001b[0;34m\u001b[0m\u001b[0;34m\u001b[0m\u001b[0;34m\u001b[0m\u001b[0m\n\u001b[1;32m   1745\u001b[0m       return self._build_call_outputs(self._inference_function.call(\n\u001b[0;32m-> 1746\u001b[0;31m           ctx, args, cancellation_manager=cancellation_manager))\n\u001b[0m\u001b[1;32m   1747\u001b[0m     forward_backward = self._select_forward_and_backward_functions(\n\u001b[1;32m   1748\u001b[0m         \u001b[0margs\u001b[0m\u001b[0;34m,\u001b[0m\u001b[0;34m\u001b[0m\u001b[0;34m\u001b[0m\u001b[0m\n",
            "\u001b[0;32m/usr/local/lib/python3.6/dist-packages/tensorflow/python/eager/function.py\u001b[0m in \u001b[0;36mcall\u001b[0;34m(self, ctx, args, cancellation_manager)\u001b[0m\n\u001b[1;32m    596\u001b[0m               \u001b[0minputs\u001b[0m\u001b[0;34m=\u001b[0m\u001b[0margs\u001b[0m\u001b[0;34m,\u001b[0m\u001b[0;34m\u001b[0m\u001b[0;34m\u001b[0m\u001b[0m\n\u001b[1;32m    597\u001b[0m               \u001b[0mattrs\u001b[0m\u001b[0;34m=\u001b[0m\u001b[0mattrs\u001b[0m\u001b[0;34m,\u001b[0m\u001b[0;34m\u001b[0m\u001b[0;34m\u001b[0m\u001b[0m\n\u001b[0;32m--> 598\u001b[0;31m               ctx=ctx)\n\u001b[0m\u001b[1;32m    599\u001b[0m         \u001b[0;32melse\u001b[0m\u001b[0;34m:\u001b[0m\u001b[0;34m\u001b[0m\u001b[0;34m\u001b[0m\u001b[0m\n\u001b[1;32m    600\u001b[0m           outputs = execute.execute_with_cancellation(\n",
            "\u001b[0;32m/usr/local/lib/python3.6/dist-packages/tensorflow/python/eager/execute.py\u001b[0m in \u001b[0;36mquick_execute\u001b[0;34m(op_name, num_outputs, inputs, attrs, ctx, name)\u001b[0m\n\u001b[1;32m     58\u001b[0m     \u001b[0mctx\u001b[0m\u001b[0;34m.\u001b[0m\u001b[0mensure_initialized\u001b[0m\u001b[0;34m(\u001b[0m\u001b[0;34m)\u001b[0m\u001b[0;34m\u001b[0m\u001b[0;34m\u001b[0m\u001b[0m\n\u001b[1;32m     59\u001b[0m     tensors = pywrap_tfe.TFE_Py_Execute(ctx._handle, device_name, op_name,\n\u001b[0;32m---> 60\u001b[0;31m                                         inputs, attrs, num_outputs)\n\u001b[0m\u001b[1;32m     61\u001b[0m   \u001b[0;32mexcept\u001b[0m \u001b[0mcore\u001b[0m\u001b[0;34m.\u001b[0m\u001b[0m_NotOkStatusException\u001b[0m \u001b[0;32mas\u001b[0m \u001b[0me\u001b[0m\u001b[0;34m:\u001b[0m\u001b[0;34m\u001b[0m\u001b[0;34m\u001b[0m\u001b[0m\n\u001b[1;32m     62\u001b[0m     \u001b[0;32mif\u001b[0m \u001b[0mname\u001b[0m \u001b[0;32mis\u001b[0m \u001b[0;32mnot\u001b[0m \u001b[0;32mNone\u001b[0m\u001b[0;34m:\u001b[0m\u001b[0;34m\u001b[0m\u001b[0;34m\u001b[0m\u001b[0m\n",
            "\u001b[0;31mKeyboardInterrupt\u001b[0m: "
          ]
        }
      ]
    },
    {
      "cell_type": "code",
      "metadata": {
        "id": "lcym8qnCEAbl",
        "colab_type": "code",
        "colab": {
          "base_uri": "https://localhost:8080/",
          "height": 112
        },
        "outputId": "0d1f4cba-d55d-405b-d86b-30a5012b83f5"
      },
      "source": [
        "seed_text = \"sa gubat na madilim, na puno ng bulaclac\"\n",
        "next_words = 50\n",
        "  \n",
        "for _ in range(next_words):\n",
        "\ttoken_list = tokenizer.texts_to_sequences([seed_text])[0]\n",
        "\ttoken_list = pad_sequences([token_list], maxlen=max_sequence_len-1, padding='pre')\n",
        "\tpredicted = model.predict_classes(token_list, verbose=0)\n",
        "\toutput_word = \"\"\n",
        "\tfor word, index in tokenizer.word_index.items():\n",
        "\t\tif index == predicted:\n",
        "\t\t\toutput_word = word\n",
        "\t\t\tbreak\n",
        "\tseed_text += \" \" + output_word\n",
        "print(seed_text)"
      ],
      "execution_count": 27,
      "outputs": [
        {
          "output_type": "stream",
          "text": [
            "WARNING:tensorflow:From <ipython-input-27-ba0b6355bd86>:7: Sequential.predict_classes (from tensorflow.python.keras.engine.sequential) is deprecated and will be removed after 2021-01-01.\n",
            "Instructions for updating:\n",
            "Please use instead:* `np.argmax(model.predict(x), axis=-1)`,   if your model does multi-class classification   (e.g. if it uses a `softmax` last-layer activation).* `(model.predict(x) > 0.5).astype(\"int32\")`,   if your model does binary classification   (e.g. if it uses a `sigmoid` last-layer activation).\n",
            "sa gubat na madilim, na puno ng bulaclac h f 19 19 19 19 e gunihín e 22 na masun git e e e e e 22 e 22 22 ni iná gunihín 62 gunihín e 62 19 19 gunihín 22 24 halos catao gan isusuut mo t iná t ibig t lilo i albaniang bayan 57 24\n"
          ],
          "name": "stdout"
        }
      ]
    }
  ]
}