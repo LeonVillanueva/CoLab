{
  "nbformat": 4,
  "nbformat_minor": 0,
  "metadata": {
    "colab": {
      "name": "Google_CoLab_MNIST.ipynb",
      "provenance": [],
      "collapsed_sections": [],
      "authorship_tag": "ABX9TyNYNiOxuundzexIyKCaFOrF",
      "include_colab_link": true
    },
    "kernelspec": {
      "name": "python3",
      "display_name": "Python 3"
    }
  },
  "cells": [
    {
      "cell_type": "markdown",
      "metadata": {
        "id": "view-in-github",
        "colab_type": "text"
      },
      "source": [
        "<a href=\"https://colab.research.google.com/github/LeonVillanueva/CoLab/blob/master/Google_CoLab_MNIST.ipynb\" target=\"_parent\"><img src=\"https://colab.research.google.com/assets/colab-badge.svg\" alt=\"Open In Colab\"/></a>"
      ]
    },
    {
      "cell_type": "markdown",
      "metadata": {
        "id": "yKl3AHP_tngM",
        "colab_type": "text"
      },
      "source": [
        "# Setup and Data"
      ]
    },
    {
      "cell_type": "code",
      "metadata": {
        "id": "YiH3HRTgtX68",
        "colab_type": "code",
        "outputId": "46168a4d-6e1e-4439-df1d-1a98fcb42139",
        "colab": {
          "base_uri": "https://localhost:8080/",
          "height": 110
        }
      },
      "source": [
        "!pip install -q tensorflow==2.0.0-beta1"
      ],
      "execution_count": 1,
      "outputs": [
        {
          "output_type": "stream",
          "text": [
            "\u001b[K     |████████████████████████████████| 87.9MB 69kB/s \n",
            "\u001b[K     |████████████████████████████████| 3.1MB 45.6MB/s \n",
            "\u001b[33m  WARNING: Retrying (Retry(total=4, connect=None, read=None, redirect=None, status=None)) after connection broken by 'ProtocolError('Connection aborted.', ConnectionResetError(104, 'Connection reset by peer'))': /packages/32/dd/99c47dd007dcf10d63fd895611b063732646f23059c618a373e85019eb0e/tf_estimator_nightly-1.14.0.dev2019060501-py2.py3-none-any.whl\u001b[0m\n",
            "\u001b[K     |████████████████████████████████| 501kB 2.8MB/s \n",
            "\u001b[?25h"
          ],
          "name": "stdout"
        }
      ]
    },
    {
      "cell_type": "code",
      "metadata": {
        "id": "FkosqT3NtwWD",
        "colab_type": "code",
        "colab": {}
      },
      "source": [
        "%%capture\n",
        "import numpy as np\n",
        "import matplotlib.pyplot as plt\n",
        "import pandas as pd\n",
        "import tensorflow as tf"
      ],
      "execution_count": 0,
      "outputs": []
    },
    {
      "cell_type": "code",
      "metadata": {
        "id": "IrJyZ3nZ9Mrx",
        "colab_type": "code",
        "colab": {}
      },
      "source": [
        "from sklearn.datasets import load_breast_cancer\n",
        "from sklearn.model_selection import train_test_split\n",
        "from sklearn.preprocessing import StandardScaler"
      ],
      "execution_count": 0,
      "outputs": []
    },
    {
      "cell_type": "code",
      "metadata": {
        "id": "_03GS5IH9u3K",
        "colab_type": "code",
        "colab": {
          "base_uri": "https://localhost:8080/",
          "height": 35
        },
        "outputId": "969aed45-94e3-4294-f63f-d8ab10cff8a8"
      },
      "source": [
        "tf.__version__"
      ],
      "execution_count": 5,
      "outputs": [
        {
          "output_type": "execute_result",
          "data": {
            "text/plain": [
              "'2.0.0-beta1'"
            ]
          },
          "metadata": {
            "tags": []
          },
          "execution_count": 5
        }
      ]
    },
    {
      "cell_type": "code",
      "metadata": {
        "id": "xlEwe6Wz9ys9",
        "colab_type": "code",
        "colab": {
          "base_uri": "https://localhost:8080/",
          "height": 53
        },
        "outputId": "8180b845-a1e2-41f5-c26a-fba30f4a6c91"
      },
      "source": [
        "(X_train, y_train), (X_test, y_test) = tf.keras.datasets.mnist.load_data()"
      ],
      "execution_count": 6,
      "outputs": [
        {
          "output_type": "stream",
          "text": [
            "Downloading data from https://storage.googleapis.com/tensorflow/tf-keras-datasets/mnist.npz\n",
            "11493376/11490434 [==============================] - 0s 0us/step\n"
          ],
          "name": "stdout"
        }
      ]
    },
    {
      "cell_type": "code",
      "metadata": {
        "id": "ujuv-Sui_h_L",
        "colab_type": "code",
        "colab": {
          "base_uri": "https://localhost:8080/",
          "height": 53
        },
        "outputId": "adf9504f-ca05-48e9-90aa-3ab374955e55"
      },
      "source": [
        "print (np.max (X_train))\n",
        "print (np.max (X_test))"
      ],
      "execution_count": 13,
      "outputs": [
        {
          "output_type": "stream",
          "text": [
            "255\n",
            "255\n"
          ],
          "name": "stdout"
        }
      ]
    },
    {
      "cell_type": "code",
      "metadata": {
        "id": "JTBgALy6_lFj",
        "colab_type": "code",
        "colab": {
          "base_uri": "https://localhost:8080/",
          "height": 35
        },
        "outputId": "0865add0-932c-4b89-c0ae-ed482958b1b6"
      },
      "source": [
        "X_train = X_train / np.max (X_train)\n",
        "X_test = X_test / np.max (X_test)\n",
        "X_train.shape"
      ],
      "execution_count": 14,
      "outputs": [
        {
          "output_type": "execute_result",
          "data": {
            "text/plain": [
              "(60000, 28, 28)"
            ]
          },
          "metadata": {
            "tags": []
          },
          "execution_count": 14
        }
      ]
    },
    {
      "cell_type": "markdown",
      "metadata": {
        "id": "bRl8RO0qA2L-",
        "colab_type": "text"
      },
      "source": [
        "# Model"
      ]
    },
    {
      "cell_type": "code",
      "metadata": {
        "id": "3KGmfQeqCxt1",
        "colab_type": "code",
        "colab": {}
      },
      "source": [
        "M, N, D = X_train.shape"
      ],
      "execution_count": 0,
      "outputs": []
    },
    {
      "cell_type": "code",
      "metadata": {
        "id": "R8O3P1hYAzwe",
        "colab_type": "code",
        "colab": {}
      },
      "source": [
        "layers_multi =  [tf.keras.layers.Flatten (input_shape=(D,D)),\n",
        "                 tf.keras.layers.Dense (256, activation='relu'),\n",
        "                 tf.keras.layers.Dropout (0.2),\n",
        "                 tf.keras.layers.Dense (128, activation='relu'),\n",
        "                 tf.keras.layers.Dropout (0.2),\n",
        "                 tf.keras.layers.Dense (10, activation='softmax')]"
      ],
      "execution_count": 0,
      "outputs": []
    },
    {
      "cell_type": "code",
      "metadata": {
        "id": "3Nd3WHq4AnAy",
        "colab_type": "code",
        "colab": {}
      },
      "source": [
        "multi = tf.keras.models.Sequential (layers_multi)"
      ],
      "execution_count": 0,
      "outputs": []
    },
    {
      "cell_type": "code",
      "metadata": {
        "id": "A25ZjlYgGP8w",
        "colab_type": "code",
        "colab": {}
      },
      "source": [
        "adam = tf.keras.optimizers.Adam (learning_rate=0.005, decay=1e-5)"
      ],
      "execution_count": 0,
      "outputs": []
    },
    {
      "cell_type": "code",
      "metadata": {
        "id": "ZbXED7EXC570",
        "colab_type": "code",
        "colab": {}
      },
      "source": [
        "multi.compile (optimizer=adam,\n",
        "               loss='sparse_categorical_crossentropy',\n",
        "               metrics=['accuracy'])"
      ],
      "execution_count": 0,
      "outputs": []
    },
    {
      "cell_type": "code",
      "metadata": {
        "id": "r4JLxndbDefS",
        "colab_type": "code",
        "colab": {}
      },
      "source": [
        "%%capture\n",
        "m = multi.fit (X_train, y_train, validation_data=(X_test, y_test), epochs=100)"
      ],
      "execution_count": 0,
      "outputs": []
    },
    {
      "cell_type": "code",
      "metadata": {
        "id": "GZ9fLdQVE9rI",
        "colab_type": "code",
        "colab": {
          "base_uri": "https://localhost:8080/",
          "height": 90
        },
        "outputId": "5756bf9e-b74e-4f77-a107-d23abeca372e"
      },
      "source": [
        "print ('Training Set Evaluation : ' + str(multi.evaluate (X_train, y_train)))\n",
        "print ('Test Set Evaluation : ' + str(multi.evaluate (X_test, y_test)))"
      ],
      "execution_count": 32,
      "outputs": [
        {
          "output_type": "stream",
          "text": [
            "60000/60000 [==============================] - 3s 55us/sample - loss: 0.0023 - accuracy: 0.9993\n",
            "Training Set Evaluation : [0.002333684907135527, 0.9992833]\n",
            "10000/10000 [==============================] - 1s 57us/sample - loss: 0.0970 - accuracy: 0.9821\n",
            "Test Set Evaluation : [0.09695962129197287, 0.9821]\n"
          ],
          "name": "stdout"
        }
      ]
    },
    {
      "cell_type": "code",
      "metadata": {
        "id": "nmsNYlKvEAHV",
        "colab_type": "code",
        "colab": {
          "base_uri": "https://localhost:8080/",
          "height": 283
        },
        "outputId": "90bd2632-f80d-49f6-85d9-6beaf5b85fa1"
      },
      "source": [
        "plt.plot (m.history['loss'], label='loss', color='#840000')\n",
        "plt.plot (m.history['val_loss'], label='validation loss', color='#00035b')\n",
        "plt.legend ()"
      ],
      "execution_count": 33,
      "outputs": [
        {
          "output_type": "execute_result",
          "data": {
            "text/plain": [
              "<matplotlib.legend.Legend at 0x7f60ac28f470>"
            ]
          },
          "metadata": {
            "tags": []
          },
          "execution_count": 33
        },
        {
          "output_type": "display_data",
          "data": {
            "image/png": "[encoded data removed]",
            "text/plain": [
              "<Figure size 432x288 with 1 Axes>"
            ]
          },
          "metadata": {
            "tags": []
          }
        }
      ]
    },
    {
      "cell_type": "code",
      "metadata": {
        "id": "3k7yAhOMFXiM",
        "colab_type": "code",
        "colab": {
          "base_uri": "https://localhost:8080/",
          "height": 286
        },
        "outputId": "b05ff5e2-f88b-4d8a-9849-469f80d4d269"
      },
      "source": [
        "plt.plot (m.history['accuracy'], label='accuracy', color='#840000')\n",
        "plt.plot (m.history['val_accuracy'], label='validation accuracy', color='#00035b')\n",
        "plt.legend ()"
      ],
      "execution_count": 30,
      "outputs": [
        {
          "output_type": "execute_result",
          "data": {
            "text/plain": [
              "<matplotlib.legend.Legend at 0x7f60ac31de48>"
            ]
          },
          "metadata": {
            "tags": []
          },
          "execution_count": 30
        },
        {
          "output_type": "display_data",
          "data": {
            "image/png": "[encoded data removed]",
            "text/plain": [
              "<Figure size 432x288 with 1 Axes>"
            ]
          },
          "metadata": {
            "tags": []
          }
        }
      ]
    }
  ]
}