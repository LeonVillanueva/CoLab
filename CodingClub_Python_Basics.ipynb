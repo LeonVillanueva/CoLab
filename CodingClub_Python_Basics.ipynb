{
  "nbformat": 4,
  "nbformat_minor": 5,
  "metadata": {
    "kernelspec": {
      "display_name": "Python 3",
      "language": "python",
      "name": "python3"
    },
    "language_info": {
      "codemirror_mode": {
        "name": "ipython",
        "version": 3
      },
      "file_extension": ".py",
      "mimetype": "text/x-python",
      "name": "python",
      "nbconvert_exporter": "python",
      "pygments_lexer": "ipython3",
      "version": "3.7.10"
    },
    "colab": {
      "name": "CodingClub - Python Basics.ipynb",
      "provenance": [],
      "collapsed_sections": [],
      "include_colab_link": true
    }
  },
  "cells": [
    {
      "cell_type": "markdown",
      "metadata": {
        "id": "view-in-github",
        "colab_type": "text"
      },
      "source": [
        "<a href=\"https://colab.research.google.com/github/LeonVillanueva/CoLab/blob/master/CodingClub_Python_Basics.ipynb\" target=\"_parent\"><img src=\"https://colab.research.google.com/assets/colab-badge.svg\" alt=\"Open In Colab\"/></a>"
      ]
    },
    {
      "cell_type": "markdown",
      "metadata": {
        "id": "5e917da7"
      },
      "source": [
        "# Learning to work with Lists\n",
        "\n",
        "Let's start with a basic list with 5 elements:\n",
        "ls = [12, 35, 9, 56, 24]"
      ],
      "id": "5e917da7"
    },
    {
      "cell_type": "code",
      "metadata": {
        "id": "b17a8f29"
      },
      "source": [
        "ls = [12, 35, 9, 56, 24]"
      ],
      "id": "b17a8f29",
      "execution_count": 1,
      "outputs": []
    },
    {
      "cell_type": "markdown",
      "metadata": {
        "id": "bdd3f50c"
      },
      "source": [
        "**Task #1** - Write a Python program to swap first and last element of the list.\n",
        "\n",
        "hence, the output should be [24, 35, 9, 56, 12]"
      ],
      "id": "bdd3f50c"
    },
    {
      "cell_type": "code",
      "metadata": {
        "colab": {
          "base_uri": "https://localhost:8080/"
        },
        "id": "52947481",
        "outputId": "ac071076-9070-4fd9-b033-d2cc7ebffffc"
      },
      "source": [
        "first = ls[0]\n",
        "last = ls[-1]\n",
        "\n",
        "ls[0] = last\n",
        "ls[-1] = first\n",
        "\n",
        "ls"
      ],
      "id": "52947481",
      "execution_count": 3,
      "outputs": [
        {
          "output_type": "execute_result",
          "data": {
            "text/plain": [
              "[12, 35, 9, 56, 24]"
            ]
          },
          "metadata": {
            "tags": []
          },
          "execution_count": 3
        }
      ]
    },
    {
      "cell_type": "markdown",
      "metadata": {
        "id": "2ecbbfbe"
      },
      "source": [
        "Do the same task but this time by defining a function. Thus you need to write a function that takes in a list and swaps first and last element of the list."
      ],
      "id": "2ecbbfbe"
    },
    {
      "cell_type": "code",
      "metadata": {
        "id": "9eab5ddc"
      },
      "source": [
        "def fun_swap(ls):\n",
        "  first = ls[0]\n",
        "  last = ls[-1]\n",
        "\n",
        "  ls[0] = last\n",
        "  ls[-1] = first\n",
        "  \n",
        "  return ls\n",
        "    "
      ],
      "id": "9eab5ddc",
      "execution_count": 6,
      "outputs": []
    },
    {
      "cell_type": "code",
      "metadata": {
        "colab": {
          "base_uri": "https://localhost:8080/"
        },
        "id": "0c5ebe49",
        "outputId": "40c59f43-7e77-4d26-d046-fe2942d66dae"
      },
      "source": [
        "#run this to print you answer\n",
        "test = ['a','b','c']\n",
        "swaped_ls = fun_swap(test)\n",
        "print(swaped_ls)"
      ],
      "id": "0c5ebe49",
      "execution_count": 7,
      "outputs": [
        {
          "output_type": "stream",
          "text": [
            "['c', 'b', 'a']\n"
          ],
          "name": "stdout"
        }
      ]
    },
    {
      "cell_type": "markdown",
      "metadata": {
        "id": "169effdf"
      },
      "source": [
        "**Task #2** - for ls, print the largest and the second largest number\n",
        "\n",
        "expected output: \n",
        "\n",
        "The largest number is: 56\n",
        "\n",
        "The second largest number is: 35"
      ],
      "id": "169effdf"
    },
    {
      "cell_type": "code",
      "metadata": {
        "colab": {
          "base_uri": "https://localhost:8080/"
        },
        "id": "513073cb",
        "outputId": "461c9ff7-7eef-4863-9644-094fd22be38c"
      },
      "source": [
        "sorted(ls)[-1], sorted(ls)[-2]"
      ],
      "id": "513073cb",
      "execution_count": 9,
      "outputs": [
        {
          "output_type": "execute_result",
          "data": {
            "text/plain": [
              "(56, 35)"
            ]
          },
          "metadata": {
            "tags": []
          },
          "execution_count": 9
        }
      ]
    },
    {
      "cell_type": "markdown",
      "metadata": {
        "id": "db0c6db9"
      },
      "source": [
        "### Now we introduce a list of strings\n",
        "\n",
        "test_list = ['it is good to learn Python', 'python is for geeks', 'I love python']"
      ],
      "id": "db0c6db9"
    },
    {
      "cell_type": "code",
      "metadata": {
        "id": "6b83267b"
      },
      "source": [
        ""
      ],
      "id": "6b83267b",
      "execution_count": null,
      "outputs": []
    },
    {
      "cell_type": "code",
      "metadata": {
        "id": "9bdecda4"
      },
      "source": [
        "test_list = [\"it is good to learn Python\", \"python is for geeks\", \"I love python\"]"
      ],
      "id": "9bdecda4",
      "execution_count": null,
      "outputs": []
    },
    {
      "cell_type": "markdown",
      "metadata": {
        "id": "63ad3c14"
      },
      "source": [
        "you have another string - 'python lists are useful'\n",
        "\n",
        "**Task #3** - add this string to test_list\n",
        "\n",
        "expected Output: test_list = ['it is good to learn Python', 'python is for geeks', 'I love python', 'python lists are useful']"
      ],
      "id": "63ad3c14"
    },
    {
      "cell_type": "code",
      "metadata": {
        "id": "3b180f10"
      },
      "source": [
        "str = 'python lists are useful'"
      ],
      "id": "3b180f10",
      "execution_count": null,
      "outputs": []
    },
    {
      "cell_type": "code",
      "metadata": {
        "id": "cfa3b0b9"
      },
      "source": [
        "# write the code to add str to test_lst\n"
      ],
      "id": "cfa3b0b9",
      "execution_count": null,
      "outputs": []
    },
    {
      "cell_type": "markdown",
      "metadata": {
        "id": "6db72758"
      },
      "source": [
        "**Task #4** - From the updated test_list extract all words starting with 'l'\n",
        "\n",
        "expected Output : [‘learning’, ‘love’, 'lists']"
      ],
      "id": "6db72758"
    },
    {
      "cell_type": "code",
      "metadata": {
        "id": "3cdb85b1"
      },
      "source": [
        "#write your code here"
      ],
      "id": "3cdb85b1",
      "execution_count": null,
      "outputs": []
    },
    {
      "cell_type": "markdown",
      "metadata": {
        "id": "8b8df315"
      },
      "source": [
        "### Let's move on to dictionaries"
      ],
      "id": "8b8df315"
    },
    {
      "cell_type": "markdown",
      "metadata": {
        "id": "91bb23dd"
      },
      "source": [
        "You have 2 lists:\n",
        "\n",
        "keys = ['Ten', 'Twenty', 'Thirty']\n",
        "\n",
        "values = [10, 20, 30]\n",
        "\n",
        "**Task #5** is to convert them into a dictionary\n",
        "\n",
        "expected output: {'Ten': 10, 'Twenty': 20, 'Thirty': 30}"
      ],
      "id": "91bb23dd"
    },
    {
      "cell_type": "code",
      "metadata": {
        "id": "25a2e781"
      },
      "source": [
        "#write your code here"
      ],
      "id": "25a2e781",
      "execution_count": null,
      "outputs": []
    },
    {
      "cell_type": "markdown",
      "metadata": {
        "id": "d6d38a4a"
      },
      "source": [
        "**Tast #6**: First rename key 'Twenty' to 'to_remove' and then remove the key from the dictionary.\n",
        "\n",
        "expected output: {'Ten': 10, 'Thirty': 30}"
      ],
      "id": "d6d38a4a"
    },
    {
      "cell_type": "code",
      "metadata": {
        "id": "d05fc4b4"
      },
      "source": [
        "#write your code here"
      ],
      "id": "d05fc4b4",
      "execution_count": null,
      "outputs": []
    },
    {
      "cell_type": "markdown",
      "metadata": {
        "id": "ca77572a"
      },
      "source": [
        "### Lastly let's write some loops and conditional statements"
      ],
      "id": "ca77572a"
    },
    {
      "cell_type": "markdown",
      "metadata": {
        "id": "616d13d9"
      },
      "source": [
        "**task #7**: Accept a number from user and calculate the sum of all number from 1 to a given number\n",
        "\n",
        "For example, if user entered 10 the output should be 55."
      ],
      "id": "616d13d9"
    },
    {
      "cell_type": "code",
      "metadata": {
        "id": "a8ab767b"
      },
      "source": [
        "#write your code here"
      ],
      "id": "a8ab767b",
      "execution_count": null,
      "outputs": []
    },
    {
      "cell_type": "markdown",
      "metadata": {
        "id": "7d7c607d"
      },
      "source": [
        "**task #8** combines loop and conditioal statements.\n",
        "\n",
        "you have list ls. you would need to iterate it, display numbers divisible by five, and if you find a number greater than 150, stop the loop iteration."
      ],
      "id": "7d7c607d"
    },
    {
      "cell_type": "code",
      "metadata": {
        "id": "a7605957"
      },
      "source": [
        "ls = [12, 15, 32, 42, 55, 75, 122, 132, 150, 180, 200]"
      ],
      "id": "a7605957",
      "execution_count": null,
      "outputs": []
    },
    {
      "cell_type": "markdown",
      "metadata": {
        "id": "3e0c880d"
      },
      "source": [
        "Expected output:\n",
        "\n",
        "15\n",
        "\n",
        "55\n",
        "\n",
        "75\n",
        "\n",
        "150"
      ],
      "id": "3e0c880d"
    },
    {
      "cell_type": "code",
      "metadata": {
        "id": "5ce4dd7a"
      },
      "source": [
        "#write you code here "
      ],
      "id": "5ce4dd7a",
      "execution_count": null,
      "outputs": []
    }
  ]
}