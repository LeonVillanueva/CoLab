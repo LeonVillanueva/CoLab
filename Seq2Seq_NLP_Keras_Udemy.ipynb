{
  "nbformat": 4,
  "nbformat_minor": 0,
  "metadata": {
    "colab": {
      "name": "Seq2Seq NLP Keras Udemy.ipynb",
      "provenance": [],
      "collapsed_sections": [],
      "authorship_tag": "ABX9TyNrZ7WKhJmk7WRsHjHGp+OY",
      "include_colab_link": true
    },
    "kernelspec": {
      "name": "python3",
      "display_name": "Python 3"
    }
  },
  "cells": [
    {
      "cell_type": "markdown",
      "metadata": {
        "id": "view-in-github",
        "colab_type": "text"
      },
      "source": [
        "<a href=\"https://colab.research.google.com/github/LeonVillanueva/CoLab/blob/master/Seq2Seq_NLP_Keras_Udemy.ipynb\" target=\"_parent\"><img src=\"https://colab.research.google.com/assets/colab-badge.svg\" alt=\"Open In Colab\"/></a>"
      ]
    },
    {
      "cell_type": "code",
      "metadata": {
        "id": "NjvsUwjDlD_x"
      },
      "source": [
        "# # https://deeplearningcourses.com/c/deep-learning-advanced-nlp\r\n",
        "# get the data at: http://www.manythings.org/anki/\r\n",
        "from __future__ import print_function, division\r\n",
        "from builtins import range, input\r\n",
        "# Note: you may need to update your version of future\r\n",
        "# sudo pip install -U future\r\n",
        "\r\n",
        "import os, sys\r\n",
        "\r\n",
        "from keras.models import Model\r\n",
        "from keras.layers import Input, LSTM, GRU, Dense, Embedding\r\n",
        "from keras.preprocessing.text import Tokenizer\r\n",
        "from keras.preprocessing.sequence import pad_sequences\r\n",
        "from keras.utils import to_categorical\r\n",
        "import numpy as np\r\n",
        "import matplotlib.pyplot as plt\r\n",
        "\r\n",
        "try:\r\n",
        "  import keras.backend as K\r\n",
        "  if len(K.tensorflow_backend._get_available_gpus()) > 0:\r\n",
        "    from keras.layers import CuDNNLSTM as LSTM\r\n",
        "    from keras.layers import CuDNNGRU as GRU\r\n",
        "except:\r\n",
        "  pass"
      ],
      "execution_count": 1,
      "outputs": []
    },
    {
      "cell_type": "code",
      "metadata": {
        "id": "Ckbt1SYslWd6"
      },
      "source": [
        "BATCH_SIZE = 64  # Batch size for training.\r\n",
        "EPOCHS = 40  # Number of epochs to train for.\r\n",
        "LATENT_DIM = 256  # Latent dimensionality of the encoding space.\r\n",
        "NUM_SAMPLES = 10000  # Number of samples to train on.\r\n",
        "MAX_NUM_WORDS = 20000\r\n",
        "EMBEDDING_DIM = 50\r\n",
        "\r\n",
        "# Where we will store the data\r\n",
        "input_texts = [] # sentence in original language\r\n",
        "target_texts = [] # sentence in target language\r\n",
        "target_texts_inputs = [] # sentence in target language offset by 1"
      ],
      "execution_count": 2,
      "outputs": []
    },
    {
      "cell_type": "code",
      "metadata": {
        "colab": {
          "base_uri": "https://localhost:8080/"
        },
        "id": "-yHizSRzlbJa",
        "outputId": "71c49324-9279-49c5-805a-d6684b0e8305"
      },
      "source": [
        "t = 0\r\n",
        "for line in open('sample_data/spa.txt'):\r\n",
        "  # only keep a limited number of samples\r\n",
        "  t += 1\r\n",
        "  if t > NUM_SAMPLES:\r\n",
        "    break\r\n",
        "\r\n",
        "  # input and target are separated by tab\r\n",
        "  if '\\t' not in line:\r\n",
        "    continue\r\n",
        "\r\n",
        "  # split up the input and translation\r\n",
        "  input_text, translation, *rest = line.rstrip().split('\\t')\r\n",
        "\r\n",
        "  # make the target input and output\r\n",
        "  # recall we'll be using teacher forcing\r\n",
        "  target_text = translation + ' <eos>'\r\n",
        "  target_text_input = '<sos> ' + translation\r\n",
        "\r\n",
        "  input_texts.append(input_text)\r\n",
        "  target_texts.append(target_text)\r\n",
        "  target_texts_inputs.append(target_text_input)\r\n",
        "print(\"num samples:\", len(input_texts))"
      ],
      "execution_count": 3,
      "outputs": [
        {
          "output_type": "stream",
          "text": [
            "num samples: 10000\n"
          ],
          "name": "stdout"
        }
      ]
    },
    {
      "cell_type": "code",
      "metadata": {
        "colab": {
          "base_uri": "https://localhost:8080/"
        },
        "id": "WeHT5xIcnjAS",
        "outputId": "b6e9b405-a554-4c69-b2e9-ef669d0e002f"
      },
      "source": [
        "# tokenize the inputs\r\n",
        "tokenizer_inputs = Tokenizer(num_words=MAX_NUM_WORDS)\r\n",
        "tokenizer_inputs.fit_on_texts(input_texts)\r\n",
        "input_sequences = tokenizer_inputs.texts_to_sequences(input_texts)\r\n",
        "\r\n",
        "# get the word to index mapping for input language\r\n",
        "word2idx_inputs = tokenizer_inputs.word_index\r\n",
        "print('Found %s unique input tokens.' % len(word2idx_inputs))"
      ],
      "execution_count": 4,
      "outputs": [
        {
          "output_type": "stream",
          "text": [
            "Found 2355 unique input tokens.\n"
          ],
          "name": "stdout"
        }
      ]
    },
    {
      "cell_type": "code",
      "metadata": {
        "id": "X5Yia-_hno_u"
      },
      "source": [
        "# determine maximum length input sequence\r\n",
        "max_len_input = max(len(s) for s in input_sequences)"
      ],
      "execution_count": 5,
      "outputs": []
    },
    {
      "cell_type": "code",
      "metadata": {
        "id": "wZl_4g-YntE8"
      },
      "source": [
        "# tokenize the outputs\r\n",
        "# don't filter out special characters\r\n",
        "# otherwise <sos> and <eos> won't appear\r\n",
        "tokenizer_outputs = Tokenizer(num_words=MAX_NUM_WORDS, filters='')\r\n",
        "tokenizer_outputs.fit_on_texts(target_texts + target_texts_inputs) # inefficient, oh well\r\n",
        "target_sequences = tokenizer_outputs.texts_to_sequences(target_texts)\r\n",
        "target_sequences_inputs = tokenizer_outputs.texts_to_sequences(target_texts_inputs)"
      ],
      "execution_count": 6,
      "outputs": []
    },
    {
      "cell_type": "code",
      "metadata": {
        "colab": {
          "base_uri": "https://localhost:8080/"
        },
        "id": "T5kLHlJooEvt",
        "outputId": "29d1a0ea-570a-4894-96a6-dffbb118b8b8"
      },
      "source": [
        "# get the word to index mapping for output language\r\n",
        "word2idx_outputs = tokenizer_outputs.word_index\r\n",
        "print('Found %s unique output tokens.' % len(word2idx_outputs))\r\n",
        "\r\n",
        "# store number of output words for later\r\n",
        "# remember to add 1 since indexing starts at 1\r\n",
        "num_words_output = len(word2idx_outputs) + 1\r\n",
        "\r\n",
        "# determine maximum length output sequence\r\n",
        "max_len_target = max(len(s) for s in target_sequences)"
      ],
      "execution_count": 7,
      "outputs": [
        {
          "output_type": "stream",
          "text": [
            "Found 6335 unique output tokens.\n"
          ],
          "name": "stdout"
        }
      ]
    },
    {
      "cell_type": "code",
      "metadata": {
        "colab": {
          "base_uri": "https://localhost:8080/"
        },
        "id": "8GVM4y9coF41",
        "outputId": "a3a9819d-2a08-45ae-d98b-b94f5cbb56c7"
      },
      "source": [
        "# pad the sequences\r\n",
        "encoder_inputs = pad_sequences(input_sequences, maxlen=max_len_input)\r\n",
        "print(\"encoder_inputs.shape:\", encoder_inputs.shape)\r\n",
        "print(\"encoder_inputs[0]:\", encoder_inputs[0])\r\n",
        "\r\n",
        "decoder_inputs = pad_sequences(target_sequences_inputs, maxlen=max_len_target, padding='post')\r\n",
        "print(\"decoder_inputs[0]:\", decoder_inputs[0])\r\n",
        "print(\"decoder_inputs.shape:\", decoder_inputs.shape)\r\n",
        "\r\n",
        "decoder_targets = pad_sequences(target_sequences, maxlen=max_len_target, padding='post')"
      ],
      "execution_count": 8,
      "outputs": [
        {
          "output_type": "stream",
          "text": [
            "encoder_inputs.shape: (10000, 5)\n",
            "encoder_inputs[0]: [ 0  0  0  0 12]\n",
            "decoder_inputs[0]: [   2 1463    0    0    0    0    0    0    0]\n",
            "decoder_inputs.shape: (10000, 9)\n"
          ],
          "name": "stdout"
        }
      ]
    },
    {
      "cell_type": "code",
      "metadata": {
        "colab": {
          "base_uri": "https://localhost:8080/"
        },
        "id": "RKW5L334oJu9",
        "outputId": "73e0d6a1-4e7a-4104-ce0a-1396107dcbc7"
      },
      "source": [
        "# store all the pre-trained word vectors\r\n",
        "print('Loading word vectors...')\r\n",
        "word2vec = {}\r\n",
        "with open(os.path.join('sample_data/glove.6B.%sd.txt' % EMBEDDING_DIM)) as f:\r\n",
        "  # is just a space-separated text file in the format:\r\n",
        "  # word vec[0] vec[1] vec[2] ...\r\n",
        "  for line in f:\r\n",
        "    values = line.split()\r\n",
        "    word = values[0]\r\n",
        "    vec = np.asarray(values[1:], dtype='float32')\r\n",
        "    word2vec[word] = vec\r\n",
        "print('Found %s word vectors.' % len(word2vec))"
      ],
      "execution_count": 9,
      "outputs": [
        {
          "output_type": "stream",
          "text": [
            "Loading word vectors...\n",
            "Found 400000 word vectors.\n"
          ],
          "name": "stdout"
        }
      ]
    },
    {
      "cell_type": "code",
      "metadata": {
        "colab": {
          "base_uri": "https://localhost:8080/"
        },
        "id": "T8mPz_kJtDQ5",
        "outputId": "5f4e78da-5523-4317-9e4d-e7b468a00e0f"
      },
      "source": [
        "# prepare embedding matrix\r\n",
        "print('Filling pre-trained embeddings...')\r\n",
        "num_words = min(MAX_NUM_WORDS, len(word2idx_inputs) + 1)\r\n",
        "embedding_matrix = np.zeros((num_words, EMBEDDING_DIM))\r\n",
        "for word, i in word2idx_inputs.items():\r\n",
        "  if i < MAX_NUM_WORDS:\r\n",
        "    embedding_vector = word2vec.get(word)\r\n",
        "    if embedding_vector is not None:\r\n",
        "      # words not found in embedding index will be all zeros.\r\n",
        "      embedding_matrix[i] = embedding_vector"
      ],
      "execution_count": 10,
      "outputs": [
        {
          "output_type": "stream",
          "text": [
            "Filling pre-trained embeddings...\n"
          ],
          "name": "stdout"
        }
      ]
    },
    {
      "cell_type": "code",
      "metadata": {
        "id": "cv6i-KKwtQe9"
      },
      "source": [
        "# create embedding layer\r\n",
        "embedding_layer = Embedding(\r\n",
        "  num_words,\r\n",
        "  EMBEDDING_DIM,\r\n",
        "  weights=[embedding_matrix],\r\n",
        "  input_length=max_len_input,\r\n",
        "  # trainable=True\r\n",
        ")\r\n",
        "\r\n",
        "\r\n",
        "# create targets, since we cannot use sparse\r\n",
        "# categorical cross entropy when we have sequences\r\n",
        "decoder_targets_one_hot = np.zeros(\r\n",
        "  (\r\n",
        "    len(input_texts),\r\n",
        "    max_len_target,\r\n",
        "    num_words_output\r\n",
        "  ),\r\n",
        "  dtype='float32'\r\n",
        ")\r\n",
        "\r\n",
        "# assign the values\r\n",
        "for i, d in enumerate(decoder_targets):\r\n",
        "  for t, word in enumerate(d):\r\n",
        "    if word != 0:\r\n",
        "      decoder_targets_one_hot[i, t, word] = 1\r\n",
        "\r\n",
        "##### build the model #####\r\n",
        "encoder_inputs_placeholder = Input(shape=(max_len_input,))\r\n",
        "x = embedding_layer(encoder_inputs_placeholder)\r\n",
        "encoder = LSTM(\r\n",
        "  LATENT_DIM,\r\n",
        "  return_state=True,\r\n",
        "  # dropout=0.5 # dropout not available on gpu\r\n",
        ")\r\n",
        "encoder_outputs, h, c = encoder(x)\r\n",
        "# encoder_outputs, h = encoder(x) #gru\r\n",
        "\r\n",
        "# keep only the states to pass into decoder\r\n",
        "encoder_states = [h, c]\r\n",
        "# encoder_states = [state_h] # gru\r\n",
        "\r\n",
        "# Set up the decoder, using [h, c] as initial state.\r\n",
        "decoder_inputs_placeholder = Input(shape=(max_len_target,))\r\n",
        "\r\n",
        "# this word embedding will not use pre-trained vectors\r\n",
        "# although you could\r\n",
        "decoder_embedding = Embedding(num_words_output, EMBEDDING_DIM)\r\n",
        "decoder_inputs_x = decoder_embedding(decoder_inputs_placeholder)\r\n",
        "\r\n",
        "# since the decoder is a \"to-many\" model we want to have\r\n",
        "# return_sequences=True\r\n",
        "decoder_lstm = LSTM(\r\n",
        "  LATENT_DIM,\r\n",
        "  return_sequences=True,\r\n",
        "  return_state=True,\r\n",
        "  # dropout=0.5 # dropout not available on gpu\r\n",
        ")\r\n",
        "decoder_outputs, _, _ = decoder_lstm(\r\n",
        "  decoder_inputs_x,\r\n",
        "  initial_state=encoder_states\r\n",
        ")\r\n",
        "\r\n",
        "# decoder_outputs, _ = decoder_gru(\r\n",
        "#   decoder_inputs_x,\r\n",
        "#   initial_state=encoder_states\r\n",
        "# )\r\n",
        "\r\n",
        "# final dense layer for predictions\r\n",
        "decoder_dense = Dense(num_words_output, activation='softmax')\r\n",
        "decoder_outputs = decoder_dense(decoder_outputs)\r\n",
        "\r\n",
        "# Create the model object\r\n",
        "model = Model([encoder_inputs_placeholder, decoder_inputs_placeholder], decoder_outputs)"
      ],
      "execution_count": 11,
      "outputs": []
    },
    {
      "cell_type": "code",
      "metadata": {
        "id": "UErU8by6xJBf"
      },
      "source": [
        "def custom_loss(y_true, y_pred):\r\n",
        "  # both are of shape N x T x K\r\n",
        "  mask = K.cast(y_true > 0, dtype='float32')\r\n",
        "  out = mask * y_true * K.log(y_pred)\r\n",
        "  return -K.sum(out) / K.sum(mask)\r\n",
        "\r\n",
        "\r\n",
        "def acc(y_true, y_pred):\r\n",
        "  # both are of shape N x T x K\r\n",
        "  targ = K.argmax(y_true, axis=-1)\r\n",
        "  pred = K.argmax(y_pred, axis=-1)\r\n",
        "  correct = K.cast(K.equal(targ, pred), dtype='float32')\r\n",
        "\r\n",
        "  # 0 is padding, don't include those\r\n",
        "  mask = K.cast(K.greater(targ, 0), dtype='float32')\r\n",
        "  n_correct = K.sum(mask * correct)\r\n",
        "  n_total = K.sum(mask)\r\n",
        "  return n_correct / n_total\r\n",
        "\r\n",
        "model.compile(optimizer='adam', loss=custom_loss, metrics=[acc])\r\n",
        "\r\n",
        "# Compile the model and train it\r\n",
        "# model.compile(\r\n",
        "#   optimizer='rmsprop',\r\n",
        "#   loss='categorical_crossentropy',\r\n",
        "#   metrics=['accuracy']\r\n",
        "# )"
      ],
      "execution_count": 12,
      "outputs": []
    },
    {
      "cell_type": "code",
      "metadata": {
        "colab": {
          "base_uri": "https://localhost:8080/",
          "height": 1000
        },
        "id": "q2BqugXlxOqI",
        "outputId": "fb3a4fee-4412-4542-be36-076235f65d78"
      },
      "source": [
        "r = model.fit(\r\n",
        "  [encoder_inputs, decoder_inputs], decoder_targets_one_hot,\r\n",
        "  batch_size=BATCH_SIZE,\r\n",
        "  epochs=EPOCHS,\r\n",
        "  validation_split=0.2,\r\n",
        ")\r\n",
        "\r\n",
        "# plot some data\r\n",
        "plt.plot(r.history['loss'], label='loss')\r\n",
        "plt.plot(r.history['val_loss'], label='val_loss')\r\n",
        "plt.legend()\r\n",
        "plt.show()\r\n",
        "\r\n",
        "# accuracies\r\n",
        "plt.plot(r.history['accuracy'], label='acc')\r\n",
        "plt.plot(r.history['val_accuracy'], label='val_acc')\r\n",
        "plt.legend()\r\n",
        "plt.show()\r\n",
        "\r\n",
        "# Save model\r\n",
        "model.save('s2s.h5')"
      ],
      "execution_count": 13,
      "outputs": [
        {
          "output_type": "stream",
          "text": [
            "Epoch 1/40\n",
            "125/125 [==============================] - 36s 261ms/step - loss: 6.7234 - acc: 0.2600 - val_loss: 5.6015 - val_acc: 0.2715\n",
            "Epoch 2/40\n",
            "125/125 [==============================] - 32s 256ms/step - loss: 5.0409 - acc: 0.2942 - val_loss: 5.3314 - val_acc: 0.2844\n",
            "Epoch 3/40\n",
            "125/125 [==============================] - 32s 254ms/step - loss: 4.6637 - acc: 0.3110 - val_loss: 5.1845 - val_acc: 0.3070\n",
            "Epoch 4/40\n",
            "125/125 [==============================] - 31s 250ms/step - loss: 4.3536 - acc: 0.3343 - val_loss: 5.0373 - val_acc: 0.3220\n",
            "Epoch 5/40\n",
            "125/125 [==============================] - 32s 256ms/step - loss: 4.0663 - acc: 0.3559 - val_loss: 4.9126 - val_acc: 0.3489\n",
            "Epoch 6/40\n",
            "125/125 [==============================] - 31s 252ms/step - loss: 3.7903 - acc: 0.3883 - val_loss: 4.8127 - val_acc: 0.3687\n",
            "Epoch 7/40\n",
            "125/125 [==============================] - 32s 254ms/step - loss: 3.5536 - acc: 0.4141 - val_loss: 4.7609 - val_acc: 0.3884\n",
            "Epoch 8/40\n",
            "125/125 [==============================] - 32s 255ms/step - loss: 3.3172 - acc: 0.4343 - val_loss: 4.7123 - val_acc: 0.3971\n",
            "Epoch 9/40\n",
            "125/125 [==============================] - 32s 253ms/step - loss: 3.1112 - acc: 0.4522 - val_loss: 4.6734 - val_acc: 0.4035\n",
            "Epoch 10/40\n",
            "125/125 [==============================] - 32s 257ms/step - loss: 2.9128 - acc: 0.4709 - val_loss: 4.6695 - val_acc: 0.4108\n",
            "Epoch 11/40\n",
            "125/125 [==============================] - 32s 256ms/step - loss: 2.7285 - acc: 0.4904 - val_loss: 4.6356 - val_acc: 0.4220\n",
            "Epoch 12/40\n",
            "125/125 [==============================] - 32s 254ms/step - loss: 2.5522 - acc: 0.5121 - val_loss: 4.6481 - val_acc: 0.4262\n",
            "Epoch 13/40\n",
            "125/125 [==============================] - 32s 254ms/step - loss: 2.3820 - acc: 0.5282 - val_loss: 4.6426 - val_acc: 0.4303\n",
            "Epoch 14/40\n",
            "125/125 [==============================] - 32s 253ms/step - loss: 2.2013 - acc: 0.5505 - val_loss: 4.6330 - val_acc: 0.4332\n",
            "Epoch 15/40\n",
            "125/125 [==============================] - 32s 254ms/step - loss: 2.0535 - acc: 0.5698 - val_loss: 4.6463 - val_acc: 0.4360\n",
            "Epoch 16/40\n",
            "125/125 [==============================] - 32s 255ms/step - loss: 1.8941 - acc: 0.5930 - val_loss: 4.6503 - val_acc: 0.4309\n",
            "Epoch 17/40\n",
            "125/125 [==============================] - 31s 252ms/step - loss: 1.7694 - acc: 0.6155 - val_loss: 4.6621 - val_acc: 0.4370\n",
            "Epoch 18/40\n",
            "125/125 [==============================] - 32s 256ms/step - loss: 1.6324 - acc: 0.6396 - val_loss: 4.6720 - val_acc: 0.4371\n",
            "Epoch 19/40\n",
            "125/125 [==============================] - 32s 254ms/step - loss: 1.5097 - acc: 0.6646 - val_loss: 4.6870 - val_acc: 0.4344\n",
            "Epoch 20/40\n",
            "125/125 [==============================] - 32s 255ms/step - loss: 1.3911 - acc: 0.6849 - val_loss: 4.7110 - val_acc: 0.4334\n",
            "Epoch 21/40\n",
            "125/125 [==============================] - 32s 254ms/step - loss: 1.2913 - acc: 0.7057 - val_loss: 4.7319 - val_acc: 0.4309\n",
            "Epoch 22/40\n",
            "125/125 [==============================] - 32s 253ms/step - loss: 1.1967 - acc: 0.7230 - val_loss: 4.7499 - val_acc: 0.4285\n",
            "Epoch 23/40\n",
            "125/125 [==============================] - 32s 255ms/step - loss: 1.1179 - acc: 0.7421 - val_loss: 4.7795 - val_acc: 0.4232\n",
            "Epoch 24/40\n",
            "125/125 [==============================] - 32s 256ms/step - loss: 1.0294 - acc: 0.7619 - val_loss: 4.8077 - val_acc: 0.4237\n",
            "Epoch 25/40\n",
            "125/125 [==============================] - 32s 258ms/step - loss: 0.9691 - acc: 0.7709 - val_loss: 4.8219 - val_acc: 0.4241\n",
            "Epoch 26/40\n",
            "125/125 [==============================] - 32s 254ms/step - loss: 0.8924 - acc: 0.7890 - val_loss: 4.8535 - val_acc: 0.4202\n",
            "Epoch 27/40\n",
            "125/125 [==============================] - 31s 250ms/step - loss: 0.8399 - acc: 0.8013 - val_loss: 4.8655 - val_acc: 0.4192\n",
            "Epoch 28/40\n",
            "125/125 [==============================] - 32s 253ms/step - loss: 0.7829 - acc: 0.8114 - val_loss: 4.8824 - val_acc: 0.4203\n",
            "Epoch 29/40\n",
            "125/125 [==============================] - 32s 256ms/step - loss: 0.7326 - acc: 0.8199 - val_loss: 4.9211 - val_acc: 0.4195\n",
            "Epoch 30/40\n",
            "125/125 [==============================] - 32s 254ms/step - loss: 0.6850 - acc: 0.8270 - val_loss: 4.9468 - val_acc: 0.4178\n",
            "Epoch 31/40\n",
            "125/125 [==============================] - 32s 253ms/step - loss: 0.6412 - acc: 0.8404 - val_loss: 4.9605 - val_acc: 0.4180\n",
            "Epoch 32/40\n",
            "125/125 [==============================] - 32s 256ms/step - loss: 0.6032 - acc: 0.8483 - val_loss: 4.9762 - val_acc: 0.4201\n",
            "Epoch 33/40\n",
            "125/125 [==============================] - 32s 257ms/step - loss: 0.5678 - acc: 0.8525 - val_loss: 5.0023 - val_acc: 0.4156\n",
            "Epoch 34/40\n",
            "125/125 [==============================] - 32s 255ms/step - loss: 0.5333 - acc: 0.8596 - val_loss: 5.0136 - val_acc: 0.4154\n",
            "Epoch 35/40\n",
            "125/125 [==============================] - 32s 253ms/step - loss: 0.5034 - acc: 0.8660 - val_loss: 5.0368 - val_acc: 0.4163\n",
            "Epoch 36/40\n",
            "125/125 [==============================] - 32s 252ms/step - loss: 0.4768 - acc: 0.8703 - val_loss: 5.0757 - val_acc: 0.4108\n",
            "Epoch 37/40\n",
            "125/125 [==============================] - 32s 255ms/step - loss: 0.4519 - acc: 0.8750 - val_loss: 5.0550 - val_acc: 0.4198\n",
            "Epoch 38/40\n",
            "125/125 [==============================] - 32s 257ms/step - loss: 0.4349 - acc: 0.8754 - val_loss: 5.1099 - val_acc: 0.4086\n",
            "Epoch 39/40\n",
            "125/125 [==============================] - 32s 255ms/step - loss: 0.4067 - acc: 0.8807 - val_loss: 5.1277 - val_acc: 0.4155\n",
            "Epoch 40/40\n",
            "125/125 [==============================] - 32s 256ms/step - loss: 0.3981 - acc: 0.8814 - val_loss: 5.1532 - val_acc: 0.4086\n"
          ],
          "name": "stdout"
        },
        {
          "output_type": "display_data",
          "data": {
            "image/png": "[encoded data removed]",
            "text/plain": [
              "<Figure size 432x288 with 1 Axes>"
            ]
          },
          "metadata": {
            "tags": [],
            "needs_background": "light"
          }
        },
        {
          "output_type": "error",
          "ename": "KeyError",
          "evalue": "ignored",
          "traceback": [
            "\u001b[0;31m---------------------------------------------------------------------------\u001b[0m",
            "\u001b[0;31mKeyError\u001b[0m                                  Traceback (most recent call last)",
            "\u001b[0;32m<ipython-input-13-2e38b4b3fe92>\u001b[0m in \u001b[0;36m<module>\u001b[0;34m()\u001b[0m\n\u001b[1;32m     13\u001b[0m \u001b[0;34m\u001b[0m\u001b[0m\n\u001b[1;32m     14\u001b[0m \u001b[0;31m# accuracies\u001b[0m\u001b[0;34m\u001b[0m\u001b[0;34m\u001b[0m\u001b[0;34m\u001b[0m\u001b[0m\n\u001b[0;32m---> 15\u001b[0;31m \u001b[0mplt\u001b[0m\u001b[0;34m.\u001b[0m\u001b[0mplot\u001b[0m\u001b[0;34m(\u001b[0m\u001b[0mr\u001b[0m\u001b[0;34m.\u001b[0m\u001b[0mhistory\u001b[0m\u001b[0;34m[\u001b[0m\u001b[0;34m'accuracy'\u001b[0m\u001b[0;34m]\u001b[0m\u001b[0;34m,\u001b[0m \u001b[0mlabel\u001b[0m\u001b[0;34m=\u001b[0m\u001b[0;34m'acc'\u001b[0m\u001b[0;34m)\u001b[0m\u001b[0;34m\u001b[0m\u001b[0;34m\u001b[0m\u001b[0m\n\u001b[0m\u001b[1;32m     16\u001b[0m \u001b[0mplt\u001b[0m\u001b[0;34m.\u001b[0m\u001b[0mplot\u001b[0m\u001b[0;34m(\u001b[0m\u001b[0mr\u001b[0m\u001b[0;34m.\u001b[0m\u001b[0mhistory\u001b[0m\u001b[0;34m[\u001b[0m\u001b[0;34m'val_accuracy'\u001b[0m\u001b[0;34m]\u001b[0m\u001b[0;34m,\u001b[0m \u001b[0mlabel\u001b[0m\u001b[0;34m=\u001b[0m\u001b[0;34m'val_acc'\u001b[0m\u001b[0;34m)\u001b[0m\u001b[0;34m\u001b[0m\u001b[0;34m\u001b[0m\u001b[0m\n\u001b[1;32m     17\u001b[0m \u001b[0mplt\u001b[0m\u001b[0;34m.\u001b[0m\u001b[0mlegend\u001b[0m\u001b[0;34m(\u001b[0m\u001b[0;34m)\u001b[0m\u001b[0;34m\u001b[0m\u001b[0;34m\u001b[0m\u001b[0m\n",
            "\u001b[0;31mKeyError\u001b[0m: 'accuracy'"
          ]
        }
      ]
    },
    {
      "cell_type": "code",
      "metadata": {
        "colab": {
          "base_uri": "https://localhost:8080/"
        },
        "id": "iRPg21yVxUTI",
        "outputId": "de00e904-f327-4e38-b7df-5e1513f4adc1"
      },
      "source": [
        "##### Make predictions #####\r\n",
        "# As with the poetry example, we need to create another model\r\n",
        "# that can take in the RNN state and previous word as input\r\n",
        "# and accept a T=1 sequence.\r\n",
        "\r\n",
        "# The encoder will be stand-alone\r\n",
        "# From this we will get our initial decoder hidden state\r\n",
        "encoder_model = Model(encoder_inputs_placeholder, encoder_states)\r\n",
        "\r\n",
        "decoder_state_input_h = Input(shape=(LATENT_DIM,))\r\n",
        "decoder_state_input_c = Input(shape=(LATENT_DIM,))\r\n",
        "decoder_states_inputs = [decoder_state_input_h, decoder_state_input_c]\r\n",
        "# decoder_states_inputs = [decoder_state_input_h] # gru\r\n",
        "\r\n",
        "decoder_inputs_single = Input(shape=(1,))\r\n",
        "decoder_inputs_single_x = decoder_embedding(decoder_inputs_single)\r\n",
        "\r\n",
        "# this time, we want to keep the states too, to be output\r\n",
        "# by our sampling model\r\n",
        "decoder_outputs, h, c = decoder_lstm(\r\n",
        "  decoder_inputs_single_x,\r\n",
        "  initial_state=decoder_states_inputs\r\n",
        ")\r\n",
        "# decoder_outputs, state_h = decoder_lstm(\r\n",
        "#   decoder_inputs_single_x,\r\n",
        "#   initial_state=decoder_states_inputs\r\n",
        "# ) #gru\r\n",
        "decoder_states = [h, c]\r\n",
        "# decoder_states = [h] # gru\r\n",
        "decoder_outputs = decoder_dense(decoder_outputs)\r\n",
        "\r\n",
        "# The sampling model\r\n",
        "# inputs: y(t-1), h(t-1), c(t-1)\r\n",
        "# outputs: y(t), h(t), c(t)\r\n",
        "decoder_model = Model(\r\n",
        "  [decoder_inputs_single] + decoder_states_inputs, \r\n",
        "  [decoder_outputs] + decoder_states\r\n",
        ")\r\n",
        "\r\n",
        "# map indexes back into real words\r\n",
        "# so we can view the results\r\n",
        "idx2word_eng = {v:k for k, v in word2idx_inputs.items()}\r\n",
        "idx2word_trans = {v:k for k, v in word2idx_outputs.items()}\r\n",
        "\r\n",
        "\r\n",
        "def decode_sequence(input_seq):\r\n",
        "  # Encode the input as state vectors.\r\n",
        "  states_value = encoder_model.predict(input_seq)\r\n",
        "\r\n",
        "  # Generate empty target sequence of length 1.\r\n",
        "  target_seq = np.zeros((1, 1))\r\n",
        "\r\n",
        "  # Populate the first character of target sequence with the start character.\r\n",
        "  # NOTE: tokenizer lower-cases all words\r\n",
        "  target_seq[0, 0] = word2idx_outputs['<sos>']\r\n",
        "\r\n",
        "  # if we get this we break\r\n",
        "  eos = word2idx_outputs['<eos>']\r\n",
        "\r\n",
        "  # Create the translation\r\n",
        "  output_sentence = []\r\n",
        "  for _ in range(max_len_target):\r\n",
        "    output_tokens, h, c = decoder_model.predict(\r\n",
        "      [target_seq] + states_value\r\n",
        "    )\r\n",
        "    # output_tokens, h = decoder_model.predict(\r\n",
        "    #     [target_seq] + states_value\r\n",
        "    # ) # gru\r\n",
        "\r\n",
        "    # Get next word\r\n",
        "    idx = np.argmax(output_tokens[0, 0, :])\r\n",
        "\r\n",
        "    # End sentence of EOS\r\n",
        "    if eos == idx:\r\n",
        "      break\r\n",
        "\r\n",
        "    word = ''\r\n",
        "    if idx > 0:\r\n",
        "      word = idx2word_trans[idx]\r\n",
        "      output_sentence.append(word)\r\n",
        "\r\n",
        "    # Update the decoder input\r\n",
        "    # which is just the word just generated\r\n",
        "    target_seq[0, 0] = idx\r\n",
        "\r\n",
        "    # Update states\r\n",
        "    states_value = [h, c]\r\n",
        "    # states_value = [h] # gru\r\n",
        "\r\n",
        "  return ' '.join(output_sentence)\r\n",
        "\r\n",
        "\r\n",
        "\r\n",
        "while True:\r\n",
        "  # Do some test translations\r\n",
        "  i = np.random.choice(len(input_texts))\r\n",
        "  input_seq = encoder_inputs[i:i+1]\r\n",
        "  translation = decode_sequence(input_seq)\r\n",
        "  print('-')\r\n",
        "  print('Input:', input_texts[i])\r\n",
        "  print('Translation:', translation)\r\n",
        "\r\n",
        "  ans = input(\"Continue? [Y/n]\")\r\n",
        "  if ans and ans.lower().startswith('n'):\r\n",
        "    break"
      ],
      "execution_count": 14,
      "outputs": [
        {
          "output_type": "stream",
          "text": [
            "-\n",
            "Input: She isn't there.\n",
            "Translation: ella no está aquí.\n",
            "Continue? [Y/n]y\n",
            "-\n",
            "Input: Be a man.\n",
            "Translation: sé un hombre.\n",
            "Continue? [Y/n]n\n"
          ],
          "name": "stdout"
        }
      ]
    }
  ]
}