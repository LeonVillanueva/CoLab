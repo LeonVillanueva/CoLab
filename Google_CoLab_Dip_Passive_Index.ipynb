{
  "nbformat": 4,
  "nbformat_minor": 0,
  "metadata": {
    "colab": {
      "name": "Google_CoLab_Dip_Passive_Index.ipynb",
      "provenance": [],
      "authorship_tag": "ABX9TyMs4drz9051S+8StgJdHbFS",
      "include_colab_link": true
    },
    "kernelspec": {
      "name": "python3",
      "display_name": "Python 3"
    }
  },
  "cells": [
    {
      "cell_type": "markdown",
      "metadata": {
        "id": "view-in-github",
        "colab_type": "text"
      },
      "source": [
        "<a href=\"https://colab.research.google.com/github/LeonVillanueva/CoLab/blob/master/Google_CoLab_Dip_Passive_Index.ipynb\" target=\"_parent\"><img src=\"https://colab.research.google.com/assets/colab-badge.svg\" alt=\"Open In Colab\"/></a>"
      ]
    },
    {
      "cell_type": "code",
      "metadata": {
        "id": "VCye7HN_CbCg",
        "colab_type": "code",
        "colab": {}
      },
      "source": [
        "import pandas as pd\n",
        "import numpy as np\n",
        "from datetime import datetime\n",
        "from datetime import timedelta\n",
        "from dateutil.relativedelta import relativedelta"
      ],
      "execution_count": 0,
      "outputs": []
    },
    {
      "cell_type": "code",
      "metadata": {
        "id": "KmkdNgkqEwF4",
        "colab_type": "code",
        "colab": {}
      },
      "source": [
        "df = pd.read_csv ('VTSMX.csv')"
      ],
      "execution_count": 0,
      "outputs": []
    },
    {
      "cell_type": "code",
      "metadata": {
        "id": "66moFgymFBBw",
        "colab_type": "code",
        "colab": {}
      },
      "source": [
        "df['Month'] = pd.DatetimeIndex (df['Date']).month\n",
        "df['Day'] = pd.DatetimeIndex (df['Date']).day"
      ],
      "execution_count": 0,
      "outputs": []
    },
    {
      "cell_type": "code",
      "metadata": {
        "id": "wreXt0_HFEM4",
        "colab_type": "code",
        "colab": {}
      },
      "source": [
        "df['Change30'] = df['Close'].pct_change(periods=30)\n",
        "df['Change20'] = df['Close'].pct_change(periods=20)\n",
        "df['Change10'] = df['Close'].pct_change(periods=10)"
      ],
      "execution_count": 0,
      "outputs": []
    },
    {
      "cell_type": "code",
      "metadata": {
        "id": "hY6L4x_OFsx4",
        "colab_type": "code",
        "colab": {}
      },
      "source": [
        "df_final = df.dropna()\n",
        "df_final.reset_index (inplace=True)"
      ],
      "execution_count": 0,
      "outputs": []
    },
    {
      "cell_type": "code",
      "metadata": {
        "id": "vTsGswnMcFDU",
        "colab_type": "code",
        "outputId": "d4a00b1f-8b84-43e5-afa0-dc1fe51fb829",
        "colab": {
          "base_uri": "https://localhost:8080/",
          "height": 223
        }
      },
      "source": [
        "df_final.head()"
      ],
      "execution_count": 444,
      "outputs": [
        {
          "output_type": "execute_result",
          "data": {
            "text/html": [
              "<div>\n",
              "<style scoped>\n",
              "    .dataframe tbody tr th:only-of-type {\n",
              "        vertical-align: middle;\n",
              "    }\n",
              "\n",
              "    .dataframe tbody tr th {\n",
              "        vertical-align: top;\n",
              "    }\n",
              "\n",
              "    .dataframe thead th {\n",
              "        text-align: right;\n",
              "    }\n",
              "</style>\n",
              "<table border=\"1\" class=\"dataframe\">\n",
              "  <thead>\n",
              "    <tr style=\"text-align: right;\">\n",
              "      <th></th>\n",
              "      <th>index</th>\n",
              "      <th>Date</th>\n",
              "      <th>Open</th>\n",
              "      <th>High</th>\n",
              "      <th>Low</th>\n",
              "      <th>Close</th>\n",
              "      <th>Adj Close</th>\n",
              "      <th>Volume</th>\n",
              "      <th>Month</th>\n",
              "      <th>Day</th>\n",
              "      <th>Change30</th>\n",
              "      <th>Change20</th>\n",
              "      <th>Change10</th>\n",
              "    </tr>\n",
              "  </thead>\n",
              "  <tbody>\n",
              "    <tr>\n",
              "      <th>0</th>\n",
              "      <td>30</td>\n",
              "      <td>1992-06-09</td>\n",
              "      <td>10.12</td>\n",
              "      <td>10.12</td>\n",
              "      <td>10.12</td>\n",
              "      <td>10.12</td>\n",
              "      <td>5.966813</td>\n",
              "      <td>0</td>\n",
              "      <td>6</td>\n",
              "      <td>9</td>\n",
              "      <td>0.008973</td>\n",
              "      <td>-0.018429</td>\n",
              "      <td>-0.001972</td>\n",
              "    </tr>\n",
              "    <tr>\n",
              "      <th>1</th>\n",
              "      <td>31</td>\n",
              "      <td>1992-06-10</td>\n",
              "      <td>10.05</td>\n",
              "      <td>10.05</td>\n",
              "      <td>10.05</td>\n",
              "      <td>10.05</td>\n",
              "      <td>5.925544</td>\n",
              "      <td>0</td>\n",
              "      <td>6</td>\n",
              "      <td>10</td>\n",
              "      <td>0.005000</td>\n",
              "      <td>-0.020468</td>\n",
              "      <td>-0.010827</td>\n",
              "    </tr>\n",
              "    <tr>\n",
              "      <th>2</th>\n",
              "      <td>32</td>\n",
              "      <td>1992-06-11</td>\n",
              "      <td>10.07</td>\n",
              "      <td>10.07</td>\n",
              "      <td>10.07</td>\n",
              "      <td>10.07</td>\n",
              "      <td>5.937335</td>\n",
              "      <td>0</td>\n",
              "      <td>6</td>\n",
              "      <td>11</td>\n",
              "      <td>0.007000</td>\n",
              "      <td>-0.018519</td>\n",
              "      <td>-0.017561</td>\n",
              "    </tr>\n",
              "    <tr>\n",
              "      <th>3</th>\n",
              "      <td>33</td>\n",
              "      <td>1992-06-12</td>\n",
              "      <td>10.10</td>\n",
              "      <td>10.10</td>\n",
              "      <td>10.10</td>\n",
              "      <td>10.10</td>\n",
              "      <td>5.955025</td>\n",
              "      <td>0</td>\n",
              "      <td>6</td>\n",
              "      <td>12</td>\n",
              "      <td>-0.007859</td>\n",
              "      <td>-0.007859</td>\n",
              "      <td>-0.014634</td>\n",
              "    </tr>\n",
              "    <tr>\n",
              "      <th>4</th>\n",
              "      <td>34</td>\n",
              "      <td>1992-06-15</td>\n",
              "      <td>10.10</td>\n",
              "      <td>10.10</td>\n",
              "      <td>10.10</td>\n",
              "      <td>10.10</td>\n",
              "      <td>5.955025</td>\n",
              "      <td>0</td>\n",
              "      <td>6</td>\n",
              "      <td>15</td>\n",
              "      <td>-0.007859</td>\n",
              "      <td>-0.001976</td>\n",
              "      <td>-0.019417</td>\n",
              "    </tr>\n",
              "  </tbody>\n",
              "</table>\n",
              "</div>"
            ],
            "text/plain": [
              "   index        Date   Open   High  ...  Day  Change30  Change20  Change10\n",
              "0     30  1992-06-09  10.12  10.12  ...    9  0.008973 -0.018429 -0.001972\n",
              "1     31  1992-06-10  10.05  10.05  ...   10  0.005000 -0.020468 -0.010827\n",
              "2     32  1992-06-11  10.07  10.07  ...   11  0.007000 -0.018519 -0.017561\n",
              "3     33  1992-06-12  10.10  10.10  ...   12 -0.007859 -0.007859 -0.014634\n",
              "4     34  1992-06-15  10.10  10.10  ...   15 -0.007859 -0.001976 -0.019417\n",
              "\n",
              "[5 rows x 13 columns]"
            ]
          },
          "metadata": {
            "tags": []
          },
          "execution_count": 444
        }
      ]
    },
    {
      "cell_type": "code",
      "metadata": {
        "id": "mROggztNcStv",
        "colab_type": "code",
        "colab": {}
      },
      "source": [
        "t = len (df_final)"
      ],
      "execution_count": 0,
      "outputs": []
    },
    {
      "cell_type": "code",
      "metadata": {
        "id": "af0hzoNBjuHO",
        "colab_type": "code",
        "colab": {}
      },
      "source": [
        "month = df_final['Month'].values\n",
        "day = df_final['Day'].values\n",
        "change = df_final['Change30'].values\n",
        "price = df_final['Close'].values\n",
        "date = df_final['Date'].values"
      ],
      "execution_count": 0,
      "outputs": []
    },
    {
      "cell_type": "code",
      "metadata": {
        "id": "gu3yorhGknuB",
        "colab_type": "code",
        "colab": {}
      },
      "source": [
        "date = np.array ([datetime.strptime(i, '%Y-%m-%d') for i in date])"
      ],
      "execution_count": 0,
      "outputs": []
    },
    {
      "cell_type": "code",
      "metadata": {
        "id": "cuHfU3oPMaVV",
        "colab_type": "code",
        "colab": {
          "base_uri": "https://localhost:8080/",
          "height": 36
        },
        "outputId": "1e8871e6-cd89-43ec-c15a-a0515eb82bba"
      },
      "source": [
        "timedelta ()"
      ],
      "execution_count": 448,
      "outputs": [
        {
          "output_type": "execute_result",
          "data": {
            "text/plain": [
              "datetime.timedelta(0)"
            ]
          },
          "metadata": {
            "tags": []
          },
          "execution_count": 448
        }
      ]
    },
    {
      "cell_type": "code",
      "metadata": {
        "id": "bz4mImddkpGf",
        "colab_type": "code",
        "colab": {}
      },
      "source": [
        "middle = []\n",
        "first = []\n",
        "rule = []"
      ],
      "execution_count": 0,
      "outputs": []
    },
    {
      "cell_type": "code",
      "metadata": {
        "id": "5cDv5e92k4Ao",
        "colab_type": "code",
        "colab": {}
      },
      "source": [
        "m = date[0].month + 1\n",
        "\n",
        "for i in range(len(price)-1):\n",
        "  if (date[i].day >= 15) and (month[i] == m):\n",
        "    middle.append (date[i])\n",
        "    m = (date[i]+relativedelta(months=1)).month"
      ],
      "execution_count": 0,
      "outputs": []
    },
    {
      "cell_type": "code",
      "metadata": {
        "id": "OqXRQmjKQx74",
        "colab_type": "code",
        "colab": {}
      },
      "source": [
        "m = date[0].month + 1\n",
        "\n",
        "for i in range(len(price)-1):\n",
        "  if (change[i] < 0) and (month[i] == m):\n",
        "    rule.append (date[i])\n",
        "    m = (date[i]+relativedelta(months=1)).month\n",
        "  elif (date[i].month != date[i+1].month) and (month[i] == m):\n",
        "    rule.append (date[i])\n",
        "    m = (date[i]+relativedelta(months=1)).month"
      ],
      "execution_count": 0,
      "outputs": []
    },
    {
      "cell_type": "code",
      "metadata": {
        "id": "cSVBgr9wnVUe",
        "colab_type": "code",
        "colab": {}
      },
      "source": [
        "for i in range(len(price)-1):\n",
        "  if date[i].month != date[i-1].month:\n",
        "    first.append (date[i])"
      ],
      "execution_count": 0,
      "outputs": []
    },
    {
      "cell_type": "code",
      "metadata": {
        "id": "xW1hfnqhQiRO",
        "colab_type": "code",
        "colab": {
          "base_uri": "https://localhost:8080/",
          "height": 36
        },
        "outputId": "98bc51dc-5743-44c0-c290-d68f07cd3e9e"
      },
      "source": [
        "rule[0], rule[-1]"
      ],
      "execution_count": 453,
      "outputs": [
        {
          "output_type": "execute_result",
          "data": {
            "text/plain": [
              "(datetime.datetime(1992, 7, 1, 0, 0), datetime.datetime(2020, 1, 31, 0, 0))"
            ]
          },
          "metadata": {
            "tags": []
          },
          "execution_count": 453
        }
      ]
    },
    {
      "cell_type": "code",
      "metadata": {
        "id": "WxlpJLviX5p8",
        "colab_type": "code",
        "colab": {
          "base_uri": "https://localhost:8080/",
          "height": 36
        },
        "outputId": "73fe6703-608e-4c88-e5fe-044437fc0fa9"
      },
      "source": [
        "middle[0], middle[-1]"
      ],
      "execution_count": 454,
      "outputs": [
        {
          "output_type": "execute_result",
          "data": {
            "text/plain": [
              "(datetime.datetime(1992, 7, 15, 0, 0), datetime.datetime(2020, 2, 18, 0, 0))"
            ]
          },
          "metadata": {
            "tags": []
          },
          "execution_count": 454
        }
      ]
    },
    {
      "cell_type": "code",
      "metadata": {
        "id": "pU7hwiniaH52",
        "colab_type": "code",
        "colab": {}
      },
      "source": [
        "def test_months (z):\n",
        "  assert type (z) == list\n",
        "  fx = [x.month for x in z]\n",
        "  test = []\n",
        "  for i in fx:\n",
        "    test.append (fx[i-1] == fx[i])\n",
        "  return sum (test)"
      ],
      "execution_count": 0,
      "outputs": []
    },
    {
      "cell_type": "code",
      "metadata": {
        "id": "8_47LnYUasS3",
        "colab_type": "code",
        "colab": {}
      },
      "source": [
        "rx = [(x.year,x.month) for x in rule]\n",
        "fx = [(x.year,x.month) for x in first]\n",
        "mx = [(x.year,x.month) for x in middle]"
      ],
      "execution_count": 0,
      "outputs": []
    },
    {
      "cell_type": "code",
      "metadata": {
        "id": "MijC6Hl1bkPL",
        "colab_type": "code",
        "colab": {
          "base_uri": "https://localhost:8080/",
          "height": 36
        },
        "outputId": "4d11dd80-54a5-436c-d06f-b37d6f65da27"
      },
      "source": [
        "set(fx) - set (rx)"
      ],
      "execution_count": 457,
      "outputs": [
        {
          "output_type": "execute_result",
          "data": {
            "text/plain": [
              "{(1992, 6), (2020, 2)}"
            ]
          },
          "metadata": {
            "tags": []
          },
          "execution_count": 457
        }
      ]
    },
    {
      "cell_type": "code",
      "metadata": {
        "id": "sAE7i7Qmc7Fn",
        "colab_type": "code",
        "colab": {
          "base_uri": "https://localhost:8080/",
          "height": 36
        },
        "outputId": "ff692aee-7e5b-436d-b96b-331341ea0736"
      },
      "source": [
        "set(fx) - set (mx)"
      ],
      "execution_count": 458,
      "outputs": [
        {
          "output_type": "execute_result",
          "data": {
            "text/plain": [
              "{(1992, 6)}"
            ]
          },
          "metadata": {
            "tags": []
          },
          "execution_count": 458
        }
      ]
    },
    {
      "cell_type": "code",
      "metadata": {
        "id": "P13Mjks5dmCE",
        "colab_type": "code",
        "colab": {
          "base_uri": "https://localhost:8080/",
          "height": 36
        },
        "outputId": "935574b8-9c01-4591-801b-406ad2af0d51"
      },
      "source": [
        "set(mx) - set (rx)"
      ],
      "execution_count": 459,
      "outputs": [
        {
          "output_type": "execute_result",
          "data": {
            "text/plain": [
              "{(2020, 2)}"
            ]
          },
          "metadata": {
            "tags": []
          },
          "execution_count": 459
        }
      ]
    },
    {
      "cell_type": "code",
      "metadata": {
        "id": "pXbWRneQd7pI",
        "colab_type": "code",
        "colab": {}
      },
      "source": [
        "first = [z.strftime ('%Y-%m-%d') for z in first if (z.year,z.month) not in list(set(fx) - set (rx))]\n",
        "middle = [z.strftime ('%Y-%m-%d') for z in middle if (z.year,z.month) not in list(set(mx) - set (rx))]\n",
        "rule = [z.strftime ('%Y-%m-%d') for z in rule]"
      ],
      "execution_count": 0,
      "outputs": []
    },
    {
      "cell_type": "code",
      "metadata": {
        "id": "9nYnIGtzPNK3",
        "colab_type": "code",
        "colab": {
          "base_uri": "https://localhost:8080/",
          "height": 36
        },
        "outputId": "a285d1a9-450d-437b-e1e8-b624aa862459"
      },
      "source": [
        "len(rule), len(middle), len(first)"
      ],
      "execution_count": 461,
      "outputs": [
        {
          "output_type": "execute_result",
          "data": {
            "text/plain": [
              "(331, 331, 331)"
            ]
          },
          "metadata": {
            "tags": []
          },
          "execution_count": 461
        }
      ]
    },
    {
      "cell_type": "code",
      "metadata": {
        "id": "ChP3Dn_5eyPP",
        "colab_type": "code",
        "colab": {}
      },
      "source": [
        "first_close = df_final['Close'][df_final['Date'].isin(first)]\n",
        "rule_close = df_final['Close'][df_final['Date'].isin(rule)]\n",
        "middle_close = df_final['Close'][df_final['Date'].isin(middle)]"
      ],
      "execution_count": 0,
      "outputs": []
    },
    {
      "cell_type": "code",
      "metadata": {
        "id": "pTNKWbSzijcZ",
        "colab_type": "code",
        "colab": {
          "base_uri": "https://localhost:8080/",
          "height": 36
        },
        "outputId": "99b0204d-8f44-42f7-e02c-0cfceffd28c9"
      },
      "source": [
        "len(rule_close), len(middle_close), len(first_close)"
      ],
      "execution_count": 470,
      "outputs": [
        {
          "output_type": "execute_result",
          "data": {
            "text/plain": [
              "(331, 331, 331)"
            ]
          },
          "metadata": {
            "tags": []
          },
          "execution_count": 470
        }
      ]
    }
  ]
}