{
  "nbformat": 4,
  "nbformat_minor": 0,
  "metadata": {
    "colab": {
      "name": "Google_CoLab_Dip_Passive_Index.ipynb",
      "provenance": [],
      "authorship_tag": "ABX9TyNoZWN3yeG84fCXWL20Y4RA",
      "include_colab_link": true
    },
    "kernelspec": {
      "name": "python3",
      "display_name": "Python 3"
    }
  },
  "cells": [
    {
      "cell_type": "markdown",
      "metadata": {
        "id": "view-in-github",
        "colab_type": "text"
      },
      "source": [
        "<a href=\"https://colab.research.google.com/github/LeonVillanueva/CoLab/blob/master/Google_CoLab_Dip_Passive_Index.ipynb\" target=\"_parent\"><img src=\"https://colab.research.google.com/assets/colab-badge.svg\" alt=\"Open In Colab\"/></a>"
      ]
    },
    {
      "cell_type": "code",
      "metadata": {
        "id": "VCye7HN_CbCg",
        "colab_type": "code",
        "colab": {}
      },
      "source": [
        "import pandas as pd\n",
        "import numpy as np\n",
        "from datetime import datetime"
      ],
      "execution_count": 0,
      "outputs": []
    },
    {
      "cell_type": "code",
      "metadata": {
        "id": "KmkdNgkqEwF4",
        "colab_type": "code",
        "colab": {}
      },
      "source": [
        "df = pd.read_csv ('VTSMX.csv')"
      ],
      "execution_count": 0,
      "outputs": []
    },
    {
      "cell_type": "code",
      "metadata": {
        "id": "66moFgymFBBw",
        "colab_type": "code",
        "colab": {}
      },
      "source": [
        "df['Month'] = pd.DatetimeIndex (df['Date']).month\n",
        "df['Day'] = pd.DatetimeIndex (df['Date']).day"
      ],
      "execution_count": 0,
      "outputs": []
    },
    {
      "cell_type": "code",
      "metadata": {
        "id": "wreXt0_HFEM4",
        "colab_type": "code",
        "colab": {}
      },
      "source": [
        "df['Change30'] = df['Close'].pct_change(periods=30)\n",
        "df['Change20'] = df['Close'].pct_change(periods=20)\n",
        "df['Change10'] = df['Close'].pct_change(periods=10)"
      ],
      "execution_count": 0,
      "outputs": []
    },
    {
      "cell_type": "code",
      "metadata": {
        "id": "hY6L4x_OFsx4",
        "colab_type": "code",
        "colab": {}
      },
      "source": [
        "df_final = df.dropna()"
      ],
      "execution_count": 0,
      "outputs": []
    },
    {
      "cell_type": "code",
      "metadata": {
        "id": "vTsGswnMcFDU",
        "colab_type": "code",
        "colab": {
          "base_uri": "https://localhost:8080/",
          "height": 206
        },
        "outputId": "2fce452d-7a8a-49ad-c771-7ae99dec354a"
      },
      "source": [
        "df_final.head()"
      ],
      "execution_count": 125,
      "outputs": [
        {
          "output_type": "execute_result",
          "data": {
            "text/html": [
              "<div>\n",
              "<style scoped>\n",
              "    .dataframe tbody tr th:only-of-type {\n",
              "        vertical-align: middle;\n",
              "    }\n",
              "\n",
              "    .dataframe tbody tr th {\n",
              "        vertical-align: top;\n",
              "    }\n",
              "\n",
              "    .dataframe thead th {\n",
              "        text-align: right;\n",
              "    }\n",
              "</style>\n",
              "<table border=\"1\" class=\"dataframe\">\n",
              "  <thead>\n",
              "    <tr style=\"text-align: right;\">\n",
              "      <th></th>\n",
              "      <th>Date</th>\n",
              "      <th>Open</th>\n",
              "      <th>High</th>\n",
              "      <th>Low</th>\n",
              "      <th>Close</th>\n",
              "      <th>Adj Close</th>\n",
              "      <th>Volume</th>\n",
              "      <th>Month</th>\n",
              "      <th>Day</th>\n",
              "      <th>Change30</th>\n",
              "      <th>Change20</th>\n",
              "      <th>Change10</th>\n",
              "    </tr>\n",
              "  </thead>\n",
              "  <tbody>\n",
              "    <tr>\n",
              "      <th>30</th>\n",
              "      <td>1992-06-09</td>\n",
              "      <td>10.12</td>\n",
              "      <td>10.12</td>\n",
              "      <td>10.12</td>\n",
              "      <td>10.12</td>\n",
              "      <td>5.966813</td>\n",
              "      <td>0</td>\n",
              "      <td>6</td>\n",
              "      <td>9</td>\n",
              "      <td>0.008973</td>\n",
              "      <td>-0.018429</td>\n",
              "      <td>-0.001972</td>\n",
              "    </tr>\n",
              "    <tr>\n",
              "      <th>31</th>\n",
              "      <td>1992-06-10</td>\n",
              "      <td>10.05</td>\n",
              "      <td>10.05</td>\n",
              "      <td>10.05</td>\n",
              "      <td>10.05</td>\n",
              "      <td>5.925544</td>\n",
              "      <td>0</td>\n",
              "      <td>6</td>\n",
              "      <td>10</td>\n",
              "      <td>0.005000</td>\n",
              "      <td>-0.020468</td>\n",
              "      <td>-0.010827</td>\n",
              "    </tr>\n",
              "    <tr>\n",
              "      <th>32</th>\n",
              "      <td>1992-06-11</td>\n",
              "      <td>10.07</td>\n",
              "      <td>10.07</td>\n",
              "      <td>10.07</td>\n",
              "      <td>10.07</td>\n",
              "      <td>5.937335</td>\n",
              "      <td>0</td>\n",
              "      <td>6</td>\n",
              "      <td>11</td>\n",
              "      <td>0.007000</td>\n",
              "      <td>-0.018519</td>\n",
              "      <td>-0.017561</td>\n",
              "    </tr>\n",
              "    <tr>\n",
              "      <th>33</th>\n",
              "      <td>1992-06-12</td>\n",
              "      <td>10.10</td>\n",
              "      <td>10.10</td>\n",
              "      <td>10.10</td>\n",
              "      <td>10.10</td>\n",
              "      <td>5.955025</td>\n",
              "      <td>0</td>\n",
              "      <td>6</td>\n",
              "      <td>12</td>\n",
              "      <td>-0.007859</td>\n",
              "      <td>-0.007859</td>\n",
              "      <td>-0.014634</td>\n",
              "    </tr>\n",
              "    <tr>\n",
              "      <th>34</th>\n",
              "      <td>1992-06-15</td>\n",
              "      <td>10.10</td>\n",
              "      <td>10.10</td>\n",
              "      <td>10.10</td>\n",
              "      <td>10.10</td>\n",
              "      <td>5.955025</td>\n",
              "      <td>0</td>\n",
              "      <td>6</td>\n",
              "      <td>15</td>\n",
              "      <td>-0.007859</td>\n",
              "      <td>-0.001976</td>\n",
              "      <td>-0.019417</td>\n",
              "    </tr>\n",
              "  </tbody>\n",
              "</table>\n",
              "</div>"
            ],
            "text/plain": [
              "          Date   Open   High    Low  ...  Day  Change30  Change20  Change10\n",
              "30  1992-06-09  10.12  10.12  10.12  ...    9  0.008973 -0.018429 -0.001972\n",
              "31  1992-06-10  10.05  10.05  10.05  ...   10  0.005000 -0.020468 -0.010827\n",
              "32  1992-06-11  10.07  10.07  10.07  ...   11  0.007000 -0.018519 -0.017561\n",
              "33  1992-06-12  10.10  10.10  10.10  ...   12 -0.007859 -0.007859 -0.014634\n",
              "34  1992-06-15  10.10  10.10  10.10  ...   15 -0.007859 -0.001976 -0.019417\n",
              "\n",
              "[5 rows x 12 columns]"
            ]
          },
          "metadata": {
            "tags": []
          },
          "execution_count": 125
        }
      ]
    },
    {
      "cell_type": "code",
      "metadata": {
        "id": "mROggztNcStv",
        "colab_type": "code",
        "colab": {}
      },
      "source": [
        "t = len (df_final)"
      ],
      "execution_count": 0,
      "outputs": []
    },
    {
      "cell_type": "code",
      "metadata": {
        "id": "y-ufanF7jtQj",
        "colab_type": "code",
        "colab": {
          "base_uri": "https://localhost:8080/",
          "height": 36
        },
        "outputId": "0646b923-9735-4156-9aed-203fd6a2db40"
      },
      "source": [
        "t"
      ],
      "execution_count": 127,
      "outputs": [
        {
          "output_type": "execute_result",
          "data": {
            "text/plain": [
              "6977"
            ]
          },
          "metadata": {
            "tags": []
          },
          "execution_count": 127
        }
      ]
    },
    {
      "cell_type": "code",
      "metadata": {
        "id": "af0hzoNBjuHO",
        "colab_type": "code",
        "colab": {}
      },
      "source": [
        "month = df_final['Month'].values\n",
        "day = df_final['Day'].values\n",
        "change = df_final['Change30'].values\n",
        "price = df_final['Close'].values\n",
        "date = df_final['Date'].values"
      ],
      "execution_count": 0,
      "outputs": []
    },
    {
      "cell_type": "code",
      "metadata": {
        "id": "gu3yorhGknuB",
        "colab_type": "code",
        "colab": {}
      },
      "source": [
        "date = np.array ([datetime.strptime(i, '%Y-%m-%d') for i in date])"
      ],
      "execution_count": 0,
      "outputs": []
    },
    {
      "cell_type": "code",
      "metadata": {
        "id": "p45ymAMiueev",
        "colab_type": "code",
        "colab": {
          "base_uri": "https://localhost:8080/",
          "height": 129
        },
        "outputId": "96554b1d-a8ee-44d0-80f0-c1efa9c8b846"
      },
      "source": [
        "date"
      ],
      "execution_count": 137,
      "outputs": [
        {
          "output_type": "execute_result",
          "data": {
            "text/plain": [
              "array([datetime.datetime(1992, 6, 9, 0, 0),\n",
              "       datetime.datetime(1992, 6, 10, 0, 0),\n",
              "       datetime.datetime(1992, 6, 11, 0, 0), ...,\n",
              "       datetime.datetime(2020, 2, 18, 0, 0),\n",
              "       datetime.datetime(2020, 2, 19, 0, 0),\n",
              "       datetime.datetime(2020, 2, 20, 0, 0)], dtype=object)"
            ]
          },
          "metadata": {
            "tags": []
          },
          "execution_count": 137
        }
      ]
    },
    {
      "cell_type": "code",
      "metadata": {
        "id": "bz4mImddkpGf",
        "colab_type": "code",
        "colab": {}
      },
      "source": [
        "middle = []\n",
        "first = []\n",
        "rule = []"
      ],
      "execution_count": 0,
      "outputs": []
    },
    {
      "cell_type": "code",
      "metadata": {
        "id": "5cDv5e92k4Ao",
        "colab_type": "code",
        "colab": {}
      },
      "source": [
        "type(date[1])"
      ],
      "execution_count": 0,
      "outputs": []
    },
    {
      "cell_type": "code",
      "metadata": {
        "id": "vJnvy35DlKbx",
        "colab_type": "code",
        "colab": {}
      },
      "source": [
        "len(middle)"
      ],
      "execution_count": 0,
      "outputs": []
    },
    {
      "cell_type": "code",
      "metadata": {
        "id": "cSVBgr9wnVUe",
        "colab_type": "code",
        "colab": {}
      },
      "source": [
        ""
      ],
      "execution_count": 0,
      "outputs": []
    }
  ]
}