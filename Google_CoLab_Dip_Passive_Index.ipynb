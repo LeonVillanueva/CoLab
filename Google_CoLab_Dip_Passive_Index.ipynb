{
  "nbformat": 4,
  "nbformat_minor": 0,
  "metadata": {
    "colab": {
      "name": "Google_CoLab_Dip_Passive_Index.ipynb",
      "provenance": [],
      "authorship_tag": "ABX9TyOFFSgN+3JnBG4K+wfswXiE",
      "include_colab_link": true
    },
    "kernelspec": {
      "name": "python3",
      "display_name": "Python 3"
    }
  },
  "cells": [
    {
      "cell_type": "markdown",
      "metadata": {
        "id": "view-in-github",
        "colab_type": "text"
      },
      "source": [
        "<a href=\"https://colab.research.google.com/github/LeonVillanueva/CoLab/blob/master/Google_CoLab_Dip_Passive_Index.ipynb\" target=\"_parent\"><img src=\"https://colab.research.google.com/assets/colab-badge.svg\" alt=\"Open In Colab\"/></a>"
      ]
    },
    {
      "cell_type": "code",
      "metadata": {
        "id": "VCye7HN_CbCg",
        "colab_type": "code",
        "colab": {}
      },
      "source": [
        "import pandas as pd\n",
        "import numpy as np\n",
        "from datetime import datetime\n",
        "from datetime import timedelta\n",
        "from dateutil.relativedelta import relativedelta\n",
        "import matplotlib.pyplot as plt"
      ],
      "execution_count": 0,
      "outputs": []
    },
    {
      "cell_type": "code",
      "metadata": {
        "id": "KmkdNgkqEwF4",
        "colab_type": "code",
        "colab": {}
      },
      "source": [
        "df = pd.read_csv ('RUT.csv')"
      ],
      "execution_count": 0,
      "outputs": []
    },
    {
      "cell_type": "code",
      "metadata": {
        "id": "66moFgymFBBw",
        "colab_type": "code",
        "colab": {}
      },
      "source": [
        "df['Month'] = pd.DatetimeIndex (df['Date']).month\n",
        "df['Day'] = pd.DatetimeIndex (df['Date']).day"
      ],
      "execution_count": 0,
      "outputs": []
    },
    {
      "cell_type": "code",
      "metadata": {
        "id": "wreXt0_HFEM4",
        "colab_type": "code",
        "colab": {}
      },
      "source": [
        "df['Change30'] = df['Close'].pct_change(periods=30)\n",
        "df['Change20'] = df['Close'].pct_change(periods=20)\n",
        "df['Change10'] = df['Close'].pct_change(periods=10)\n",
        "df['Change5D'] = df['Close'].pct_change(periods=5)\n",
        "df['Change1D'] = df['Close'].pct_change(periods=1)"
      ],
      "execution_count": 0,
      "outputs": []
    },
    {
      "cell_type": "code",
      "metadata": {
        "id": "hY6L4x_OFsx4",
        "colab_type": "code",
        "colab": {}
      },
      "source": [
        "df_final = df.dropna()\n",
        "df_final.reset_index (inplace=True)"
      ],
      "execution_count": 0,
      "outputs": []
    },
    {
      "cell_type": "code",
      "metadata": {
        "id": "vTsGswnMcFDU",
        "colab_type": "code",
        "outputId": "90d6b6a1-c28c-4ad0-af8b-d6b27066ae2f",
        "colab": {
          "base_uri": "https://localhost:8080/",
          "height": 243
        }
      },
      "source": [
        "df_final.head()"
      ],
      "execution_count": 916,
      "outputs": [
        {
          "output_type": "execute_result",
          "data": {
            "text/html": [
              "<div>\n",
              "<style scoped>\n",
              "    .dataframe tbody tr th:only-of-type {\n",
              "        vertical-align: middle;\n",
              "    }\n",
              "\n",
              "    .dataframe tbody tr th {\n",
              "        vertical-align: top;\n",
              "    }\n",
              "\n",
              "    .dataframe thead th {\n",
              "        text-align: right;\n",
              "    }\n",
              "</style>\n",
              "<table border=\"1\" class=\"dataframe\">\n",
              "  <thead>\n",
              "    <tr style=\"text-align: right;\">\n",
              "      <th></th>\n",
              "      <th>index</th>\n",
              "      <th>Date</th>\n",
              "      <th>Open</th>\n",
              "      <th>High</th>\n",
              "      <th>Low</th>\n",
              "      <th>Close</th>\n",
              "      <th>Adj Close</th>\n",
              "      <th>Volume</th>\n",
              "      <th>Month</th>\n",
              "      <th>Day</th>\n",
              "      <th>Change30</th>\n",
              "      <th>Change20</th>\n",
              "      <th>Change10</th>\n",
              "      <th>Change5D</th>\n",
              "      <th>Change1D</th>\n",
              "    </tr>\n",
              "  </thead>\n",
              "  <tbody>\n",
              "    <tr>\n",
              "      <th>0</th>\n",
              "      <td>30</td>\n",
              "      <td>1987-10-22</td>\n",
              "      <td>130.649994</td>\n",
              "      <td>130.649994</td>\n",
              "      <td>124.470001</td>\n",
              "      <td>124.570000</td>\n",
              "      <td>124.570000</td>\n",
              "      <td>3922000</td>\n",
              "      <td>10</td>\n",
              "      <td>22</td>\n",
              "      <td>-0.262769</td>\n",
              "      <td>-0.261676</td>\n",
              "      <td>-0.254340</td>\n",
              "      <td>-0.219780</td>\n",
              "      <td>-0.046537</td>\n",
              "    </tr>\n",
              "    <tr>\n",
              "      <th>1</th>\n",
              "      <td>31</td>\n",
              "      <td>1987-10-23</td>\n",
              "      <td>124.580002</td>\n",
              "      <td>124.580002</td>\n",
              "      <td>121.360001</td>\n",
              "      <td>121.589996</td>\n",
              "      <td>121.589996</td>\n",
              "      <td>2456000</td>\n",
              "      <td>10</td>\n",
              "      <td>23</td>\n",
              "      <td>-0.287029</td>\n",
              "      <td>-0.279893</td>\n",
              "      <td>-0.268059</td>\n",
              "      <td>-0.203941</td>\n",
              "      <td>-0.023922</td>\n",
              "    </tr>\n",
              "    <tr>\n",
              "      <th>2</th>\n",
              "      <td>32</td>\n",
              "      <td>1987-10-26</td>\n",
              "      <td>121.580002</td>\n",
              "      <td>121.580002</td>\n",
              "      <td>110.320000</td>\n",
              "      <td>110.330002</td>\n",
              "      <td>110.330002</td>\n",
              "      <td>3088000</td>\n",
              "      <td>10</td>\n",
              "      <td>26</td>\n",
              "      <td>-0.352637</td>\n",
              "      <td>-0.349162</td>\n",
              "      <td>-0.326681</td>\n",
              "      <td>-0.174177</td>\n",
              "      <td>-0.092606</td>\n",
              "    </tr>\n",
              "    <tr>\n",
              "      <th>3</th>\n",
              "      <td>33</td>\n",
              "      <td>1987-10-27</td>\n",
              "      <td>110.320000</td>\n",
              "      <td>113.120003</td>\n",
              "      <td>108.370003</td>\n",
              "      <td>108.510002</td>\n",
              "      <td>108.510002</td>\n",
              "      <td>2602000</td>\n",
              "      <td>10</td>\n",
              "      <td>27</td>\n",
              "      <td>-0.358688</td>\n",
              "      <td>-0.358157</td>\n",
              "      <td>-0.338918</td>\n",
              "      <td>-0.106104</td>\n",
              "      <td>-0.016496</td>\n",
              "    </tr>\n",
              "    <tr>\n",
              "      <th>4</th>\n",
              "      <td>34</td>\n",
              "      <td>1987-10-28</td>\n",
              "      <td>105.459999</td>\n",
              "      <td>108.500000</td>\n",
              "      <td>105.459999</td>\n",
              "      <td>106.080002</td>\n",
              "      <td>106.080002</td>\n",
              "      <td>2794000</td>\n",
              "      <td>10</td>\n",
              "      <td>28</td>\n",
              "      <td>-0.372010</td>\n",
              "      <td>-0.378959</td>\n",
              "      <td>-0.344335</td>\n",
              "      <td>-0.188060</td>\n",
              "      <td>-0.022394</td>\n",
              "    </tr>\n",
              "  </tbody>\n",
              "</table>\n",
              "</div>"
            ],
            "text/plain": [
              "   index        Date        Open  ...  Change10  Change5D  Change1D\n",
              "0     30  1987-10-22  130.649994  ... -0.254340 -0.219780 -0.046537\n",
              "1     31  1987-10-23  124.580002  ... -0.268059 -0.203941 -0.023922\n",
              "2     32  1987-10-26  121.580002  ... -0.326681 -0.174177 -0.092606\n",
              "3     33  1987-10-27  110.320000  ... -0.338918 -0.106104 -0.016496\n",
              "4     34  1987-10-28  105.459999  ... -0.344335 -0.188060 -0.022394\n",
              "\n",
              "[5 rows x 15 columns]"
            ]
          },
          "metadata": {
            "tags": []
          },
          "execution_count": 916
        }
      ]
    },
    {
      "cell_type": "code",
      "metadata": {
        "id": "myvKSQe2pk4u",
        "colab_type": "code",
        "colab": {
          "base_uri": "https://localhost:8080/",
          "height": 36
        },
        "outputId": "5cea3283-6741-4ffc-d470-e786503e8d14"
      },
      "source": [
        "np.min (df_final['Change1D'])"
      ],
      "execution_count": 917,
      "outputs": [
        {
          "output_type": "execute_result",
          "data": {
            "text/plain": [
              "-0.11850616355076216"
            ]
          },
          "metadata": {
            "tags": []
          },
          "execution_count": 917
        }
      ]
    },
    {
      "cell_type": "code",
      "metadata": {
        "id": "ft2LS2TYp4ow",
        "colab_type": "code",
        "colab": {}
      },
      "source": [
        "loss_mean = np.mean (df_final['Change1D'] [df_final['Change1D'] < 0]) \n",
        "loss_std = np.std (df_final['Change1D'] [df_final['Change1D'] < 0])\n",
        "\n",
        "ex_loss = loss_mean - 2*loss_std"
      ],
      "execution_count": 0,
      "outputs": []
    },
    {
      "cell_type": "code",
      "metadata": {
        "id": "MS78YnPprpA-",
        "colab_type": "code",
        "colab": {
          "base_uri": "https://localhost:8080/",
          "height": 36
        },
        "outputId": "d44afbba-4b8a-492f-93bb-286b1b8e36b4"
      },
      "source": [
        "print (ex_loss, loss_mean)"
      ],
      "execution_count": 919,
      "outputs": [
        {
          "output_type": "stream",
          "text": [
            "-0.028879104081609045 -0.009200262888693893\n"
          ],
          "name": "stdout"
        }
      ]
    },
    {
      "cell_type": "code",
      "metadata": {
        "id": "mROggztNcStv",
        "colab_type": "code",
        "colab": {}
      },
      "source": [
        "t = len (df_final)"
      ],
      "execution_count": 0,
      "outputs": []
    },
    {
      "cell_type": "code",
      "metadata": {
        "id": "af0hzoNBjuHO",
        "colab_type": "code",
        "colab": {}
      },
      "source": [
        "month = df_final['Month'].values\n",
        "day = df_final['Day'].values\n",
        "change = df_final['Change1D'].values\n",
        "price = df_final['Close'].values\n",
        "date = df_final['Date'].values"
      ],
      "execution_count": 0,
      "outputs": []
    },
    {
      "cell_type": "code",
      "metadata": {
        "id": "gu3yorhGknuB",
        "colab_type": "code",
        "colab": {}
      },
      "source": [
        "date = np.array ([datetime.strptime(i, '%Y-%m-%d') for i in date])"
      ],
      "execution_count": 0,
      "outputs": []
    },
    {
      "cell_type": "code",
      "metadata": {
        "id": "cuHfU3oPMaVV",
        "colab_type": "code",
        "colab": {
          "base_uri": "https://localhost:8080/",
          "height": 36
        },
        "outputId": "5c607570-e7d3-4579-c56e-75cf5a869c30"
      },
      "source": [
        "timedelta ()"
      ],
      "execution_count": 923,
      "outputs": [
        {
          "output_type": "execute_result",
          "data": {
            "text/plain": [
              "datetime.timedelta(0)"
            ]
          },
          "metadata": {
            "tags": []
          },
          "execution_count": 923
        }
      ]
    },
    {
      "cell_type": "code",
      "metadata": {
        "id": "bz4mImddkpGf",
        "colab_type": "code",
        "colab": {}
      },
      "source": [
        "middle = []\n",
        "first = []\n",
        "rule = []"
      ],
      "execution_count": 0,
      "outputs": []
    },
    {
      "cell_type": "code",
      "metadata": {
        "id": "5cDv5e92k4Ao",
        "colab_type": "code",
        "colab": {}
      },
      "source": [
        "m = date[0].month + 1\n",
        "\n",
        "for i in range(len(price)-1):\n",
        "  if (date[i].day >= 15) and (month[i] == m):\n",
        "    middle.append (date[i])\n",
        "    m = (date[i]+relativedelta(months=1)).month"
      ],
      "execution_count": 0,
      "outputs": []
    },
    {
      "cell_type": "code",
      "metadata": {
        "id": "OqXRQmjKQx74",
        "colab_type": "code",
        "colab": {}
      },
      "source": [
        "m = date[0].month + 1\n",
        "\n",
        "for i in range(len(price)-1):\n",
        "  if (change[i] < ex_loss) and (month[i] == m):\n",
        "    rule.append (date[i])\n",
        "    m = (date[i]+relativedelta(months=1)).month\n",
        "  elif (date[i].month != date[i+1].month) and (month[i] == m):\n",
        "    rule.append (date[i])\n",
        "    m = (date[i]+relativedelta(months=1)).month"
      ],
      "execution_count": 0,
      "outputs": []
    },
    {
      "cell_type": "code",
      "metadata": {
        "id": "cSVBgr9wnVUe",
        "colab_type": "code",
        "colab": {}
      },
      "source": [
        "for i in range(len(price)-1):\n",
        "  if date[i].month != date[i-1].month:\n",
        "    first.append (date[i])"
      ],
      "execution_count": 0,
      "outputs": []
    },
    {
      "cell_type": "code",
      "metadata": {
        "id": "xW1hfnqhQiRO",
        "colab_type": "code",
        "colab": {
          "base_uri": "https://localhost:8080/",
          "height": 36
        },
        "outputId": "e014671e-1edf-4e0a-cd30-6d2bf8e474c6"
      },
      "source": [
        "rule[0], rule[-1]"
      ],
      "execution_count": 928,
      "outputs": [
        {
          "output_type": "execute_result",
          "data": {
            "text/plain": [
              "(datetime.datetime(1987, 11, 30, 0, 0), datetime.datetime(2019, 12, 31, 0, 0))"
            ]
          },
          "metadata": {
            "tags": []
          },
          "execution_count": 928
        }
      ]
    },
    {
      "cell_type": "code",
      "metadata": {
        "id": "WxlpJLviX5p8",
        "colab_type": "code",
        "colab": {
          "base_uri": "https://localhost:8080/",
          "height": 36
        },
        "outputId": "4cea8f86-ac04-4924-b097-bc0390ec0a74"
      },
      "source": [
        "middle[0], middle[-1]"
      ],
      "execution_count": 929,
      "outputs": [
        {
          "output_type": "execute_result",
          "data": {
            "text/plain": [
              "(datetime.datetime(1987, 11, 16, 0, 0), datetime.datetime(2020, 1, 15, 0, 0))"
            ]
          },
          "metadata": {
            "tags": []
          },
          "execution_count": 929
        }
      ]
    },
    {
      "cell_type": "code",
      "metadata": {
        "id": "pU7hwiniaH52",
        "colab_type": "code",
        "colab": {}
      },
      "source": [
        "def test_months (z):\n",
        "  assert type (z) == list\n",
        "  fx = [x.month for x in z]\n",
        "  test = []\n",
        "  for i in fx:\n",
        "    test.append (fx[i-1] == fx[i])\n",
        "  return sum (test)"
      ],
      "execution_count": 0,
      "outputs": []
    },
    {
      "cell_type": "code",
      "metadata": {
        "id": "8_47LnYUasS3",
        "colab_type": "code",
        "colab": {}
      },
      "source": [
        "rx = [(x.year,x.month) for x in rule]\n",
        "fx = [(x.year,x.month) for x in first]\n",
        "mx = [(x.year,x.month) for x in middle]"
      ],
      "execution_count": 0,
      "outputs": []
    },
    {
      "cell_type": "code",
      "metadata": {
        "id": "MijC6Hl1bkPL",
        "colab_type": "code",
        "colab": {
          "base_uri": "https://localhost:8080/",
          "height": 36
        },
        "outputId": "9b19c11f-6a5f-495c-8c71-4d87e866bf37"
      },
      "source": [
        "set(fx) - set (rx)"
      ],
      "execution_count": 932,
      "outputs": [
        {
          "output_type": "execute_result",
          "data": {
            "text/plain": [
              "{(1987, 10), (2020, 1)}"
            ]
          },
          "metadata": {
            "tags": []
          },
          "execution_count": 932
        }
      ]
    },
    {
      "cell_type": "code",
      "metadata": {
        "id": "sAE7i7Qmc7Fn",
        "colab_type": "code",
        "colab": {
          "base_uri": "https://localhost:8080/",
          "height": 36
        },
        "outputId": "16abbe48-76ca-4c4e-fe67-f042902b9528"
      },
      "source": [
        "set(fx) - set (mx)"
      ],
      "execution_count": 933,
      "outputs": [
        {
          "output_type": "execute_result",
          "data": {
            "text/plain": [
              "{(1987, 10)}"
            ]
          },
          "metadata": {
            "tags": []
          },
          "execution_count": 933
        }
      ]
    },
    {
      "cell_type": "code",
      "metadata": {
        "id": "P13Mjks5dmCE",
        "colab_type": "code",
        "colab": {
          "base_uri": "https://localhost:8080/",
          "height": 36
        },
        "outputId": "9147188f-50a1-408e-b3d0-e00bfd1195ed"
      },
      "source": [
        "set(mx) - set (rx)"
      ],
      "execution_count": 934,
      "outputs": [
        {
          "output_type": "execute_result",
          "data": {
            "text/plain": [
              "{(2020, 1)}"
            ]
          },
          "metadata": {
            "tags": []
          },
          "execution_count": 934
        }
      ]
    },
    {
      "cell_type": "code",
      "metadata": {
        "id": "pXbWRneQd7pI",
        "colab_type": "code",
        "colab": {}
      },
      "source": [
        "first = [z.strftime ('%Y-%m-%d') for z in first if (z.year,z.month) not in list(set(fx) - set (rx))]\n",
        "middle = [z.strftime ('%Y-%m-%d') for z in middle if (z.year,z.month) not in list(set(mx) - set (rx))]\n",
        "rule = [z.strftime ('%Y-%m-%d') for z in rule]"
      ],
      "execution_count": 0,
      "outputs": []
    },
    {
      "cell_type": "code",
      "metadata": {
        "id": "9nYnIGtzPNK3",
        "colab_type": "code",
        "colab": {
          "base_uri": "https://localhost:8080/",
          "height": 36
        },
        "outputId": "6b129135-2ed3-4628-c1af-9273676f6060"
      },
      "source": [
        "len(rule), len(middle), len(first)"
      ],
      "execution_count": 936,
      "outputs": [
        {
          "output_type": "execute_result",
          "data": {
            "text/plain": [
              "(386, 386, 386)"
            ]
          },
          "metadata": {
            "tags": []
          },
          "execution_count": 936
        }
      ]
    },
    {
      "cell_type": "code",
      "metadata": {
        "id": "ChP3Dn_5eyPP",
        "colab_type": "code",
        "colab": {}
      },
      "source": [
        "first_close = df_final['Close'][df_final['Date'].isin(first)].values\n",
        "rule_close = df_final['Close'][df_final['Date'].isin(rule)].values\n",
        "middle_close = df_final['Close'][df_final['Date'].isin(middle)].values"
      ],
      "execution_count": 0,
      "outputs": []
    },
    {
      "cell_type": "code",
      "metadata": {
        "id": "pTNKWbSzijcZ",
        "colab_type": "code",
        "colab": {
          "base_uri": "https://localhost:8080/",
          "height": 36
        },
        "outputId": "64417bc3-cc30-4597-e561-ac19096a0a9f"
      },
      "source": [
        "len(rule_close), len(middle_close), len(first_close)"
      ],
      "execution_count": 938,
      "outputs": [
        {
          "output_type": "execute_result",
          "data": {
            "text/plain": [
              "(386, 386, 386)"
            ]
          },
          "metadata": {
            "tags": []
          },
          "execution_count": 938
        }
      ]
    },
    {
      "cell_type": "code",
      "metadata": {
        "id": "-e876-QblmnQ",
        "colab_type": "code",
        "colab": {}
      },
      "source": [
        "final_close = df_final['Close'].iloc[-1]"
      ],
      "execution_count": 0,
      "outputs": []
    },
    {
      "cell_type": "code",
      "metadata": {
        "id": "-vn6LJpxm31H",
        "colab_type": "code",
        "colab": {}
      },
      "source": [
        "first_growth = (final_close / first_close) - 1\n",
        "rule_growth = (final_close / rule_close) - 1\n",
        "middle_growth = (final_close / middle_close) - 1"
      ],
      "execution_count": 0,
      "outputs": []
    },
    {
      "cell_type": "code",
      "metadata": {
        "id": "KsN0xDDEnuFI",
        "colab_type": "code",
        "colab": {}
      },
      "source": [
        "first_100 = sum(first_growth * 100)\n",
        "rule_100 = sum(rule_growth * 100)\n",
        "middle_100 = sum(middle_growth * 100)"
      ],
      "execution_count": 0,
      "outputs": []
    },
    {
      "cell_type": "code",
      "metadata": {
        "id": "0brv58D2onwf",
        "colab_type": "code",
        "colab": {}
      },
      "source": [
        "inv = len(rule_close)"
      ],
      "execution_count": 0,
      "outputs": []
    },
    {
      "cell_type": "code",
      "metadata": {
        "id": "vkZXdyGun0Wm",
        "colab_type": "code",
        "colab": {
          "base_uri": "https://localhost:8080/",
          "height": 36
        },
        "outputId": "8c8e1e62-4fca-40fd-a7f9-10dca1b10953"
      },
      "source": [
        "first_100/(100*inv)-1, rule_100/(100*inv)-1, middle_100/(100*inv)-1"
      ],
      "execution_count": 943,
      "outputs": [
        {
          "output_type": "execute_result",
          "data": {
            "text/plain": [
              "(2.2423781663547846, 2.2148263978608167, 2.2335820541325355)"
            ]
          },
          "metadata": {
            "tags": []
          },
          "execution_count": 943
        }
      ]
    },
    {
      "cell_type": "code",
      "metadata": {
        "id": "-c3yaDk8o2vm",
        "colab_type": "code",
        "colab": {
          "base_uri": "https://localhost:8080/",
          "height": 284
        },
        "outputId": "2c4fef8b-5c2b-4b20-a244-8ea9790dbc3e"
      },
      "source": [
        "plt.plot (rule_growth)\n",
        "plt.show"
      ],
      "execution_count": 952,
      "outputs": [
        {
          "output_type": "execute_result",
          "data": {
            "text/plain": [
              "<function matplotlib.pyplot.show>"
            ]
          },
          "metadata": {
            "tags": []
          },
          "execution_count": 952
        },
        {
          "output_type": "display_data",
          "data": {
            "image/png": "[encoded data removed]",
            "text/plain": [
              "<Figure size 432x288 with 1 Axes>"
            ]
          },
          "metadata": {
            "tags": []
          }
        }
      ]
    },
    {
      "cell_type": "code",
      "metadata": {
        "id": "HR6L90yvtkYu",
        "colab_type": "code",
        "colab": {}
      },
      "source": [
        ""
      ],
      "execution_count": 0,
      "outputs": []
    }
  ]
}