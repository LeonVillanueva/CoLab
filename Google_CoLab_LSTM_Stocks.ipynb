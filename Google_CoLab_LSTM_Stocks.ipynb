{
  "nbformat": 4,
  "nbformat_minor": 0,
  "metadata": {
    "colab": {
      "name": "Google_CoLab_LSTM_Stocks.ipynb",
      "provenance": [],
      "collapsed_sections": [],
      "toc_visible": true,
      "authorship_tag": "ABX9TyOmpKT7MS1F6HrXGq+mUV/G",
      "include_colab_link": true
    },
    "kernelspec": {
      "name": "python3",
      "display_name": "Python 3"
    }
  },
  "cells": [
    {
      "cell_type": "markdown",
      "metadata": {
        "id": "view-in-github",
        "colab_type": "text"
      },
      "source": [
        "<a href=\"https://colab.research.google.com/github/LeonVillanueva/CoLab/blob/master/Google_CoLab_LSTM_Stocks.ipynb\" target=\"_parent\"><img src=\"https://colab.research.google.com/assets/colab-badge.svg\" alt=\"Open In Colab\"/></a>"
      ]
    },
    {
      "cell_type": "markdown",
      "metadata": {
        "id": "ehI9OcdcTbsc",
        "colab_type": "text"
      },
      "source": [
        "### Import Libraries"
      ]
    },
    {
      "cell_type": "code",
      "metadata": {
        "id": "gf8hyBrnmksa",
        "colab_type": "code",
        "colab": {}
      },
      "source": [
        "!pip install -q tensorflow==2.0.0-beta1"
      ],
      "execution_count": 0,
      "outputs": []
    },
    {
      "cell_type": "code",
      "metadata": {
        "id": "jGqN0S1nmrmC",
        "colab_type": "code",
        "colab": {}
      },
      "source": [
        "%%capture\n",
        "import numpy as np\n",
        "import matplotlib.pyplot as plt\n",
        "import pandas as pd\n",
        "import tensorflow as tf"
      ],
      "execution_count": 0,
      "outputs": []
    },
    {
      "cell_type": "code",
      "metadata": {
        "id": "31ZvEWAKmr6v",
        "colab_type": "code",
        "colab": {}
      },
      "source": [
        "import math\n",
        "import seaborn as sns"
      ],
      "execution_count": 0,
      "outputs": []
    },
    {
      "cell_type": "code",
      "metadata": {
        "id": "Yzw7Y6d9mvwd",
        "colab_type": "code",
        "colab": {}
      },
      "source": [
        "from sklearn.model_selection import train_test_split\n",
        "from sklearn.preprocessing import StandardScaler"
      ],
      "execution_count": 0,
      "outputs": []
    },
    {
      "cell_type": "code",
      "metadata": {
        "id": "X-Ek70jGmwLV",
        "colab_type": "code",
        "colab": {}
      },
      "source": [
        "from tensorflow.keras.layers import Input, Conv2D, Dense, Flatten, Dropout, GlobalMaxPooling2D, GaussianNoise, BatchNormalization, MaxPooling2D, SimpleRNN, GRU, LSTM, GlobalMaxPooling1D\n",
        "from tensorflow.keras.models import Model, Sequential\n",
        "from tensorflow.keras.optimizers import SGD, Adam\n",
        "from tensorflow.keras.preprocessing.image import ImageDataGenerator\n",
        "from tensorflow.keras.preprocessing.sequence import TimeseriesGenerator"
      ],
      "execution_count": 0,
      "outputs": []
    },
    {
      "cell_type": "code",
      "metadata": {
        "id": "19Mstrb3dH9N",
        "colab_type": "code",
        "colab": {}
      },
      "source": [
        "from scipy import stats"
      ],
      "execution_count": 0,
      "outputs": []
    },
    {
      "cell_type": "markdown",
      "metadata": {
        "id": "xtMS68qeTg2X",
        "colab_type": "text"
      },
      "source": [
        "### Loading & Transform Data"
      ]
    },
    {
      "cell_type": "code",
      "metadata": {
        "id": "Nx0Igkd0Q1M4",
        "colab_type": "code",
        "colab": {}
      },
      "source": [
        "mydateparser = lambda x: pd.datetime.strptime(x, \"%Y-%m-%d\")\n",
        "df = pd.read_csv ('RUT.csv', header=0, parse_dates=['Date'], date_parser=mydateparser)"
      ],
      "execution_count": 0,
      "outputs": []
    },
    {
      "cell_type": "code",
      "metadata": {
        "id": "TOrTrPSMS6Re",
        "colab_type": "code",
        "colab": {}
      },
      "source": [
        "df['Diff'] = df['Close'] - df['Close'].shift(1)\n",
        "df['Diff'] = df['Diff'].shift(-1)"
      ],
      "execution_count": 0,
      "outputs": []
    },
    {
      "cell_type": "code",
      "metadata": {
        "id": "mfL6j8TMS4fM",
        "colab_type": "code",
        "colab": {}
      },
      "source": [
        "df['Max_30'] = df['Close'].rolling(window=30).max()\n",
        "df['Min_30'] = df['Close'].rolling(window=30).min()\n",
        "df['Ave_30'] = df['Close'].rolling(window=30).mean()\n",
        "\n",
        "# df['Vol_Adj'] = df['Volume']\n",
        "# df['Close_Adj'] = df['Close']"
      ],
      "execution_count": 0,
      "outputs": []
    },
    {
      "cell_type": "markdown",
      "metadata": {
        "id": "6oFBZTQoZ5Gv",
        "colab_type": "text"
      },
      "source": [
        "> ***Explanation: Shifted everything by 1, since all information is from t-1 days and prior.***"
      ]
    },
    {
      "cell_type": "code",
      "metadata": {
        "id": "JbN5tlSeY_9I",
        "colab_type": "code",
        "colab": {}
      },
      "source": [
        "# df['Date'].shift(-1)[:10]"
      ],
      "execution_count": 0,
      "outputs": []
    },
    {
      "cell_type": "code",
      "metadata": {
        "id": "mPEu8QEvVSoR",
        "colab_type": "code",
        "outputId": "4c99513e-2632-49a0-b779-cf00b5145c29",
        "colab": {
          "base_uri": "https://localhost:8080/",
          "height": 206
        }
      },
      "source": [
        "df[30:35]"
      ],
      "execution_count": 207,
      "outputs": [
        {
          "output_type": "execute_result",
          "data": {
            "text/html": [
              "<div>\n",
              "<style scoped>\n",
              "    .dataframe tbody tr th:only-of-type {\n",
              "        vertical-align: middle;\n",
              "    }\n",
              "\n",
              "    .dataframe tbody tr th {\n",
              "        vertical-align: top;\n",
              "    }\n",
              "\n",
              "    .dataframe thead th {\n",
              "        text-align: right;\n",
              "    }\n",
              "</style>\n",
              "<table border=\"1\" class=\"dataframe\">\n",
              "  <thead>\n",
              "    <tr style=\"text-align: right;\">\n",
              "      <th></th>\n",
              "      <th>Date</th>\n",
              "      <th>Open</th>\n",
              "      <th>High</th>\n",
              "      <th>Low</th>\n",
              "      <th>Close</th>\n",
              "      <th>Adj Close</th>\n",
              "      <th>Volume</th>\n",
              "      <th>Diff</th>\n",
              "      <th>Max_30</th>\n",
              "      <th>Min_30</th>\n",
              "      <th>Ave_30</th>\n",
              "    </tr>\n",
              "  </thead>\n",
              "  <tbody>\n",
              "    <tr>\n",
              "      <th>30</th>\n",
              "      <td>1987-10-22</td>\n",
              "      <td>130.649994</td>\n",
              "      <td>130.649994</td>\n",
              "      <td>124.470001</td>\n",
              "      <td>124.570000</td>\n",
              "      <td>124.570000</td>\n",
              "      <td>3922000</td>\n",
              "      <td>-2.980004</td>\n",
              "      <td>172.539993</td>\n",
              "      <td>121.389999</td>\n",
              "      <td>162.263666</td>\n",
              "    </tr>\n",
              "    <tr>\n",
              "      <th>31</th>\n",
              "      <td>1987-10-23</td>\n",
              "      <td>124.580002</td>\n",
              "      <td>124.580002</td>\n",
              "      <td>121.360001</td>\n",
              "      <td>121.589996</td>\n",
              "      <td>121.589996</td>\n",
              "      <td>2456000</td>\n",
              "      <td>-11.259994</td>\n",
              "      <td>172.539993</td>\n",
              "      <td>121.389999</td>\n",
              "      <td>160.631999</td>\n",
              "    </tr>\n",
              "    <tr>\n",
              "      <th>32</th>\n",
              "      <td>1987-10-26</td>\n",
              "      <td>121.580002</td>\n",
              "      <td>121.580002</td>\n",
              "      <td>110.320000</td>\n",
              "      <td>110.330002</td>\n",
              "      <td>110.330002</td>\n",
              "      <td>3088000</td>\n",
              "      <td>-1.820000</td>\n",
              "      <td>172.539993</td>\n",
              "      <td>110.330002</td>\n",
              "      <td>158.628666</td>\n",
              "    </tr>\n",
              "    <tr>\n",
              "      <th>33</th>\n",
              "      <td>1987-10-27</td>\n",
              "      <td>110.320000</td>\n",
              "      <td>113.120003</td>\n",
              "      <td>108.370003</td>\n",
              "      <td>108.510002</td>\n",
              "      <td>108.510002</td>\n",
              "      <td>2602000</td>\n",
              "      <td>-2.430000</td>\n",
              "      <td>172.539993</td>\n",
              "      <td>108.510002</td>\n",
              "      <td>156.605666</td>\n",
              "    </tr>\n",
              "    <tr>\n",
              "      <th>34</th>\n",
              "      <td>1987-10-28</td>\n",
              "      <td>105.459999</td>\n",
              "      <td>108.500000</td>\n",
              "      <td>105.459999</td>\n",
              "      <td>106.080002</td>\n",
              "      <td>106.080002</td>\n",
              "      <td>2794000</td>\n",
              "      <td>4.720001</td>\n",
              "      <td>172.539993</td>\n",
              "      <td>106.080002</td>\n",
              "      <td>154.511000</td>\n",
              "    </tr>\n",
              "  </tbody>\n",
              "</table>\n",
              "</div>"
            ],
            "text/plain": [
              "         Date        Open        High  ...      Max_30      Min_30      Ave_30\n",
              "30 1987-10-22  130.649994  130.649994  ...  172.539993  121.389999  162.263666\n",
              "31 1987-10-23  124.580002  124.580002  ...  172.539993  121.389999  160.631999\n",
              "32 1987-10-26  121.580002  121.580002  ...  172.539993  110.330002  158.628666\n",
              "33 1987-10-27  110.320000  113.120003  ...  172.539993  108.510002  156.605666\n",
              "34 1987-10-28  105.459999  108.500000  ...  172.539993  106.080002  154.511000\n",
              "\n",
              "[5 rows x 11 columns]"
            ]
          },
          "metadata": {
            "tags": []
          },
          "execution_count": 207
        }
      ]
    },
    {
      "cell_type": "code",
      "metadata": {
        "id": "6r9eQXXHVh31",
        "colab_type": "code",
        "colab": {}
      },
      "source": [
        "final = df[['Date','Max_30','Min_30','Ave_30', 'Volume','Close','Diff']]"
      ],
      "execution_count": 0,
      "outputs": []
    },
    {
      "cell_type": "code",
      "metadata": {
        "id": "d9nhQZvhV37E",
        "colab_type": "code",
        "colab": {}
      },
      "source": [
        "final = final.dropna ()"
      ],
      "execution_count": 0,
      "outputs": []
    },
    {
      "cell_type": "code",
      "metadata": {
        "id": "xK3S-xNaWMDw",
        "colab_type": "code",
        "colab": {}
      },
      "source": [
        "X = final[['Max_30','Min_30','Ave_30', 'Volume','Close']].values"
      ],
      "execution_count": 0,
      "outputs": []
    },
    {
      "cell_type": "code",
      "metadata": {
        "id": "5QvL4qERW_be",
        "colab_type": "code",
        "colab": {}
      },
      "source": [
        "scaler = StandardScaler()"
      ],
      "execution_count": 0,
      "outputs": []
    },
    {
      "cell_type": "code",
      "metadata": {
        "id": "ApIuwb_AXXQm",
        "colab_type": "code",
        "colab": {}
      },
      "source": [
        "X = scaler.fit_transform (X)"
      ],
      "execution_count": 0,
      "outputs": []
    },
    {
      "cell_type": "code",
      "metadata": {
        "id": "8Ix7zzx4ci7v",
        "colab_type": "code",
        "colab": {}
      },
      "source": [
        "D = len (X[0])"
      ],
      "execution_count": 0,
      "outputs": []
    },
    {
      "cell_type": "code",
      "metadata": {
        "id": "k-_vN2SN1Bks",
        "colab_type": "code",
        "colab": {}
      },
      "source": [
        "# X = np.asarray (X).reshape (-1, T, 1)"
      ],
      "execution_count": 0,
      "outputs": []
    },
    {
      "cell_type": "code",
      "metadata": {
        "id": "SYt559q6ZlSN",
        "colab_type": "code",
        "colab": {}
      },
      "source": [
        "y = final['Diff'].values"
      ],
      "execution_count": 0,
      "outputs": []
    },
    {
      "cell_type": "code",
      "metadata": {
        "id": "7r4SdPdN4rmk",
        "colab_type": "code",
        "outputId": "c74ae44c-a698-40a4-a4e1-bcd259e11b5f",
        "colab": {
          "base_uri": "https://localhost:8080/",
          "height": 36
        }
      },
      "source": [
        "X.shape, y.shape"
      ],
      "execution_count": 215,
      "outputs": [
        {
          "output_type": "execute_result",
          "data": {
            "text/plain": [
              "((8129, 5), (8129,))"
            ]
          },
          "metadata": {
            "tags": []
          },
          "execution_count": 215
        }
      ]
    },
    {
      "cell_type": "code",
      "metadata": {
        "id": "nKZS4io9akVt",
        "colab_type": "code",
        "colab": {}
      },
      "source": [
        "X_train, X_test, y_train, y_test = train_test_split(X, y, test_size=0.05, random_state=23)"
      ],
      "execution_count": 0,
      "outputs": []
    },
    {
      "cell_type": "code",
      "metadata": {
        "id": "bqmzbpp0K-a9",
        "colab_type": "code",
        "colab": {}
      },
      "source": [
        "look_back = 10"
      ],
      "execution_count": 0,
      "outputs": []
    },
    {
      "cell_type": "markdown",
      "metadata": {
        "id": "htP-F9flNY41",
        "colab_type": "text"
      },
      "source": [
        "> https://github.com/Tony607/Keras_TimeseriesGenerator/blob/master/TimeseriesGenerator.ipynb\n",
        "\n",
        "> https://www.dlology.com/blog/how-to-use-keras-timeseriesgenerator-for-time-series-data/?t=158023255417#rating-54"
      ]
    },
    {
      "cell_type": "code",
      "metadata": {
        "id": "FkeiBOCBbI12",
        "colab_type": "code",
        "colab": {}
      },
      "source": [
        "time = TimeseriesGenerator (X_train,\n",
        "                            y_train,\n",
        "                            length=look_back,\n",
        "                            sampling_rate=1,\n",
        "                            stride=1,\n",
        "                            batch_size=3)"
      ],
      "execution_count": 0,
      "outputs": []
    },
    {
      "cell_type": "markdown",
      "metadata": {
        "id": "OPNZNnj5gbzN",
        "colab_type": "text"
      },
      "source": [
        "### Model Building"
      ]
    },
    {
      "cell_type": "code",
      "metadata": {
        "id": "LcMrJMwvf4qU",
        "colab_type": "code",
        "colab": {}
      },
      "source": [
        "i = Input (shape=(look_back, D))\n",
        "x = LSTM (120) (i)\n",
        "x = Dense (10) (x)\n",
        "x = Dropout (0.5) (x)\n",
        "x = Dense (1) (x)"
      ],
      "execution_count": 0,
      "outputs": []
    },
    {
      "cell_type": "code",
      "metadata": {
        "id": "5eEpujzZgKsQ",
        "colab_type": "code",
        "colab": {}
      },
      "source": [
        "model = Model (i, x)"
      ],
      "execution_count": 0,
      "outputs": []
    },
    {
      "cell_type": "code",
      "metadata": {
        "id": "cSxsFNVWgMtn",
        "colab_type": "code",
        "colab": {}
      },
      "source": [
        "adam = tf.keras.optimizers.Adam (learning_rate=0.01, decay=5e-5)"
      ],
      "execution_count": 0,
      "outputs": []
    },
    {
      "cell_type": "code",
      "metadata": {
        "id": "2ye4oD7lgPbJ",
        "colab_type": "code",
        "colab": {}
      },
      "source": [
        "model.compile (optimizer=adam,\n",
        "               loss='mse')"
      ],
      "execution_count": 0,
      "outputs": []
    },
    {
      "cell_type": "code",
      "metadata": {
        "id": "vwThhHvZgY8r",
        "colab_type": "code",
        "colab": {}
      },
      "source": [
        "epochs = 100"
      ],
      "execution_count": 0,
      "outputs": []
    },
    {
      "cell_type": "code",
      "metadata": {
        "id": "Dj3BAtJrghn5",
        "colab_type": "code",
        "colab": {}
      },
      "source": [
        "r = model.fit_generator (time, epochs=epochs, verbose=False)"
      ],
      "execution_count": 0,
      "outputs": []
    },
    {
      "cell_type": "code",
      "metadata": {
        "id": "8MNdXtBcSFmf",
        "colab_type": "code",
        "colab": {}
      },
      "source": [
        "time_hat = TimeseriesGenerator (X_test,\n",
        "                                y_test,\n",
        "                                length=look_back,\n",
        "                                sampling_rate=1,\n",
        "                                stride=1,\n",
        "                                batch_size=3)"
      ],
      "execution_count": 0,
      "outputs": []
    },
    {
      "cell_type": "code",
      "metadata": {
        "id": "dNNFt83B2DMy",
        "colab_type": "code",
        "outputId": "aab2bacf-11cb-41d2-b6a3-2bfa6254cf66",
        "colab": {
          "base_uri": "https://localhost:8080/",
          "height": 36
        }
      },
      "source": [
        "model.evaluate_generator (time_hat)"
      ],
      "execution_count": 226,
      "outputs": [
        {
          "output_type": "execute_result",
          "data": {
            "text/plain": [
              "120.70497297792507"
            ]
          },
          "metadata": {
            "tags": []
          },
          "execution_count": 226
        }
      ]
    },
    {
      "cell_type": "code",
      "metadata": {
        "id": "F5dVYwzu2iIs",
        "colab_type": "code",
        "outputId": "2383aa49-58ca-4e01-cc75-c966982215a6",
        "colab": {
          "base_uri": "https://localhost:8080/",
          "height": 284
        }
      },
      "source": [
        "plt.plot (r.history['loss'], label='loss', color='#840000')\n",
        "# plt.plot (r.history['val_loss'], label='validation loss', color='#00035b')\n",
        "plt.legend ()"
      ],
      "execution_count": 227,
      "outputs": [
        {
          "output_type": "execute_result",
          "data": {
            "text/plain": [
              "<matplotlib.legend.Legend at 0x7fb81f1cae48>"
            ]
          },
          "metadata": {
            "tags": []
          },
          "execution_count": 227
        },
        {
          "output_type": "display_data",
          "data": {
            "image/png": "[encoded data removed]",
            "text/plain": [
              "<Figure size 432x288 with 1 Axes>"
            ]
          },
          "metadata": {
            "tags": []
          }
        }
      ]
    },
    {
      "cell_type": "code",
      "metadata": {
        "id": "qEDd3XKrSz2a",
        "colab_type": "code",
        "colab": {}
      },
      "source": [
        ""
      ],
      "execution_count": 0,
      "outputs": []
    }
  ]
}