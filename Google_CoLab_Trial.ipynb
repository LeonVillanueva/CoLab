{
  "nbformat": 4,
  "nbformat_minor": 0,
  "metadata": {
    "colab": {
      "name": "Google_CoLab_Trial.ipynb",
      "provenance": [],
      "collapsed_sections": [],
      "include_colab_link": true
    },
    "kernelspec": {
      "name": "python3",
      "display_name": "Python 3"
    }
  },
  "cells": [
    {
      "cell_type": "markdown",
      "metadata": {
        "id": "view-in-github",
        "colab_type": "text"
      },
      "source": [
        "<a href=\"https://colab.research.google.com/github/LeonVillanueva/CoLab/blob/master/Google_CoLab_Trial.ipynb\" target=\"_parent\"><img src=\"https://colab.research.google.com/assets/colab-badge.svg\" alt=\"Open In Colab\"/></a>"
      ]
    },
    {
      "cell_type": "code",
      "metadata": {
        "id": "jVbk1TXFKIM1",
        "colab_type": "code",
        "colab": {
          "base_uri": "https://localhost:8080/",
          "height": 67
        },
        "outputId": "9cb62c43-162a-4138-dd34-6cc843ea7a7b"
      },
      "source": [
        "!pip install -q tensorflow==2.0.0-beta1"
      ],
      "execution_count": 1,
      "outputs": [
        {
          "output_type": "stream",
          "text": [
            "\u001b[K     |████████████████████████████████| 87.9MB 60kB/s \n",
            "\u001b[K     |████████████████████████████████| 3.1MB 44.3MB/s \n",
            "\u001b[K     |████████████████████████████████| 501kB 50.8MB/s \n",
            "\u001b[?25h"
          ],
          "name": "stdout"
        }
      ]
    },
    {
      "cell_type": "code",
      "metadata": {
        "id": "ZhzVUcnOU3Oq",
        "colab_type": "code",
        "colab": {}
      },
      "source": [
        "%%capture\n",
        "import numpy as np\n",
        "import matplotlib.pyplot as plt\n",
        "import pandas as pd\n",
        "import tensorflow as tf"
      ],
      "execution_count": 0,
      "outputs": []
    },
    {
      "cell_type": "code",
      "metadata": {
        "id": "dUTjB5JEUulZ",
        "colab_type": "code",
        "colab": {}
      },
      "source": [
        "from sklearn.datasets import load_breast_cancer\n",
        "from sklearn.model_selection import train_test_split\n",
        "from sklearn.preprocessing import StandardScaler"
      ],
      "execution_count": 0,
      "outputs": []
    },
    {
      "cell_type": "code",
      "metadata": {
        "id": "hQfOGy37pTrg",
        "colab_type": "code",
        "outputId": "6ef555b8-807a-4265-f788-3d0ad01e0d2f",
        "colab": {
          "base_uri": "https://localhost:8080/",
          "height": 34
        }
      },
      "source": [
        "tf.__version__"
      ],
      "execution_count": 4,
      "outputs": [
        {
          "output_type": "execute_result",
          "data": {
            "text/plain": [
              "'2.0.0-beta1'"
            ]
          },
          "metadata": {
            "tags": []
          },
          "execution_count": 4
        }
      ]
    },
    {
      "cell_type": "markdown",
      "metadata": {
        "id": "staiNUmoskZU",
        "colab_type": "text"
      },
      "source": [
        "# Classifier Neural Network"
      ]
    },
    {
      "cell_type": "code",
      "metadata": {
        "id": "0byw3XuLjrZs",
        "colab_type": "code",
        "colab": {}
      },
      "source": [
        "data = load_breast_cancer ()"
      ],
      "execution_count": 0,
      "outputs": []
    },
    {
      "cell_type": "code",
      "metadata": {
        "id": "FN7Kvwbdjud6",
        "colab_type": "code",
        "outputId": "b8a30efe-8d1e-40ab-b82b-1a7d11756d03",
        "colab": {
          "base_uri": "https://localhost:8080/",
          "height": 34
        }
      },
      "source": [
        "type (data)\n",
        "dir (data)"
      ],
      "execution_count": 6,
      "outputs": [
        {
          "output_type": "execute_result",
          "data": {
            "text/plain": [
              "['DESCR', 'data', 'feature_names', 'filename', 'target', 'target_names']"
            ]
          },
          "metadata": {
            "tags": []
          },
          "execution_count": 6
        }
      ]
    },
    {
      "cell_type": "code",
      "metadata": {
        "id": "c2hSNueSjyFy",
        "colab_type": "code",
        "outputId": "f4c8ab27-3649-4c3d-a73c-0474d51257a9",
        "colab": {
          "base_uri": "https://localhost:8080/",
          "height": 235
        }
      },
      "source": [
        "data.data"
      ],
      "execution_count": 7,
      "outputs": [
        {
          "output_type": "execute_result",
          "data": {
            "text/plain": [
              "array([[1.799e+01, 1.038e+01, 1.228e+02, ..., 2.654e-01, 4.601e-01,\n",
              "        1.189e-01],\n",
              "       [2.057e+01, 1.777e+01, 1.329e+02, ..., 1.860e-01, 2.750e-01,\n",
              "        8.902e-02],\n",
              "       [1.969e+01, 2.125e+01, 1.300e+02, ..., 2.430e-01, 3.613e-01,\n",
              "        8.758e-02],\n",
              "       ...,\n",
              "       [1.660e+01, 2.808e+01, 1.083e+02, ..., 1.418e-01, 2.218e-01,\n",
              "        7.820e-02],\n",
              "       [2.060e+01, 2.933e+01, 1.401e+02, ..., 2.650e-01, 4.087e-01,\n",
              "        1.240e-01],\n",
              "       [7.760e+00, 2.454e+01, 4.792e+01, ..., 0.000e+00, 2.871e-01,\n",
              "        7.039e-02]])"
            ]
          },
          "metadata": {
            "tags": []
          },
          "execution_count": 7
        }
      ]
    },
    {
      "cell_type": "code",
      "metadata": {
        "id": "rhKE7sCekCcx",
        "colab_type": "code",
        "colab": {}
      },
      "source": [
        "X = data.data"
      ],
      "execution_count": 0,
      "outputs": []
    },
    {
      "cell_type": "code",
      "metadata": {
        "id": "NbFFE_VykEGK",
        "colab_type": "code",
        "colab": {}
      },
      "source": [
        "y = data.target"
      ],
      "execution_count": 0,
      "outputs": []
    },
    {
      "cell_type": "code",
      "metadata": {
        "id": "3X_blTUtkJKp",
        "colab_type": "code",
        "colab": {}
      },
      "source": [
        "scaler = StandardScaler ()\n",
        "X_scale = scaler.fit_transform (X)\n",
        "X_train, X_test, y_train, y_test = train_test_split (X_scale, y, test_size=0.20, random_state=23)"
      ],
      "execution_count": 0,
      "outputs": []
    },
    {
      "cell_type": "code",
      "metadata": {
        "id": "56cN5PuRkrfh",
        "colab_type": "code",
        "outputId": "709474a0-f1af-4f6b-bca5-c9994ce687f0",
        "colab": {
          "base_uri": "https://localhost:8080/",
          "height": 34
        }
      },
      "source": [
        "data.target_names"
      ],
      "execution_count": 11,
      "outputs": [
        {
          "output_type": "execute_result",
          "data": {
            "text/plain": [
              "array(['malignant', 'benign'], dtype='<U9')"
            ]
          },
          "metadata": {
            "tags": []
          },
          "execution_count": 11
        }
      ]
    },
    {
      "cell_type": "code",
      "metadata": {
        "id": "ivpIC3QZlVD9",
        "colab_type": "code",
        "colab": {}
      },
      "source": [
        "N, D = X_train.shape\n",
        "layers_c =  [tf.keras.layers.Input(shape=(D,)), \n",
        "           tf.keras.layers.Dense(D/3, activation='relu'),\n",
        "           tf.keras.layers.Dense(1, activation='sigmoid')]\n",
        "classifier = tf.keras.models.Sequential (layers_c)"
      ],
      "execution_count": 0,
      "outputs": []
    },
    {
      "cell_type": "code",
      "metadata": {
        "id": "UnIVNHfOk0EB",
        "colab_type": "code",
        "colab": {}
      },
      "source": [
        "classifier.compile (optimizer='adam',\n",
        "                    loss='binary_crossentropy',\n",
        "                    metrics=['accuracy'])\n"
      ],
      "execution_count": 0,
      "outputs": []
    },
    {
      "cell_type": "code",
      "metadata": {
        "id": "j1r1RUxjpuzV",
        "colab_type": "code",
        "outputId": "8ce890d5-464b-4681-de25-cd268e61a8cd",
        "colab": {
          "base_uri": "https://localhost:8080/",
          "height": 34
        }
      },
      "source": [
        "len (X_train)"
      ],
      "execution_count": 14,
      "outputs": [
        {
          "output_type": "execute_result",
          "data": {
            "text/plain": [
              "455"
            ]
          },
          "metadata": {
            "tags": []
          },
          "execution_count": 14
        }
      ]
    },
    {
      "cell_type": "code",
      "metadata": {
        "id": "SlBHKq4_oLsr",
        "colab_type": "code",
        "colab": {}
      },
      "source": [
        "%%capture\n",
        "c = classifier.fit (X_train, y_train, validation_data=(X_test, y_test), epochs=100)"
      ],
      "execution_count": 0,
      "outputs": []
    },
    {
      "cell_type": "code",
      "metadata": {
        "id": "Putl-SVioU4Z",
        "colab_type": "code",
        "outputId": "34a1000e-cf3a-4ebd-e8f3-1a268a59d79b",
        "colab": {
          "base_uri": "https://localhost:8080/",
          "height": 84
        }
      },
      "source": [
        "print ('Training Set Evaluation : ' + str(classifier.evaluate (X_train, y_train)))\n",
        "print ('Test Set Evaluation : ' + str(classifier.evaluate (X_test, y_test)))"
      ],
      "execution_count": 16,
      "outputs": [
        {
          "output_type": "stream",
          "text": [
            "455/455 [==============================] - 0s 73us/sample - loss: 0.0387 - accuracy: 0.9912\n",
            "Training Set Evaluation : [0.03869714271891248, 0.9912088]\n",
            "114/114 [==============================] - 0s 60us/sample - loss: 0.0699 - accuracy: 0.9825\n",
            "Test Set Evaluation : [0.06990365298432216, 0.98245615]\n"
          ],
          "name": "stdout"
        }
      ]
    },
    {
      "cell_type": "code",
      "metadata": {
        "id": "_orsO1SuqvcO",
        "colab_type": "code",
        "outputId": "1162fd91-3d72-4aa7-bf08-9bf942a05ea8",
        "colab": {
          "base_uri": "https://localhost:8080/",
          "height": 282
        }
      },
      "source": [
        "plt.plot (c.history['loss'], label='loss', color='#840000')\n",
        "plt.plot (c.history['val_loss'], label='validation loss', color='#00035b')\n",
        "plt.legend ()"
      ],
      "execution_count": 17,
      "outputs": [
        {
          "output_type": "execute_result",
          "data": {
            "text/plain": [
              "<matplotlib.legend.Legend at 0x7f3c5b56bb00>"
            ]
          },
          "metadata": {
            "tags": []
          },
          "execution_count": 17
        },
        {
          "output_type": "display_data",
          "data": {
            "image/png": "[encoded data removed]",
            "text/plain": [
              "<Figure size 432x288 with 1 Axes>"
            ]
          },
          "metadata": {
            "tags": []
          }
        }
      ]
    },
    {
      "cell_type": "code",
      "metadata": {
        "id": "mj36UrgYq_wF",
        "colab_type": "code",
        "outputId": "41289044-d2e9-4f12-c848-1f1eee6beeb4",
        "colab": {
          "base_uri": "https://localhost:8080/",
          "height": 284
        }
      },
      "source": [
        "plt.plot (c.history['accuracy'], label='accuracy', color='#840000')\n",
        "plt.plot (c.history['val_accuracy'], label='validation accuracy', color='#00035b')\n",
        "plt.legend ()"
      ],
      "execution_count": 18,
      "outputs": [
        {
          "output_type": "execute_result",
          "data": {
            "text/plain": [
              "<matplotlib.legend.Legend at 0x7f3c5b0489e8>"
            ]
          },
          "metadata": {
            "tags": []
          },
          "execution_count": 18
        },
        {
          "output_type": "display_data",
          "data": {
            "image/png": "[encoded data removed]",
            "text/plain": [
              "<Figure size 432x288 with 1 Axes>"
            ]
          },
          "metadata": {
            "tags": []
          }
        }
      ]
    },
    {
      "cell_type": "markdown",
      "metadata": {
        "id": "bsSpdarYr96s",
        "colab_type": "text"
      },
      "source": [
        "### Observations\n",
        "\n",
        "1.   [First Run] Odd accuracy and loss graphing, however compared to usual Neural Networks (comparing using accuracy) classifier model nearly got 99% representation given the data. It didn't actually nead multiple epochs - this was overkill.\n",
        "2.   [Second run] After running some tweaks in the code, and running a clean kernel - now have typical validation and accuracy graphs with a 98% score.\n"
      ]
    },
    {
      "cell_type": "markdown",
      "metadata": {
        "id": "MG4UhKhSRJ3S",
        "colab_type": "text"
      },
      "source": [
        "# Regression Neural Network"
      ]
    },
    {
      "cell_type": "markdown",
      "metadata": {
        "id": "UeyuYjNjXxjb",
        "colab_type": "text"
      },
      "source": [
        "*Note : Learning rate decay added.*"
      ]
    },
    {
      "cell_type": "code",
      "metadata": {
        "id": "CrP4LQOgXvag",
        "colab_type": "code",
        "outputId": "0727cf38-f24a-45ff-b1fb-418b476194f7",
        "colab": {
          "base_uri": "https://localhost:8080/",
          "height": 202
        }
      },
      "source": [
        "!wget https://raw.githubusercontent.com/lazyprogrammer/machine_learning_examples/master/tf2.0/moore.csv"
      ],
      "execution_count": 19,
      "outputs": [
        {
          "output_type": "stream",
          "text": [
            "--2020-01-09 14:56:46--  https://raw.githubusercontent.com/lazyprogrammer/machine_learning_examples/master/tf2.0/moore.csv\n",
            "Resolving raw.githubusercontent.com (raw.githubusercontent.com)... 151.101.0.133, 151.101.64.133, 151.101.128.133, ...\n",
            "Connecting to raw.githubusercontent.com (raw.githubusercontent.com)|151.101.0.133|:443... connected.\n",
            "HTTP request sent, awaiting response... 200 OK\n",
            "Length: 2302 (2.2K) [text/plain]\n",
            "Saving to: ‘moore.csv’\n",
            "\n",
            "\rmoore.csv             0%[                    ]       0  --.-KB/s               \rmoore.csv           100%[===================>]   2.25K  --.-KB/s    in 0s      \n",
            "\n",
            "2020-01-09 14:56:46 (48.3 MB/s) - ‘moore.csv’ saved [2302/2302]\n",
            "\n"
          ],
          "name": "stdout"
        }
      ]
    },
    {
      "cell_type": "code",
      "metadata": {
        "id": "xi2LXf-TZwmi",
        "colab_type": "code",
        "outputId": "c45ec620-6674-48fa-abdc-c700eece4de8",
        "colab": {
          "base_uri": "https://localhost:8080/",
          "height": 136
        }
      },
      "source": [
        "data = pd.read_csv('moore.csv', header=None)\n",
        "data.head(3)"
      ],
      "execution_count": 20,
      "outputs": [
        {
          "output_type": "execute_result",
          "data": {
            "text/html": [
              "<div>\n",
              "<style scoped>\n",
              "    .dataframe tbody tr th:only-of-type {\n",
              "        vertical-align: middle;\n",
              "    }\n",
              "\n",
              "    .dataframe tbody tr th {\n",
              "        vertical-align: top;\n",
              "    }\n",
              "\n",
              "    .dataframe thead th {\n",
              "        text-align: right;\n",
              "    }\n",
              "</style>\n",
              "<table border=\"1\" class=\"dataframe\">\n",
              "  <thead>\n",
              "    <tr style=\"text-align: right;\">\n",
              "      <th></th>\n",
              "      <th>0</th>\n",
              "      <th>1</th>\n",
              "    </tr>\n",
              "  </thead>\n",
              "  <tbody>\n",
              "    <tr>\n",
              "      <th>0</th>\n",
              "      <td>1971</td>\n",
              "      <td>2300</td>\n",
              "    </tr>\n",
              "    <tr>\n",
              "      <th>1</th>\n",
              "      <td>1972</td>\n",
              "      <td>3500</td>\n",
              "    </tr>\n",
              "    <tr>\n",
              "      <th>2</th>\n",
              "      <td>1973</td>\n",
              "      <td>2500</td>\n",
              "    </tr>\n",
              "  </tbody>\n",
              "</table>\n",
              "</div>"
            ],
            "text/plain": [
              "      0     1\n",
              "0  1971  2300\n",
              "1  1972  3500\n",
              "2  1973  2500"
            ]
          },
          "metadata": {
            "tags": []
          },
          "execution_count": 20
        }
      ]
    },
    {
      "cell_type": "code",
      "metadata": {
        "id": "9feVLTPMadMv",
        "colab_type": "code",
        "colab": {}
      },
      "source": [
        "X = data.iloc[:,0].to_numpy().reshape(-1,1)\n",
        "X = X - X.mean()\n",
        "y = data.iloc[:,1].to_numpy()"
      ],
      "execution_count": 0,
      "outputs": []
    },
    {
      "cell_type": "code",
      "metadata": {
        "id": "sxHwqeLifePL",
        "colab_type": "code",
        "colab": {}
      },
      "source": [
        "y = np.log (y)"
      ],
      "execution_count": 0,
      "outputs": []
    },
    {
      "cell_type": "code",
      "metadata": {
        "id": "UZlPQrCOgRl2",
        "colab_type": "code",
        "outputId": "be7efcb6-7825-4295-b8f1-193351cf78fc",
        "colab": {
          "base_uri": "https://localhost:8080/",
          "height": 282
        }
      },
      "source": [
        "plt.scatter (X, y, edgecolors='#0165fc', marker='H', facecolors='none')"
      ],
      "execution_count": 23,
      "outputs": [
        {
          "output_type": "execute_result",
          "data": {
            "text/plain": [
              "<matplotlib.collections.PathCollection at 0x7f3c5afecb70>"
            ]
          },
          "metadata": {
            "tags": []
          },
          "execution_count": 23
        },
        {
          "output_type": "display_data",
          "data": {
            "image/png": "[encoded data removed]",
            "text/plain": [
              "<Figure size 432x288 with 1 Axes>"
            ]
          },
          "metadata": {
            "tags": []
          }
        }
      ]
    },
    {
      "cell_type": "code",
      "metadata": {
        "id": "Uv0958qMhvUq",
        "colab_type": "code",
        "colab": {}
      },
      "source": [
        "# X_train, X_test, y_train, y_test = train_test_split (X, y, test_size=0.20, random_state=23)"
      ],
      "execution_count": 0,
      "outputs": []
    },
    {
      "cell_type": "code",
      "metadata": {
        "id": "F0CbaVWnh8j-",
        "colab_type": "code",
        "colab": {}
      },
      "source": [
        "N, D = X.shape\n",
        "layers_r =  [tf.keras.layers.Input(shape=(D,)), \n",
        "           tf.keras.layers.Dense(1, activation=None)]\n",
        "regressor = tf.keras.models.Sequential (layers_r)"
      ],
      "execution_count": 0,
      "outputs": []
    },
    {
      "cell_type": "code",
      "metadata": {
        "id": "eu7bmcEKXXM1",
        "colab_type": "code",
        "colab": {}
      },
      "source": [
        "sgd = tf.keras.optimizers.SGD (learning_rate=0.001, decay=1e-6, momentum=0.9, nesterov=True)"
      ],
      "execution_count": 0,
      "outputs": []
    },
    {
      "cell_type": "code",
      "metadata": {
        "id": "VOZn4O_9vIfa",
        "colab_type": "code",
        "colab": {}
      },
      "source": [
        "regressor.compile (optimizer=sgd,\n",
        "                  loss='mse')"
      ],
      "execution_count": 0,
      "outputs": []
    },
    {
      "cell_type": "code",
      "metadata": {
        "id": "B9ijZSotvqlv",
        "colab_type": "code",
        "colab": {}
      },
      "source": [
        "%%capture\n",
        "r = regressor.fit (X, y, epochs=100)"
      ],
      "execution_count": 0,
      "outputs": []
    },
    {
      "cell_type": "code",
      "metadata": {
        "id": "U5dD49mrweis",
        "colab_type": "code",
        "outputId": "289d9329-7210-4f94-e40d-fe5413e29526",
        "colab": {
          "base_uri": "https://localhost:8080/",
          "height": 50
        }
      },
      "source": [
        "print ('Training Set Evaluation : ' + str(regressor.evaluate (X, y)))"
      ],
      "execution_count": 29,
      "outputs": [
        {
          "output_type": "stream",
          "text": [
            "162/162 [==============================] - 0s 146us/sample - loss: 0.8866\n",
            "Training Set Evaluation : 0.8866347341257849\n"
          ],
          "name": "stdout"
        }
      ]
    },
    {
      "cell_type": "code",
      "metadata": {
        "id": "O2IM161bwphC",
        "colab_type": "code",
        "outputId": "ab5f79e5-ef25-4f02-e9b1-6876301c76b4",
        "colab": {
          "base_uri": "https://localhost:8080/",
          "height": 282
        }
      },
      "source": [
        "plt.plot (r.history['loss'], label='loss', color='#840000')\n",
        "plt.legend ()"
      ],
      "execution_count": 30,
      "outputs": [
        {
          "output_type": "execute_result",
          "data": {
            "text/plain": [
              "<matplotlib.legend.Legend at 0x7f3c58536978>"
            ]
          },
          "metadata": {
            "tags": []
          },
          "execution_count": 30
        },
        {
          "output_type": "display_data",
          "data": {
            "image/png": "[encoded data removed]",
            "text/plain": [
              "<Figure size 432x288 with 1 Axes>"
            ]
          },
          "metadata": {
            "tags": []
          }
        }
      ]
    },
    {
      "cell_type": "code",
      "metadata": {
        "id": "hGMiSKQNzPkg",
        "colab_type": "code",
        "colab": {
          "base_uri": "https://localhost:8080/",
          "height": 34
        },
        "outputId": "c9348456-2be4-45e3-ccc9-8f9518c4f8d5"
      },
      "source": [
        "r_weights = regressor.layers[0].get_weights()\n",
        "print (r_weights)"
      ],
      "execution_count": 31,
      "outputs": [
        {
          "output_type": "stream",
          "text": [
            "[array([[0.3510303]], dtype=float32), array([17.753986], dtype=float32)]\n"
          ],
          "name": "stdout"
        }
      ]
    },
    {
      "cell_type": "code",
      "metadata": {
        "id": "X7Eupf0rD_33",
        "colab_type": "code",
        "colab": {
          "base_uri": "https://localhost:8080/",
          "height": 34
        },
        "outputId": "6ca2e5dd-a9d8-452b-e84e-fac5614e2935"
      },
      "source": [
        "m = r_weights[0][0,0]\n",
        "print (m)"
      ],
      "execution_count": 37,
      "outputs": [
        {
          "output_type": "stream",
          "text": [
            "0.3510303\n"
          ],
          "name": "stdout"
        }
      ]
    },
    {
      "cell_type": "code",
      "metadata": {
        "id": "-GxxnOHQKgqu",
        "colab_type": "code",
        "colab": {
          "base_uri": "https://localhost:8080/",
          "height": 34
        },
        "outputId": "b4499787-7513-4011-b12b-a821a53aad83"
      },
      "source": [
        "r = np.e ** m\n",
        "print (r)"
      ],
      "execution_count": 39,
      "outputs": [
        {
          "output_type": "stream",
          "text": [
            "1.4205303533050648\n"
          ],
          "name": "stdout"
        }
      ]
    },
    {
      "cell_type": "markdown",
      "metadata": {
        "id": "icurOBwBLczL",
        "colab_type": "text"
      },
      "source": [
        "$ \n",
        "y = mx + b \\\\\n",
        "b = 0 \\\\\n",
        "y = C \\\\\n",
        "C = A_0r^t \\\\\n",
        "$<br>\n",
        "*because we linearized, i.e. log*<br>\n",
        "<br>\n",
        "$\n",
        "2C / C =  \\frac {A_0r^{t'}} {A_0r^t} \\\\\n",
        "2 = r ^ {t'-t} \\\\\n",
        "t' - t = \\frac {log (2)} {log (r)}\n",
        "$"
      ]
    },
    {
      "cell_type": "code",
      "metadata": {
        "id": "7uRZkFTZNmUz",
        "colab_type": "code",
        "colab": {
          "base_uri": "https://localhost:8080/",
          "height": 34
        },
        "outputId": "86cf19d3-1c1c-4fbe-c123-ac163d28eee8"
      },
      "source": [
        "t_prime = np.log(2) / np.log (r)\n",
        "print (t_prime)"
      ],
      "execution_count": 40,
      "outputs": [
        {
          "output_type": "stream",
          "text": [
            "1.9746078901326836\n"
          ],
          "name": "stdout"
        }
      ]
    },
    {
      "cell_type": "markdown",
      "metadata": {
        "id": "cuG2EGpR0ErX",
        "colab_type": "text"
      },
      "source": [
        "# Observations\n",
        "\n",
        "1.   Initial run showed nan as loss. After investigating, it was due to X not being scaled that loss was not converging.\n",
        "2.   Output showed a loss of 0.8793, decent. We did not, in the end, opt to put in a train_test_split as there was a limited number of observations.\n",
        "3.   Moore's law holds = double at 1.9746, near 2.\n",
        "\n"
      ]
    },
    {
      "cell_type": "markdown",
      "metadata": {
        "id": "uo9s-diP_3R8",
        "colab_type": "text"
      },
      "source": [
        "# Footnote"
      ]
    },
    {
      "cell_type": "markdown",
      "metadata": {
        "id": "aAQ925KFJgKJ",
        "colab_type": "text"
      },
      "source": [
        "\n",
        "\n",
        "```\n",
        "# Scheduler\n",
        "\n",
        "def schedule (epoch, lr):\n",
        "  if epoch >= 50:\n",
        "    return lr = 1e-3\n",
        "  return lr = 1e-2\n",
        "\n",
        "# above describes a decayed learning rate from 1e-2 to 1e-3 after 50 epochs\n",
        "\n",
        "scheduler = tf.keras.callbacks.LearningRateScheduler (schedule)\n",
        "\n",
        "r = regressor.fit (X, y, epochs=200, callbacks=[scheduler])\n",
        "\n",
        "# have to check keras.callbacks == Pytorch hook?\n",
        "```\n",
        "\n"
      ]
    }
  ]
}