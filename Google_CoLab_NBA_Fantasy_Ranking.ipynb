{
  "nbformat": 4,
  "nbformat_minor": 0,
  "metadata": {
    "colab": {
      "name": "Google_CoLab_NBA_Fantasy_Ranking.ipynb",
      "provenance": [],
      "toc_visible": true,
      "authorship_tag": "ABX9TyMzuvtxj5c/qpAbPFAyIfdu",
      "include_colab_link": true
    },
    "kernelspec": {
      "name": "python3",
      "display_name": "Python 3"
    }
  },
  "cells": [
    {
      "cell_type": "markdown",
      "metadata": {
        "id": "view-in-github",
        "colab_type": "text"
      },
      "source": [
        "<a href=\"https://colab.research.google.com/github/LeonVillanueva/CoLab/blob/master/Google_CoLab_NBA_Fantasy_Ranking.ipynb\" target=\"_parent\"><img src=\"https://colab.research.google.com/assets/colab-badge.svg\" alt=\"Open In Colab\"/></a>"
      ]
    },
    {
      "cell_type": "markdown",
      "metadata": {
        "id": "i9UhOrliWcpz",
        "colab_type": "text"
      },
      "source": [
        "# NBA Fantasy Rankings : A Fairer Approach"
      ]
    },
    {
      "cell_type": "code",
      "metadata": {
        "id": "zAdjUoqyNEfg",
        "colab_type": "code",
        "colab": {}
      },
      "source": [
        "import pandas as pd\n",
        "import numpy as np\n",
        "import matplotlib.pyplot as plt\n",
        "from sklearn.preprocessing import StandardScaler"
      ],
      "execution_count": 0,
      "outputs": []
    },
    {
      "cell_type": "code",
      "metadata": {
        "id": "ywe87nr5NL4H",
        "colab_type": "code",
        "colab": {}
      },
      "source": [
        "df = pd.read_csv ('NBA2019.csv')"
      ],
      "execution_count": 0,
      "outputs": []
    },
    {
      "cell_type": "code",
      "metadata": {
        "id": "uu3qpprkNQid",
        "colab_type": "code",
        "outputId": "e4e2a6a6-6166-4753-bb6a-11c0b4bfa60e",
        "colab": {
          "base_uri": "https://localhost:8080/",
          "height": 90
        }
      },
      "source": [
        "df.columns.values"
      ],
      "execution_count": 4,
      "outputs": [
        {
          "output_type": "execute_result",
          "data": {
            "text/plain": [
              "array(['Rk', 'Player', 'Pos', 'Age', 'Tm', 'G', 'GS', 'MP', 'FG', 'FGA',\n",
              "       'FG%', '3P', '3PA', '3P%', '2P', '2PA', '2P%', 'eFG%', 'FT', 'FTA',\n",
              "       'FT%', 'ORB', 'DRB', 'TRB', 'AST', 'STL', 'BLK', 'TOV', 'PF',\n",
              "       'PTS'], dtype=object)"
            ]
          },
          "metadata": {
            "tags": []
          },
          "execution_count": 4
        }
      ]
    },
    {
      "cell_type": "code",
      "metadata": {
        "id": "JtfM12MtNbi7",
        "colab_type": "code",
        "colab": {}
      },
      "source": [
        "cols = ['Player', 'Pos', 'G', 'MP', 'FG%', 'FT%', '3P', 'PTS', 'TRB', 'AST', 'STL', 'BLK', 'TOV']\n",
        "vals = ['G', 'MP', 'FG%', 'FT%', '3P', 'PTS', 'TRB', 'AST', 'STL', 'BLK', 'TOV']\n",
        "cats = ['FG%', 'FT%', '3P', 'PTS', 'TRB', 'AST', 'STL', 'BLK', 'TOV']\n",
        "strs = ['Player', 'Pos', 'G']"
      ],
      "execution_count": 0,
      "outputs": []
    },
    {
      "cell_type": "code",
      "metadata": {
        "id": "hhMU9jb2PBZt",
        "colab_type": "code",
        "colab": {}
      },
      "source": [
        "df = df[~df['Player'].duplicated()] # removed duplicates, kept only totals see Zubac\n",
        "df = df [cols] # kept only nine category for fantasy"
      ],
      "execution_count": 0,
      "outputs": []
    },
    {
      "cell_type": "code",
      "metadata": {
        "id": "4_-SQ0UcPFgQ",
        "colab_type": "code",
        "colab": {}
      },
      "source": [
        "df = df [df['G'] >= 60] # kept only people that played 60+ games, this is arbitrary"
      ],
      "execution_count": 0,
      "outputs": []
    },
    {
      "cell_type": "code",
      "metadata": {
        "id": "hdwMHkKbTpZn",
        "colab_type": "code",
        "outputId": "957cba23-380c-45b3-f538-7fd4b3f22c57",
        "colab": {
          "base_uri": "https://localhost:8080/",
          "height": 35
        }
      },
      "source": [
        "df.shape"
      ],
      "execution_count": 8,
      "outputs": [
        {
          "output_type": "execute_result",
          "data": {
            "text/plain": [
              "(239, 13)"
            ]
          },
          "metadata": {
            "tags": []
          },
          "execution_count": 8
        }
      ]
    },
    {
      "cell_type": "code",
      "metadata": {
        "id": "7KNvhDR-RKWL",
        "colab_type": "code",
        "colab": {}
      },
      "source": [
        "scaler = StandardScaler ()"
      ],
      "execution_count": 0,
      "outputs": []
    },
    {
      "cell_type": "code",
      "metadata": {
        "id": "Dra1wfMVSdnK",
        "colab_type": "code",
        "colab": {}
      },
      "source": [
        "scaler.fit (df[cats])\n",
        "scaled_df = scaler.transform (df[cats])"
      ],
      "execution_count": 0,
      "outputs": []
    },
    {
      "cell_type": "code",
      "metadata": {
        "id": "uB5NclenS4rT",
        "colab_type": "code",
        "colab": {}
      },
      "source": [
        "norm = pd.DataFrame (scaled_df, columns=cats)"
      ],
      "execution_count": 0,
      "outputs": []
    },
    {
      "cell_type": "code",
      "metadata": {
        "id": "-zFMKdh6VCT7",
        "colab_type": "code",
        "colab": {}
      },
      "source": [
        "names = df [strs].reset_index()"
      ],
      "execution_count": 0,
      "outputs": []
    },
    {
      "cell_type": "code",
      "metadata": {
        "id": "KXYIWr81VnmR",
        "colab_type": "code",
        "colab": {}
      },
      "source": [
        "final = names.join (norm)"
      ],
      "execution_count": 0,
      "outputs": []
    },
    {
      "cell_type": "code",
      "metadata": {
        "id": "OPGeC90FY_NP",
        "colab_type": "code",
        "colab": {}
      },
      "source": [
        "games = 82"
      ],
      "execution_count": 0,
      "outputs": []
    },
    {
      "cell_type": "code",
      "metadata": {
        "id": "pwGa_ViRXPZ4",
        "colab_type": "code",
        "colab": {}
      },
      "source": [
        "final = final.iloc[:,1:]\n",
        "final['TOV'] = -1 * final['TOV']\n",
        "final['FAN'] = final[cats].sum(axis=1) * final['G']/games"
      ],
      "execution_count": 0,
      "outputs": []
    },
    {
      "cell_type": "code",
      "metadata": {
        "id": "AijCNXxbX_6_",
        "colab_type": "code",
        "colab": {}
      },
      "source": [
        "final.sort_values (by='FAN', ascending=False, inplace=True)"
      ],
      "execution_count": 0,
      "outputs": []
    },
    {
      "cell_type": "code",
      "metadata": {
        "id": "vo4v4rl3ZWUP",
        "colab_type": "code",
        "outputId": "32f3e7ea-fb7f-4af9-fbbb-81601e9bcbe0",
        "colab": {
          "base_uri": "https://localhost:8080/",
          "height": 426
        }
      },
      "source": [
        "final.head(12) # first two rounds"
      ],
      "execution_count": 40,
      "outputs": [
        {
          "output_type": "execute_result",
          "data": {
            "text/html": [
              "<div>\n",
              "<style scoped>\n",
              "    .dataframe tbody tr th:only-of-type {\n",
              "        vertical-align: middle;\n",
              "    }\n",
              "\n",
              "    .dataframe tbody tr th {\n",
              "        vertical-align: top;\n",
              "    }\n",
              "\n",
              "    .dataframe thead th {\n",
              "        text-align: right;\n",
              "    }\n",
              "</style>\n",
              "<table border=\"1\" class=\"dataframe\">\n",
              "  <thead>\n",
              "    <tr style=\"text-align: right;\">\n",
              "      <th></th>\n",
              "      <th>Player</th>\n",
              "      <th>Pos</th>\n",
              "      <th>G</th>\n",
              "      <th>FG%</th>\n",
              "      <th>FT%</th>\n",
              "      <th>3P</th>\n",
              "      <th>PTS</th>\n",
              "      <th>TRB</th>\n",
              "      <th>AST</th>\n",
              "      <th>STL</th>\n",
              "      <th>BLK</th>\n",
              "      <th>TOV</th>\n",
              "      <th>FAN</th>\n",
              "    </tr>\n",
              "  </thead>\n",
              "  <tbody>\n",
              "    <tr>\n",
              "      <th>96</th>\n",
              "      <td>James Harden\\hardeja01</td>\n",
              "      <td>PG</td>\n",
              "      <td>78</td>\n",
              "      <td>-0.385066</td>\n",
              "      <td>1.236741</td>\n",
              "      <td>4.327061</td>\n",
              "      <td>4.185231</td>\n",
              "      <td>0.850017</td>\n",
              "      <td>2.823030</td>\n",
              "      <td>3.336062</td>\n",
              "      <td>0.572378</td>\n",
              "      <td>-4.534322</td>\n",
              "      <td>11.805712</td>\n",
              "    </tr>\n",
              "    <tr>\n",
              "      <th>81</th>\n",
              "      <td>Paul George\\georgpa01</td>\n",
              "      <td>SF</td>\n",
              "      <td>77</td>\n",
              "      <td>-0.447703</td>\n",
              "      <td>0.786074</td>\n",
              "      <td>3.029675</td>\n",
              "      <td>2.756543</td>\n",
              "      <td>1.406784</td>\n",
              "      <td>0.908469</td>\n",
              "      <td>3.740741</td>\n",
              "      <td>-0.128852</td>\n",
              "      <td>-1.607655</td>\n",
              "      <td>9.807241</td>\n",
              "    </tr>\n",
              "    <tr>\n",
              "      <th>84</th>\n",
              "      <td>Rudy Gobert\\goberru01</td>\n",
              "      <td>C</td>\n",
              "      <td>81</td>\n",
              "      <td>3.169633</td>\n",
              "      <td>-1.501059</td>\n",
              "      <td>-1.375404</td>\n",
              "      <td>0.859575</td>\n",
              "      <td>3.497189</td>\n",
              "      <td>-0.213121</td>\n",
              "      <td>0.233523</td>\n",
              "      <td>4.341492</td>\n",
              "      <td>-0.401611</td>\n",
              "      <td>8.505215</td>\n",
              "    </tr>\n",
              "    <tr>\n",
              "      <th>218</th>\n",
              "      <td>Karl-Anthony Towns\\townska01</td>\n",
              "      <td>C</td>\n",
              "      <td>77</td>\n",
              "      <td>0.805054</td>\n",
              "      <td>0.752274</td>\n",
              "      <td>0.766792</td>\n",
              "      <td>2.151681</td>\n",
              "      <td>3.056838</td>\n",
              "      <td>0.486980</td>\n",
              "      <td>0.267246</td>\n",
              "      <td>2.529980</td>\n",
              "      <td>-2.170476</td>\n",
              "      <td>8.119151</td>\n",
              "    </tr>\n",
              "    <tr>\n",
              "      <th>15</th>\n",
              "      <td>Bradley Beal\\bealbr01</td>\n",
              "      <td>SG</td>\n",
              "      <td>82</td>\n",
              "      <td>0.131697</td>\n",
              "      <td>0.436807</td>\n",
              "      <td>1.777547</td>\n",
              "      <td>2.626465</td>\n",
              "      <td>0.308435</td>\n",
              "      <td>1.837174</td>\n",
              "      <td>2.088302</td>\n",
              "      <td>0.572378</td>\n",
              "      <td>-1.913186</td>\n",
              "      <td>7.865619</td>\n",
              "    </tr>\n",
              "    <tr>\n",
              "      <th>127</th>\n",
              "      <td>Nikola Jokić\\jokicni01</td>\n",
              "      <td>C</td>\n",
              "      <td>80</td>\n",
              "      <td>0.695437</td>\n",
              "      <td>0.583274</td>\n",
              "      <td>-0.123275</td>\n",
              "      <td>1.553323</td>\n",
              "      <td>2.606363</td>\n",
              "      <td>2.780167</td>\n",
              "      <td>1.649900</td>\n",
              "      <td>0.484724</td>\n",
              "      <td>-2.299120</td>\n",
              "      <td>7.737359</td>\n",
              "    </tr>\n",
              "    <tr>\n",
              "      <th>225</th>\n",
              "      <td>Nikola Vučević\\vucevni01</td>\n",
              "      <td>C</td>\n",
              "      <td>80</td>\n",
              "      <td>0.805054</td>\n",
              "      <td>0.222741</td>\n",
              "      <td>-0.108189</td>\n",
              "      <td>1.685569</td>\n",
              "      <td>3.087207</td>\n",
              "      <td>0.829886</td>\n",
              "      <td>0.739372</td>\n",
              "      <td>1.478134</td>\n",
              "      <td>-0.867948</td>\n",
              "      <td>7.679829</td>\n",
              "    </tr>\n",
              "    <tr>\n",
              "      <th>146</th>\n",
              "      <td>Damian Lillard\\lillada01</td>\n",
              "      <td>PG</td>\n",
              "      <td>80</td>\n",
              "      <td>-0.353747</td>\n",
              "      <td>1.608541</td>\n",
              "      <td>2.199951</td>\n",
              "      <td>2.557090</td>\n",
              "      <td>0.105974</td>\n",
              "      <td>2.572994</td>\n",
              "      <td>0.975434</td>\n",
              "      <td>-0.128852</td>\n",
              "      <td>-1.720219</td>\n",
              "      <td>7.626505</td>\n",
              "    </tr>\n",
              "    <tr>\n",
              "      <th>227</th>\n",
              "      <td>Kemba Walker\\walkeke02</td>\n",
              "      <td>PG</td>\n",
              "      <td>82</td>\n",
              "      <td>-0.510341</td>\n",
              "      <td>0.842407</td>\n",
              "      <td>2.546927</td>\n",
              "      <td>2.632969</td>\n",
              "      <td>0.055359</td>\n",
              "      <td>2.094354</td>\n",
              "      <td>1.447560</td>\n",
              "      <td>-0.128852</td>\n",
              "      <td>-1.704139</td>\n",
              "      <td>7.276244</td>\n",
              "    </tr>\n",
              "    <tr>\n",
              "      <th>56</th>\n",
              "      <td>Stephen Curry\\curryst01</td>\n",
              "      <td>PG</td>\n",
              "      <td>69</td>\n",
              "      <td>0.084718</td>\n",
              "      <td>1.653607</td>\n",
              "      <td>3.965000</td>\n",
              "      <td>2.153849</td>\n",
              "      <td>0.095851</td>\n",
              "      <td>1.215656</td>\n",
              "      <td>1.110328</td>\n",
              "      <td>-0.391814</td>\n",
              "      <td>-1.398607</td>\n",
              "      <td>7.142837</td>\n",
              "    </tr>\n",
              "    <tr>\n",
              "      <th>5</th>\n",
              "      <td>Giannis Antetokounmpo\\antetgi01</td>\n",
              "      <td>PF</td>\n",
              "      <td>72</td>\n",
              "      <td>1.744621</td>\n",
              "      <td>-0.453259</td>\n",
              "      <td>-0.590937</td>\n",
              "      <td>2.398829</td>\n",
              "      <td>2.773393</td>\n",
              "      <td>1.665721</td>\n",
              "      <td>1.110328</td>\n",
              "      <td>2.091711</td>\n",
              "      <td>-2.620732</td>\n",
              "      <td>7.129470</td>\n",
              "    </tr>\n",
              "    <tr>\n",
              "      <th>66</th>\n",
              "      <td>Kevin Durant\\duranke01</td>\n",
              "      <td>SF</td>\n",
              "      <td>78</td>\n",
              "      <td>0.852032</td>\n",
              "      <td>1.304341</td>\n",
              "      <td>0.691363</td>\n",
              "      <td>2.470372</td>\n",
              "      <td>0.743725</td>\n",
              "      <td>1.901469</td>\n",
              "      <td>-0.036263</td>\n",
              "      <td>1.332045</td>\n",
              "      <td>-1.929267</td>\n",
              "      <td>6.972264</td>\n",
              "    </tr>\n",
              "  </tbody>\n",
              "</table>\n",
              "</div>"
            ],
            "text/plain": [
              "                              Player Pos   G  ...       BLK       TOV        FAN\n",
              "96            James Harden\\hardeja01  PG  78  ...  0.572378 -4.534322  11.805712\n",
              "81             Paul George\\georgpa01  SF  77  ... -0.128852 -1.607655   9.807241\n",
              "84             Rudy Gobert\\goberru01   C  81  ...  4.341492 -0.401611   8.505215\n",
              "218     Karl-Anthony Towns\\townska01   C  77  ...  2.529980 -2.170476   8.119151\n",
              "15             Bradley Beal\\bealbr01  SG  82  ...  0.572378 -1.913186   7.865619\n",
              "127           Nikola Jokić\\jokicni01   C  80  ...  0.484724 -2.299120   7.737359\n",
              "225         Nikola Vučević\\vucevni01   C  80  ...  1.478134 -0.867948   7.679829\n",
              "146         Damian Lillard\\lillada01  PG  80  ... -0.128852 -1.720219   7.626505\n",
              "227           Kemba Walker\\walkeke02  PG  82  ... -0.128852 -1.704139   7.276244\n",
              "56           Stephen Curry\\curryst01  PG  69  ... -0.391814 -1.398607   7.142837\n",
              "5    Giannis Antetokounmpo\\antetgi01  PF  72  ...  2.091711 -2.620732   7.129470\n",
              "66            Kevin Durant\\duranke01  SF  78  ...  1.332045 -1.929267   6.972264\n",
              "\n",
              "[12 rows x 13 columns]"
            ]
          },
          "metadata": {
            "tags": []
          },
          "execution_count": 40
        }
      ]
    },
    {
      "cell_type": "code",
      "metadata": {
        "id": "uTcEMPf8TP09",
        "colab_type": "code",
        "colab": {}
      },
      "source": [
        "# https://datascience.stackexchange.com/questions/10459/calculation-and-visualization-of-correlation-matrix-with-pandas"
      ],
      "execution_count": 0,
      "outputs": []
    },
    {
      "cell_type": "code",
      "metadata": {
        "id": "oawip9DqZZc1",
        "colab_type": "code",
        "outputId": "2c731f08-3d59-43e5-920c-30b617a624d3",
        "colab": {
          "base_uri": "https://localhost:8080/",
          "height": 276
        }
      },
      "source": [
        "def correlation_matrix(df, labels):\n",
        "    from matplotlib import pyplot as plt\n",
        "    from matplotlib import cm as cm\n",
        "\n",
        "    fig = plt.figure()\n",
        "    ax1 = fig.add_subplot(111)\n",
        "    cmap = cm.get_cmap('jet', 30)\n",
        "    cax = ax1.imshow(df.corr(), interpolation=\"nearest\", cmap=cmap)\n",
        "    ax1.grid(True)\n",
        "    plt.title('NBA Category Correlations')\n",
        "    ax1.set_xticklabels(labels,fontsize=6)\n",
        "    ax1.set_yticklabels(labels,fontsize=6)\n",
        "    # Add colorbar, make sure to specify tick locations to match desired ticklabels\n",
        "    fig.colorbar(cax, ticks=[-0.75,-.50,0,.50,1])\n",
        "    plt.show()\n",
        "\n",
        "correlation_matrix(final[cats], labels=cats)"
      ],
      "execution_count": 50,
      "outputs": [
        {
          "output_type": "display_data",
          "data": {
            "image/png": "[encoded data removed]",
            "text/plain": [
              "<Figure size 432x288 with 2 Axes>"
            ]
          },
          "metadata": {
            "tags": []
          }
        }
      ]
    },
    {
      "cell_type": "code",
      "metadata": {
        "id": "nCOamSmbhPPj",
        "colab_type": "code",
        "colab": {
          "base_uri": "https://localhost:8080/",
          "height": 199
        },
        "outputId": "46427c5a-8dff-413c-f4f6-a357f0c0650c"
      },
      "source": [
        "(final[cats].corr()>0).sum(axis=1).sort_values(ascending=False)"
      ],
      "execution_count": 49,
      "outputs": [
        {
          "output_type": "execute_result",
          "data": {
            "text/plain": [
              "PTS    8\n",
              "STL    7\n",
              "AST    6\n",
              "TRB    6\n",
              "BLK    5\n",
              "3P     5\n",
              "FT%    5\n",
              "FG%    4\n",
              "TOV    1\n",
              "dtype: int64"
            ]
          },
          "metadata": {
            "tags": []
          },
          "execution_count": 49
        }
      ]
    }
  ]
}