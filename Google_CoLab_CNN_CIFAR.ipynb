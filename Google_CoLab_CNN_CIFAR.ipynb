{
  "nbformat": 4,
  "nbformat_minor": 0,
  "metadata": {
    "colab": {
      "name": "Google_CoLab_CNN_CIFAR.ipynb",
      "provenance": [],
      "machine_shape": "hm",
      "authorship_tag": "ABX9TyMIjRRyOjEKHWYqY89EgWy/",
      "include_colab_link": true
    },
    "kernelspec": {
      "name": "python3",
      "display_name": "Python 3"
    }
  },
  "cells": [
    {
      "cell_type": "markdown",
      "metadata": {
        "id": "view-in-github",
        "colab_type": "text"
      },
      "source": [
        "<a href=\"https://colab.research.google.com/github/LeonVillanueva/CoLab/blob/master/Google_CoLab_CNN_CIFAR.ipynb\" target=\"_parent\"><img src=\"https://colab.research.google.com/assets/colab-badge.svg\" alt=\"Open In Colab\"/></a>"
      ]
    },
    {
      "cell_type": "markdown",
      "metadata": {
        "id": "r0WvbfH1ZFZv",
        "colab_type": "text"
      },
      "source": [
        "# Setup and Data"
      ]
    },
    {
      "cell_type": "code",
      "metadata": {
        "id": "d9IS07UFY9IP",
        "colab_type": "code",
        "colab": {}
      },
      "source": [
        "!pip install -q tensorflow==2.0.0-beta1"
      ],
      "execution_count": 0,
      "outputs": []
    },
    {
      "cell_type": "code",
      "metadata": {
        "id": "-O3oZoU_ZA96",
        "colab_type": "code",
        "colab": {}
      },
      "source": [
        "%%capture\n",
        "import numpy as np\n",
        "import matplotlib.pyplot as plt\n",
        "import pandas as pd\n",
        "import tensorflow as tf\n",
        "import seaborn as sns"
      ],
      "execution_count": 0,
      "outputs": []
    },
    {
      "cell_type": "code",
      "metadata": {
        "id": "uq6U-H8xZBzF",
        "colab_type": "code",
        "colab": {}
      },
      "source": [
        "from sklearn.datasets import load_breast_cancer\n",
        "from sklearn.model_selection import train_test_split\n",
        "from sklearn.preprocessing import StandardScaler"
      ],
      "execution_count": 0,
      "outputs": []
    },
    {
      "cell_type": "code",
      "metadata": {
        "id": "v2UFqEBP5cOR",
        "colab_type": "code",
        "colab": {}
      },
      "source": [
        "from tensorflow.keras.layers import Input, Conv2D, Dense, Flatten, Dropout, GlobalMaxPooling2D, GaussianNoise\n",
        "from tensorflow.keras.models import Model"
      ],
      "execution_count": 0,
      "outputs": []
    },
    {
      "cell_type": "code",
      "metadata": {
        "id": "9akSvemUjo8T",
        "colab_type": "code",
        "colab": {}
      },
      "source": [
        "from tensorflow.keras.preprocessing.image import ImageDataGenerator\n",
        "from tensorflow.keras.layers import BatchNormalization, MaxPooling2D"
      ],
      "execution_count": 0,
      "outputs": []
    },
    {
      "cell_type": "markdown",
      "metadata": {
        "id": "wnvfnJzCp9tz",
        "colab_type": "text"
      },
      "source": [
        ""
      ]
    },
    {
      "cell_type": "code",
      "metadata": {
        "id": "EdUHj2QoZiFX",
        "colab_type": "code",
        "outputId": "f5c36ecc-5fc9-4a94-bbfd-8cec1ca4e4d7",
        "colab": {
          "base_uri": "https://localhost:8080/",
          "height": 35
        }
      },
      "source": [
        "tf.__version__"
      ],
      "execution_count": 6,
      "outputs": [
        {
          "output_type": "execute_result",
          "data": {
            "text/plain": [
              "'2.0.0-beta1'"
            ]
          },
          "metadata": {
            "tags": []
          },
          "execution_count": 6
        }
      ]
    },
    {
      "cell_type": "code",
      "metadata": {
        "id": "bSLa8IvmaENo",
        "colab_type": "code",
        "colab": {}
      },
      "source": [
        "(X_train, y_train), (X_test, y_test) = tf.keras.datasets.cifar10.load_data()"
      ],
      "execution_count": 0,
      "outputs": []
    },
    {
      "cell_type": "code",
      "metadata": {
        "id": "D-iA3zTjaeqQ",
        "colab_type": "code",
        "colab": {}
      },
      "source": [
        "M, I, J, Ch = X_train.shape"
      ],
      "execution_count": 0,
      "outputs": []
    },
    {
      "cell_type": "code",
      "metadata": {
        "id": "oSkvF83S0k0J",
        "colab_type": "code",
        "colab": {}
      },
      "source": [
        "y_train = y_train.flatten()\n",
        "y_test = y_test.flatten()"
      ],
      "execution_count": 0,
      "outputs": []
    },
    {
      "cell_type": "code",
      "metadata": {
        "id": "a4cmZ2Q24YzF",
        "colab_type": "code",
        "colab": {}
      },
      "source": [
        "X_train, X_test = X_train / np.max(X_train), X_test / np.max(X_test) # scaling"
      ],
      "execution_count": 0,
      "outputs": []
    },
    {
      "cell_type": "code",
      "metadata": {
        "id": "TVFwqXDj7FEn",
        "colab_type": "code",
        "colab": {}
      },
      "source": [
        "K = len (set(y_train))"
      ],
      "execution_count": 0,
      "outputs": []
    },
    {
      "cell_type": "markdown",
      "metadata": {
        "id": "mQS11Fho4yFL",
        "colab_type": "text"
      },
      "source": [
        "### Dimension Check"
      ]
    },
    {
      "cell_type": "code",
      "metadata": {
        "id": "QjMifeXg40Sz",
        "colab_type": "code",
        "outputId": "44a30895-6e40-4f0d-a624-a2f5381be316",
        "colab": {
          "base_uri": "https://localhost:8080/",
          "height": 35
        }
      },
      "source": [
        "print (X_train.shape, X_test.shape, y_train.shape, y_test.shape)"
      ],
      "execution_count": 12,
      "outputs": [
        {
          "output_type": "stream",
          "text": [
            "(50000, 32, 32, 3) (10000, 32, 32, 3) (50000,) (10000,)\n"
          ],
          "name": "stdout"
        }
      ]
    },
    {
      "cell_type": "markdown",
      "metadata": {
        "id": "9olhUhFFkxLQ",
        "colab_type": "text"
      },
      "source": [
        "# Image Augmentation"
      ]
    },
    {
      "cell_type": "code",
      "metadata": {
        "id": "y2iEDIR_k0oe",
        "colab_type": "code",
        "colab": {}
      },
      "source": [
        "aug = ImageDataGenerator (horizontal_flip=True, vertical_flip=True)"
      ],
      "execution_count": 0,
      "outputs": []
    },
    {
      "cell_type": "code",
      "metadata": {
        "id": "9gSIs6UNlKYt",
        "colab_type": "code",
        "colab": {}
      },
      "source": [
        "aug.fit (X_train)"
      ],
      "execution_count": 0,
      "outputs": []
    },
    {
      "cell_type": "markdown",
      "metadata": {
        "id": "LkjhDL_V0DOC",
        "colab_type": "text"
      },
      "source": [
        "# Model Building\n",
        "\n",
        "*Using functional API : better for split and multi-input / output*"
      ]
    },
    {
      "cell_type": "code",
      "metadata": {
        "id": "jaMMW4O60Fxe",
        "colab_type": "code",
        "colab": {}
      },
      "source": [
        "i = Input (shape=(I,J,Ch))"
      ],
      "execution_count": 0,
      "outputs": []
    },
    {
      "cell_type": "code",
      "metadata": {
        "id": "3utSKDaY5ABq",
        "colab_type": "code",
        "colab": {}
      },
      "source": [
        "# x = BatchNormalization ()(x)\n",
        "# x = GlobalMaxPooling2D ()(x)\n",
        "# x = GaussianNoise (0.1) (x)"
      ],
      "execution_count": 0,
      "outputs": []
    },
    {
      "cell_type": "code",
      "metadata": {
        "id": "S69ESyiM5L_I",
        "colab_type": "code",
        "colab": {}
      },
      "source": [
        "c = 32\n",
        "\n",
        "x = Conv2D (c, kernel_size=(3,3), activation='relu', padding='same')(i)\n",
        "x = BatchNormalization ()(x)\n",
        "x = Conv2D (c, kernel_size=(3,3), activation='relu', padding='same')(x)\n",
        "x = BatchNormalization ()(x)\n",
        "x = MaxPooling2D (pool_size=(2, 2))(x)\n",
        "# x = Dropout (0.2)(x)\n",
        "\n",
        "x = Conv2D (c*2, kernel_size=(3,3), activation='relu', padding='same')(x)\n",
        "x = BatchNormalization ()(x)\n",
        "x = Conv2D (c*2, kernel_size=(3,3), activation='relu', padding='same')(x)\n",
        "x = BatchNormalization ()(x)\n",
        "x = MaxPooling2D (pool_size=(2, 2))(x)\n",
        "# x = Dropout (0.2)(x)\n",
        "\n",
        "x = Conv2D (c*4, kernel_size=(3,3), activation='relu', padding='same')(x)\n",
        "x = BatchNormalization ()(x)\n",
        "x = Conv2D (c*4, kernel_size=(3,3), activation='relu', padding='same')(x)\n",
        "x = BatchNormalization ()(x)\n",
        "x = MaxPooling2D (pool_size=(2, 2))(x)\n",
        "\n",
        "x = Flatten ()(x)\n",
        "x = Dropout (0.2)(x)\n",
        "\n",
        "x = Dense (1024, activation='relu')(x)\n",
        "x = Dropout (0.2)(x)\n",
        "\n",
        "x = Dense (1024/4, activation='relu')(x)\n",
        "x = Dropout (0.2)(x)\n",
        "\n",
        "x = Dense (K, activation='softmax')(x)"
      ],
      "execution_count": 0,
      "outputs": []
    },
    {
      "cell_type": "code",
      "metadata": {
        "id": "dqAZ0I8h2NIz",
        "colab_type": "code",
        "colab": {}
      },
      "source": [
        "model = Model (i, x)"
      ],
      "execution_count": 0,
      "outputs": []
    },
    {
      "cell_type": "code",
      "metadata": {
        "id": "WL1zC0P48KzU",
        "colab_type": "code",
        "colab": {}
      },
      "source": [
        "adam = tf.keras.optimizers.Adam (learning_rate=0.001, decay=5e-5)"
      ],
      "execution_count": 0,
      "outputs": []
    },
    {
      "cell_type": "code",
      "metadata": {
        "id": "pVJdMFVj6gwN",
        "colab_type": "code",
        "colab": {}
      },
      "source": [
        "rmsp = tf.keras.optimizers.RMSprop (learning_rate=0.001, decay=5e-5)"
      ],
      "execution_count": 0,
      "outputs": []
    },
    {
      "cell_type": "code",
      "metadata": {
        "id": "mAURzDG075gP",
        "colab_type": "code",
        "colab": {}
      },
      "source": [
        "model.compile (optimizer=adam,\n",
        "               loss='sparse_categorical_crossentropy',\n",
        "               metrics=['accuracy'])"
      ],
      "execution_count": 0,
      "outputs": []
    },
    {
      "cell_type": "code",
      "metadata": {
        "id": "1Ksn3CFJ8NfO",
        "colab_type": "code",
        "outputId": "15e4ac0c-072a-4802-b21e-7c1c4cd51436",
        "colab": {
          "base_uri": "https://localhost:8080/",
          "height": 568
        }
      },
      "source": [
        "epochs = 15\n",
        "r = model.fit_generator (aug.flow(X_train, y_train, batch_size=32), steps_per_epoch=M/32, validation_data=(X_test, y_test), epochs=epochs)"
      ],
      "execution_count": 22,
      "outputs": [
        {
          "output_type": "stream",
          "text": [
            "Epoch 1/15\n",
            "1563/1562 [==============================] - 319s 204ms/step - loss: 1.5702 - accuracy: 0.4294 - val_loss: 1.2976 - val_accuracy: 0.5280\n",
            "Epoch 2/15\n",
            "1563/1562 [==============================] - 316s 202ms/step - loss: 1.1288 - accuracy: 0.5974 - val_loss: 1.0448 - val_accuracy: 0.6347\n",
            "Epoch 3/15\n",
            "1563/1562 [==============================] - 313s 200ms/step - loss: 0.9507 - accuracy: 0.6669 - val_loss: 0.9047 - val_accuracy: 0.6838\n",
            "Epoch 4/15\n",
            "1563/1562 [==============================] - 312s 200ms/step - loss: 0.8539 - accuracy: 0.7025 - val_loss: 0.9546 - val_accuracy: 0.6743\n",
            "Epoch 5/15\n",
            "1563/1562 [==============================] - 312s 200ms/step - loss: 0.7718 - accuracy: 0.7371 - val_loss: 0.7969 - val_accuracy: 0.7245\n",
            "Epoch 6/15\n",
            "1563/1562 [==============================] - 314s 201ms/step - loss: 0.7130 - accuracy: 0.7535 - val_loss: 0.7079 - val_accuracy: 0.7542\n",
            "Epoch 7/15\n",
            "1563/1562 [==============================] - 316s 202ms/step - loss: 0.6640 - accuracy: 0.7734 - val_loss: 0.7096 - val_accuracy: 0.7591\n",
            "Epoch 8/15\n",
            "1563/1562 [==============================] - 314s 201ms/step - loss: 0.6155 - accuracy: 0.7882 - val_loss: 0.6939 - val_accuracy: 0.7689\n",
            "Epoch 9/15\n",
            "1563/1562 [==============================] - 313s 200ms/step - loss: 0.5818 - accuracy: 0.8007 - val_loss: 0.5966 - val_accuracy: 0.7962\n",
            "Epoch 10/15\n",
            "1563/1562 [==============================] - 320s 205ms/step - loss: 0.5478 - accuracy: 0.8123 - val_loss: 0.5965 - val_accuracy: 0.7920\n",
            "Epoch 11/15\n",
            "1563/1562 [==============================] - 313s 200ms/step - loss: 0.5193 - accuracy: 0.8220 - val_loss: 0.5790 - val_accuracy: 0.8061\n",
            "Epoch 12/15\n",
            "1563/1562 [==============================] - 316s 202ms/step - loss: 0.4904 - accuracy: 0.8317 - val_loss: 0.5809 - val_accuracy: 0.8023\n",
            "Epoch 13/15\n",
            "1563/1562 [==============================] - 313s 200ms/step - loss: 0.4570 - accuracy: 0.8436 - val_loss: 0.5730 - val_accuracy: 0.8042\n",
            "Epoch 14/15\n",
            "1563/1562 [==============================] - 313s 200ms/step - loss: 0.4411 - accuracy: 0.8479 - val_loss: 0.5371 - val_accuracy: 0.8175\n",
            "Epoch 15/15\n",
            "1563/1562 [==============================] - 316s 202ms/step - loss: 0.4178 - accuracy: 0.8572 - val_loss: 0.5220 - val_accuracy: 0.8242\n"
          ],
          "name": "stdout"
        }
      ]
    },
    {
      "cell_type": "code",
      "metadata": {
        "id": "xhk6KvG88jpF",
        "colab_type": "code",
        "outputId": "10f469c3-232d-4e7d-84a3-0f62d41f1e00",
        "colab": {
          "base_uri": "https://localhost:8080/",
          "height": 90
        }
      },
      "source": [
        "print ('Training Set Evaluation : ' + str(model.evaluate (X_train, y_train)))\n",
        "print ('Test Set Evaluation : ' + str(model.evaluate (X_test, y_test)))"
      ],
      "execution_count": 23,
      "outputs": [
        {
          "output_type": "stream",
          "text": [
            "50000/50000 [==============================] - 70s 1ms/sample - loss: 0.3141 - accuracy: 0.8910\n",
            "Training Set Evaluation : [0.314093104442358, 0.89098]\n",
            "10000/10000 [==============================] - 14s 1ms/sample - loss: 0.5220 - accuracy: 0.8242\n",
            "Test Set Evaluation : [0.5219785194873809, 0.8242]\n"
          ],
          "name": "stdout"
        }
      ]
    },
    {
      "cell_type": "code",
      "metadata": {
        "id": "Tv8QXFQm8wye",
        "colab_type": "code",
        "outputId": "49971e0b-7c67-4e6a-9f00-2537a39a232f",
        "colab": {
          "base_uri": "https://localhost:8080/",
          "height": 283
        }
      },
      "source": [
        "plt.plot (r.history['loss'], label='loss', color='#840000')\n",
        "plt.plot (r.history['val_loss'], label='validation loss', color='#00035b')\n",
        "plt.legend ()"
      ],
      "execution_count": 24,
      "outputs": [
        {
          "output_type": "execute_result",
          "data": {
            "text/plain": [
              "<matplotlib.legend.Legend at 0x7fbfb0780f28>"
            ]
          },
          "metadata": {
            "tags": []
          },
          "execution_count": 24
        },
        {
          "output_type": "display_data",
          "data": {
            "image/png": "[encoded data removed]",
            "text/plain": [
              "<Figure size 432x288 with 1 Axes>"
            ]
          },
          "metadata": {
            "tags": []
          }
        }
      ]
    },
    {
      "cell_type": "code",
      "metadata": {
        "id": "NPk2gBzU80eF",
        "colab_type": "code",
        "outputId": "135e29d7-1767-4d02-bfa6-eeec4d20cd10",
        "colab": {
          "base_uri": "https://localhost:8080/",
          "height": 283
        }
      },
      "source": [
        "plt.plot (r.history['accuracy'], label='accuracy', color='#840000')\n",
        "plt.plot (r.history['val_accuracy'], label='validation accuracy', color='#00035b')\n",
        "plt.legend ()"
      ],
      "execution_count": 25,
      "outputs": [
        {
          "output_type": "execute_result",
          "data": {
            "text/plain": [
              "<matplotlib.legend.Legend at 0x7fbfb0268630>"
            ]
          },
          "metadata": {
            "tags": []
          },
          "execution_count": 25
        },
        {
          "output_type": "display_data",
          "data": {
            "image/png": "[encoded data removed]",
            "text/plain": [
              "<Figure size 432x288 with 1 Axes>"
            ]
          },
          "metadata": {
            "tags": []
          }
        }
      ]
    },
    {
      "cell_type": "code",
      "metadata": {
        "id": "eG6XjOv6848t",
        "colab_type": "code",
        "colab": {}
      },
      "source": [
        "X_test_100 = X_test[:100]\n",
        "y_pred_100 = model.predict (X_test_100)"
      ],
      "execution_count": 0,
      "outputs": []
    },
    {
      "cell_type": "code",
      "metadata": {
        "id": "5XRU79eH_gMH",
        "colab_type": "code",
        "colab": {}
      },
      "source": [
        "y_test_100 = y_test[:100]"
      ],
      "execution_count": 0,
      "outputs": []
    },
    {
      "cell_type": "code",
      "metadata": {
        "id": "BoS4p_J0AU0n",
        "colab_type": "code",
        "colab": {}
      },
      "source": [
        "y_pred_class_100 = []"
      ],
      "execution_count": 0,
      "outputs": []
    },
    {
      "cell_type": "code",
      "metadata": {
        "id": "f12OI4_RAbb-",
        "colab_type": "code",
        "colab": {}
      },
      "source": [
        "for i in y_pred_100:\n",
        "  y_pred_class_100.append (np.argmax(i))"
      ],
      "execution_count": 0,
      "outputs": []
    },
    {
      "cell_type": "code",
      "metadata": {
        "id": "Cak-WpxpA0Im",
        "colab_type": "code",
        "colab": {}
      },
      "source": [
        "y_pred_class_100 = np.array (y_pred_class_100)"
      ],
      "execution_count": 0,
      "outputs": []
    },
    {
      "cell_type": "markdown",
      "metadata": {
        "id": "bI28vxpX9M79",
        "colab_type": "text"
      },
      "source": [
        "### Misclassification Samples"
      ]
    },
    {
      "cell_type": "code",
      "metadata": {
        "id": "XgGTJOBd9MCZ",
        "colab_type": "code",
        "colab": {}
      },
      "source": [
        "misclass = np.where (y_pred_class_100 != y_test_100)[0]"
      ],
      "execution_count": 0,
      "outputs": []
    },
    {
      "cell_type": "code",
      "metadata": {
        "id": "KhD2EM44BuVd",
        "colab_type": "code",
        "outputId": "e91bed5c-5cbc-4812-d54e-2f71da1bc15b",
        "colab": {
          "base_uri": "https://localhost:8080/",
          "height": 35
        }
      },
      "source": [
        "misclass"
      ],
      "execution_count": 32,
      "outputs": [
        {
          "output_type": "execute_result",
          "data": {
            "text/plain": [
              "array([25, 32, 35, 52, 57, 58, 61, 65, 68, 78, 95])"
            ]
          },
          "metadata": {
            "tags": []
          },
          "execution_count": 32
        }
      ]
    },
    {
      "cell_type": "code",
      "metadata": {
        "id": "ugMh8m3Z9iUR",
        "colab_type": "code",
        "colab": {}
      },
      "source": [
        "i = np.random.choice (misclass)"
      ],
      "execution_count": 0,
      "outputs": []
    },
    {
      "cell_type": "code",
      "metadata": {
        "id": "P2pzYivSDFtt",
        "colab_type": "code",
        "colab": {}
      },
      "source": [
        "labels = ['airplane', 'automobile', 'bird', 'cat', 'deer', 'dog', 'frog', 'horse', 'ship', 'truck']"
      ],
      "execution_count": 0,
      "outputs": []
    },
    {
      "cell_type": "code",
      "metadata": {
        "id": "ANbJ-p8AP3L7",
        "colab_type": "code",
        "outputId": "1881f292-57a5-4ab1-f2f1-ed623d74c131",
        "colab": {
          "base_uri": "https://localhost:8080/",
          "height": 35
        }
      },
      "source": [
        "labels [y_pred_class_100[i]]"
      ],
      "execution_count": 35,
      "outputs": [
        {
          "output_type": "execute_result",
          "data": {
            "text/plain": [
              "'cat'"
            ]
          },
          "metadata": {
            "tags": []
          },
          "execution_count": 35
        }
      ]
    },
    {
      "cell_type": "code",
      "metadata": {
        "id": "mhRXYi7U9cUD",
        "colab_type": "code",
        "outputId": "5a4d3a04-482f-4a87-a74c-9333d6e88e19",
        "colab": {
          "base_uri": "https://localhost:8080/",
          "height": 299
        }
      },
      "source": [
        "plt.imshow (X_test[i], cmap='gray')\n",
        "plt.title ('True: %s, Predicted: %s' % (labels[y_test_100[i]], labels[y_pred_class_100[i]]))"
      ],
      "execution_count": 36,
      "outputs": [
        {
          "output_type": "execute_result",
          "data": {
            "text/plain": [
              "Text(0.5, 1.0, 'True: horse, Predicted: cat')"
            ]
          },
          "metadata": {
            "tags": []
          },
          "execution_count": 36
        },
        {
          "output_type": "display_data",
          "data": {
            "image/png": "[encoded data removed]",
            "text/plain": [
              "<Figure size 432x288 with 1 Axes>"
            ]
          },
          "metadata": {
            "tags": []
          }
        }
      ]
    },
    {
      "cell_type": "markdown",
      "metadata": {
        "id": "x0slpiIdinAV",
        "colab_type": "text"
      },
      "source": [
        "# Model Summary"
      ]
    },
    {
      "cell_type": "code",
      "metadata": {
        "id": "SCV38AYxiplJ",
        "colab_type": "code",
        "colab": {
          "base_uri": "https://localhost:8080/",
          "height": 1000
        },
        "outputId": "6b9da509-6e39-4229-e2cb-1ca769fba5df"
      },
      "source": [
        "print (model.summary())"
      ],
      "execution_count": 37,
      "outputs": [
        {
          "output_type": "stream",
          "text": [
            "Model: \"model\"\n",
            "_________________________________________________________________\n",
            "Layer (type)                 Output Shape              Param #   \n",
            "=================================================================\n",
            "input_1 (InputLayer)         [(None, 32, 32, 3)]       0         \n",
            "_________________________________________________________________\n",
            "conv2d (Conv2D)              (None, 32, 32, 32)        896       \n",
            "_________________________________________________________________\n",
            "batch_normalization (BatchNo (None, 32, 32, 32)        128       \n",
            "_________________________________________________________________\n",
            "conv2d_1 (Conv2D)            (None, 32, 32, 32)        9248      \n",
            "_________________________________________________________________\n",
            "batch_normalization_1 (Batch (None, 32, 32, 32)        128       \n",
            "_________________________________________________________________\n",
            "max_pooling2d (MaxPooling2D) (None, 16, 16, 32)        0         \n",
            "_________________________________________________________________\n",
            "conv2d_2 (Conv2D)            (None, 16, 16, 64)        18496     \n",
            "_________________________________________________________________\n",
            "batch_normalization_2 (Batch (None, 16, 16, 64)        256       \n",
            "_________________________________________________________________\n",
            "conv2d_3 (Conv2D)            (None, 16, 16, 64)        36928     \n",
            "_________________________________________________________________\n",
            "batch_normalization_3 (Batch (None, 16, 16, 64)        256       \n",
            "_________________________________________________________________\n",
            "max_pooling2d_1 (MaxPooling2 (None, 8, 8, 64)          0         \n",
            "_________________________________________________________________\n",
            "conv2d_4 (Conv2D)            (None, 8, 8, 128)         73856     \n",
            "_________________________________________________________________\n",
            "batch_normalization_4 (Batch (None, 8, 8, 128)         512       \n",
            "_________________________________________________________________\n",
            "conv2d_5 (Conv2D)            (None, 8, 8, 128)         147584    \n",
            "_________________________________________________________________\n",
            "batch_normalization_5 (Batch (None, 8, 8, 128)         512       \n",
            "_________________________________________________________________\n",
            "max_pooling2d_2 (MaxPooling2 (None, 4, 4, 128)         0         \n",
            "_________________________________________________________________\n",
            "flatten (Flatten)            (None, 2048)              0         \n",
            "_________________________________________________________________\n",
            "dropout (Dropout)            (None, 2048)              0         \n",
            "_________________________________________________________________\n",
            "dense (Dense)                (None, 1024)              2098176   \n",
            "_________________________________________________________________\n",
            "dropout_1 (Dropout)          (None, 1024)              0         \n",
            "_________________________________________________________________\n",
            "dense_1 (Dense)              (None, 256)               262400    \n",
            "_________________________________________________________________\n",
            "dropout_2 (Dropout)          (None, 256)               0         \n",
            "_________________________________________________________________\n",
            "dense_2 (Dense)              (None, 10)                2570      \n",
            "=================================================================\n",
            "Total params: 2,651,946\n",
            "Trainable params: 2,651,050\n",
            "Non-trainable params: 896\n",
            "_________________________________________________________________\n",
            "None\n"
          ],
          "name": "stdout"
        }
      ]
    },
    {
      "cell_type": "code",
      "metadata": {
        "id": "a6esgehti7eH",
        "colab_type": "code",
        "colab": {}
      },
      "source": [
        "model.save('my_CIFAR10.h5')"
      ],
      "execution_count": 0,
      "outputs": []
    },
    {
      "cell_type": "code",
      "metadata": {
        "id": "zatjf1DBjCgJ",
        "colab_type": "code",
        "colab": {}
      },
      "source": [
        ""
      ],
      "execution_count": 0,
      "outputs": []
    }
  ]
}