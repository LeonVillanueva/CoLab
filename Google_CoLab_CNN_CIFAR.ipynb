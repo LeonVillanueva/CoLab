{
  "nbformat": 4,
  "nbformat_minor": 0,
  "metadata": {
    "colab": {
      "name": "Google_CoLab_CNN_CIFAR.ipynb",
      "provenance": [],
      "authorship_tag": "ABX9TyNKAQO/OSPHvc8B0OXbe991",
      "include_colab_link": true
    },
    "kernelspec": {
      "name": "python3",
      "display_name": "Python 3"
    }
  },
  "cells": [
    {
      "cell_type": "markdown",
      "metadata": {
        "id": "view-in-github",
        "colab_type": "text"
      },
      "source": [
        "<a href=\"https://colab.research.google.com/github/LeonVillanueva/CoLab/blob/master/Google_CoLab_CNN_CIFAR.ipynb\" target=\"_parent\"><img src=\"https://colab.research.google.com/assets/colab-badge.svg\" alt=\"Open In Colab\"/></a>"
      ]
    },
    {
      "cell_type": "markdown",
      "metadata": {
        "id": "r0WvbfH1ZFZv",
        "colab_type": "text"
      },
      "source": [
        "# Setup and Data"
      ]
    },
    {
      "cell_type": "code",
      "metadata": {
        "id": "d9IS07UFY9IP",
        "colab_type": "code",
        "outputId": "133b1b63-f986-4cef-9639-1749627bc2d4",
        "colab": {
          "base_uri": "https://localhost:8080/",
          "height": 67
        }
      },
      "source": [
        "!pip install -q tensorflow==2.0.0-beta1"
      ],
      "execution_count": 1,
      "outputs": [
        {
          "output_type": "stream",
          "text": [
            "\u001b[K     |████████████████████████████████| 87.9MB 64kB/s \n",
            "\u001b[K     |████████████████████████████████| 501kB 44.2MB/s \n",
            "\u001b[K     |████████████████████████████████| 3.1MB 46.9MB/s \n",
            "\u001b[?25h"
          ],
          "name": "stdout"
        }
      ]
    },
    {
      "cell_type": "code",
      "metadata": {
        "id": "-O3oZoU_ZA96",
        "colab_type": "code",
        "colab": {}
      },
      "source": [
        "%%capture\n",
        "import numpy as np\n",
        "import matplotlib.pyplot as plt\n",
        "import pandas as pd\n",
        "import tensorflow as tf\n",
        "import seaborn as sns"
      ],
      "execution_count": 0,
      "outputs": []
    },
    {
      "cell_type": "code",
      "metadata": {
        "id": "uq6U-H8xZBzF",
        "colab_type": "code",
        "colab": {}
      },
      "source": [
        "from sklearn.datasets import load_breast_cancer\n",
        "from sklearn.model_selection import train_test_split\n",
        "from sklearn.preprocessing import StandardScaler"
      ],
      "execution_count": 0,
      "outputs": []
    },
    {
      "cell_type": "code",
      "metadata": {
        "id": "v2UFqEBP5cOR",
        "colab_type": "code",
        "colab": {}
      },
      "source": [
        "from tensorflow.keras.layers import Input, Conv2D, Dense, Flatten, Dropout, GlobalMaxPooling2D, GaussianNoise\n",
        "from tensorflow.keras.models import Model"
      ],
      "execution_count": 0,
      "outputs": []
    },
    {
      "cell_type": "code",
      "metadata": {
        "id": "9akSvemUjo8T",
        "colab_type": "code",
        "colab": {}
      },
      "source": [
        "from tensorflow.keras.preprocessing.image import ImageDataGenerator\n",
        "from tensorflow.keras.layers import BatchNormalization, MaxPooling2D"
      ],
      "execution_count": 0,
      "outputs": []
    },
    {
      "cell_type": "markdown",
      "metadata": {
        "id": "wnvfnJzCp9tz",
        "colab_type": "text"
      },
      "source": [
        ""
      ]
    },
    {
      "cell_type": "code",
      "metadata": {
        "id": "EdUHj2QoZiFX",
        "colab_type": "code",
        "outputId": "c93eef4e-1acf-4577-d30a-70e3f1b41a31",
        "colab": {
          "base_uri": "https://localhost:8080/",
          "height": 34
        }
      },
      "source": [
        "tf.__version__"
      ],
      "execution_count": 34,
      "outputs": [
        {
          "output_type": "execute_result",
          "data": {
            "text/plain": [
              "'2.0.0-beta1'"
            ]
          },
          "metadata": {
            "tags": []
          },
          "execution_count": 34
        }
      ]
    },
    {
      "cell_type": "code",
      "metadata": {
        "id": "bSLa8IvmaENo",
        "colab_type": "code",
        "colab": {}
      },
      "source": [
        "(X_train, y_train), (X_test, y_test) = tf.keras.datasets.cifar10.load_data()"
      ],
      "execution_count": 0,
      "outputs": []
    },
    {
      "cell_type": "code",
      "metadata": {
        "id": "D-iA3zTjaeqQ",
        "colab_type": "code",
        "colab": {}
      },
      "source": [
        "M, I, J, Ch = X_train.shape"
      ],
      "execution_count": 0,
      "outputs": []
    },
    {
      "cell_type": "code",
      "metadata": {
        "id": "oSkvF83S0k0J",
        "colab_type": "code",
        "colab": {}
      },
      "source": [
        "y_train = y_train.flatten()\n",
        "y_test = y_test.flatten()"
      ],
      "execution_count": 0,
      "outputs": []
    },
    {
      "cell_type": "code",
      "metadata": {
        "id": "a4cmZ2Q24YzF",
        "colab_type": "code",
        "colab": {}
      },
      "source": [
        "X_train, X_test = X_train / np.max(X_train), X_test / np.max(X_test) # scaling"
      ],
      "execution_count": 0,
      "outputs": []
    },
    {
      "cell_type": "code",
      "metadata": {
        "id": "TVFwqXDj7FEn",
        "colab_type": "code",
        "colab": {}
      },
      "source": [
        "K = len (set(y_train))"
      ],
      "execution_count": 0,
      "outputs": []
    },
    {
      "cell_type": "markdown",
      "metadata": {
        "id": "mQS11Fho4yFL",
        "colab_type": "text"
      },
      "source": [
        "### Dimension Check"
      ]
    },
    {
      "cell_type": "code",
      "metadata": {
        "id": "QjMifeXg40Sz",
        "colab_type": "code",
        "outputId": "d29ec4ee-7393-48f7-b373-5b06048f4ed7",
        "colab": {
          "base_uri": "https://localhost:8080/",
          "height": 34
        }
      },
      "source": [
        "print (X_train.shape, X_test.shape, y_train.shape, y_test.shape)"
      ],
      "execution_count": 40,
      "outputs": [
        {
          "output_type": "stream",
          "text": [
            "(50000, 32, 32, 3) (10000, 32, 32, 3) (50000,) (10000,)\n"
          ],
          "name": "stdout"
        }
      ]
    },
    {
      "cell_type": "markdown",
      "metadata": {
        "id": "9olhUhFFkxLQ",
        "colab_type": "text"
      },
      "source": [
        "# Image Augmentation"
      ]
    },
    {
      "cell_type": "code",
      "metadata": {
        "id": "y2iEDIR_k0oe",
        "colab_type": "code",
        "colab": {}
      },
      "source": [
        "aug = ImageDataGenerator (rotation_range=45, horizontal_flip=True, vertical_flip=True)"
      ],
      "execution_count": 0,
      "outputs": []
    },
    {
      "cell_type": "code",
      "metadata": {
        "id": "9gSIs6UNlKYt",
        "colab_type": "code",
        "colab": {}
      },
      "source": [
        "aug.fit (X_train)"
      ],
      "execution_count": 0,
      "outputs": []
    },
    {
      "cell_type": "markdown",
      "metadata": {
        "id": "LkjhDL_V0DOC",
        "colab_type": "text"
      },
      "source": [
        "# Model Building\n",
        "\n",
        "*Using functional API : better for split and multi-input / output*"
      ]
    },
    {
      "cell_type": "code",
      "metadata": {
        "id": "jaMMW4O60Fxe",
        "colab_type": "code",
        "colab": {}
      },
      "source": [
        "i = Input (shape=(I,J,Ch))"
      ],
      "execution_count": 0,
      "outputs": []
    },
    {
      "cell_type": "code",
      "metadata": {
        "id": "3utSKDaY5ABq",
        "colab_type": "code",
        "colab": {}
      },
      "source": [
        "# x = BatchNormalization ()(x)\n",
        "# x = GlobalMaxPooling2D ()(x)\n",
        "# x = GaussianNoise (0.1) (x)"
      ],
      "execution_count": 0,
      "outputs": []
    },
    {
      "cell_type": "code",
      "metadata": {
        "id": "S69ESyiM5L_I",
        "colab_type": "code",
        "colab": {}
      },
      "source": [
        "c = 32\n",
        "x = Conv2D (c, kernel_size=(3,3), strides=2, activation='relu')(i)\n",
        "x = BatchNormalization ()(x)\n",
        "x = Dropout (0.25)(x)\n",
        "\n",
        "x = Conv2D (c*2, kernel_size=(3,3), activation='relu')(x)\n",
        "x = MaxPooling2D(pool_size=(2, 2))(x)\n",
        "x = BatchNormalization ()(x)\n",
        "x = Dropout (0.25)(x)\n",
        "\n",
        "x = Conv2D (c*4, kernel_size=(3,3), strides=2, activation='relu')(x)\n",
        "x = BatchNormalization ()(x)\n",
        "x = Dropout (0.25)(x)\n",
        "\n",
        "x = Flatten ()(x)\n",
        "\n",
        "x = Dense (1024/4, activation='relu')(x)\n",
        "x = Dropout (0.5)(x)\n",
        "x = Dense (1024/8, activation='relu')(x)\n",
        "x = Dropout (0.5)(x)\n",
        "x = Dense (K, activation='softmax')(x)"
      ],
      "execution_count": 0,
      "outputs": []
    },
    {
      "cell_type": "code",
      "metadata": {
        "id": "dqAZ0I8h2NIz",
        "colab_type": "code",
        "colab": {}
      },
      "source": [
        "model = Model (i, x)"
      ],
      "execution_count": 0,
      "outputs": []
    },
    {
      "cell_type": "code",
      "metadata": {
        "id": "WL1zC0P48KzU",
        "colab_type": "code",
        "colab": {}
      },
      "source": [
        "adam = tf.keras.optimizers.Adam (learning_rate=0.0001, decay=1e-6)"
      ],
      "execution_count": 0,
      "outputs": []
    },
    {
      "cell_type": "code",
      "metadata": {
        "id": "pVJdMFVj6gwN",
        "colab_type": "code",
        "colab": {}
      },
      "source": [
        "rmsp = tf.keras.optimizers.RMSprop (learning_rate=0.0001, decay=1e-6)"
      ],
      "execution_count": 0,
      "outputs": []
    },
    {
      "cell_type": "code",
      "metadata": {
        "id": "mAURzDG075gP",
        "colab_type": "code",
        "colab": {}
      },
      "source": [
        "model.compile (optimizer=adam,\n",
        "               loss='sparse_categorical_crossentropy',\n",
        "               metrics=['accuracy'])"
      ],
      "execution_count": 0,
      "outputs": []
    },
    {
      "cell_type": "code",
      "metadata": {
        "id": "1Ksn3CFJ8NfO",
        "colab_type": "code",
        "colab": {}
      },
      "source": [
        "%%capture\n",
        "epochs = 10\n",
        "r = model.fit_generator (aug.flow(X_train, y_train, batch_size=32), steps_per_epoch=M/epochs, validation_data=(X_test, y_test), epochs=epochs)"
      ],
      "execution_count": 0,
      "outputs": []
    },
    {
      "cell_type": "code",
      "metadata": {
        "id": "xhk6KvG88jpF",
        "colab_type": "code",
        "colab": {}
      },
      "source": [
        "print ('Training Set Evaluation : ' + str(model.evaluate (X_train, y_train)))\n",
        "print ('Test Set Evaluation : ' + str(model.evaluate (X_test, y_test)))"
      ],
      "execution_count": 0,
      "outputs": []
    },
    {
      "cell_type": "code",
      "metadata": {
        "id": "Tv8QXFQm8wye",
        "colab_type": "code",
        "colab": {}
      },
      "source": [
        "plt.plot (r.history['loss'], label='loss', color='#840000')\n",
        "plt.plot (r.history['val_loss'], label='validation loss', color='#00035b')\n",
        "plt.legend ()"
      ],
      "execution_count": 0,
      "outputs": []
    },
    {
      "cell_type": "code",
      "metadata": {
        "id": "NPk2gBzU80eF",
        "colab_type": "code",
        "colab": {}
      },
      "source": [
        "plt.plot (r.history['accuracy'], label='accuracy', color='#840000')\n",
        "plt.plot (r.history['val_accuracy'], label='validation accuracy', color='#00035b')\n",
        "plt.legend ()"
      ],
      "execution_count": 0,
      "outputs": []
    },
    {
      "cell_type": "code",
      "metadata": {
        "id": "eG6XjOv6848t",
        "colab_type": "code",
        "colab": {}
      },
      "source": [
        "X_test_100 = X_test[:100]\n",
        "y_pred_100 = model.predict (X_test_100)"
      ],
      "execution_count": 0,
      "outputs": []
    },
    {
      "cell_type": "code",
      "metadata": {
        "id": "5XRU79eH_gMH",
        "colab_type": "code",
        "colab": {}
      },
      "source": [
        "y_test_100 = y_test[:100]"
      ],
      "execution_count": 0,
      "outputs": []
    },
    {
      "cell_type": "code",
      "metadata": {
        "id": "BoS4p_J0AU0n",
        "colab_type": "code",
        "colab": {}
      },
      "source": [
        "y_pred_class_100 = []"
      ],
      "execution_count": 0,
      "outputs": []
    },
    {
      "cell_type": "code",
      "metadata": {
        "id": "f12OI4_RAbb-",
        "colab_type": "code",
        "colab": {}
      },
      "source": [
        "for i in y_pred_100:\n",
        "  y_pred_class_100.append (np.argmax(i))"
      ],
      "execution_count": 0,
      "outputs": []
    },
    {
      "cell_type": "code",
      "metadata": {
        "id": "Cak-WpxpA0Im",
        "colab_type": "code",
        "colab": {}
      },
      "source": [
        "y_pred_class_100 = np.array (y_pred_class_100)"
      ],
      "execution_count": 0,
      "outputs": []
    },
    {
      "cell_type": "markdown",
      "metadata": {
        "id": "bI28vxpX9M79",
        "colab_type": "text"
      },
      "source": [
        "### Misclassification Samples"
      ]
    },
    {
      "cell_type": "code",
      "metadata": {
        "id": "XgGTJOBd9MCZ",
        "colab_type": "code",
        "colab": {}
      },
      "source": [
        "misclass = np.where (y_pred_class_100 != y_test_100)[0]"
      ],
      "execution_count": 0,
      "outputs": []
    },
    {
      "cell_type": "code",
      "metadata": {
        "id": "KhD2EM44BuVd",
        "colab_type": "code",
        "outputId": "3ac353dd-bda0-4de4-dfb8-3f92aeef5ece",
        "colab": {
          "base_uri": "https://localhost:8080/",
          "height": 50
        }
      },
      "source": [
        "misclass"
      ],
      "execution_count": 0,
      "outputs": [
        {
          "output_type": "execute_result",
          "data": {
            "text/plain": [
              "array([ 1,  4, 12, 17, 22, 24, 25, 27, 32, 33, 35, 36, 39, 40, 47, 51, 52,\n",
              "       57, 58, 59, 62, 63, 65, 67, 68, 74, 83, 85, 87, 91, 95])"
            ]
          },
          "metadata": {
            "tags": []
          },
          "execution_count": 82
        }
      ]
    },
    {
      "cell_type": "code",
      "metadata": {
        "id": "ugMh8m3Z9iUR",
        "colab_type": "code",
        "colab": {}
      },
      "source": [
        "i = np.random.choice (misclass)"
      ],
      "execution_count": 0,
      "outputs": []
    },
    {
      "cell_type": "code",
      "metadata": {
        "id": "P2pzYivSDFtt",
        "colab_type": "code",
        "outputId": "ac97dc75-91ca-4a1c-dc14-efbd551ed425",
        "colab": {
          "base_uri": "https://localhost:8080/",
          "height": 34
        }
      },
      "source": [
        "labels = ['airplane', 'automobile', 'bird', 'cat', 'deer', 'dog', 'frog', 'horse', 'ship', 'truck']"
      ],
      "execution_count": 0,
      "outputs": [
        {
          "output_type": "execute_result",
          "data": {
            "text/plain": [
              "'airplane'"
            ]
          },
          "metadata": {
            "tags": []
          },
          "execution_count": 88
        }
      ]
    },
    {
      "cell_type": "code",
      "metadata": {
        "id": "mhRXYi7U9cUD",
        "colab_type": "code",
        "outputId": "6b557954-0e15-4b74-ec75-71e8ae52ee2c",
        "colab": {
          "base_uri": "https://localhost:8080/",
          "height": 428
        }
      },
      "source": [
        "plt.imshow (X_test[i], cmap='Blues')\n",
        "plt.title ('True: %s, Predicted: %s' % (str(labels[i]), str(labels[i])))"
      ],
      "execution_count": 0,
      "outputs": [
        {
          "output_type": "error",
          "ename": "IndexError",
          "evalue": "ignored",
          "traceback": [
            "\u001b[0;31m---------------------------------------------------------------------------\u001b[0m",
            "\u001b[0;31mIndexError\u001b[0m                                Traceback (most recent call last)",
            "\u001b[0;32m<ipython-input-89-526fae124ad0>\u001b[0m in \u001b[0;36m<module>\u001b[0;34m()\u001b[0m\n\u001b[1;32m      1\u001b[0m \u001b[0mplt\u001b[0m\u001b[0;34m.\u001b[0m\u001b[0mimshow\u001b[0m \u001b[0;34m(\u001b[0m\u001b[0mX_test\u001b[0m\u001b[0;34m[\u001b[0m\u001b[0mi\u001b[0m\u001b[0;34m]\u001b[0m\u001b[0;34m,\u001b[0m \u001b[0mcmap\u001b[0m\u001b[0;34m=\u001b[0m\u001b[0;34m'Blues'\u001b[0m\u001b[0;34m)\u001b[0m\u001b[0;34m\u001b[0m\u001b[0;34m\u001b[0m\u001b[0m\n\u001b[0;32m----> 2\u001b[0;31m \u001b[0mplt\u001b[0m\u001b[0;34m.\u001b[0m\u001b[0mtitle\u001b[0m \u001b[0;34m(\u001b[0m\u001b[0;34m'True: %s, Predicted: %s'\u001b[0m \u001b[0;34m%\u001b[0m \u001b[0;34m(\u001b[0m\u001b[0mstr\u001b[0m\u001b[0;34m(\u001b[0m\u001b[0mlabels\u001b[0m\u001b[0;34m[\u001b[0m\u001b[0mi\u001b[0m\u001b[0;34m]\u001b[0m\u001b[0;34m)\u001b[0m\u001b[0;34m,\u001b[0m \u001b[0mstr\u001b[0m\u001b[0;34m(\u001b[0m\u001b[0mlabels\u001b[0m\u001b[0;34m[\u001b[0m\u001b[0mi\u001b[0m\u001b[0;34m]\u001b[0m\u001b[0;34m)\u001b[0m\u001b[0;34m)\u001b[0m\u001b[0;34m)\u001b[0m\u001b[0;34m\u001b[0m\u001b[0;34m\u001b[0m\u001b[0m\n\u001b[0m",
            "\u001b[0;31mIndexError\u001b[0m: list index out of range"
          ]
        },
        {
          "output_type": "display_data",
          "data": {
            "image/png": "[encoded data removed]",
            "text/plain": [
              "<Figure size 432x288 with 1 Axes>"
            ]
          },
          "metadata": {
            "tags": []
          }
        }
      ]
    }
  ]
}