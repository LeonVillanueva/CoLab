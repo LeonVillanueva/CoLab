{
  "nbformat": 4,
  "nbformat_minor": 0,
  "metadata": {
    "colab": {
      "name": "Google_CoLab_CNN_CIFAR.ipynb",
      "provenance": [],
      "authorship_tag": "ABX9TyOqL8mvZJOJZYxxOMqFOlQ/",
      "include_colab_link": true
    },
    "kernelspec": {
      "name": "python3",
      "display_name": "Python 3"
    }
  },
  "cells": [
    {
      "cell_type": "markdown",
      "metadata": {
        "id": "view-in-github",
        "colab_type": "text"
      },
      "source": [
        "<a href=\"https://colab.research.google.com/github/LeonVillanueva/CoLab/blob/master/Google_CoLab_CNN_CIFAR.ipynb\" target=\"_parent\"><img src=\"https://colab.research.google.com/assets/colab-badge.svg\" alt=\"Open In Colab\"/></a>"
      ]
    },
    {
      "cell_type": "markdown",
      "metadata": {
        "id": "r0WvbfH1ZFZv",
        "colab_type": "text"
      },
      "source": [
        "# Setup and Data"
      ]
    },
    {
      "cell_type": "code",
      "metadata": {
        "id": "d9IS07UFY9IP",
        "colab_type": "code",
        "outputId": "6d33e0c6-579b-4c77-864c-1d9fbc192d3f",
        "colab": {
          "base_uri": "https://localhost:8080/",
          "height": 67
        }
      },
      "source": [
        "!pip install -q tensorflow==2.0.0-beta1"
      ],
      "execution_count": 1,
      "outputs": [
        {
          "output_type": "stream",
          "text": [
            "\u001b[K     |████████████████████████████████| 87.9MB 106kB/s \n",
            "\u001b[K     |████████████████████████████████| 3.1MB 49.9MB/s \n",
            "\u001b[K     |████████████████████████████████| 501kB 43.3MB/s \n",
            "\u001b[?25h"
          ],
          "name": "stdout"
        }
      ]
    },
    {
      "cell_type": "code",
      "metadata": {
        "id": "-O3oZoU_ZA96",
        "colab_type": "code",
        "colab": {}
      },
      "source": [
        "%%capture\n",
        "import numpy as np\n",
        "import matplotlib.pyplot as plt\n",
        "import pandas as pd\n",
        "import tensorflow as tf\n",
        "import seaborn as sns"
      ],
      "execution_count": 0,
      "outputs": []
    },
    {
      "cell_type": "code",
      "metadata": {
        "id": "uq6U-H8xZBzF",
        "colab_type": "code",
        "colab": {}
      },
      "source": [
        "from sklearn.datasets import load_breast_cancer\n",
        "from sklearn.model_selection import train_test_split\n",
        "from sklearn.preprocessing import StandardScaler"
      ],
      "execution_count": 0,
      "outputs": []
    },
    {
      "cell_type": "code",
      "metadata": {
        "id": "v2UFqEBP5cOR",
        "colab_type": "code",
        "colab": {}
      },
      "source": [
        "from tensorflow.keras.layers import Input, Conv2D, Dense, Flatten, Dropout, GlobalMaxPooling2D\n",
        "from tensorflow.keras.models import Model"
      ],
      "execution_count": 0,
      "outputs": []
    },
    {
      "cell_type": "code",
      "metadata": {
        "id": "EdUHj2QoZiFX",
        "colab_type": "code",
        "outputId": "145219aa-d6ae-4b9d-97ea-76480e25ef79",
        "colab": {
          "base_uri": "https://localhost:8080/",
          "height": 34
        }
      },
      "source": [
        "tf.__version__"
      ],
      "execution_count": 4,
      "outputs": [
        {
          "output_type": "execute_result",
          "data": {
            "text/plain": [
              "'2.0.0-beta1'"
            ]
          },
          "metadata": {
            "tags": []
          },
          "execution_count": 4
        }
      ]
    },
    {
      "cell_type": "code",
      "metadata": {
        "id": "bSLa8IvmaENo",
        "colab_type": "code",
        "outputId": "ac502ae0-6fba-4952-8ac1-ea0cc38af18e",
        "colab": {
          "base_uri": "https://localhost:8080/",
          "height": 50
        }
      },
      "source": [
        "(X_train, y_train), (X_test, y_test) = tf.keras.datasets.cifar10.load_data()"
      ],
      "execution_count": 5,
      "outputs": [
        {
          "output_type": "stream",
          "text": [
            "Downloading data from https://www.cs.toronto.edu/~kriz/cifar-10-python.tar.gz\n",
            "170500096/170498071 [==============================] - 4s 0us/step\n"
          ],
          "name": "stdout"
        }
      ]
    },
    {
      "cell_type": "code",
      "metadata": {
        "id": "D-iA3zTjaeqQ",
        "colab_type": "code",
        "colab": {}
      },
      "source": [
        "M, I, J, Ch = X_train.shape"
      ],
      "execution_count": 0,
      "outputs": []
    },
    {
      "cell_type": "code",
      "metadata": {
        "id": "oSkvF83S0k0J",
        "colab_type": "code",
        "colab": {}
      },
      "source": [
        "y_train = y_train.flatten()\n",
        "y_test = y_test.flatten()"
      ],
      "execution_count": 0,
      "outputs": []
    },
    {
      "cell_type": "code",
      "metadata": {
        "id": "a4cmZ2Q24YzF",
        "colab_type": "code",
        "colab": {}
      },
      "source": [
        "X_train, X_test = X_train / np.max(X_train), X_test / np.max(X_test) # scaling"
      ],
      "execution_count": 0,
      "outputs": []
    },
    {
      "cell_type": "code",
      "metadata": {
        "id": "TVFwqXDj7FEn",
        "colab_type": "code",
        "colab": {}
      },
      "source": [
        "K = len (set(y_train))"
      ],
      "execution_count": 0,
      "outputs": []
    },
    {
      "cell_type": "markdown",
      "metadata": {
        "id": "mQS11Fho4yFL",
        "colab_type": "text"
      },
      "source": [
        "### Dimension Check"
      ]
    },
    {
      "cell_type": "code",
      "metadata": {
        "id": "QjMifeXg40Sz",
        "colab_type": "code",
        "colab": {
          "base_uri": "https://localhost:8080/",
          "height": 34
        },
        "outputId": "1ae7f4b5-fb96-4383-f545-b5a4e722ed4b"
      },
      "source": [
        "print (X_train.shape, X_test.shape, y_train.shape, y_test.shape)"
      ],
      "execution_count": 19,
      "outputs": [
        {
          "output_type": "stream",
          "text": [
            "(50000, 32, 32, 3) (10000, 32, 32, 3) (50000,) (10000,)\n"
          ],
          "name": "stdout"
        }
      ]
    },
    {
      "cell_type": "markdown",
      "metadata": {
        "id": "LkjhDL_V0DOC",
        "colab_type": "text"
      },
      "source": [
        "# Model Building\n",
        "\n",
        "*Using functional API : better for split and multi-input / output*"
      ]
    },
    {
      "cell_type": "code",
      "metadata": {
        "id": "jaMMW4O60Fxe",
        "colab_type": "code",
        "colab": {}
      },
      "source": [
        "i = Input (shape=(I,J,Ch))"
      ],
      "execution_count": 0,
      "outputs": []
    },
    {
      "cell_type": "code",
      "metadata": {
        "id": "S69ESyiM5L_I",
        "colab_type": "code",
        "colab": {}
      },
      "source": [
        "c = 32\n",
        "x = Conv2D (c, kernel_size=(3,3), strides=2, activation='relu')(i)\n",
        "x = Conv2D (c*2, kernel_size=(3,3), strides=2, activation='relu')(x)\n",
        "x = Conv2D (c*4, kernel_size=(3,3), strides=2, activation='relu')(x)\n",
        "x = Flatten ()(x)\n",
        "x = Dropout (0.5)(x)\n",
        "x = Dense (1024, activation='relu')(x)\n",
        "x = Dropout (0.5)(x)\n",
        "x = Dense (K, activation='softmax')(x)"
      ],
      "execution_count": 0,
      "outputs": []
    },
    {
      "cell_type": "code",
      "metadata": {
        "id": "dqAZ0I8h2NIz",
        "colab_type": "code",
        "colab": {}
      },
      "source": [
        "model = Model (i, x)"
      ],
      "execution_count": 0,
      "outputs": []
    },
    {
      "cell_type": "code",
      "metadata": {
        "id": "WL1zC0P48KzU",
        "colab_type": "code",
        "colab": {}
      },
      "source": [
        "adam = tf.keras.optimizers.Adam (learning_rate=0.0001, decay=1e-6)"
      ],
      "execution_count": 0,
      "outputs": []
    },
    {
      "cell_type": "code",
      "metadata": {
        "id": "mAURzDG075gP",
        "colab_type": "code",
        "colab": {}
      },
      "source": [
        "model.compile (optimizer=adam,\n",
        "               loss='sparse_categorical_crossentropy',\n",
        "               metrics=['accuracy'])"
      ],
      "execution_count": 0,
      "outputs": []
    },
    {
      "cell_type": "code",
      "metadata": {
        "id": "1Ksn3CFJ8NfO",
        "colab_type": "code",
        "colab": {}
      },
      "source": [
        "%%capture\n",
        "r = model.fit (X_train, y_train, validation_data=(X_test, y_test), epochs=10)"
      ],
      "execution_count": 0,
      "outputs": []
    },
    {
      "cell_type": "code",
      "metadata": {
        "id": "xhk6KvG88jpF",
        "colab_type": "code",
        "colab": {}
      },
      "source": [
        "print ('Training Set Evaluation : ' + str(model.evaluate (X_train, y_train)))\n",
        "print ('Test Set Evaluation : ' + str(model.evaluate (X_test, y_test)))"
      ],
      "execution_count": 0,
      "outputs": []
    },
    {
      "cell_type": "code",
      "metadata": {
        "id": "Tv8QXFQm8wye",
        "colab_type": "code",
        "colab": {}
      },
      "source": [
        "plt.plot (r.history['loss'], label='loss', color='#840000')\n",
        "plt.plot (r.history['val_loss'], label='validation loss', color='#00035b')\n",
        "plt.legend ()"
      ],
      "execution_count": 0,
      "outputs": []
    },
    {
      "cell_type": "code",
      "metadata": {
        "id": "NPk2gBzU80eF",
        "colab_type": "code",
        "colab": {}
      },
      "source": [
        "plt.plot (m.history['accuracy'], label='accuracy', color='#840000')\n",
        "plt.plot (m.history['val_accuracy'], label='validation accuracy', color='#00035b')\n",
        "plt.legend ()"
      ],
      "execution_count": 0,
      "outputs": []
    },
    {
      "cell_type": "code",
      "metadata": {
        "id": "eG6XjOv6848t",
        "colab_type": "code",
        "colab": {}
      },
      "source": [
        "X_test_100 = X_test[:100]\n",
        "y_pred_100 = model.predict_classes (X_test_100)"
      ],
      "execution_count": 0,
      "outputs": []
    },
    {
      "cell_type": "markdown",
      "metadata": {
        "id": "bI28vxpX9M79",
        "colab_type": "text"
      },
      "source": [
        "### Misclassification Samples"
      ]
    },
    {
      "cell_type": "code",
      "metadata": {
        "id": "XgGTJOBd9MCZ",
        "colab_type": "code",
        "colab": {}
      },
      "source": [
        "misclass = np.where (y_pred_100 != y_test_100)[0]"
      ],
      "execution_count": 0,
      "outputs": []
    },
    {
      "cell_type": "code",
      "metadata": {
        "id": "ugMh8m3Z9iUR",
        "colab_type": "code",
        "colab": {}
      },
      "source": [
        "i = np.random.choice (misclass)"
      ],
      "execution_count": 0,
      "outputs": []
    },
    {
      "cell_type": "code",
      "metadata": {
        "id": "mhRXYi7U9cUD",
        "colab_type": "code",
        "colab": {}
      },
      "source": [
        "plt.imshow (X_test[i], cmap='Blues')\n",
        "plt.title ('True: %s, Predicted: %s' % (y_test[i], y_pred[i]))"
      ],
      "execution_count": 0,
      "outputs": []
    }
  ]
}