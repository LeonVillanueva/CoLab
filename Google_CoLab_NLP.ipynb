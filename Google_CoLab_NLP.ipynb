{
  "nbformat": 4,
  "nbformat_minor": 0,
  "metadata": {
    "colab": {
      "name": "Google_CoLab_NLP.ipynb",
      "provenance": [],
      "toc_visible": true,
      "authorship_tag": "ABX9TyPdcrdHSpLQP+h70vhql7t6",
      "include_colab_link": true
    },
    "kernelspec": {
      "name": "python3",
      "display_name": "Python 3"
    }
  },
  "cells": [
    {
      "cell_type": "markdown",
      "metadata": {
        "id": "view-in-github",
        "colab_type": "text"
      },
      "source": [
        "<a href=\"https://colab.research.google.com/github/LeonVillanueva/CoLab/blob/master/Google_CoLab_NLP.ipynb\" target=\"_parent\"><img src=\"https://colab.research.google.com/assets/colab-badge.svg\" alt=\"Open In Colab\"/></a>"
      ]
    },
    {
      "cell_type": "code",
      "metadata": {
        "id": "ZLge8uj3YxxC",
        "colab_type": "code",
        "outputId": "c2c69ace-d7ec-4d73-beb2-dc06cc14d75e",
        "colab": {
          "base_uri": "https://localhost:8080/",
          "height": 67
        }
      },
      "source": [
        "!pip install -q tensorflow==2.0.0-beta1"
      ],
      "execution_count": 1,
      "outputs": [
        {
          "output_type": "stream",
          "text": [
            "\u001b[K     |████████████████████████████████| 87.9MB 53kB/s \n",
            "\u001b[K     |████████████████████████████████| 501kB 42.6MB/s \n",
            "\u001b[K     |████████████████████████████████| 3.1MB 40.8MB/s \n",
            "\u001b[?25h"
          ],
          "name": "stdout"
        }
      ]
    },
    {
      "cell_type": "code",
      "metadata": {
        "id": "myniUADR2802",
        "colab_type": "code",
        "colab": {}
      },
      "source": [
        "%%capture\n",
        "import numpy as np\n",
        "import matplotlib.pyplot as plt\n",
        "import pandas as pd\n",
        "import tensorflow as tf"
      ],
      "execution_count": 0,
      "outputs": []
    },
    {
      "cell_type": "code",
      "metadata": {
        "id": "a34VVoLI3GGu",
        "colab_type": "code",
        "colab": {}
      },
      "source": [
        "from sklearn.model_selection import train_test_split\n",
        "from sklearn.preprocessing import StandardScaler"
      ],
      "execution_count": 0,
      "outputs": []
    },
    {
      "cell_type": "code",
      "metadata": {
        "id": "ggcBRCpV3H4G",
        "colab_type": "code",
        "colab": {}
      },
      "source": [
        "from tensorflow.keras.layers import Input, Conv2D, Dense, Flatten, Dropout, GlobalMaxPooling2D, MaxPooling1D, GaussianNoise, BatchNormalization, MaxPooling2D, SimpleRNN, GRU, LSTM, GlobalMaxPooling1D, Embedding\n",
        "from tensorflow.keras.models import Model, Sequential\n",
        "from tensorflow.keras.optimizers import SGD, Adam\n",
        "from tensorflow.keras.preprocessing.image import ImageDataGenerator\n",
        "from tensorflow.keras.preprocessing.sequence import TimeseriesGenerator\n",
        "from tensorflow.keras.preprocessing.sequence import pad_sequences\n",
        "from tensorflow.keras.preprocessing.text import Tokenizer"
      ],
      "execution_count": 0,
      "outputs": []
    },
    {
      "cell_type": "code",
      "metadata": {
        "id": "LHCCfrB03MUO",
        "colab_type": "code",
        "colab": {}
      },
      "source": [
        "from scipy import stats\n",
        "import math\n",
        "import seaborn as sns\n",
        "import re\n",
        "from nltk.stem import WordNetLemmatizer\n",
        "import re"
      ],
      "execution_count": 0,
      "outputs": []
    },
    {
      "cell_type": "markdown",
      "metadata": {
        "id": "zeXj2LotQ4VN",
        "colab_type": "text"
      },
      "source": [
        "> *https://www.gutenberg.org/files/4357/4357-h/4357-h.htm*"
      ]
    },
    {
      "cell_type": "code",
      "metadata": {
        "id": "qTpc4nEbQ5Li",
        "colab_type": "code",
        "colab": {}
      },
      "source": [
        "text = ['She flew down the stairs, found the basket and returned with it to the attic.',\n",
        "        'Then she sat down before the brass-studded box and began trying one key after another in the curious old lock.',\n",
        "        'Some were too large, but most were too small.']\n",
        "\n",
        "max_vocab_size = 30000\n",
        "\n",
        "tokenizer = Tokenizer (num_words = max_vocab_size)\n",
        "tokenizer.fit_on_texts (text)\n",
        "sequences = tokenizer.texts_to_sequences (text)"
      ],
      "execution_count": 0,
      "outputs": []
    },
    {
      "cell_type": "code",
      "metadata": {
        "id": "lGmniQgTTFw3",
        "colab_type": "code",
        "colab": {}
      },
      "source": [
        "data = pad_sequences (sequences, padding='post')"
      ],
      "execution_count": 0,
      "outputs": []
    },
    {
      "cell_type": "markdown",
      "metadata": {
        "id": "j1iSl3WxRnFY",
        "colab_type": "text"
      },
      "source": [
        "> *https://www.kaggle.com/jrobischon/wikipedia-movie-plots*"
      ]
    },
    {
      "cell_type": "code",
      "metadata": {
        "id": "7zQWMmg6RmUL",
        "colab_type": "code",
        "outputId": "a1144479-725d-45ad-a51c-1db26cb444e2",
        "colab": {
          "base_uri": "https://localhost:8080/",
          "height": 50
        }
      },
      "source": [
        "!unzip movies.zip"
      ],
      "execution_count": 8,
      "outputs": [
        {
          "output_type": "stream",
          "text": [
            "Archive:  movies.zip\n",
            "  inflating: wiki_movie_plots_deduped.csv  \n"
          ],
          "name": "stdout"
        }
      ]
    },
    {
      "cell_type": "code",
      "metadata": {
        "id": "ELZstH0qau93",
        "colab_type": "code",
        "colab": {}
      },
      "source": [
        "df = pd.read_csv ('wiki_movie_plots_deduped.csv')"
      ],
      "execution_count": 0,
      "outputs": []
    },
    {
      "cell_type": "code",
      "metadata": {
        "id": "HJxVM0Iwa2UI",
        "colab_type": "code",
        "outputId": "588170a9-73e9-42ab-f8a7-fe2d23337196",
        "colab": {
          "base_uri": "https://localhost:8080/",
          "height": 50
        }
      },
      "source": [
        "df.columns.values"
      ],
      "execution_count": 10,
      "outputs": [
        {
          "output_type": "execute_result",
          "data": {
            "text/plain": [
              "array(['Release Year', 'Title', 'Origin/Ethnicity', 'Director', 'Cast',\n",
              "       'Genre', 'Wiki Page', 'Plot'], dtype=object)"
            ]
          },
          "metadata": {
            "tags": []
          },
          "execution_count": 10
        }
      ]
    },
    {
      "cell_type": "code",
      "metadata": {
        "id": "aiAEEedpbA8K",
        "colab_type": "code",
        "colab": {}
      },
      "source": [
        "df = df[(df['Genre'] != 'unknown')]"
      ],
      "execution_count": 0,
      "outputs": []
    },
    {
      "cell_type": "code",
      "metadata": {
        "id": "WX2MjROBT-IB",
        "colab_type": "code",
        "colab": {}
      },
      "source": [
        "genres = df['Genre']"
      ],
      "execution_count": 0,
      "outputs": []
    },
    {
      "cell_type": "code",
      "metadata": {
        "id": "20Zcb62jbouw",
        "colab_type": "code",
        "colab": {}
      },
      "source": [
        "top_genres = genres.value_counts()[:10].index.tolist()"
      ],
      "execution_count": 0,
      "outputs": []
    },
    {
      "cell_type": "code",
      "metadata": {
        "id": "tQDtuXDUOkmZ",
        "colab_type": "code",
        "outputId": "61636052-5c2b-4f09-adc0-aa5ef63536f9",
        "colab": {
          "base_uri": "https://localhost:8080/",
          "height": 202
        }
      },
      "source": [
        "genres.value_counts()[:10]"
      ],
      "execution_count": 14,
      "outputs": [
        {
          "output_type": "execute_result",
          "data": {
            "text/plain": [
              "drama        5964\n",
              "comedy       4379\n",
              "horror       1167\n",
              "action       1098\n",
              "thriller      966\n",
              "romance       923\n",
              "western       865\n",
              "crime         568\n",
              "adventure     526\n",
              "musical       467\n",
              "Name: Genre, dtype: int64"
            ]
          },
          "metadata": {
            "tags": []
          },
          "execution_count": 14
        }
      ]
    },
    {
      "cell_type": "code",
      "metadata": {
        "id": "HSNAysT5pI_O",
        "colab_type": "code",
        "colab": {}
      },
      "source": [
        "series = df [df['Genre'] == top_genres[0]].sample(460)"
      ],
      "execution_count": 0,
      "outputs": []
    },
    {
      "cell_type": "code",
      "metadata": {
        "id": "w8gOxIb0_PIf",
        "colab_type": "code",
        "colab": {}
      },
      "source": [
        "for i in range (1,len(top_genres)):\n",
        "  series_b = df [df['Genre'] == top_genres[i]].sample(300)\n",
        "  series = pd.concat((series, series_b), axis=0)"
      ],
      "execution_count": 0,
      "outputs": []
    },
    {
      "cell_type": "code",
      "metadata": {
        "id": "l9Br8BCWAR-s",
        "colab_type": "code",
        "colab": {}
      },
      "source": [
        "final = series[['Genre','Plot']]"
      ],
      "execution_count": 0,
      "outputs": []
    },
    {
      "cell_type": "code",
      "metadata": {
        "id": "5W_vXATXDhOg",
        "colab_type": "code",
        "colab": {}
      },
      "source": [
        "lemmatizer = WordNetLemmatizer()"
      ],
      "execution_count": 0,
      "outputs": []
    },
    {
      "cell_type": "markdown",
      "metadata": {
        "colab_type": "text",
        "id": "0pOqenRVhJgM"
      },
      "source": [
        ""
      ]
    },
    {
      "cell_type": "code",
      "metadata": {
        "id": "vLVxXDpNEiRF",
        "colab_type": "code",
        "colab": {}
      },
      "source": [
        "from nltk.corpus import stopwords\n",
        "import nltk"
      ],
      "execution_count": 0,
      "outputs": []
    },
    {
      "cell_type": "code",
      "metadata": {
        "id": "n92KT-bfUcKi",
        "colab_type": "code",
        "outputId": "cb0b63d2-f6cb-4fb9-cbda-1c4f727f4652",
        "colab": {
          "base_uri": "https://localhost:8080/",
          "height": 101
        }
      },
      "source": [
        "nltk.download ('stopwords')\n",
        "nltk.download('wordnet')"
      ],
      "execution_count": 20,
      "outputs": [
        {
          "output_type": "stream",
          "text": [
            "[nltk_data] Downloading package stopwords to /root/nltk_data...\n",
            "[nltk_data]   Unzipping corpora/stopwords.zip.\n",
            "[nltk_data] Downloading package wordnet to /root/nltk_data...\n",
            "[nltk_data]   Unzipping corpora/wordnet.zip.\n"
          ],
          "name": "stdout"
        },
        {
          "output_type": "execute_result",
          "data": {
            "text/plain": [
              "True"
            ]
          },
          "metadata": {
            "tags": []
          },
          "execution_count": 20
        }
      ]
    },
    {
      "cell_type": "markdown",
      "metadata": {
        "id": "x-w5eT5cbBU_",
        "colab_type": "text"
      },
      "source": [
        "> *https://chrisalbon.com/machine_learning/preprocessing_text/remove_stop_words/*\n",
        "\n",
        "> *https://h1ros.github.io/posts/stemming-words-and-sentences/*\n",
        "\n",
        "> *https://www.datacamp.com/community/tutorials/stemming-lemmatization-python*"
      ]
    },
    {
      "cell_type": "code",
      "metadata": {
        "id": "5Csx_UTPeDQz",
        "colab_type": "code",
        "colab": {}
      },
      "source": [
        "def simplify (x):\n",
        "  stop_words = stopwords.words ('english')\n",
        "  words = re.sub(r'[^\\w\\s]','',x).lower().split(' ')\n",
        "  words = [lemmatizer.lemmatize (word) for word in words if word not in stop_words]\n",
        "  return words"
      ],
      "execution_count": 0,
      "outputs": []
    },
    {
      "cell_type": "code",
      "metadata": {
        "id": "37sbSUFehAQd",
        "colab_type": "code",
        "colab": {}
      },
      "source": [
        "txt = final.iloc[0]['Plot']"
      ],
      "execution_count": 0,
      "outputs": []
    },
    {
      "cell_type": "code",
      "metadata": {
        "id": "rH4z7O6-jLPW",
        "colab_type": "code",
        "outputId": "7a621b02-1cb7-4ada-a9ec-244bfd75bf44",
        "colab": {
          "base_uri": "https://localhost:8080/",
          "height": 34
        }
      },
      "source": [
        "len (simplify (txt))"
      ],
      "execution_count": 23,
      "outputs": [
        {
          "output_type": "execute_result",
          "data": {
            "text/plain": [
              "394"
            ]
          },
          "metadata": {
            "tags": []
          },
          "execution_count": 23
        }
      ]
    },
    {
      "cell_type": "code",
      "metadata": {
        "id": "ilbQ7Yy9jL8k",
        "colab_type": "code",
        "outputId": "7e9a40d5-5b31-4cf3-f3c9-49c36a4e696d",
        "colab": {
          "base_uri": "https://localhost:8080/",
          "height": 118
        }
      },
      "source": [
        "final['text'] = final['Plot'].apply (simplify)"
      ],
      "execution_count": 24,
      "outputs": [
        {
          "output_type": "stream",
          "text": [
            "/usr/local/lib/python3.6/dist-packages/ipykernel_launcher.py:1: SettingWithCopyWarning: \n",
            "A value is trying to be set on a copy of a slice from a DataFrame.\n",
            "Try using .loc[row_indexer,col_indexer] = value instead\n",
            "\n",
            "See the caveats in the documentation: http://pandas.pydata.org/pandas-docs/stable/user_guide/indexing.html#returning-a-view-versus-a-copy\n",
            "  \"\"\"Entry point for launching an IPython kernel.\n"
          ],
          "name": "stderr"
        }
      ]
    },
    {
      "cell_type": "code",
      "metadata": {
        "id": "3NaGN23R2x78",
        "colab_type": "code",
        "outputId": "1b86a01e-f048-4d4c-abd4-899e2ce3018a",
        "colab": {
          "base_uri": "https://localhost:8080/",
          "height": 118
        }
      },
      "source": [
        "final['labels'] = final['Genre'].map (dict (zip (list(set(final['Genre'])), list(range(0,10)))))"
      ],
      "execution_count": 25,
      "outputs": [
        {
          "output_type": "stream",
          "text": [
            "/usr/local/lib/python3.6/dist-packages/ipykernel_launcher.py:1: SettingWithCopyWarning: \n",
            "A value is trying to be set on a copy of a slice from a DataFrame.\n",
            "Try using .loc[row_indexer,col_indexer] = value instead\n",
            "\n",
            "See the caveats in the documentation: http://pandas.pydata.org/pandas-docs/stable/user_guide/indexing.html#returning-a-view-versus-a-copy\n",
            "  \"\"\"Entry point for launching an IPython kernel.\n"
          ],
          "name": "stderr"
        }
      ]
    },
    {
      "cell_type": "code",
      "metadata": {
        "id": "FFBv_dDxa7lw",
        "colab_type": "code",
        "outputId": "9f056662-b911-4fc5-b8db-2dae0b932597",
        "colab": {
          "base_uri": "https://localhost:8080/",
          "height": 195
        }
      },
      "source": [
        "final.head()"
      ],
      "execution_count": 26,
      "outputs": [
        {
          "output_type": "execute_result",
          "data": {
            "text/html": [
              "<div>\n",
              "<style scoped>\n",
              "    .dataframe tbody tr th:only-of-type {\n",
              "        vertical-align: middle;\n",
              "    }\n",
              "\n",
              "    .dataframe tbody tr th {\n",
              "        vertical-align: top;\n",
              "    }\n",
              "\n",
              "    .dataframe thead th {\n",
              "        text-align: right;\n",
              "    }\n",
              "</style>\n",
              "<table border=\"1\" class=\"dataframe\">\n",
              "  <thead>\n",
              "    <tr style=\"text-align: right;\">\n",
              "      <th></th>\n",
              "      <th>Genre</th>\n",
              "      <th>Plot</th>\n",
              "      <th>text</th>\n",
              "      <th>labels</th>\n",
              "    </tr>\n",
              "  </thead>\n",
              "  <tbody>\n",
              "    <tr>\n",
              "      <th>15596</th>\n",
              "      <td>drama</td>\n",
              "      <td>The film opens with seventeen-year-old Michael...</td>\n",
              "      <td>[film, open, seventeenyearold, michael, big, m...</td>\n",
              "      <td>7</td>\n",
              "    </tr>\n",
              "    <tr>\n",
              "      <th>22560</th>\n",
              "      <td>drama</td>\n",
              "      <td>He Dashang (Wu Gang) is a middle-aged childles...</td>\n",
              "      <td>[dashang, wu, gang, middleaged, childless, inn...</td>\n",
              "      <td>7</td>\n",
              "    </tr>\n",
              "    <tr>\n",
              "      <th>20584</th>\n",
              "      <td>drama</td>\n",
              "      <td>Estranged sisters Isobel and Marion are forced...</td>\n",
              "      <td>[estranged, sister, isobel, marion, forced, re...</td>\n",
              "      <td>7</td>\n",
              "    </tr>\n",
              "    <tr>\n",
              "      <th>11472</th>\n",
              "      <td>drama</td>\n",
              "      <td>The story is about a New York gangster who is ...</td>\n",
              "      <td>[story, new, york, gangster, forced, go, run, ...</td>\n",
              "      <td>7</td>\n",
              "    </tr>\n",
              "    <tr>\n",
              "      <th>1699</th>\n",
              "      <td>drama</td>\n",
              "      <td>Olga (Aline MacMahon) runs an isolated gas sta...</td>\n",
              "      <td>[olga, aline, macmahon, run, isolated, gas, st...</td>\n",
              "      <td>7</td>\n",
              "    </tr>\n",
              "  </tbody>\n",
              "</table>\n",
              "</div>"
            ],
            "text/plain": [
              "       Genre  ... labels\n",
              "15596  drama  ...      7\n",
              "22560  drama  ...      7\n",
              "20584  drama  ...      7\n",
              "11472  drama  ...      7\n",
              "1699   drama  ...      7\n",
              "\n",
              "[5 rows x 4 columns]"
            ]
          },
          "metadata": {
            "tags": []
          },
          "execution_count": 26
        }
      ]
    },
    {
      "cell_type": "code",
      "metadata": {
        "id": "z5xruUjV22LT",
        "colab_type": "code",
        "colab": {}
      },
      "source": [
        "X_train, X_test, y_train, y_test = train_test_split (final['text'], final['labels'], test_size=0.10, random_state=23)"
      ],
      "execution_count": 0,
      "outputs": []
    },
    {
      "cell_type": "code",
      "metadata": {
        "id": "x5qch3uw4rTr",
        "colab_type": "code",
        "colab": {}
      },
      "source": [
        "max_vocab_size = 42000\n",
        "\n",
        "tokenizer = Tokenizer (num_words = max_vocab_size)\n",
        "tokenizer.fit_on_texts (X_train)\n",
        "sequence_train = tokenizer.texts_to_sequences (X_train)\n",
        "sequence_test = tokenizer.texts_to_sequences (X_test)"
      ],
      "execution_count": 0,
      "outputs": []
    },
    {
      "cell_type": "code",
      "metadata": {
        "id": "DYmMvUNM4-U_",
        "colab_type": "code",
        "colab": {}
      },
      "source": [
        "word_to_idx = tokenizer.word_index"
      ],
      "execution_count": 0,
      "outputs": []
    },
    {
      "cell_type": "code",
      "metadata": {
        "id": "QgLLseL95EBD",
        "colab_type": "code",
        "colab": {}
      },
      "source": [
        "V = len (word_to_idx) # unique tokens"
      ],
      "execution_count": 0,
      "outputs": []
    },
    {
      "cell_type": "code",
      "metadata": {
        "id": "6nMqUyPJ5HOE",
        "colab_type": "code",
        "colab": {}
      },
      "source": [
        "data_train = pad_sequences (sequence_train)\n",
        "T = data_train.shape[1]\n",
        "data_test = pad_sequences (sequence_test, maxlen=T, truncating='post')"
      ],
      "execution_count": 0,
      "outputs": []
    },
    {
      "cell_type": "code",
      "metadata": {
        "id": "D1qds9LZ52ib",
        "colab_type": "code",
        "outputId": "c038b34b-48ba-44e1-fa9c-ab41fd536d68",
        "colab": {
          "base_uri": "https://localhost:8080/",
          "height": 34
        }
      },
      "source": [
        "data_train.shape, data_test.shape"
      ],
      "execution_count": 32,
      "outputs": [
        {
          "output_type": "execute_result",
          "data": {
            "text/plain": [
              "((2844, 2781), (316, 2781))"
            ]
          },
          "metadata": {
            "tags": []
          },
          "execution_count": 32
        }
      ]
    },
    {
      "cell_type": "code",
      "metadata": {
        "id": "wPD_jzEi57uy",
        "colab_type": "code",
        "colab": {}
      },
      "source": [
        "D = 64 #Embedding Dimension\n",
        "\n",
        "i = Input (shape=(T,))\n",
        "x = Embedding (V+1, D) (i)\n",
        "x = Dropout (0.5) (x)\n",
        "x = LSTM (128, return_sequences=True) (x)\n",
        "x = GlobalMaxPooling1D () (x)\n",
        "x = Dropout (0.5) (x)\n",
        "x = Dense (10, activation='softmax') (x)"
      ],
      "execution_count": 0,
      "outputs": []
    },
    {
      "cell_type": "code",
      "metadata": {
        "id": "4Ot89SXH7KBi",
        "colab_type": "code",
        "colab": {}
      },
      "source": [
        "model = Model (i, x)"
      ],
      "execution_count": 0,
      "outputs": []
    },
    {
      "cell_type": "code",
      "metadata": {
        "id": "ORimb--76x-1",
        "colab_type": "code",
        "colab": {}
      },
      "source": [
        "adam = tf.keras.optimizers.Adam (learning_rate=0.005, decay=5e-6)"
      ],
      "execution_count": 0,
      "outputs": []
    },
    {
      "cell_type": "code",
      "metadata": {
        "id": "lhu9buMy7Dun",
        "colab_type": "code",
        "colab": {}
      },
      "source": [
        "model.compile (optimizer=adam,\n",
        "               loss='sparse_categorical_crossentropy',\n",
        "               metrics=['accuracy'])"
      ],
      "execution_count": 0,
      "outputs": []
    },
    {
      "cell_type": "code",
      "metadata": {
        "id": "dCsw874A7L0A",
        "colab_type": "code",
        "outputId": "a59cc5ee-5f89-47c2-fe50-0ca2baa32445",
        "colab": {
          "base_uri": "https://localhost:8080/",
          "height": 571
        }
      },
      "source": [
        "epochs = 16\n",
        "\n",
        "r = model.fit (data_train, y_train, validation_data=(data_test, y_test), epochs=epochs, batch_size=64)"
      ],
      "execution_count": 37,
      "outputs": [
        {
          "output_type": "stream",
          "text": [
            "Train on 2844 samples, validate on 316 samples\n",
            "Epoch 1/16\n",
            "2844/2844 [==============================] - 422s 148ms/sample - loss: 2.2942 - accuracy: 0.1371 - val_loss: 2.2741 - val_accuracy: 0.1424\n",
            "Epoch 2/16\n",
            "2844/2844 [==============================] - 396s 139ms/sample - loss: 2.1774 - accuracy: 0.2159 - val_loss: 2.0407 - val_accuracy: 0.2595\n",
            "Epoch 3/16\n",
            "2844/2844 [==============================] - 388s 136ms/sample - loss: 1.7736 - accuracy: 0.3797 - val_loss: 1.6728 - val_accuracy: 0.4367\n",
            "Epoch 4/16\n",
            "2844/2844 [==============================] - 387s 136ms/sample - loss: 1.1967 - accuracy: 0.5837 - val_loss: 1.5603 - val_accuracy: 0.4557\n",
            "Epoch 5/16\n",
            "2844/2844 [==============================] - 384s 135ms/sample - loss: 0.7037 - accuracy: 0.7704 - val_loss: 1.7766 - val_accuracy: 0.4494\n",
            "Epoch 6/16\n",
            "2844/2844 [==============================] - 388s 136ms/sample - loss: 0.4864 - accuracy: 0.8572 - val_loss: 1.8094 - val_accuracy: 0.4494\n",
            "Epoch 7/16\n",
            "2844/2844 [==============================] - 385s 135ms/sample - loss: 0.2706 - accuracy: 0.9191 - val_loss: 2.1077 - val_accuracy: 0.4272\n",
            "Epoch 8/16\n",
            "2844/2844 [==============================] - 389s 137ms/sample - loss: 0.2847 - accuracy: 0.9205 - val_loss: 1.9996 - val_accuracy: 0.4209\n",
            "Epoch 9/16\n",
            "2844/2844 [==============================] - 391s 137ms/sample - loss: 0.1559 - accuracy: 0.9599 - val_loss: 2.1751 - val_accuracy: 0.4747\n",
            "Epoch 10/16\n",
            "2844/2844 [==============================] - 388s 136ms/sample - loss: 0.0983 - accuracy: 0.9778 - val_loss: 2.1626 - val_accuracy: 0.4304\n",
            "Epoch 11/16\n",
            "2844/2844 [==============================] - 393s 138ms/sample - loss: 0.0516 - accuracy: 0.9877 - val_loss: 2.2958 - val_accuracy: 0.4367\n",
            "Epoch 12/16\n",
            "2844/2844 [==============================] - 383s 135ms/sample - loss: 0.0452 - accuracy: 0.9912 - val_loss: 2.3681 - val_accuracy: 0.3987\n",
            "Epoch 13/16\n",
            "2844/2844 [==============================] - 384s 135ms/sample - loss: 0.0613 - accuracy: 0.9849 - val_loss: 2.3688 - val_accuracy: 0.4557\n",
            "Epoch 14/16\n",
            "2844/2844 [==============================] - 388s 136ms/sample - loss: 0.0423 - accuracy: 0.9887 - val_loss: 2.4592 - val_accuracy: 0.4209\n",
            "Epoch 15/16\n",
            "2844/2844 [==============================] - 391s 137ms/sample - loss: 0.0316 - accuracy: 0.9944 - val_loss: 2.3793 - val_accuracy: 0.4684\n",
            "Epoch 16/16\n",
            "2844/2844 [==============================] - 385s 135ms/sample - loss: 0.0361 - accuracy: 0.9891 - val_loss: 2.4261 - val_accuracy: 0.4462\n"
          ],
          "name": "stdout"
        }
      ]
    },
    {
      "cell_type": "code",
      "metadata": {
        "id": "J3xWxq-ompL3",
        "colab_type": "code",
        "outputId": "e66b0b18-6dc8-4323-c5e0-468440e4c0c0",
        "colab": {
          "base_uri": "https://localhost:8080/",
          "height": 386
        }
      },
      "source": [
        "model.summary()"
      ],
      "execution_count": 38,
      "outputs": [
        {
          "output_type": "stream",
          "text": [
            "Model: \"model\"\n",
            "_________________________________________________________________\n",
            "Layer (type)                 Output Shape              Param #   \n",
            "=================================================================\n",
            "input_1 (InputLayer)         [(None, 2781)]            0         \n",
            "_________________________________________________________________\n",
            "embedding (Embedding)        (None, 2781, 64)          3027712   \n",
            "_________________________________________________________________\n",
            "dropout (Dropout)            (None, 2781, 64)          0         \n",
            "_________________________________________________________________\n",
            "lstm (LSTM)                  (None, 2781, 128)         98816     \n",
            "_________________________________________________________________\n",
            "global_max_pooling1d (Global (None, 128)               0         \n",
            "_________________________________________________________________\n",
            "dropout_1 (Dropout)          (None, 128)               0         \n",
            "_________________________________________________________________\n",
            "dense (Dense)                (None, 10)                1290      \n",
            "=================================================================\n",
            "Total params: 3,127,818\n",
            "Trainable params: 3,127,818\n",
            "Non-trainable params: 0\n",
            "_________________________________________________________________\n"
          ],
          "name": "stdout"
        }
      ]
    },
    {
      "cell_type": "code",
      "metadata": {
        "id": "4AtpaeDumqiV",
        "colab_type": "code",
        "outputId": "7d71f1d8-83af-44ae-c231-ddbe722442be",
        "colab": {
          "base_uri": "https://localhost:8080/",
          "height": 282
        }
      },
      "source": [
        "plt.plot (r.history['loss'], label='loss', color='#840000')\n",
        "plt.plot (r.history['val_loss'], label='validation loss', color='#00035b')\n",
        "plt.legend ()"
      ],
      "execution_count": 39,
      "outputs": [
        {
          "output_type": "execute_result",
          "data": {
            "text/plain": [
              "<matplotlib.legend.Legend at 0x7f70e55c3240>"
            ]
          },
          "metadata": {
            "tags": []
          },
          "execution_count": 39
        },
        {
          "output_type": "display_data",
          "data": {
            "image/png": "[encoded data removed]",
            "text/plain": [
              "<Figure size 432x288 with 1 Axes>"
            ]
          },
          "metadata": {
            "tags": []
          }
        }
      ]
    },
    {
      "cell_type": "code",
      "metadata": {
        "id": "q8cy-fcq87HV",
        "colab_type": "code",
        "outputId": "f8e5f88d-cfef-4826-c131-754aacca54a6",
        "colab": {
          "base_uri": "https://localhost:8080/",
          "height": 282
        }
      },
      "source": [
        "plt.plot (r.history['accuracy'], label='accuracy', color='#840000')\n",
        "plt.plot (r.history['val_accuracy'], label='validation accuracy', color='#00035b')\n",
        "plt.legend ()"
      ],
      "execution_count": 40,
      "outputs": [
        {
          "output_type": "execute_result",
          "data": {
            "text/plain": [
              "<matplotlib.legend.Legend at 0x7f70e509f128>"
            ]
          },
          "metadata": {
            "tags": []
          },
          "execution_count": 40
        },
        {
          "output_type": "display_data",
          "data": {
            "image/png": "[encoded data removed]",
            "text/plain": [
              "<Figure size 432x288 with 1 Axes>"
            ]
          },
          "metadata": {
            "tags": []
          }
        }
      ]
    },
    {
      "cell_type": "code",
      "metadata": {
        "id": "2FuHlGXYJss1",
        "colab_type": "code",
        "colab": {}
      },
      "source": [
        "data_pred = model.predict (data_test)"
      ],
      "execution_count": 0,
      "outputs": []
    },
    {
      "cell_type": "code",
      "metadata": {
        "id": "q1ATeJ5OMkwu",
        "colab_type": "code",
        "colab": {}
      },
      "source": [
        "data_pred_class = []\n",
        "\n",
        "for i in range (len (data_pred)):\n",
        "  data_pred_class.append (np.argmax (data_pred[i]))\n"
      ],
      "execution_count": 0,
      "outputs": []
    },
    {
      "cell_type": "code",
      "metadata": {
        "id": "hjXypb2fJyP3",
        "colab_type": "code",
        "colab": {}
      },
      "source": [
        "con_mat = tf.math.confusion_matrix(labels=y_test, predictions=data_pred_class).numpy()"
      ],
      "execution_count": 0,
      "outputs": []
    },
    {
      "cell_type": "code",
      "metadata": {
        "id": "Knq62RLYJ2VP",
        "colab_type": "code",
        "colab": {}
      },
      "source": [
        "con_mat_norm = np.around(con_mat.astype('float') / con_mat.sum(axis=1)[:, np.newaxis], decimals=2)"
      ],
      "execution_count": 0,
      "outputs": []
    },
    {
      "cell_type": "code",
      "metadata": {
        "id": "_OXXhJtjJ44H",
        "colab_type": "code",
        "colab": {}
      },
      "source": [
        "con_mat_df = pd.DataFrame(con_mat_norm)"
      ],
      "execution_count": 0,
      "outputs": []
    },
    {
      "cell_type": "code",
      "metadata": {
        "id": "4UGH-IVxJ6f-",
        "colab_type": "code",
        "outputId": "a4745d3b-68d7-467b-f5ba-204679f0076e",
        "colab": {
          "base_uri": "https://localhost:8080/",
          "height": 383
        }
      },
      "source": [
        "figure = plt.figure(figsize=(5, 5))\n",
        "sns.heatmap(con_mat_df, annot=True, cmap=plt.cm.BuPu)\n",
        "plt.tight_layout()\n",
        "plt.ylabel('True label')\n",
        "plt.xlabel('Predicted label')\n",
        "plt.show()"
      ],
      "execution_count": 46,
      "outputs": [
        {
          "output_type": "display_data",
          "data": {
            "image/png": "[encoded data removed]",
            "text/plain": [
              "<Figure size 360x360 with 2 Axes>"
            ]
          },
          "metadata": {
            "tags": []
          }
        }
      ]
    },
    {
      "cell_type": "markdown",
      "metadata": {
        "id": "O2PGfpO_NX5g",
        "colab_type": "text"
      },
      "source": [
        "### Observations\n",
        "\n",
        "1.   Even after Dropout of (0.5) the validation accuracy was at 45-50%.\n",
        "2.   Need to add regularization for LSTM, given overfitting with 90%+ of training set.\n",
        "3. Model definitely performed better with nltk lemma, and stopwords removal.\n",
        "\n"
      ]
    },
    {
      "cell_type": "code",
      "metadata": {
        "id": "Sa2Njz9YJ8cY",
        "colab_type": "code",
        "colab": {}
      },
      "source": [
        ""
      ],
      "execution_count": 0,
      "outputs": []
    }
  ]
}