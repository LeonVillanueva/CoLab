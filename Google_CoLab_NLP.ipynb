{
  "nbformat": 4,
  "nbformat_minor": 0,
  "metadata": {
    "colab": {
      "name": "Google_CoLab_NLP.ipynb",
      "provenance": [],
      "toc_visible": true,
      "authorship_tag": "ABX9TyPdcrdHSpLQP+h70vhql7t6",
      "include_colab_link": true
    },
    "kernelspec": {
      "name": "python3",
      "display_name": "Python 3"
    }
  },
  "cells": [
    {
      "cell_type": "markdown",
      "metadata": {
        "id": "view-in-github",
        "colab_type": "text"
      },
      "source": [
        "<a href=\"https://colab.research.google.com/github/LeonVillanueva/CoLab/blob/master/Google_CoLab_NLP.ipynb\" target=\"_parent\"><img src=\"https://colab.research.google.com/assets/colab-badge.svg\" alt=\"Open In Colab\"/></a>"
      ]
    },
    {
      "cell_type": "code",
      "metadata": {
        "id": "ZLge8uj3YxxC",
        "colab_type": "code",
        "colab": {
          "base_uri": "https://localhost:8080/",
          "height": 73
        },
        "outputId": "1b1ca71c-514b-4dd1-c3e3-d1d5ae22706b"
      },
      "source": [
        "!pip install -q tensorflow==2.0.0-beta1"
      ],
      "execution_count": 1,
      "outputs": [
        {
          "output_type": "stream",
          "text": [
            "\u001b[K     |████████████████████████████████| 87.9MB 63kB/s \n",
            "\u001b[K     |████████████████████████████████| 3.1MB 50.7MB/s \n",
            "\u001b[K     |████████████████████████████████| 501kB 57.3MB/s \n",
            "\u001b[?25h"
          ],
          "name": "stdout"
        }
      ]
    },
    {
      "cell_type": "code",
      "metadata": {
        "id": "myniUADR2802",
        "colab_type": "code",
        "colab": {}
      },
      "source": [
        "%%capture\n",
        "import numpy as np\n",
        "import matplotlib.pyplot as plt\n",
        "import pandas as pd\n",
        "import tensorflow as tf"
      ],
      "execution_count": 0,
      "outputs": []
    },
    {
      "cell_type": "code",
      "metadata": {
        "id": "a34VVoLI3GGu",
        "colab_type": "code",
        "colab": {}
      },
      "source": [
        "from sklearn.model_selection import train_test_split\n",
        "from sklearn.preprocessing import StandardScaler"
      ],
      "execution_count": 0,
      "outputs": []
    },
    {
      "cell_type": "code",
      "metadata": {
        "id": "ggcBRCpV3H4G",
        "colab_type": "code",
        "colab": {}
      },
      "source": [
        "from tensorflow.keras.layers import Input, Conv2D, Dense, Flatten, Dropout, GlobalMaxPooling2D, MaxPooling1D, GaussianNoise, BatchNormalization, MaxPooling2D, SimpleRNN, GRU, LSTM, GlobalMaxPooling1D, Embedding\n",
        "from tensorflow.keras.models import Model, Sequential\n",
        "from tensorflow.keras.optimizers import SGD, Adam\n",
        "from tensorflow.keras.preprocessing.image import ImageDataGenerator\n",
        "from tensorflow.keras.preprocessing.sequence import TimeseriesGenerator\n",
        "from tensorflow.keras.preprocessing.sequence import pad_sequences\n",
        "from tensorflow.keras.preprocessing.text import Tokenizer"
      ],
      "execution_count": 0,
      "outputs": []
    },
    {
      "cell_type": "code",
      "metadata": {
        "id": "LHCCfrB03MUO",
        "colab_type": "code",
        "colab": {}
      },
      "source": [
        "from scipy import stats\n",
        "import math\n",
        "import seaborn as sns\n",
        "import re\n",
        "from nltk.stem import WordNetLemmatizer\n",
        "import re"
      ],
      "execution_count": 0,
      "outputs": []
    },
    {
      "cell_type": "markdown",
      "metadata": {
        "id": "zeXj2LotQ4VN",
        "colab_type": "text"
      },
      "source": [
        "> *https://www.gutenberg.org/files/4357/4357-h/4357-h.htm*"
      ]
    },
    {
      "cell_type": "code",
      "metadata": {
        "id": "qTpc4nEbQ5Li",
        "colab_type": "code",
        "colab": {}
      },
      "source": [
        "text = ['She flew down the stairs, found the basket and returned with it to the attic.',\n",
        "        'Then she sat down before the brass-studded box and began trying one key after another in the curious old lock.',\n",
        "        'Some were too large, but most were too small.']\n",
        "\n",
        "max_vocab_size = 30000\n",
        "\n",
        "tokenizer = Tokenizer (num_words = max_vocab_size)\n",
        "tokenizer.fit_on_texts (text)\n",
        "sequences = tokenizer.texts_to_sequences (text)"
      ],
      "execution_count": 0,
      "outputs": []
    },
    {
      "cell_type": "code",
      "metadata": {
        "id": "lGmniQgTTFw3",
        "colab_type": "code",
        "colab": {}
      },
      "source": [
        "data = pad_sequences (sequences, padding='post')"
      ],
      "execution_count": 0,
      "outputs": []
    },
    {
      "cell_type": "markdown",
      "metadata": {
        "id": "j1iSl3WxRnFY",
        "colab_type": "text"
      },
      "source": [
        "> *https://www.kaggle.com/jrobischon/wikipedia-movie-plots*"
      ]
    },
    {
      "cell_type": "code",
      "metadata": {
        "id": "7zQWMmg6RmUL",
        "colab_type": "code",
        "outputId": "00b1be75-4ad8-41b3-e7c3-79fef9ebad07",
        "colab": {
          "base_uri": "https://localhost:8080/",
          "height": 54
        }
      },
      "source": [
        "!unzip movies.zip"
      ],
      "execution_count": 8,
      "outputs": [
        {
          "output_type": "stream",
          "text": [
            "Archive:  movies.zip\n",
            "  inflating: wiki_movie_plots_deduped.csv  \n"
          ],
          "name": "stdout"
        }
      ]
    },
    {
      "cell_type": "code",
      "metadata": {
        "id": "ELZstH0qau93",
        "colab_type": "code",
        "colab": {}
      },
      "source": [
        "df = pd.read_csv ('wiki_movie_plots_deduped.csv')"
      ],
      "execution_count": 0,
      "outputs": []
    },
    {
      "cell_type": "code",
      "metadata": {
        "id": "HJxVM0Iwa2UI",
        "colab_type": "code",
        "outputId": "a1092226-0dd8-4970-e82f-f129a78cfd6b",
        "colab": {
          "base_uri": "https://localhost:8080/",
          "height": 54
        }
      },
      "source": [
        "df.columns.values"
      ],
      "execution_count": 10,
      "outputs": [
        {
          "output_type": "execute_result",
          "data": {
            "text/plain": [
              "array(['Release Year', 'Title', 'Origin/Ethnicity', 'Director', 'Cast',\n",
              "       'Genre', 'Wiki Page', 'Plot'], dtype=object)"
            ]
          },
          "metadata": {
            "tags": []
          },
          "execution_count": 10
        }
      ]
    },
    {
      "cell_type": "code",
      "metadata": {
        "id": "aiAEEedpbA8K",
        "colab_type": "code",
        "colab": {}
      },
      "source": [
        "df = df[(df['Genre'] != 'unknown')]"
      ],
      "execution_count": 0,
      "outputs": []
    },
    {
      "cell_type": "code",
      "metadata": {
        "id": "WX2MjROBT-IB",
        "colab_type": "code",
        "colab": {}
      },
      "source": [
        "genres = df['Genre']"
      ],
      "execution_count": 0,
      "outputs": []
    },
    {
      "cell_type": "code",
      "metadata": {
        "id": "20Zcb62jbouw",
        "colab_type": "code",
        "colab": {}
      },
      "source": [
        "top_genres = genres.value_counts()[:10].index.tolist()"
      ],
      "execution_count": 0,
      "outputs": []
    },
    {
      "cell_type": "code",
      "metadata": {
        "id": "tQDtuXDUOkmZ",
        "colab_type": "code",
        "colab": {
          "base_uri": "https://localhost:8080/",
          "height": 223
        },
        "outputId": "1933feff-92dd-403a-bcc1-07fef0078aa7"
      },
      "source": [
        "genres.value_counts()[:10]"
      ],
      "execution_count": 175,
      "outputs": [
        {
          "output_type": "execute_result",
          "data": {
            "text/plain": [
              "drama        5964\n",
              "comedy       4379\n",
              "horror       1167\n",
              "action       1098\n",
              "thriller      966\n",
              "romance       923\n",
              "western       865\n",
              "crime         568\n",
              "adventure     526\n",
              "musical       467\n",
              "Name: Genre, dtype: int64"
            ]
          },
          "metadata": {
            "tags": []
          },
          "execution_count": 175
        }
      ]
    },
    {
      "cell_type": "code",
      "metadata": {
        "id": "HSNAysT5pI_O",
        "colab_type": "code",
        "colab": {}
      },
      "source": [
        "series = df [df['Genre'] == top_genres[0]].sample(460)"
      ],
      "execution_count": 0,
      "outputs": []
    },
    {
      "cell_type": "code",
      "metadata": {
        "id": "w8gOxIb0_PIf",
        "colab_type": "code",
        "colab": {}
      },
      "source": [
        "for i in range (1,len(top_genres)):\n",
        "  series_b = df [df['Genre'] == top_genres[i]].sample(300)\n",
        "  series = pd.concat((series, series_b), axis=0)"
      ],
      "execution_count": 0,
      "outputs": []
    },
    {
      "cell_type": "code",
      "metadata": {
        "id": "l9Br8BCWAR-s",
        "colab_type": "code",
        "colab": {}
      },
      "source": [
        "final = series[['Genre','Plot']]"
      ],
      "execution_count": 0,
      "outputs": []
    },
    {
      "cell_type": "code",
      "metadata": {
        "id": "5W_vXATXDhOg",
        "colab_type": "code",
        "colab": {}
      },
      "source": [
        "lemmatizer = WordNetLemmatizer()"
      ],
      "execution_count": 0,
      "outputs": []
    },
    {
      "cell_type": "markdown",
      "metadata": {
        "colab_type": "text",
        "id": "0pOqenRVhJgM"
      },
      "source": [
        ""
      ]
    },
    {
      "cell_type": "code",
      "metadata": {
        "id": "vLVxXDpNEiRF",
        "colab_type": "code",
        "colab": {}
      },
      "source": [
        "from nltk.corpus import stopwords\n",
        "import nltk"
      ],
      "execution_count": 0,
      "outputs": []
    },
    {
      "cell_type": "code",
      "metadata": {
        "id": "n92KT-bfUcKi",
        "colab_type": "code",
        "outputId": "b26121b2-a898-4b6d-f2fb-cd44cda3f722",
        "colab": {
          "base_uri": "https://localhost:8080/",
          "height": 110
        }
      },
      "source": [
        "nltk.download ('stopwords')\n",
        "nltk.download('wordnet')"
      ],
      "execution_count": 181,
      "outputs": [
        {
          "output_type": "stream",
          "text": [
            "[nltk_data] Downloading package stopwords to /root/nltk_data...\n",
            "[nltk_data]   Package stopwords is already up-to-date!\n",
            "[nltk_data] Downloading package wordnet to /root/nltk_data...\n",
            "[nltk_data]   Package wordnet is already up-to-date!\n"
          ],
          "name": "stdout"
        },
        {
          "output_type": "execute_result",
          "data": {
            "text/plain": [
              "True"
            ]
          },
          "metadata": {
            "tags": []
          },
          "execution_count": 181
        }
      ]
    },
    {
      "cell_type": "markdown",
      "metadata": {
        "id": "x-w5eT5cbBU_",
        "colab_type": "text"
      },
      "source": [
        "> *https://chrisalbon.com/machine_learning/preprocessing_text/remove_stop_words/*\n",
        "\n",
        "> *https://h1ros.github.io/posts/stemming-words-and-sentences/*\n",
        "\n",
        "> *https://www.datacamp.com/community/tutorials/stemming-lemmatization-python*"
      ]
    },
    {
      "cell_type": "code",
      "metadata": {
        "id": "5Csx_UTPeDQz",
        "colab_type": "code",
        "colab": {}
      },
      "source": [
        "def simplify (x):\n",
        "  stop_words = stopwords.words ('english')\n",
        "  words = re.sub(r'[^\\w\\s]','',x).lower().split(' ')\n",
        "  words = [lemmatizer.lemmatize (word) for word in words if word not in stop_words]\n",
        "  return words"
      ],
      "execution_count": 0,
      "outputs": []
    },
    {
      "cell_type": "code",
      "metadata": {
        "id": "37sbSUFehAQd",
        "colab_type": "code",
        "colab": {}
      },
      "source": [
        "txt = final.iloc[0]['Plot']"
      ],
      "execution_count": 0,
      "outputs": []
    },
    {
      "cell_type": "code",
      "metadata": {
        "id": "rH4z7O6-jLPW",
        "colab_type": "code",
        "outputId": "98425d12-44da-4e60-8f7a-e4f9574810df",
        "colab": {
          "base_uri": "https://localhost:8080/",
          "height": 36
        }
      },
      "source": [
        "len (simplify (txt))"
      ],
      "execution_count": 184,
      "outputs": [
        {
          "output_type": "execute_result",
          "data": {
            "text/plain": [
              "41"
            ]
          },
          "metadata": {
            "tags": []
          },
          "execution_count": 184
        }
      ]
    },
    {
      "cell_type": "code",
      "metadata": {
        "id": "ilbQ7Yy9jL8k",
        "colab_type": "code",
        "outputId": "d0b99c64-a529-4b34-86b2-51c8307bf009",
        "colab": {
          "base_uri": "https://localhost:8080/",
          "height": 129
        }
      },
      "source": [
        "final['text'] = final['Plot'].apply (simplify)"
      ],
      "execution_count": 185,
      "outputs": [
        {
          "output_type": "stream",
          "text": [
            "/usr/local/lib/python3.6/dist-packages/ipykernel_launcher.py:1: SettingWithCopyWarning: \n",
            "A value is trying to be set on a copy of a slice from a DataFrame.\n",
            "Try using .loc[row_indexer,col_indexer] = value instead\n",
            "\n",
            "See the caveats in the documentation: http://pandas.pydata.org/pandas-docs/stable/user_guide/indexing.html#returning-a-view-versus-a-copy\n",
            "  \"\"\"Entry point for launching an IPython kernel.\n"
          ],
          "name": "stderr"
        }
      ]
    },
    {
      "cell_type": "code",
      "metadata": {
        "id": "3NaGN23R2x78",
        "colab_type": "code",
        "outputId": "0b333b82-ac01-47fa-bdb7-1f78518c6a60",
        "colab": {
          "base_uri": "https://localhost:8080/",
          "height": 129
        }
      },
      "source": [
        "final['labels'] = final['Genre'].map (dict (zip (list(set(final['Genre'])), list(range(0,10)))))"
      ],
      "execution_count": 186,
      "outputs": [
        {
          "output_type": "stream",
          "text": [
            "/usr/local/lib/python3.6/dist-packages/ipykernel_launcher.py:1: SettingWithCopyWarning: \n",
            "A value is trying to be set on a copy of a slice from a DataFrame.\n",
            "Try using .loc[row_indexer,col_indexer] = value instead\n",
            "\n",
            "See the caveats in the documentation: http://pandas.pydata.org/pandas-docs/stable/user_guide/indexing.html#returning-a-view-versus-a-copy\n",
            "  \"\"\"Entry point for launching an IPython kernel.\n"
          ],
          "name": "stderr"
        }
      ]
    },
    {
      "cell_type": "code",
      "metadata": {
        "id": "FFBv_dDxa7lw",
        "colab_type": "code",
        "colab": {
          "base_uri": "https://localhost:8080/",
          "height": 206
        },
        "outputId": "55dbfa95-b233-4448-cd80-8323ea953264"
      },
      "source": [
        "final.head()"
      ],
      "execution_count": 187,
      "outputs": [
        {
          "output_type": "execute_result",
          "data": {
            "text/html": [
              "<div>\n",
              "<style scoped>\n",
              "    .dataframe tbody tr th:only-of-type {\n",
              "        vertical-align: middle;\n",
              "    }\n",
              "\n",
              "    .dataframe tbody tr th {\n",
              "        vertical-align: top;\n",
              "    }\n",
              "\n",
              "    .dataframe thead th {\n",
              "        text-align: right;\n",
              "    }\n",
              "</style>\n",
              "<table border=\"1\" class=\"dataframe\">\n",
              "  <thead>\n",
              "    <tr style=\"text-align: right;\">\n",
              "      <th></th>\n",
              "      <th>Genre</th>\n",
              "      <th>Plot</th>\n",
              "      <th>text</th>\n",
              "      <th>labels</th>\n",
              "    </tr>\n",
              "  </thead>\n",
              "  <tbody>\n",
              "    <tr>\n",
              "      <th>23832</th>\n",
              "      <td>drama</td>\n",
              "      <td>The Philippines, 1972. Mysterious things are h...</td>\n",
              "      <td>[philippine, 1972, mysterious, thing, happenin...</td>\n",
              "      <td>0</td>\n",
              "    </tr>\n",
              "    <tr>\n",
              "      <th>14387</th>\n",
              "      <td>drama</td>\n",
              "      <td>Andre Kriegman (based on Eric Harris) and Calv...</td>\n",
              "      <td>[andre, kriegman, based, eric, harris, calvin,...</td>\n",
              "      <td>0</td>\n",
              "    </tr>\n",
              "    <tr>\n",
              "      <th>8624</th>\n",
              "      <td>drama</td>\n",
              "      <td>In a room at a university campus in 1970, whit...</td>\n",
              "      <td>[room, university, campus, 1970, white, black,...</td>\n",
              "      <td>0</td>\n",
              "    </tr>\n",
              "    <tr>\n",
              "      <th>5390</th>\n",
              "      <td>drama</td>\n",
              "      <td>Jeffrey Lynn plays a defeated politician who t...</td>\n",
              "      <td>[jeffrey, lynn, play, defeated, politician, ta...</td>\n",
              "      <td>0</td>\n",
              "    </tr>\n",
              "    <tr>\n",
              "      <th>27428</th>\n",
              "      <td>drama</td>\n",
              "      <td>Totally, there are four short stories told in ...</td>\n",
              "      <td>[totally, four, short, story, told, film, firs...</td>\n",
              "      <td>0</td>\n",
              "    </tr>\n",
              "  </tbody>\n",
              "</table>\n",
              "</div>"
            ],
            "text/plain": [
              "       Genre  ... labels\n",
              "23832  drama  ...      0\n",
              "14387  drama  ...      0\n",
              "8624   drama  ...      0\n",
              "5390   drama  ...      0\n",
              "27428  drama  ...      0\n",
              "\n",
              "[5 rows x 4 columns]"
            ]
          },
          "metadata": {
            "tags": []
          },
          "execution_count": 187
        }
      ]
    },
    {
      "cell_type": "code",
      "metadata": {
        "id": "z5xruUjV22LT",
        "colab_type": "code",
        "colab": {}
      },
      "source": [
        "X_train, X_test, y_train, y_test = train_test_split (final['text'], final['labels'], test_size=0.10, random_state=23)"
      ],
      "execution_count": 0,
      "outputs": []
    },
    {
      "cell_type": "code",
      "metadata": {
        "id": "x5qch3uw4rTr",
        "colab_type": "code",
        "colab": {}
      },
      "source": [
        "max_vocab_size = 42000\n",
        "\n",
        "tokenizer = Tokenizer (num_words = max_vocab_size)\n",
        "tokenizer.fit_on_texts (X_train)\n",
        "sequence_train = tokenizer.texts_to_sequences (X_train)\n",
        "sequence_test = tokenizer.texts_to_sequences (X_test)"
      ],
      "execution_count": 0,
      "outputs": []
    },
    {
      "cell_type": "code",
      "metadata": {
        "id": "DYmMvUNM4-U_",
        "colab_type": "code",
        "colab": {}
      },
      "source": [
        "word_to_idx = tokenizer.word_index"
      ],
      "execution_count": 0,
      "outputs": []
    },
    {
      "cell_type": "code",
      "metadata": {
        "id": "QgLLseL95EBD",
        "colab_type": "code",
        "colab": {}
      },
      "source": [
        "V = len (word_to_idx) # unique tokens"
      ],
      "execution_count": 0,
      "outputs": []
    },
    {
      "cell_type": "code",
      "metadata": {
        "id": "6nMqUyPJ5HOE",
        "colab_type": "code",
        "colab": {}
      },
      "source": [
        "data_train = pad_sequences (sequence_train)\n",
        "T = data_train.shape[1]\n",
        "data_test = pad_sequences (sequence_test, maxlen=T, truncating='post')"
      ],
      "execution_count": 0,
      "outputs": []
    },
    {
      "cell_type": "code",
      "metadata": {
        "id": "D1qds9LZ52ib",
        "colab_type": "code",
        "outputId": "d7a355be-a51e-4741-9096-df4f8f9b94f5",
        "colab": {
          "base_uri": "https://localhost:8080/",
          "height": 36
        }
      },
      "source": [
        "data_train.shape, data_test.shape"
      ],
      "execution_count": 199,
      "outputs": [
        {
          "output_type": "execute_result",
          "data": {
            "text/plain": [
              "((2844, 2670), (316, 2670))"
            ]
          },
          "metadata": {
            "tags": []
          },
          "execution_count": 199
        }
      ]
    },
    {
      "cell_type": "code",
      "metadata": {
        "id": "wPD_jzEi57uy",
        "colab_type": "code",
        "colab": {}
      },
      "source": [
        "D = 64 #Embedding Dimension\n",
        "\n",
        "i = Input (shape=(T,))\n",
        "x = Embedding (V+1, D) (i)\n",
        "x = Dropout (0.5) (x)\n",
        "x = LSTM (128, return_sequences=True) (x)\n",
        "x = GlobalMaxPooling1D () (x)\n",
        "x = Dropout (0.5) (x)\n",
        "x = Dense (10, activation='softmax') (x)"
      ],
      "execution_count": 0,
      "outputs": []
    },
    {
      "cell_type": "code",
      "metadata": {
        "id": "4Ot89SXH7KBi",
        "colab_type": "code",
        "colab": {}
      },
      "source": [
        "model = Model (i, x)"
      ],
      "execution_count": 0,
      "outputs": []
    },
    {
      "cell_type": "code",
      "metadata": {
        "id": "ORimb--76x-1",
        "colab_type": "code",
        "colab": {}
      },
      "source": [
        "adam = tf.keras.optimizers.Adam (learning_rate=0.005, decay=5e-6)"
      ],
      "execution_count": 0,
      "outputs": []
    },
    {
      "cell_type": "code",
      "metadata": {
        "id": "lhu9buMy7Dun",
        "colab_type": "code",
        "colab": {}
      },
      "source": [
        "model.compile (optimizer=adam,\n",
        "               loss='sparse_categorical_crossentropy',\n",
        "               metrics=['accuracy'])"
      ],
      "execution_count": 0,
      "outputs": []
    },
    {
      "cell_type": "code",
      "metadata": {
        "id": "dCsw874A7L0A",
        "colab_type": "code",
        "outputId": "2c509321-9d93-4c06-bce6-01e62f885b16",
        "colab": {
          "base_uri": "https://localhost:8080/",
          "height": 73
        }
      },
      "source": [
        "epochs = 16\n",
        "\n",
        "r = model.fit (data_train, y_train, validation_data=(data_test, y_test), epochs=epochs, batch_size=64)"
      ],
      "execution_count": 0,
      "outputs": [
        {
          "output_type": "stream",
          "text": [
            "Train on 2844 samples, validate on 316 samples\n",
            "Epoch 1/16\n",
            " 384/2844 [===>..........................] - ETA: 5:35 - loss: 2.3105 - accuracy: 0.1146"
          ],
          "name": "stdout"
        }
      ]
    },
    {
      "cell_type": "code",
      "metadata": {
        "id": "J3xWxq-ompL3",
        "colab_type": "code",
        "colab": {
          "base_uri": "https://localhost:8080/",
          "height": 428
        },
        "outputId": "a1439ef2-d54f-4efa-f84c-54b9fff1a7be"
      },
      "source": [
        "model.summary()"
      ],
      "execution_count": 148,
      "outputs": [
        {
          "output_type": "stream",
          "text": [
            "Model: \"model_16\"\n",
            "_________________________________________________________________\n",
            "Layer (type)                 Output Shape              Param #   \n",
            "=================================================================\n",
            "input_24 (InputLayer)        [(None, 1446)]            0         \n",
            "_________________________________________________________________\n",
            "embedding_23 (Embedding)     (None, 1446, 64)          2833408   \n",
            "_________________________________________________________________\n",
            "dropout_40 (Dropout)         (None, 1446, 64)          0         \n",
            "_________________________________________________________________\n",
            "lstm_23 (LSTM)               (None, 1446, 128)         98816     \n",
            "_________________________________________________________________\n",
            "global_max_pooling1d_14 (Glo (None, 128)               0         \n",
            "_________________________________________________________________\n",
            "dropout_41 (Dropout)         (None, 128)               0         \n",
            "_________________________________________________________________\n",
            "dense_23 (Dense)             (None, 10)                1290      \n",
            "=================================================================\n",
            "Total params: 2,933,514\n",
            "Trainable params: 2,933,514\n",
            "Non-trainable params: 0\n",
            "_________________________________________________________________\n"
          ],
          "name": "stdout"
        }
      ]
    },
    {
      "cell_type": "code",
      "metadata": {
        "id": "4AtpaeDumqiV",
        "colab_type": "code",
        "colab": {
          "base_uri": "https://localhost:8080/",
          "height": 284
        },
        "outputId": "6a68812c-8f96-430e-da4b-194dad41a443"
      },
      "source": [
        "plt.plot (r.history['loss'], label='loss', color='#840000')\n",
        "plt.plot (r.history['val_loss'], label='validation loss', color='#00035b')\n",
        "plt.legend ()"
      ],
      "execution_count": 149,
      "outputs": [
        {
          "output_type": "execute_result",
          "data": {
            "text/plain": [
              "<matplotlib.legend.Legend at 0x7f47b4e72208>"
            ]
          },
          "metadata": {
            "tags": []
          },
          "execution_count": 149
        },
        {
          "output_type": "display_data",
          "data": {
            "image/png": "[encoded data removed]",
            "text/plain": [
              "<Figure size 432x288 with 1 Axes>"
            ]
          },
          "metadata": {
            "tags": []
          }
        }
      ]
    },
    {
      "cell_type": "code",
      "metadata": {
        "id": "q8cy-fcq87HV",
        "colab_type": "code",
        "colab": {
          "base_uri": "https://localhost:8080/",
          "height": 284
        },
        "outputId": "0b23972d-42c9-40f2-ea5a-0b9c87edb252"
      },
      "source": [
        "plt.plot (r.history['accuracy'], label='accuracy', color='#840000')\n",
        "plt.plot (r.history['val_accuracy'], label='validation accuracy', color='#00035b')\n",
        "plt.legend ()"
      ],
      "execution_count": 150,
      "outputs": [
        {
          "output_type": "execute_result",
          "data": {
            "text/plain": [
              "<matplotlib.legend.Legend at 0x7f47b49480f0>"
            ]
          },
          "metadata": {
            "tags": []
          },
          "execution_count": 150
        },
        {
          "output_type": "display_data",
          "data": {
            "image/png": "[encoded data removed]",
            "text/plain": [
              "<Figure size 432x288 with 1 Axes>"
            ]
          },
          "metadata": {
            "tags": []
          }
        }
      ]
    },
    {
      "cell_type": "code",
      "metadata": {
        "id": "2FuHlGXYJss1",
        "colab_type": "code",
        "colab": {}
      },
      "source": [
        "data_pred = model.predict (data_test)"
      ],
      "execution_count": 0,
      "outputs": []
    },
    {
      "cell_type": "code",
      "metadata": {
        "id": "q1ATeJ5OMkwu",
        "colab_type": "code",
        "colab": {}
      },
      "source": [
        "data_pred_class = []\n",
        "\n",
        "for i in range (len (data_pred)):\n",
        "  data_pred_class.append (np.argmax (data_pred[i]))\n"
      ],
      "execution_count": 0,
      "outputs": []
    },
    {
      "cell_type": "code",
      "metadata": {
        "id": "hjXypb2fJyP3",
        "colab_type": "code",
        "colab": {}
      },
      "source": [
        "con_mat = tf.math.confusion_matrix(labels=y_test, predictions=data_pred_class).numpy()"
      ],
      "execution_count": 0,
      "outputs": []
    },
    {
      "cell_type": "code",
      "metadata": {
        "id": "Knq62RLYJ2VP",
        "colab_type": "code",
        "colab": {}
      },
      "source": [
        "con_mat_norm = np.around(con_mat.astype('float') / con_mat.sum(axis=1)[:, np.newaxis], decimals=2)"
      ],
      "execution_count": 0,
      "outputs": []
    },
    {
      "cell_type": "code",
      "metadata": {
        "id": "_OXXhJtjJ44H",
        "colab_type": "code",
        "colab": {}
      },
      "source": [
        "con_mat_df = pd.DataFrame(con_mat_norm)"
      ],
      "execution_count": 0,
      "outputs": []
    },
    {
      "cell_type": "code",
      "metadata": {
        "id": "4UGH-IVxJ6f-",
        "colab_type": "code",
        "colab": {
          "base_uri": "https://localhost:8080/",
          "height": 383
        },
        "outputId": "9bd0fa0c-2267-4e7b-9e55-9489e2a2e62c"
      },
      "source": [
        "figure = plt.figure(figsize=(5, 5))\n",
        "sns.heatmap(con_mat_df, annot=True, cmap=plt.cm.BuPu)\n",
        "plt.tight_layout()\n",
        "plt.ylabel('True label')\n",
        "plt.xlabel('Predicted label')\n",
        "plt.show()"
      ],
      "execution_count": 169,
      "outputs": [
        {
          "output_type": "display_data",
          "data": {
            "image/png": "[encoded data removed]",
            "text/plain": [
              "<Figure size 360x360 with 2 Axes>"
            ]
          },
          "metadata": {
            "tags": []
          }
        }
      ]
    },
    {
      "cell_type": "markdown",
      "metadata": {
        "id": "O2PGfpO_NX5g",
        "colab_type": "text"
      },
      "source": [
        "### Observations\n",
        "\n",
        "1.   Even after Dropout of (0.5) the validation accuracy was at 45-50%.\n",
        "2.   Need to add regularization for LSTM, given overfitting with 90%+ of training set.\n",
        "3. Model definitely performed better with nltk lemma, and stopwords removal.\n",
        "\n"
      ]
    },
    {
      "cell_type": "code",
      "metadata": {
        "id": "Sa2Njz9YJ8cY",
        "colab_type": "code",
        "colab": {}
      },
      "source": [
        ""
      ],
      "execution_count": 0,
      "outputs": []
    }
  ]
}