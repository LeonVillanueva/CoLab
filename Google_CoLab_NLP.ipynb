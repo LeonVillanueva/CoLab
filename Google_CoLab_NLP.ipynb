{
  "nbformat": 4,
  "nbformat_minor": 0,
  "metadata": {
    "colab": {
      "name": "Google_CoLab_NLP.ipynb",
      "provenance": [],
      "authorship_tag": "ABX9TyMREf25c26t+zGKOVMIzslw",
      "include_colab_link": true
    },
    "kernelspec": {
      "name": "python3",
      "display_name": "Python 3"
    }
  },
  "cells": [
    {
      "cell_type": "markdown",
      "metadata": {
        "id": "view-in-github",
        "colab_type": "text"
      },
      "source": [
        "<a href=\"https://colab.research.google.com/github/LeonVillanueva/CoLab/blob/master/Google_CoLab_NLP.ipynb\" target=\"_parent\"><img src=\"https://colab.research.google.com/assets/colab-badge.svg\" alt=\"Open In Colab\"/></a>"
      ]
    },
    {
      "cell_type": "code",
      "metadata": {
        "id": "ZLge8uj3YxxC",
        "colab_type": "code",
        "outputId": "af8a05fd-3989-4e06-dfa7-777640f2fe53",
        "colab": {
          "base_uri": "https://localhost:8080/",
          "height": 73
        }
      },
      "source": [
        "!pip install -q tensorflow==2.0.0-beta1"
      ],
      "execution_count": 1,
      "outputs": [
        {
          "output_type": "stream",
          "text": [
            "\u001b[K     |████████████████████████████████| 87.9MB 55kB/s \n",
            "\u001b[K     |████████████████████████████████| 3.1MB 56.4MB/s \n",
            "\u001b[K     |████████████████████████████████| 501kB 51.1MB/s \n",
            "\u001b[?25h"
          ],
          "name": "stdout"
        }
      ]
    },
    {
      "cell_type": "code",
      "metadata": {
        "id": "myniUADR2802",
        "colab_type": "code",
        "colab": {}
      },
      "source": [
        "%%capture\n",
        "import numpy as np\n",
        "import matplotlib.pyplot as plt\n",
        "import pandas as pd\n",
        "import tensorflow as tf"
      ],
      "execution_count": 0,
      "outputs": []
    },
    {
      "cell_type": "code",
      "metadata": {
        "id": "a34VVoLI3GGu",
        "colab_type": "code",
        "colab": {}
      },
      "source": [
        "from sklearn.model_selection import train_test_split\n",
        "from sklearn.preprocessing import StandardScaler"
      ],
      "execution_count": 0,
      "outputs": []
    },
    {
      "cell_type": "code",
      "metadata": {
        "id": "ggcBRCpV3H4G",
        "colab_type": "code",
        "colab": {}
      },
      "source": [
        "from tensorflow.keras.layers import Input, Conv2D, Dense, Flatten, Dropout, GlobalMaxPooling2D, GaussianNoise, BatchNormalization, MaxPooling2D, SimpleRNN, GRU, LSTM, GlobalMaxPooling1D\n",
        "from tensorflow.keras.models import Model, Sequential\n",
        "from tensorflow.keras.optimizers import SGD, Adam\n",
        "from tensorflow.keras.preprocessing.image import ImageDataGenerator\n",
        "from tensorflow.keras.preprocessing.sequence import TimeseriesGenerator\n",
        "from tensorflow.keras.preprocessing.sequence import pad_sequences\n",
        "from tensorflow.keras.preprocessing.text import Tokenizer"
      ],
      "execution_count": 0,
      "outputs": []
    },
    {
      "cell_type": "code",
      "metadata": {
        "id": "LHCCfrB03MUO",
        "colab_type": "code",
        "colab": {}
      },
      "source": [
        "from scipy import stats\n",
        "import math\n",
        "import seaborn as sns"
      ],
      "execution_count": 0,
      "outputs": []
    },
    {
      "cell_type": "markdown",
      "metadata": {
        "id": "zeXj2LotQ4VN",
        "colab_type": "text"
      },
      "source": [
        "*https://www.gutenberg.org/files/4357/4357-h/4357-h.htm*"
      ]
    },
    {
      "cell_type": "code",
      "metadata": {
        "id": "qTpc4nEbQ5Li",
        "colab_type": "code",
        "colab": {}
      },
      "source": [
        "text = ['She flew down the stairs, found the basket and returned with it to the attic.',\n",
        "        'Then she sat down before the brass-studded box and began trying one key after another in the curious old lock.',\n",
        "        'Some were too large, but most were too small.']\n",
        "\n",
        "max_vocab_size = 20000\n",
        "\n",
        "tokenizer = Tokenizer (num_words = max_vocab_size)\n",
        "tokenizer.fit_on_texts (text)\n",
        "sequences = tokenizer.texts_to_sequences (text)"
      ],
      "execution_count": 0,
      "outputs": []
    },
    {
      "cell_type": "code",
      "metadata": {
        "id": "uyxIvSBlRltC",
        "colab_type": "code",
        "colab": {
          "base_uri": "https://localhost:8080/",
          "height": 690
        },
        "outputId": "01262914-db38-483e-e92c-a247da219d44"
      },
      "source": [
        "tokenizer.word_index"
      ],
      "execution_count": 15,
      "outputs": [
        {
          "output_type": "execute_result",
          "data": {
            "text/plain": [
              "{'after': 26,\n",
              " 'and': 4,\n",
              " 'another': 27,\n",
              " 'attic': 15,\n",
              " 'basket': 10,\n",
              " 'before': 18,\n",
              " 'began': 22,\n",
              " 'box': 21,\n",
              " 'brass': 19,\n",
              " 'but': 34,\n",
              " 'curious': 29,\n",
              " 'down': 3,\n",
              " 'flew': 7,\n",
              " 'found': 9,\n",
              " 'in': 28,\n",
              " 'it': 13,\n",
              " 'key': 25,\n",
              " 'large': 33,\n",
              " 'lock': 31,\n",
              " 'most': 35,\n",
              " 'old': 30,\n",
              " 'one': 24,\n",
              " 'returned': 11,\n",
              " 'sat': 17,\n",
              " 'she': 2,\n",
              " 'small': 36,\n",
              " 'some': 32,\n",
              " 'stairs': 8,\n",
              " 'studded': 20,\n",
              " 'the': 1,\n",
              " 'then': 16,\n",
              " 'to': 14,\n",
              " 'too': 6,\n",
              " 'trying': 23,\n",
              " 'were': 5,\n",
              " 'with': 12}"
            ]
          },
          "metadata": {
            "tags": []
          },
          "execution_count": 15
        }
      ]
    },
    {
      "cell_type": "code",
      "metadata": {
        "id": "lGmniQgTTFw3",
        "colab_type": "code",
        "colab": {}
      },
      "source": [
        "data = pad_sequences (sequences, padding='post')"
      ],
      "execution_count": 0,
      "outputs": []
    },
    {
      "cell_type": "code",
      "metadata": {
        "id": "uot-5udMVRsP",
        "colab_type": "code",
        "colab": {}
      },
      "source": [
        ""
      ],
      "execution_count": 0,
      "outputs": []
    }
  ]
}