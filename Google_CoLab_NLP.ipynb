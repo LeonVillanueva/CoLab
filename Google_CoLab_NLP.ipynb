{
  "nbformat": 4,
  "nbformat_minor": 0,
  "metadata": {
    "colab": {
      "name": "Google_CoLab_NLP.ipynb",
      "provenance": [],
      "authorship_tag": "ABX9TyNG0TFTn8cs9l1vh3Sjol3g",
      "include_colab_link": true
    },
    "kernelspec": {
      "name": "python3",
      "display_name": "Python 3"
    }
  },
  "cells": [
    {
      "cell_type": "markdown",
      "metadata": {
        "id": "view-in-github",
        "colab_type": "text"
      },
      "source": [
        "<a href=\"https://colab.research.google.com/github/LeonVillanueva/CoLab/blob/master/Google_CoLab_NLP.ipynb\" target=\"_parent\"><img src=\"https://colab.research.google.com/assets/colab-badge.svg\" alt=\"Open In Colab\"/></a>"
      ]
    },
    {
      "cell_type": "code",
      "metadata": {
        "id": "ZLge8uj3YxxC",
        "colab_type": "code",
        "colab": {
          "base_uri": "https://localhost:8080/",
          "height": 67
        },
        "outputId": "38af4a77-0a11-413e-9360-70cfadd7df6e"
      },
      "source": [
        "!pip install -q tensorflow==2.0.0-beta1"
      ],
      "execution_count": 1,
      "outputs": [
        {
          "output_type": "stream",
          "text": [
            "\u001b[K     |████████████████████████████████| 87.9MB 43kB/s \n",
            "\u001b[K     |████████████████████████████████| 3.1MB 39.2MB/s \n",
            "\u001b[K     |████████████████████████████████| 501kB 40.3MB/s \n",
            "\u001b[?25h"
          ],
          "name": "stdout"
        }
      ]
    },
    {
      "cell_type": "code",
      "metadata": {
        "id": "myniUADR2802",
        "colab_type": "code",
        "colab": {}
      },
      "source": [
        "%%capture\n",
        "import numpy as np\n",
        "import matplotlib.pyplot as plt\n",
        "import pandas as pd\n",
        "import tensorflow as tf"
      ],
      "execution_count": 0,
      "outputs": []
    },
    {
      "cell_type": "code",
      "metadata": {
        "id": "a34VVoLI3GGu",
        "colab_type": "code",
        "colab": {}
      },
      "source": [
        "from sklearn.model_selection import train_test_split\n",
        "from sklearn.preprocessing import StandardScaler"
      ],
      "execution_count": 0,
      "outputs": []
    },
    {
      "cell_type": "code",
      "metadata": {
        "id": "ggcBRCpV3H4G",
        "colab_type": "code",
        "colab": {}
      },
      "source": [
        "from tensorflow.keras.layers import Input, Conv2D, Dense, Flatten, Dropout, GlobalMaxPooling2D, GaussianNoise, BatchNormalization, MaxPooling2D, SimpleRNN, GRU, LSTM, GlobalMaxPooling1D\n",
        "from tensorflow.keras.models import Model, Sequential\n",
        "from tensorflow.keras.optimizers import SGD, Adam\n",
        "from tensorflow.keras.preprocessing.image import ImageDataGenerator\n",
        "from tensorflow.keras.preprocessing.sequence import TimeseriesGenerator\n",
        "from tensorflow.keras.preprocessing.sequence import pad_sequences\n",
        "from tensorflow.keras.preprocessing.text import Tokenizer"
      ],
      "execution_count": 0,
      "outputs": []
    },
    {
      "cell_type": "code",
      "metadata": {
        "id": "LHCCfrB03MUO",
        "colab_type": "code",
        "colab": {}
      },
      "source": [
        "from scipy import stats\n",
        "import math\n",
        "import seaborn as sns\n",
        "import re\n",
        "from nltk.stem import WordNetLemmatizer\n",
        "import re"
      ],
      "execution_count": 0,
      "outputs": []
    },
    {
      "cell_type": "markdown",
      "metadata": {
        "id": "zeXj2LotQ4VN",
        "colab_type": "text"
      },
      "source": [
        "> *https://www.gutenberg.org/files/4357/4357-h/4357-h.htm*"
      ]
    },
    {
      "cell_type": "code",
      "metadata": {
        "id": "qTpc4nEbQ5Li",
        "colab_type": "code",
        "colab": {}
      },
      "source": [
        "text = ['She flew down the stairs, found the basket and returned with it to the attic.',\n",
        "        'Then she sat down before the brass-studded box and began trying one key after another in the curious old lock.',\n",
        "        'Some were too large, but most were too small.']\n",
        "\n",
        "max_vocab_size = 20000\n",
        "\n",
        "tokenizer = Tokenizer (num_words = max_vocab_size)\n",
        "tokenizer.fit_on_texts (text)\n",
        "sequences = tokenizer.texts_to_sequences (text)"
      ],
      "execution_count": 0,
      "outputs": []
    },
    {
      "cell_type": "code",
      "metadata": {
        "id": "lGmniQgTTFw3",
        "colab_type": "code",
        "colab": {}
      },
      "source": [
        "data = pad_sequences (sequences, padding='post')"
      ],
      "execution_count": 0,
      "outputs": []
    },
    {
      "cell_type": "markdown",
      "metadata": {
        "id": "j1iSl3WxRnFY",
        "colab_type": "text"
      },
      "source": [
        "> *https://www.kaggle.com/jrobischon/wikipedia-movie-plots*"
      ]
    },
    {
      "cell_type": "code",
      "metadata": {
        "id": "7zQWMmg6RmUL",
        "colab_type": "code",
        "colab": {
          "base_uri": "https://localhost:8080/",
          "height": 50
        },
        "outputId": "6f6bcfaf-3a2f-41f7-bb5b-d2e8bcef1c24"
      },
      "source": [
        "!unzip movp.zip"
      ],
      "execution_count": 8,
      "outputs": [
        {
          "output_type": "stream",
          "text": [
            "Archive:  movp.zip\n",
            "  inflating: wiki_movie_plots_deduped.csv  \n"
          ],
          "name": "stdout"
        }
      ]
    },
    {
      "cell_type": "code",
      "metadata": {
        "id": "ELZstH0qau93",
        "colab_type": "code",
        "colab": {}
      },
      "source": [
        "df = pd.read_csv ('wiki_movie_plots_deduped.csv')"
      ],
      "execution_count": 0,
      "outputs": []
    },
    {
      "cell_type": "code",
      "metadata": {
        "id": "HJxVM0Iwa2UI",
        "colab_type": "code",
        "outputId": "8ef8d130-801b-4257-d305-1db8f6889505",
        "colab": {
          "base_uri": "https://localhost:8080/",
          "height": 50
        }
      },
      "source": [
        "df.columns.values"
      ],
      "execution_count": 10,
      "outputs": [
        {
          "output_type": "execute_result",
          "data": {
            "text/plain": [
              "array(['Release Year', 'Title', 'Origin/Ethnicity', 'Director', 'Cast',\n",
              "       'Genre', 'Wiki Page', 'Plot'], dtype=object)"
            ]
          },
          "metadata": {
            "tags": []
          },
          "execution_count": 10
        }
      ]
    },
    {
      "cell_type": "code",
      "metadata": {
        "id": "aiAEEedpbA8K",
        "colab_type": "code",
        "colab": {}
      },
      "source": [
        "df = df[(df['Origin/Ethnicity'] == 'American') & (df['Genre'] != 'unknown')]"
      ],
      "execution_count": 0,
      "outputs": []
    },
    {
      "cell_type": "code",
      "metadata": {
        "id": "WX2MjROBT-IB",
        "colab_type": "code",
        "colab": {}
      },
      "source": [
        "genres = df['Genre']"
      ],
      "execution_count": 0,
      "outputs": []
    },
    {
      "cell_type": "code",
      "metadata": {
        "id": "20Zcb62jbouw",
        "colab_type": "code",
        "colab": {}
      },
      "source": [
        "top_genres = genres.value_counts()[:10].index.tolist()"
      ],
      "execution_count": 0,
      "outputs": []
    },
    {
      "cell_type": "code",
      "metadata": {
        "id": "HSNAysT5pI_O",
        "colab_type": "code",
        "colab": {}
      },
      "source": [
        "series = df [df['Genre'] == top_genres[0]].sample(300)"
      ],
      "execution_count": 0,
      "outputs": []
    },
    {
      "cell_type": "code",
      "metadata": {
        "id": "w8gOxIb0_PIf",
        "colab_type": "code",
        "colab": {}
      },
      "source": [
        "for i in range (1,len(top_genres)):\n",
        "  series_b = df [df['Genre'] == top_genres[i]].sample(300)\n",
        "  series = pd.concat((series, series_b), axis=0)"
      ],
      "execution_count": 0,
      "outputs": []
    },
    {
      "cell_type": "code",
      "metadata": {
        "id": "l9Br8BCWAR-s",
        "colab_type": "code",
        "colab": {}
      },
      "source": [
        "final = series[['Genre','Plot']]"
      ],
      "execution_count": 0,
      "outputs": []
    },
    {
      "cell_type": "code",
      "metadata": {
        "id": "5W_vXATXDhOg",
        "colab_type": "code",
        "colab": {}
      },
      "source": [
        "lemmatizer = WordNetLemmatizer()"
      ],
      "execution_count": 0,
      "outputs": []
    },
    {
      "cell_type": "markdown",
      "metadata": {
        "colab_type": "text",
        "id": "0pOqenRVhJgM"
      },
      "source": [
        ""
      ]
    },
    {
      "cell_type": "code",
      "metadata": {
        "id": "vLVxXDpNEiRF",
        "colab_type": "code",
        "colab": {}
      },
      "source": [
        "from nltk.corpus import stopwords\n",
        "import nltk"
      ],
      "execution_count": 0,
      "outputs": []
    },
    {
      "cell_type": "code",
      "metadata": {
        "id": "n92KT-bfUcKi",
        "colab_type": "code",
        "colab": {
          "base_uri": "https://localhost:8080/",
          "height": 101
        },
        "outputId": "07a7401e-0e91-420d-b852-767fe33e4dbc"
      },
      "source": [
        "nltk.download ('stopwords')\n",
        "nltk.download('wordnet')"
      ],
      "execution_count": 59,
      "outputs": [
        {
          "output_type": "stream",
          "text": [
            "[nltk_data] Downloading package stopwords to /root/nltk_data...\n",
            "[nltk_data]   Package stopwords is already up-to-date!\n",
            "[nltk_data] Downloading package wordnet to /root/nltk_data...\n",
            "[nltk_data]   Package wordnet is already up-to-date!\n"
          ],
          "name": "stdout"
        },
        {
          "output_type": "execute_result",
          "data": {
            "text/plain": [
              "True"
            ]
          },
          "metadata": {
            "tags": []
          },
          "execution_count": 59
        }
      ]
    },
    {
      "cell_type": "markdown",
      "metadata": {
        "id": "x-w5eT5cbBU_",
        "colab_type": "text"
      },
      "source": [
        "> *https://chrisalbon.com/machine_learning/preprocessing_text/remove_stop_words/*\n",
        "\n",
        "> *https://h1ros.github.io/posts/stemming-words-and-sentences/*\n",
        "\n",
        "> *https://www.datacamp.com/community/tutorials/stemming-lemmatization-python*"
      ]
    },
    {
      "cell_type": "code",
      "metadata": {
        "id": "UB_6FfnDUfsQ",
        "colab_type": "code",
        "colab": {}
      },
      "source": [
        ""
      ],
      "execution_count": 0,
      "outputs": []
    },
    {
      "cell_type": "code",
      "metadata": {
        "id": "5Csx_UTPeDQz",
        "colab_type": "code",
        "colab": {}
      },
      "source": [
        "def simplify (x):\n",
        "  stop_words = stopwords.words ('english')\n",
        "  words = re.sub(r'[^\\w\\s]','',x).lower().split(' ')\n",
        "  words = [lemmatizer.lemmatize (word) for word in words if word not in stop_words]"
      ],
      "execution_count": 0,
      "outputs": []
    },
    {
      "cell_type": "code",
      "metadata": {
        "id": "37sbSUFehAQd",
        "colab_type": "code",
        "colab": {}
      },
      "source": [
        "txt = final.iloc[0]['Plot']"
      ],
      "execution_count": 0,
      "outputs": []
    }
  ]
}