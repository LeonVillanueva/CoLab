{
  "nbformat": 4,
  "nbformat_minor": 0,
  "metadata": {
    "colab": {
      "name": "Google_CoLab_GAN_sprites.ipynb",
      "provenance": [],
      "collapsed_sections": [],
      "toc_visible": true,
      "authorship_tag": "ABX9TyPb6m41zFvPvOqaHgygMZy4",
      "include_colab_link": true
    },
    "kernelspec": {
      "name": "python3",
      "display_name": "Python 3"
    }
  },
  "cells": [
    {
      "cell_type": "markdown",
      "metadata": {
        "id": "view-in-github",
        "colab_type": "text"
      },
      "source": [
        "<a href=\"https://colab.research.google.com/github/LeonVillanueva/CoLab/blob/master/Google_CoLab_GAN_sprites.ipynb\" target=\"_parent\"><img src=\"https://colab.research.google.com/assets/colab-badge.svg\" alt=\"Open In Colab\"/></a>"
      ]
    },
    {
      "cell_type": "markdown",
      "metadata": {
        "id": "AV-3gJ8Ycnif",
        "colab_type": "text"
      },
      "source": [
        "### *Loading Libraries*"
      ]
    },
    {
      "cell_type": "code",
      "metadata": {
        "id": "vpRm0BuJq9IN",
        "colab_type": "code",
        "outputId": "2fe81ac9-744c-4697-cfce-6d25c077f657",
        "colab": {
          "base_uri": "https://localhost:8080/",
          "height": 73
        }
      },
      "source": [
        "!pip install -q tensorflow==2.0.0-beta1"
      ],
      "execution_count": 1,
      "outputs": [
        {
          "output_type": "stream",
          "text": [
            "\u001b[K     |████████████████████████████████| 87.9MB 65kB/s \n",
            "\u001b[K     |████████████████████████████████| 3.1MB 41.8MB/s \n",
            "\u001b[K     |████████████████████████████████| 501kB 61.8MB/s \n",
            "\u001b[?25h"
          ],
          "name": "stdout"
        }
      ]
    },
    {
      "cell_type": "code",
      "metadata": {
        "id": "chUBlGpscK1E",
        "colab_type": "code",
        "colab": {}
      },
      "source": [
        "%%capture\n",
        "import os\n",
        "import numpy as np\n",
        "from PIL import Image\n",
        "import matplotlib.pyplot as plt\n",
        "import numpy as np\n",
        "import matplotlib.pyplot as plt\n",
        "import pandas as pd\n",
        "import tensorflow as tf"
      ],
      "execution_count": 0,
      "outputs": []
    },
    {
      "cell_type": "code",
      "metadata": {
        "id": "KpK4vDlFcvCt",
        "colab_type": "code",
        "colab": {}
      },
      "source": [
        "if os.path.isdir ('input-sprites'):\n",
        "  print ('Sprite directory already exists.')\n",
        "else:\n",
        "  os.makedirs ('input-sprites')"
      ],
      "execution_count": 0,
      "outputs": []
    },
    {
      "cell_type": "code",
      "metadata": {
        "id": "nNpBS8IduGX_",
        "colab_type": "code",
        "colab": {}
      },
      "source": [
        "if os.path.isdir ('gan-sprites'):\n",
        "  print ('Sprite directory already exists.')\n",
        "else:\n",
        "  os.makedirs ('gan-sprites')"
      ],
      "execution_count": 0,
      "outputs": []
    },
    {
      "cell_type": "code",
      "metadata": {
        "id": "BPHl6-wBcm5z",
        "colab_type": "code",
        "colab": {}
      },
      "source": [
        "%%capture\n",
        "!unzip input-sprite.zip -d input-sprites/"
      ],
      "execution_count": 0,
      "outputs": []
    },
    {
      "cell_type": "code",
      "metadata": {
        "id": "HAJ7ji_Eqk3y",
        "colab_type": "code",
        "colab": {}
      },
      "source": [
        "from tensorflow.keras.layers import Input, Conv2D, Dense, Reshape, Flatten, Dropout, Concatenate, Conv2DTranspose, GlobalMaxPooling2D, MaxPooling1D, GaussianNoise, BatchNormalization, MaxPooling2D, SimpleRNN, GRU, LSTM, GlobalMaxPooling1D, Embedding, LeakyReLU, BatchNormalization\n",
        "from tensorflow.keras.models import Model, Sequential\n",
        "from tensorflow.keras.optimizers import SGD, Adam\n",
        "from tensorflow.keras.preprocessing.image import ImageDataGenerator"
      ],
      "execution_count": 0,
      "outputs": []
    },
    {
      "cell_type": "code",
      "metadata": {
        "id": "vR7bEDL-rJSY",
        "colab_type": "code",
        "colab": {}
      },
      "source": [
        "from sklearn.model_selection import train_test_split\n",
        "from sklearn.preprocessing import StandardScaler, MinMaxScaler, Normalizer"
      ],
      "execution_count": 0,
      "outputs": []
    },
    {
      "cell_type": "markdown",
      "metadata": {
        "id": "gtiVQmdkfNLQ",
        "colab_type": "text"
      },
      "source": [
        "### *Custom Function*"
      ]
    },
    {
      "cell_type": "code",
      "metadata": {
        "id": "cwyyB1Wue2TG",
        "colab_type": "code",
        "colab": {}
      },
      "source": [
        "def load_image (image):\n",
        "  image = Image.open(image)                     # load image files\n",
        "  image = image.convert('RGB')                  # convert RGB = 3 channels\n",
        "  pixels = np.asarray(image)                    # convert to array\n",
        "  return pixels"
      ],
      "execution_count": 0,
      "outputs": []
    },
    {
      "cell_type": "code",
      "metadata": {
        "id": "2TGRdcMVlIeG",
        "colab_type": "code",
        "colab": {}
      },
      "source": [
        "def load_sprite (directory):\n",
        "  sprites = []\n",
        "  for png in os.listdir (directory):\n",
        "    if png.endswith('.png'):                    # check that image file is being processed\n",
        "      pixels = load_image(directory + '/' + png)\n",
        "      sprites.append (pixels)\n",
        "  return np.asarray (sprites)"
      ],
      "execution_count": 0,
      "outputs": []
    },
    {
      "cell_type": "code",
      "metadata": {
        "id": "T-cLT9YzlJ6F",
        "colab_type": "code",
        "colab": {}
      },
      "source": [
        "real = load_sprite ('input-sprites')"
      ],
      "execution_count": 0,
      "outputs": []
    },
    {
      "cell_type": "code",
      "metadata": {
        "id": "yxgYH0e9p0hI",
        "colab_type": "code",
        "outputId": "d2daa830-f937-40e3-a92d-41876c76701a",
        "colab": {
          "base_uri": "https://localhost:8080/",
          "height": 266
        }
      },
      "source": [
        "plt.imshow(real[23])\n",
        "plt.show()"
      ],
      "execution_count": 12,
      "outputs": [
        {
          "output_type": "display_data",
          "data": {
            "image/png": "[encoded data removed]",
            "text/plain": [
              "<Figure size 432x288 with 1 Axes>"
            ]
          },
          "metadata": {
            "tags": []
          }
        }
      ]
    },
    {
      "cell_type": "code",
      "metadata": {
        "id": "aOFctvdNlQyC",
        "colab_type": "code",
        "colab": {}
      },
      "source": [
        "N, H, W, K = real.shape"
      ],
      "execution_count": 0,
      "outputs": []
    },
    {
      "cell_type": "code",
      "metadata": {
        "id": "V4Oe21rmu8L8",
        "colab_type": "code",
        "colab": {}
      },
      "source": [
        "latent = 128\n",
        "batch = 32"
      ],
      "execution_count": 0,
      "outputs": []
    },
    {
      "cell_type": "markdown",
      "metadata": {
        "id": "6uUsIhLCqWjR",
        "colab_type": "text"
      },
      "source": [
        "[*Basing on this model.*](https://machinelearningmastery.com/how-to-interpolate-and-perform-vector-arithmetic-with-faces-using-a-generative-adversarial-network/)"
      ]
    },
    {
      "cell_type": "code",
      "metadata": {
        "id": "2zn0a7jfpjfh",
        "colab_type": "code",
        "colab": {}
      },
      "source": [
        "def discriminator_nn (image):\n",
        "  i = Input (shape=(image))\n",
        "  \n",
        "  # convolutions\n",
        "  x = Conv2D (128, (5,5), padding='same') (i)\n",
        "  x = LeakyReLU (0.2) (x)\n",
        "\n",
        "  x = Conv2D(128, (5,5), strides=(2,2), padding='same') (x)\n",
        "  x = LeakyReLU (0.2) (x)\n",
        "\n",
        "  x = Conv2D(128, (5,5), strides=(2,2), padding='same') (x)\n",
        "  x = LeakyReLU (0.2) (x)\n",
        "\n",
        "  x = Conv2D(128, (5,5), strides=(2,2), padding='same') (x)\n",
        "  x = LeakyReLU (0.2) (x)\n",
        "\n",
        "  # flatten\n",
        "  x = Flatten () (x)\n",
        "  x = Dropout (0.5) (x)\n",
        "\n",
        "  # sequentail\n",
        "  x = Dense (256, activation=LeakyReLU(alpha=0.2))  (x)\n",
        "  x = BatchNormalization (momentum=0.8) (x)\n",
        "\n",
        "  x = Dense (128, activation=LeakyReLU(alpha=0.2))  (x)\n",
        "  x = BatchNormalization (momentum=0.8) (x)\n",
        "\n",
        "  x = Dense (1, activation='sigmoid') (x)\n",
        "  model = Model (i, x)\n",
        "\n",
        "  return model"
      ],
      "execution_count": 0,
      "outputs": []
    },
    {
      "cell_type": "code",
      "metadata": {
        "id": "wuewowNtrO2B",
        "colab_type": "code",
        "colab": {}
      },
      "source": [
        "def generator_nn (latent, sH=4, sW=4, batch=32):\n",
        "  nodes = batch * sH * sW\n",
        "  \n",
        "  i = Input (shape=(latent,))\n",
        "  x = Dense (nodes) (i)\n",
        "  x = Reshape ((sH, sW, batch)) (x)\n",
        "\n",
        "  # reverse convolution\n",
        "  x = Conv2DTranspose (batch, (4,4), strides=(2,2), padding='same') (x)\n",
        "  x = LeakyReLU (0.2) (x)\n",
        "\n",
        "  x = Conv2DTranspose (batch, (4,4), strides=(2,2), padding='same') (x)\n",
        "  x = LeakyReLU (0.2) (x)\n",
        "\n",
        "  x = Conv2DTranspose (batch, (4,4), strides=(2,2), padding='same') (x)\n",
        "  x = LeakyReLU (0.2) (x)\n",
        "\n",
        "  # output layer should be 32 = 4 * 2 * 2 * 2\n",
        "  # last node are the 3 channels = RGB\n",
        "\n",
        "  x =  Conv2D (3, (5,5), activation='sigmoid', padding='same')(x)\n",
        "  model = Model (i, x)\n",
        "\n",
        "  return model"
      ],
      "execution_count": 0,
      "outputs": []
    },
    {
      "cell_type": "code",
      "metadata": {
        "id": "Tre4F3p7z513",
        "colab_type": "code",
        "colab": {}
      },
      "source": [
        "discriminator = discriminator_nn ((H,W,K))"
      ],
      "execution_count": 0,
      "outputs": []
    },
    {
      "cell_type": "code",
      "metadata": {
        "id": "V8IRcl5G3XMg",
        "colab_type": "code",
        "colab": {}
      },
      "source": [
        "discriminator.compile (\n",
        "    loss = 'binary_crossentropy',\n",
        "    optimizer = Adam (0.0002, 0.5),\n",
        "    metrics=['accuracy']\n",
        ")"
      ],
      "execution_count": 0,
      "outputs": []
    },
    {
      "cell_type": "code",
      "metadata": {
        "id": "Gt5skFsE0N1h",
        "colab_type": "code",
        "colab": {}
      },
      "source": [
        "generator = generator_nn (latent)\n",
        "z = Input (shape=(latent,))                       # noise sample\n",
        "image = generator (z)                             # pass z into the generator\n",
        "\n",
        "discriminator.trainable = False                   # somehow this is not inherited later\n",
        "fake_pred = discriminator (image)\n",
        "\n",
        "combined = Model (z, fake_pred)"
      ],
      "execution_count": 0,
      "outputs": []
    },
    {
      "cell_type": "code",
      "metadata": {
        "id": "ioxjr8681sHY",
        "colab_type": "code",
        "colab": {}
      },
      "source": [
        "combined.compile (\n",
        "    loss = 'binary_crossentropy',\n",
        "    optimizer = Adam (0.0002, 0.5)\n",
        ")"
      ],
      "execution_count": 0,
      "outputs": []
    },
    {
      "cell_type": "code",
      "metadata": {
        "id": "kcjvSvGR3J4W",
        "colab_type": "code",
        "colab": {}
      },
      "source": [
        "batch = 32\n",
        "epochs = 12000\n",
        "sample_period = 2000"
      ],
      "execution_count": 0,
      "outputs": []
    },
    {
      "cell_type": "code",
      "metadata": {
        "id": "pn7Q7lQ2_HTZ",
        "colab_type": "code",
        "colab": {
          "base_uri": "https://localhost:8080/",
          "height": 36
        },
        "outputId": "652afd0d-c824-4e78-9db0-2e6db4594823"
      },
      "source": [
        "real.shape"
      ],
      "execution_count": 47,
      "outputs": [
        {
          "output_type": "execute_result",
          "data": {
            "text/plain": [
              "(742, 32, 32, 3)"
            ]
          },
          "metadata": {
            "tags": []
          },
          "execution_count": 47
        }
      ]
    },
    {
      "cell_type": "code",
      "metadata": {
        "id": "sxkPoU4q-YYh",
        "colab_type": "code",
        "colab": {}
      },
      "source": [
        "ones = np.ones (batch) # creating batch labels ahead of time\n",
        "zeros = np.zeros (batch)"
      ],
      "execution_count": 0,
      "outputs": []
    },
    {
      "cell_type": "code",
      "metadata": {
        "id": "gAVt1TVX-dCE",
        "colab_type": "code",
        "colab": {}
      },
      "source": [
        "d_losses = []\n",
        "g_losses = []"
      ],
      "execution_count": 0,
      "outputs": []
    },
    {
      "cell_type": "code",
      "metadata": {
        "id": "mAUVSdtZ-fDZ",
        "colab_type": "code",
        "colab": {}
      },
      "source": [
        "def sample_images (epoch):\n",
        "  rows, cols = 5, 5\n",
        "  noise = np.random.randn (rows*cols, latent)\n",
        "  images = generator.predict (noise) # have the generator make a sample image from the noise\n",
        "\n",
        "  # images = 0.5 * images + 0.5 # rescaling to be between 0 and 1\n",
        "\n",
        "  fig, axs = plt.subplots (rows, cols)\n",
        "  idx = 0\n",
        "  for i in range(rows):\n",
        "    for j in range(cols):\n",
        "      axs[i, j].imshow(images[idx].reshape(32,32,3))\n",
        "      axs[i, j].axis('off')\n",
        "      idx += 1 # this is just graphing 1 by 1\n",
        "  fig.savefig ('gan-sprites/%d.png' % epoch)\n",
        "  plt.close()"
      ],
      "execution_count": 0,
      "outputs": []
    },
    {
      "cell_type": "code",
      "metadata": {
        "id": "BDUGvQGjvcLj",
        "colab_type": "code",
        "colab": {}
      },
      "source": [
        "def my_sampler (x):\n",
        "  noise = np.random.randn (1, latent)\n",
        "  image = generator.predict (noise)\n",
        "\n",
        "  plt.imshow (image.reshape(32,32,3))\n",
        "  plt.savefig ('gan-sprites/epoch_%d' % x)\n",
        "  plt.close"
      ],
      "execution_count": 0,
      "outputs": []
    },
    {
      "cell_type": "code",
      "metadata": {
        "id": "OgzLEHlK_U0C",
        "colab_type": "code",
        "colab": {}
      },
      "source": [
        "X = real\n",
        "y = np.ones (len (real))"
      ],
      "execution_count": 0,
      "outputs": []
    },
    {
      "cell_type": "code",
      "metadata": {
        "id": "q5Mvs4C2tlSw",
        "colab_type": "code",
        "colab": {}
      },
      "source": [
        "def my_scale (x):\n",
        "  return (x - np.max(x))/(np.max (x)-np.min(x))"
      ],
      "execution_count": 0,
      "outputs": []
    },
    {
      "cell_type": "code",
      "metadata": {
        "id": "--AZ7qmzt5la",
        "colab_type": "code",
        "colab": {}
      },
      "source": [
        "X = my_scale (X)"
      ],
      "execution_count": 0,
      "outputs": []
    },
    {
      "cell_type": "code",
      "metadata": {
        "id": "-7ZMIQ4x_0dD",
        "colab_type": "code",
        "colab": {}
      },
      "source": [
        "X_train, X_test, y_train, y_test = train_test_split (X, y, test_size=0.85, random_state=23)"
      ],
      "execution_count": 0,
      "outputs": []
    },
    {
      "cell_type": "code",
      "metadata": {
        "id": "t-V1lA1wAhn6",
        "colab_type": "code",
        "colab": {
          "base_uri": "https://localhost:8080/",
          "height": 354
        },
        "outputId": "7e1fc668-7a31-44d0-fff3-9d8d56621578"
      },
      "source": [
        "for epoch in range (epochs):\n",
        "  # train discriminator\n",
        "  idx = np.random.randint (0, X_train.shape[0], batch) # select random images from index 0 to size of X_train, in a batch size group\n",
        "  real_images = X_train [idx]\n",
        "\n",
        "  noise = np.random.randn (batch, latent)\n",
        "  fake_images = generator.predict(noise)\n",
        "\n",
        "  d_loss_real, d_acc_real = discriminator.train_on_batch (real_images, ones) # (X, y)\n",
        "  d_loss_fake, d_acc_fake = discriminator.train_on_batch (fake_images, zeros)\n",
        "\n",
        "  d_loss = 0.5 * (d_loss_real + d_loss_fake) # mean of losses and accuracies\n",
        "  d_acc = 0.5 * (d_acc_real + d_acc_fake)\n",
        "\n",
        "  if epoch % sample_period == 0:\n",
        "    print ('Trainable (D) : %a ' %discriminator.trainable)\n",
        "\n",
        "  # train generator\n",
        "  noise = np.random.random_sample ((batch, latent))\n",
        "  g_loss = combined.train_on_batch (noise, ones) # flipped from discriminator\n",
        "\n",
        "  d_losses.append (d_loss)\n",
        "  g_losses.append (g_loss)\n",
        "\n",
        "  if epoch % sample_period == 0:\n",
        "    print ('Trainable (G) : %a ' %discriminator.trainable)\n",
        "    print ('Discriminator Loss : %a' %d_loss)\n",
        "    print ('Generator Loss : %a' %g_loss) \n",
        "    print ('Epoch : %a' %epoch )\n",
        "    print ('***')\n",
        "\n",
        "  if epoch % 1000 == 0:\n",
        "    my_sampler (x=epoch)"
      ],
      "execution_count": 0,
      "outputs": [
        {
          "output_type": "stream",
          "text": [
            "Trainable (D) : False \n",
            "Trainable (G) : False \n",
            "Discriminator Loss : 0.6937565207481384\n",
            "Generator Loss : 0.6785337\n",
            "Epoch : 0\n",
            "***\n",
            "Trainable (D) : False \n",
            "Trainable (G) : False \n",
            "Discriminator Loss : 8.847570853731668e-08\n",
            "Generator Loss : 15.424949\n",
            "Epoch : 2000\n",
            "***\n",
            "Trainable (D) : False \n",
            "Trainable (G) : False \n",
            "Discriminator Loss : 5.774210620757003e-08\n",
            "Generator Loss : 15.424949\n",
            "Epoch : 4000\n",
            "***\n"
          ],
          "name": "stdout"
        }
      ]
    },
    {
      "cell_type": "code",
      "metadata": {
        "id": "GKUvTc8UUe3H",
        "colab_type": "code",
        "colab": {}
      },
      "source": [
        "plt.plot (g_losses, label='Generator Loss', color='#840000')\n",
        "plt.plot (d_losses, label='Discriminator Loss', color='#00035b')\n",
        "plt.legend ()"
      ],
      "execution_count": 0,
      "outputs": []
    },
    {
      "cell_type": "code",
      "metadata": {
        "id": "suw2X-HWkEoR",
        "colab_type": "code",
        "colab": {}
      },
      "source": [
        "generator.summary()"
      ],
      "execution_count": 0,
      "outputs": []
    },
    {
      "cell_type": "code",
      "metadata": {
        "id": "pmBUN4hNkHHH",
        "colab_type": "code",
        "colab": {}
      },
      "source": [
        "discriminator.summary ()"
      ],
      "execution_count": 0,
      "outputs": []
    },
    {
      "cell_type": "code",
      "metadata": {
        "id": "qlFLLP3DkTMb",
        "colab_type": "code",
        "colab": {}
      },
      "source": [
        "noise = np.random.randn (1, latent)"
      ],
      "execution_count": 0,
      "outputs": []
    },
    {
      "cell_type": "code",
      "metadata": {
        "id": "mqv2dghlkaKH",
        "colab_type": "code",
        "colab": {}
      },
      "source": [
        "y_pred = generator.predict (noise)"
      ],
      "execution_count": 0,
      "outputs": []
    },
    {
      "cell_type": "code",
      "metadata": {
        "id": "anp-Yih7k10k",
        "colab_type": "code",
        "colab": {}
      },
      "source": [
        "np.min (y_pred), np.max(y_pred)"
      ],
      "execution_count": 0,
      "outputs": []
    },
    {
      "cell_type": "code",
      "metadata": {
        "id": "mEHnzIbyrndX",
        "colab_type": "code",
        "colab": {}
      },
      "source": [
        "plt.imshow (y_pred.reshape(32,32,3))"
      ],
      "execution_count": 0,
      "outputs": []
    },
    {
      "cell_type": "code",
      "metadata": {
        "id": "0HCy6qsksg0E",
        "colab_type": "code",
        "colab": {}
      },
      "source": [
        ""
      ],
      "execution_count": 0,
      "outputs": []
    }
  ]
}