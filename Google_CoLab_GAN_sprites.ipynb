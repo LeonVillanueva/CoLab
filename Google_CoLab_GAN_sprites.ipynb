{
  "nbformat": 4,
  "nbformat_minor": 0,
  "metadata": {
    "colab": {
      "name": "Google_CoLab_GAN_sprites.ipynb",
      "provenance": [],
      "collapsed_sections": [],
      "toc_visible": true,
      "authorship_tag": "ABX9TyOSCIV85hnjIXZci1jJXUfp",
      "include_colab_link": true
    },
    "kernelspec": {
      "name": "python3",
      "display_name": "Python 3"
    }
  },
  "cells": [
    {
      "cell_type": "markdown",
      "metadata": {
        "id": "view-in-github",
        "colab_type": "text"
      },
      "source": [
        "<a href=\"https://colab.research.google.com/github/LeonVillanueva/CoLab/blob/master/Google_CoLab_GAN_sprites.ipynb\" target=\"_parent\"><img src=\"https://colab.research.google.com/assets/colab-badge.svg\" alt=\"Open In Colab\"/></a>"
      ]
    },
    {
      "cell_type": "markdown",
      "metadata": {
        "id": "AV-3gJ8Ycnif",
        "colab_type": "text"
      },
      "source": [
        "### *Loading Libraries*"
      ]
    },
    {
      "cell_type": "code",
      "metadata": {
        "id": "chUBlGpscK1E",
        "colab_type": "code",
        "colab": {}
      },
      "source": [
        "import os"
      ],
      "execution_count": 0,
      "outputs": []
    },
    {
      "cell_type": "code",
      "metadata": {
        "id": "KpK4vDlFcvCt",
        "colab_type": "code",
        "outputId": "9725fc0b-fac0-4589-a07b-88559b218bc5",
        "colab": {
          "base_uri": "https://localhost:8080/",
          "height": 36
        }
      },
      "source": [
        "if os.path.isdir ('sprites'):\n",
        "  print ('Sprite directory already exists.')\n",
        "else:\n",
        "  os.makedirs ('sprites')"
      ],
      "execution_count": 8,
      "outputs": [
        {
          "output_type": "stream",
          "text": [
            "Sprite directory already exists.\n"
          ],
          "name": "stdout"
        }
      ]
    },
    {
      "cell_type": "code",
      "metadata": {
        "id": "BPHl6-wBcm5z",
        "colab_type": "code",
        "colab": {}
      },
      "source": [
        "%%capture\n",
        "!unzip sprites/sprites.zip -d sprites/"
      ],
      "execution_count": 0,
      "outputs": []
    },
    {
      "cell_type": "markdown",
      "metadata": {
        "id": "gtiVQmdkfNLQ",
        "colab_type": "text"
      },
      "source": [
        "### *Custom Function*"
      ]
    },
    {
      "cell_type": "code",
      "metadata": {
        "id": "cwyyB1Wue2TG",
        "colab_type": "code",
        "colab": {}
      },
      "source": [
        "def load_img (x):\n",
        "  from PIL import Image\n",
        "  # load image from file\n",
        "  image = Image.open(x)\n",
        "  # convert to RGB, if needed\n",
        "  image = image.convert('RGB')\n",
        "  # convert to array\n",
        "  pixels = asarray(image)\n",
        "  return pixels"
      ],
      "execution_count": 0,
      "outputs": []
    },
    {
      "cell_type": "code",
      "metadata": {
        "id": "whlh1kkUfxO7",
        "colab_type": "code",
        "colab": {}
      },
      "source": [
        "test = Image.open ('sprites/last-guardian-sprites/amg1_fr1.gif')"
      ],
      "execution_count": 0,
      "outputs": []
    },
    {
      "cell_type": "code",
      "metadata": {
        "id": "2TGRdcMVlIeG",
        "colab_type": "code",
        "colab": {
          "base_uri": "https://localhost:8080/",
          "height": 49
        },
        "outputId": "baa6602b-2cf1-42e4-da6b-0e91b7c89bb4"
      },
      "source": [
        "test = test.convert('RGB')\n",
        "test"
      ],
      "execution_count": 18,
      "outputs": [
        {
          "output_type": "execute_result",
          "data": {
            "image/png": "[encoded data removed]",
            "text/plain": [
              "<PIL.Image.Image image mode=RGB size=32x32 at 0x7F3CC37EBF98>"
            ]
          },
          "metadata": {
            "tags": []
          },
          "execution_count": 18
        }
      ]
    },
    {
      "cell_type": "code",
      "metadata": {
        "id": "T-cLT9YzlJ6F",
        "colab_type": "code",
        "colab": {
          "base_uri": "https://localhost:8080/",
          "height": 36
        },
        "outputId": "7a68a12e-daee-4190-c855-e80b22cedc51"
      },
      "source": [
        "import numpy as np\n",
        "p = np.asarray (test)\n",
        "p.shape"
      ],
      "execution_count": 22,
      "outputs": [
        {
          "output_type": "execute_result",
          "data": {
            "text/plain": [
              "(32, 32, 3)"
            ]
          },
          "metadata": {
            "tags": []
          },
          "execution_count": 22
        }
      ]
    },
    {
      "cell_type": "code",
      "metadata": {
        "id": "aOFctvdNlQyC",
        "colab_type": "code",
        "colab": {}
      },
      "source": [
        ""
      ],
      "execution_count": 0,
      "outputs": []
    }
  ]
}