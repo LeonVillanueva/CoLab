{
  "nbformat": 4,
  "nbformat_minor": 0,
  "metadata": {
    "colab": {
      "name": "Google_CoLab_GAN_sprites.ipynb",
      "provenance": [],
      "collapsed_sections": [],
      "toc_visible": true,
      "authorship_tag": "ABX9TyOOsWz7J1mG+5auMVwlvV3K",
      "include_colab_link": true
    },
    "kernelspec": {
      "name": "python3",
      "display_name": "Python 3"
    }
  },
  "cells": [
    {
      "cell_type": "markdown",
      "metadata": {
        "id": "view-in-github",
        "colab_type": "text"
      },
      "source": [
        "<a href=\"https://colab.research.google.com/github/LeonVillanueva/CoLab/blob/master/Google_CoLab_GAN_sprites.ipynb\" target=\"_parent\"><img src=\"https://colab.research.google.com/assets/colab-badge.svg\" alt=\"Open In Colab\"/></a>"
      ]
    },
    {
      "cell_type": "markdown",
      "metadata": {
        "id": "AV-3gJ8Ycnif",
        "colab_type": "text"
      },
      "source": [
        "### *Loading Libraries*"
      ]
    },
    {
      "cell_type": "code",
      "metadata": {
        "id": "vpRm0BuJq9IN",
        "colab_type": "code",
        "colab": {
          "base_uri": "https://localhost:8080/",
          "height": 73
        },
        "outputId": "261b610d-4bb9-4f78-82e2-94910dd50f2d"
      },
      "source": [
        "!pip install -q tensorflow==2.0.0-beta1"
      ],
      "execution_count": 46,
      "outputs": [
        {
          "output_type": "stream",
          "text": [
            "\u001b[K     |████████████████████████████████| 87.9MB 111kB/s \n",
            "\u001b[K     |████████████████████████████████| 3.1MB 35.1MB/s \n",
            "\u001b[K     |████████████████████████████████| 501kB 54.1MB/s \n",
            "\u001b[?25h"
          ],
          "name": "stdout"
        }
      ]
    },
    {
      "cell_type": "code",
      "metadata": {
        "id": "chUBlGpscK1E",
        "colab_type": "code",
        "colab": {}
      },
      "source": [
        "%%capture\n",
        "import os\n",
        "import numpy as np\n",
        "from PIL import Image\n",
        "import matplotlib.pyplot as plt\n",
        "import numpy as np\n",
        "import matplotlib.pyplot as plt\n",
        "import pandas as pd\n",
        "import tensorflow as tf"
      ],
      "execution_count": 0,
      "outputs": []
    },
    {
      "cell_type": "code",
      "metadata": {
        "id": "KpK4vDlFcvCt",
        "colab_type": "code",
        "colab": {}
      },
      "source": [
        "if os.path.isdir ('input-sprites'):\n",
        "  print ('Sprite directory already exists.')\n",
        "else:\n",
        "  os.makedirs ('input-sprites')"
      ],
      "execution_count": 0,
      "outputs": []
    },
    {
      "cell_type": "code",
      "metadata": {
        "id": "BPHl6-wBcm5z",
        "colab_type": "code",
        "colab": {}
      },
      "source": [
        "%%capture\n",
        "!unzip input-sprite.zip -d input-sprites/"
      ],
      "execution_count": 0,
      "outputs": []
    },
    {
      "cell_type": "code",
      "metadata": {
        "id": "HAJ7ji_Eqk3y",
        "colab_type": "code",
        "colab": {}
      },
      "source": [
        "from tensorflow.keras.layers import Input, Conv2D, Dense, Reshape, Flatten, Dropout, Concatenate, Conv2DTranspose, GlobalMaxPooling2D, MaxPooling1D, GaussianNoise, BatchNormalization, MaxPooling2D, SimpleRNN, GRU, LSTM, GlobalMaxPooling1D, Embedding, LeakyReLU, BatchNormalization\n",
        "from tensorflow.keras.models import Model, Sequential\n",
        "from tensorflow.keras.optimizers import SGD, Adam\n",
        "from tensorflow.keras.preprocessing.image import ImageDataGenerator"
      ],
      "execution_count": 0,
      "outputs": []
    },
    {
      "cell_type": "code",
      "metadata": {
        "id": "vR7bEDL-rJSY",
        "colab_type": "code",
        "colab": {}
      },
      "source": [
        "from sklearn.model_selection import train_test_split\n",
        "from sklearn.preprocessing import StandardScaler, MinMaxScaler, Normalizer"
      ],
      "execution_count": 0,
      "outputs": []
    },
    {
      "cell_type": "markdown",
      "metadata": {
        "id": "gtiVQmdkfNLQ",
        "colab_type": "text"
      },
      "source": [
        "### *Custom Function*"
      ]
    },
    {
      "cell_type": "code",
      "metadata": {
        "id": "cwyyB1Wue2TG",
        "colab_type": "code",
        "colab": {}
      },
      "source": [
        "def load_image (image):\n",
        "  image = Image.open(image)                     # load image files\n",
        "  image = image.convert('RGB')                  # convert RGB = 3 channels\n",
        "  pixels = np.asarray(image)                    # convert to array\n",
        "  return pixels"
      ],
      "execution_count": 0,
      "outputs": []
    },
    {
      "cell_type": "code",
      "metadata": {
        "id": "2TGRdcMVlIeG",
        "colab_type": "code",
        "colab": {}
      },
      "source": [
        "def load_sprite (directory):\n",
        "  sprites = []\n",
        "  for png in os.listdir (directory):\n",
        "    if png.endswith('.png'):                    # check that image file is being processed\n",
        "      pixels = load_image(directory + '/' + png)\n",
        "      sprites.append (pixels)\n",
        "  return np.asarray (sprites)"
      ],
      "execution_count": 0,
      "outputs": []
    },
    {
      "cell_type": "code",
      "metadata": {
        "id": "T-cLT9YzlJ6F",
        "colab_type": "code",
        "colab": {}
      },
      "source": [
        "real = load_sprite ('input-sprites')"
      ],
      "execution_count": 0,
      "outputs": []
    },
    {
      "cell_type": "code",
      "metadata": {
        "id": "yxgYH0e9p0hI",
        "colab_type": "code",
        "colab": {
          "base_uri": "https://localhost:8080/",
          "height": 266
        },
        "outputId": "010acb51-cb4f-4325-8293-b8bed1ed6d2d"
      },
      "source": [
        "plt.imshow(real[0])\n",
        "plt.show()"
      ],
      "execution_count": 45,
      "outputs": [
        {
          "output_type": "display_data",
          "data": {
            "image/png": "[encoded data removed]",
            "text/plain": [
              "<Figure size 432x288 with 1 Axes>"
            ]
          },
          "metadata": {
            "tags": []
          }
        }
      ]
    },
    {
      "cell_type": "code",
      "metadata": {
        "id": "aOFctvdNlQyC",
        "colab_type": "code",
        "colab": {}
      },
      "source": [
        "N, H, W, K = real.shape"
      ],
      "execution_count": 0,
      "outputs": []
    },
    {
      "cell_type": "code",
      "metadata": {
        "id": "V4Oe21rmu8L8",
        "colab_type": "code",
        "colab": {}
      },
      "source": [
        "latent = 128\n",
        "batch = 32"
      ],
      "execution_count": 0,
      "outputs": []
    },
    {
      "cell_type": "markdown",
      "metadata": {
        "id": "6uUsIhLCqWjR",
        "colab_type": "text"
      },
      "source": [
        "[*Basing on this model.*](https://machinelearningmastery.com/how-to-interpolate-and-perform-vector-arithmetic-with-faces-using-a-generative-adversarial-network/)"
      ]
    },
    {
      "cell_type": "code",
      "metadata": {
        "id": "2zn0a7jfpjfh",
        "colab_type": "code",
        "colab": {}
      },
      "source": [
        "def discriminator_nn (image):\n",
        "  i = Input (shape=(image))\n",
        "  \n",
        "  # convolutions\n",
        "  x = Conv2D (128, (5,5), padding='same') (i)\n",
        "  x = LeakyReLU (0.2) (x)\n",
        "\n",
        "  x = Conv2D(128, (5,5), strides=(2,2), padding='same') (x)\n",
        "  x = LeakyReLU (0.2) (x)\n",
        "\n",
        "  x = Conv2D(128, (5,5), strides=(2,2), padding='same') (x)\n",
        "  x = LeakyReLU (0.2) (x)\n",
        "\n",
        "  x = Conv2D(128, (5,5), strides=(2,2), padding='same') (x)\n",
        "  x = LeakyReLU (0.2) (x)\n",
        "\n",
        "  # flatten\n",
        "  x = Flatten () (x)\n",
        "  x = Dropout (0.5) (x)\n",
        "\n",
        "  # sequentail\n",
        "  x = Dense (256, activation=LeakyReLU(alpha=0.2))  (x)\n",
        "  x = BatchNormalization (momentum=0.8) (x)\n",
        "\n",
        "  x = Dense (128, activation=LeakyReLU(alpha=0.2))  (x)\n",
        "  x = BatchNormalization (momentum=0.8) (x)\n",
        "\n",
        "  x = Dense (1, activation='sigmoid') (x)\n",
        "  model = Model (i, x)\n",
        "\n",
        "  return model"
      ],
      "execution_count": 0,
      "outputs": []
    },
    {
      "cell_type": "code",
      "metadata": {
        "id": "wuewowNtrO2B",
        "colab_type": "code",
        "colab": {}
      },
      "source": [
        "def generator_nn (latent, sH=4, sW=4, batch=32):\n",
        "  nodes = batch * sH * sW\n",
        "  \n",
        "  i = Input (shape=(latent,))\n",
        "  x = Dense (nodes) (i)\n",
        "  x = Reshape ((sH, sW, batch)) (x)\n",
        "\n",
        "  # reverse convolution\n",
        "  x = Conv2DTranspose (batch, (4,4), strides=(2,2), padding='same') (x)\n",
        "  x = LeakyReLU (0.2) (x)\n",
        "\n",
        "  x = Conv2DTranspose (batch, (4,4), strides=(2,2), padding='same') (x)\n",
        "  x = LeakyReLU (0.2) (x)\n",
        "\n",
        "  x = Conv2DTranspose (batch, (4,4), strides=(2,2), padding='same') (x)\n",
        "  x = LeakyReLU (0.2) (x)\n",
        "\n",
        "  # output layer should be 32 = 4 * 2 * 2 * 2\n",
        "  # last node are the 3 channels = RGB\n",
        "\n",
        "  x =  Conv2D (3, (5,5), activation='tanh', padding='same')(x)\n",
        "  model = Model (i, x)\n",
        "\n",
        "  return model"
      ],
      "execution_count": 0,
      "outputs": []
    },
    {
      "cell_type": "code",
      "metadata": {
        "id": "Tre4F3p7z513",
        "colab_type": "code",
        "colab": {}
      },
      "source": [
        "discriminator = discriminator_nn ((H,W,K))"
      ],
      "execution_count": 0,
      "outputs": []
    },
    {
      "cell_type": "code",
      "metadata": {
        "id": "V8IRcl5G3XMg",
        "colab_type": "code",
        "colab": {}
      },
      "source": [
        "discriminator.compile (\n",
        "    loss = 'binary_crossentropy',\n",
        "    optimizer = Adam (0.0002, 0.5),\n",
        "    metrics=['accuracy']\n",
        ")"
      ],
      "execution_count": 0,
      "outputs": []
    },
    {
      "cell_type": "code",
      "metadata": {
        "id": "Gt5skFsE0N1h",
        "colab_type": "code",
        "colab": {}
      },
      "source": [
        "generator = generator_nn (latent)\n",
        "z = Input (shape=(latent,))                       # noise sample\n",
        "image = generator (z)                             # pass z into the generator\n",
        "\n",
        "discriminator.trainable = False                   # somehow this is not inherited later\n",
        "fake_pred = discriminator (image)\n",
        "\n",
        "combined = Model (z, fake_pred)"
      ],
      "execution_count": 0,
      "outputs": []
    },
    {
      "cell_type": "code",
      "metadata": {
        "id": "ioxjr8681sHY",
        "colab_type": "code",
        "colab": {}
      },
      "source": [
        "combined.compile (\n",
        "    loss = 'binary_crossentropy',\n",
        "    optimizer = Adam (0.0002, 0.5)\n",
        ")"
      ],
      "execution_count": 0,
      "outputs": []
    },
    {
      "cell_type": "code",
      "metadata": {
        "id": "kcjvSvGR3J4W",
        "colab_type": "code",
        "colab": {}
      },
      "source": [
        ""
      ],
      "execution_count": 0,
      "outputs": []
    }
  ]
}