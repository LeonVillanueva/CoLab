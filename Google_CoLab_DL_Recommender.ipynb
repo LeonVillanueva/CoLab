{
  "nbformat": 4,
  "nbformat_minor": 0,
  "metadata": {
    "colab": {
      "name": "Google_CoLab_DL_Recommender.ipynb",
      "provenance": [],
      "collapsed_sections": [],
      "toc_visible": true,
      "authorship_tag": "ABX9TyPV54UtwHSdxriMC5/QnaFm",
      "include_colab_link": true
    },
    "kernelspec": {
      "name": "python3",
      "display_name": "Python 3"
    }
  },
  "cells": [
    {
      "cell_type": "markdown",
      "metadata": {
        "id": "view-in-github",
        "colab_type": "text"
      },
      "source": [
        "<a href=\"https://colab.research.google.com/github/LeonVillanueva/CoLab/blob/master/Google_CoLab_DL_Recommender.ipynb\" target=\"_parent\"><img src=\"https://colab.research.google.com/assets/colab-badge.svg\" alt=\"Open In Colab\"/></a>"
      ]
    },
    {
      "cell_type": "markdown",
      "metadata": {
        "id": "BJbSP_VBzojM",
        "colab_type": "text"
      },
      "source": [
        "### Loading Libraries"
      ]
    },
    {
      "cell_type": "code",
      "metadata": {
        "id": "xsiyq8_yyyp-",
        "colab_type": "code",
        "colab": {}
      },
      "source": [
        "!pip install -q tensorflow==2.0.0-beta1"
      ],
      "execution_count": 0,
      "outputs": []
    },
    {
      "cell_type": "code",
      "metadata": {
        "id": "vjyi4Wlsx1Qx",
        "colab_type": "code",
        "colab": {}
      },
      "source": [
        "%%capture\n",
        "import numpy as np\n",
        "import matplotlib.pyplot as plt\n",
        "import pandas as pd\n",
        "import tensorflow as tf"
      ],
      "execution_count": 0,
      "outputs": []
    },
    {
      "cell_type": "code",
      "metadata": {
        "id": "fGeJZ21_x59N",
        "colab_type": "code",
        "colab": {}
      },
      "source": [
        "from sklearn.model_selection import train_test_split\n",
        "from sklearn.preprocessing import StandardScaler"
      ],
      "execution_count": 0,
      "outputs": []
    },
    {
      "cell_type": "code",
      "metadata": {
        "id": "cxcHkUqdx6gV",
        "colab_type": "code",
        "colab": {}
      },
      "source": [
        "from tensorflow.keras.layers import Input, Conv2D, Dense, Flatten, Dropout, Concatenate, GlobalMaxPooling2D, MaxPooling1D, GaussianNoise, BatchNormalization, MaxPooling2D, SimpleRNN, GRU, LSTM, GlobalMaxPooling1D, Embedding\n",
        "from tensorflow.keras.models import Model, Sequential\n",
        "from tensorflow.keras.optimizers import SGD, Adam\n",
        "from tensorflow.keras.preprocessing.image import ImageDataGenerator\n",
        "from tensorflow.keras.preprocessing.sequence import TimeseriesGenerator\n",
        "from tensorflow.keras.preprocessing.sequence import pad_sequences\n",
        "from tensorflow.keras.preprocessing.text import Tokenizer"
      ],
      "execution_count": 0,
      "outputs": []
    },
    {
      "cell_type": "code",
      "metadata": {
        "id": "ZJECW34Dx9_9",
        "colab_type": "code",
        "colab": {}
      },
      "source": [
        "from scipy import stats\n",
        "import math\n",
        "import seaborn as sns\n",
        "import re\n",
        "from nltk.stem import WordNetLemmatizer\n",
        "import re"
      ],
      "execution_count": 0,
      "outputs": []
    },
    {
      "cell_type": "markdown",
      "metadata": {
        "id": "UER65I0Xzshz",
        "colab_type": "text"
      },
      "source": [
        "### Data"
      ]
    },
    {
      "cell_type": "code",
      "metadata": {
        "id": "-8mE4dTeznxk",
        "colab_type": "code",
        "colab": {
          "base_uri": "https://localhost:8080/",
          "height": 50
        },
        "outputId": "a9895f41-2758-4c36-e6d4-4b0ae0743a08"
      },
      "source": [
        "!wget -nc http://files.grouplens.org/datasets/movielens/ml-latest-small.zip"
      ],
      "execution_count": 63,
      "outputs": [
        {
          "output_type": "stream",
          "text": [
            "File ‘ml-latest-small.zip’ already there; not retrieving.\n",
            "\n"
          ],
          "name": "stdout"
        }
      ]
    },
    {
      "cell_type": "code",
      "metadata": {
        "id": "UQrmblfe0MWr",
        "colab_type": "code",
        "colab": {
          "base_uri": "https://localhost:8080/",
          "height": 134
        },
        "outputId": "dd0d8592-f27b-4b29-c09b-69574ae7d097"
      },
      "source": [
        "!unzip ml-latest-small.zip"
      ],
      "execution_count": 65,
      "outputs": [
        {
          "output_type": "stream",
          "text": [
            "Archive:  ml-latest-small.zip\n",
            "   creating: ml-latest-small/\n",
            "  inflating: ml-latest-small/links.csv  \n",
            "  inflating: ml-latest-small/tags.csv  \n",
            "  inflating: ml-latest-small/ratings.csv  \n",
            "  inflating: ml-latest-small/README.txt  \n",
            "  inflating: ml-latest-small/movies.csv  \n"
          ],
          "name": "stdout"
        }
      ]
    },
    {
      "cell_type": "code",
      "metadata": {
        "id": "u8efZwCF0YEa",
        "colab_type": "code",
        "colab": {}
      },
      "source": [
        "df = pd.read_csv ('ml-latest-small/ratings.csv')"
      ],
      "execution_count": 0,
      "outputs": []
    },
    {
      "cell_type": "code",
      "metadata": {
        "id": "7lVrHkIu0hbx",
        "colab_type": "code",
        "colab": {}
      },
      "source": [
        "df.sort_values (by='timestamp', inplace=True, ascending=True)"
      ],
      "execution_count": 0,
      "outputs": []
    },
    {
      "cell_type": "code",
      "metadata": {
        "id": "SVncnFCP0f4R",
        "colab_type": "code",
        "outputId": "c36ca84c-945d-4a06-e22f-ae4f3745db1e",
        "colab": {
          "base_uri": "https://localhost:8080/",
          "height": 136
        }
      },
      "source": [
        "df.head(3)"
      ],
      "execution_count": 68,
      "outputs": [
        {
          "output_type": "execute_result",
          "data": {
            "text/html": [
              "<div>\n",
              "<style scoped>\n",
              "    .dataframe tbody tr th:only-of-type {\n",
              "        vertical-align: middle;\n",
              "    }\n",
              "\n",
              "    .dataframe tbody tr th {\n",
              "        vertical-align: top;\n",
              "    }\n",
              "\n",
              "    .dataframe thead th {\n",
              "        text-align: right;\n",
              "    }\n",
              "</style>\n",
              "<table border=\"1\" class=\"dataframe\">\n",
              "  <thead>\n",
              "    <tr style=\"text-align: right;\">\n",
              "      <th></th>\n",
              "      <th>userId</th>\n",
              "      <th>movieId</th>\n",
              "      <th>rating</th>\n",
              "      <th>timestamp</th>\n",
              "    </tr>\n",
              "  </thead>\n",
              "  <tbody>\n",
              "    <tr>\n",
              "      <th>66719</th>\n",
              "      <td>429</td>\n",
              "      <td>595</td>\n",
              "      <td>5.0</td>\n",
              "      <td>828124615</td>\n",
              "    </tr>\n",
              "    <tr>\n",
              "      <th>66716</th>\n",
              "      <td>429</td>\n",
              "      <td>588</td>\n",
              "      <td>5.0</td>\n",
              "      <td>828124615</td>\n",
              "    </tr>\n",
              "    <tr>\n",
              "      <th>66717</th>\n",
              "      <td>429</td>\n",
              "      <td>590</td>\n",
              "      <td>5.0</td>\n",
              "      <td>828124615</td>\n",
              "    </tr>\n",
              "  </tbody>\n",
              "</table>\n",
              "</div>"
            ],
            "text/plain": [
              "       userId  movieId  rating  timestamp\n",
              "66719     429      595     5.0  828124615\n",
              "66716     429      588     5.0  828124615\n",
              "66717     429      590     5.0  828124615"
            ]
          },
          "metadata": {
            "tags": []
          },
          "execution_count": 68
        }
      ]
    },
    {
      "cell_type": "code",
      "metadata": {
        "id": "7tKuGELv00PB",
        "colab_type": "code",
        "colab": {}
      },
      "source": [
        "cutoff = int(len(df)*.90)\n",
        "df['user_id'] = pd.Categorical (df['userId'])\n",
        "df['user_id'] = df['user_id'].cat.codes\n",
        "df['movie_id'] = pd.Categorical (df['movieId'])\n",
        "df['movie_id'] = df['movie_id'].cat.codes\n",
        "train, test = df.iloc[:cutoff], df.iloc[cutoff:]"
      ],
      "execution_count": 0,
      "outputs": []
    },
    {
      "cell_type": "code",
      "metadata": {
        "id": "P1P2nr611Rwc",
        "colab_type": "code",
        "outputId": "4468e7af-8ffd-4978-84d0-ac39ef999f77",
        "colab": {
          "base_uri": "https://localhost:8080/",
          "height": 136
        }
      },
      "source": [
        "df.head(3)"
      ],
      "execution_count": 93,
      "outputs": [
        {
          "output_type": "execute_result",
          "data": {
            "text/html": [
              "<div>\n",
              "<style scoped>\n",
              "    .dataframe tbody tr th:only-of-type {\n",
              "        vertical-align: middle;\n",
              "    }\n",
              "\n",
              "    .dataframe tbody tr th {\n",
              "        vertical-align: top;\n",
              "    }\n",
              "\n",
              "    .dataframe thead th {\n",
              "        text-align: right;\n",
              "    }\n",
              "</style>\n",
              "<table border=\"1\" class=\"dataframe\">\n",
              "  <thead>\n",
              "    <tr style=\"text-align: right;\">\n",
              "      <th></th>\n",
              "      <th>userId</th>\n",
              "      <th>movieId</th>\n",
              "      <th>rating</th>\n",
              "      <th>timestamp</th>\n",
              "      <th>user_id</th>\n",
              "      <th>movie_id</th>\n",
              "    </tr>\n",
              "  </thead>\n",
              "  <tbody>\n",
              "    <tr>\n",
              "      <th>66719</th>\n",
              "      <td>429</td>\n",
              "      <td>595</td>\n",
              "      <td>5.0</td>\n",
              "      <td>828124615</td>\n",
              "      <td>428</td>\n",
              "      <td>512</td>\n",
              "    </tr>\n",
              "    <tr>\n",
              "      <th>66716</th>\n",
              "      <td>429</td>\n",
              "      <td>588</td>\n",
              "      <td>5.0</td>\n",
              "      <td>828124615</td>\n",
              "      <td>428</td>\n",
              "      <td>506</td>\n",
              "    </tr>\n",
              "    <tr>\n",
              "      <th>66717</th>\n",
              "      <td>429</td>\n",
              "      <td>590</td>\n",
              "      <td>5.0</td>\n",
              "      <td>828124615</td>\n",
              "      <td>428</td>\n",
              "      <td>508</td>\n",
              "    </tr>\n",
              "  </tbody>\n",
              "</table>\n",
              "</div>"
            ],
            "text/plain": [
              "       userId  movieId  rating  timestamp  user_id  movie_id\n",
              "66719     429      595     5.0  828124615      428       512\n",
              "66716     429      588     5.0  828124615      428       506\n",
              "66717     429      590     5.0  828124615      428       508"
            ]
          },
          "metadata": {
            "tags": []
          },
          "execution_count": 93
        }
      ]
    },
    {
      "cell_type": "code",
      "metadata": {
        "id": "0pDz-7vm4WQP",
        "colab_type": "code",
        "colab": {}
      },
      "source": [
        "U = len(set(df['user_id']))\n",
        "M = len(set(df['movie_id']))"
      ],
      "execution_count": 0,
      "outputs": []
    },
    {
      "cell_type": "code",
      "metadata": {
        "id": "Cj5xHiMd9KHh",
        "colab_type": "code",
        "colab": {}
      },
      "source": [
        "K = 12 # embedding dimensions"
      ],
      "execution_count": 0,
      "outputs": []
    },
    {
      "cell_type": "code",
      "metadata": {
        "id": "Tg_uZWLR9P2w",
        "colab_type": "code",
        "colab": {}
      },
      "source": [
        "user_ids = df['user_id'].values\n",
        "movie_ids = df['movie_id'].values\n",
        "rating = df['rating'].values"
      ],
      "execution_count": 0,
      "outputs": []
    },
    {
      "cell_type": "code",
      "metadata": {
        "id": "zlVsvGoUCOLT",
        "colab_type": "code",
        "outputId": "4f8daff4-fb98-469f-c3be-8bd9847bb6cb",
        "colab": {
          "base_uri": "https://localhost:8080/",
          "height": 34
        }
      },
      "source": [
        "len(user_ids) == len(movie_ids), len(movie_ids) == len(rating)"
      ],
      "execution_count": 97,
      "outputs": [
        {
          "output_type": "execute_result",
          "data": {
            "text/plain": [
              "(True, True)"
            ]
          },
          "metadata": {
            "tags": []
          },
          "execution_count": 97
        }
      ]
    },
    {
      "cell_type": "code",
      "metadata": {
        "id": "s8Z-84v0DyCV",
        "colab_type": "code",
        "colab": {}
      },
      "source": [
        "p = np.random.permutation (len(user_ids))"
      ],
      "execution_count": 0,
      "outputs": []
    },
    {
      "cell_type": "code",
      "metadata": {
        "id": "U5xfp80HD4sa",
        "colab_type": "code",
        "colab": {}
      },
      "source": [
        "user_ids = user_ids[p]\n",
        "movie_ids = movie_ids[p]\n",
        "rating = rating[p]"
      ],
      "execution_count": 0,
      "outputs": []
    },
    {
      "cell_type": "code",
      "metadata": {
        "id": "WZ4kS9cGEDla",
        "colab_type": "code",
        "colab": {}
      },
      "source": [
        "train_user = user_ids[:cutoff]\n",
        "train_movie = movie_ids[:cutoff]\n",
        "train_rating = rating[:cutoff]\n",
        "\n",
        "test_user = user_ids[cutoff:]\n",
        "test_movie = movie_ids[cutoff:]\n",
        "test_rating = rating[cutoff:]\n",
        "\n",
        "rating_mean = train_rating.mean()"
      ],
      "execution_count": 0,
      "outputs": []
    },
    {
      "cell_type": "code",
      "metadata": {
        "id": "Kauxm7WLFDri",
        "colab_type": "code",
        "colab": {}
      },
      "source": [
        "train_rating = train_rating - rating_mean\n",
        "test_rating = test_rating - rating_mean"
      ],
      "execution_count": 0,
      "outputs": []
    },
    {
      "cell_type": "code",
      "metadata": {
        "id": "A9_hiaqY9kaI",
        "colab_type": "code",
        "colab": {}
      },
      "source": [
        "u = Input ((1,))\n",
        "m = Input ((1,))"
      ],
      "execution_count": 0,
      "outputs": []
    },
    {
      "cell_type": "code",
      "metadata": {
        "id": "P5fU2WIZ9yM4",
        "colab_type": "code",
        "colab": {}
      },
      "source": [
        "u_emb = Embedding (U,K) (u) # samples, 1, K\n",
        "m_emb = Embedding (M,K) (m)"
      ],
      "execution_count": 0,
      "outputs": []
    },
    {
      "cell_type": "code",
      "metadata": {
        "id": "0Sz1WO35_RDe",
        "colab_type": "code",
        "colab": {}
      },
      "source": [
        "u_emb = Flatten () (u_emb) # samples, K\n",
        "m_emb = Flatten () (m_emb)\n",
        "\n",
        "x = Concatenate () ([u_emb, m_emb])\n",
        "x = Dense (400, activation='relu') (x)\n",
        "x = Dropout (0.5) (x)\n",
        "x = Dense (400, activation='relu') (x)\n",
        "x = Dense (1, activation='relu') (x)\n",
        "\n",
        "model = Model(inputs=[u,m], outputs=x)"
      ],
      "execution_count": 0,
      "outputs": []
    },
    {
      "cell_type": "code",
      "metadata": {
        "id": "YvX9YCWQAw2d",
        "colab_type": "code",
        "colab": {}
      },
      "source": [
        "adam = tf.keras.optimizers.Adam (learning_rate=0.005, decay=5e-6)"
      ],
      "execution_count": 0,
      "outputs": []
    },
    {
      "cell_type": "code",
      "metadata": {
        "id": "4yTBMov1Brsl",
        "colab_type": "code",
        "colab": {}
      },
      "source": [
        "model.compile (optimizer='adam',\n",
        "               loss='mse')"
      ],
      "execution_count": 0,
      "outputs": []
    },
    {
      "cell_type": "code",
      "metadata": {
        "id": "QVd7SqB1Bxsm",
        "colab_type": "code",
        "colab": {}
      },
      "source": [
        "epochs = 20\n",
        "\n",
        "r = model.fit ([train_user, train_movie], train_rating, validation_data=([test_user, test_movie], test_rating), verbose=False, epochs=epochs, batch_size=1024)"
      ],
      "execution_count": 0,
      "outputs": []
    },
    {
      "cell_type": "code",
      "metadata": {
        "id": "kGDuirA_Fom7",
        "colab_type": "code",
        "colab": {
          "base_uri": "https://localhost:8080/",
          "height": 282
        },
        "outputId": "b2df68ba-389a-4533-b009-d060ffc77849"
      },
      "source": [
        "plt.plot (r.history['loss'], label='loss', color='#840000')\n",
        "plt.plot (r.history['val_loss'], label='validation loss', color='#00035b')\n",
        "plt.legend ()"
      ],
      "execution_count": 109,
      "outputs": [
        {
          "output_type": "execute_result",
          "data": {
            "text/plain": [
              "<matplotlib.legend.Legend at 0x7f233c297ba8>"
            ]
          },
          "metadata": {
            "tags": []
          },
          "execution_count": 109
        },
        {
          "output_type": "display_data",
          "data": {
            "image/png": "[encoded data removed]",
            "text/plain": [
              "<Figure size 432x288 with 1 Axes>"
            ]
          },
          "metadata": {
            "tags": []
          }
        }
      ]
    },
    {
      "cell_type": "code",
      "metadata": {
        "id": "LZ8gewiIIKEk",
        "colab_type": "code",
        "colab": {
          "base_uri": "https://localhost:8080/",
          "height": 34
        },
        "outputId": "4d3d7fa5-4ffb-4a05-9522-519a66b340e8"
      },
      "source": [
        "re = model.evaluate ([test_user, test_movie], test_rating)"
      ],
      "execution_count": 112,
      "outputs": [
        {
          "output_type": "stream",
          "text": [
            "10084/10084 [==============================] - 1s 64us/sample - loss: 0.9882\n"
          ],
          "name": "stdout"
        }
      ]
    },
    {
      "cell_type": "code",
      "metadata": {
        "id": "l8UbYJ2iZRDs",
        "colab_type": "code",
        "colab": {
          "base_uri": "https://localhost:8080/",
          "height": 34
        },
        "outputId": "79bb270c-87d6-401a-b483-c0473c344c0b"
      },
      "source": [
        "re**2"
      ],
      "execution_count": 114,
      "outputs": [
        {
          "output_type": "execute_result",
          "data": {
            "text/plain": [
              "0.9764865855613123"
            ]
          },
          "metadata": {
            "tags": []
          },
          "execution_count": 114
        }
      ]
    },
    {
      "cell_type": "code",
      "metadata": {
        "id": "zSzP-WadIOLz",
        "colab_type": "code",
        "colab": {
          "base_uri": "https://localhost:8080/",
          "height": 605
        },
        "outputId": "5bfdbbcb-54e5-45d0-faed-52a5aef21593"
      },
      "source": [
        "model.summary()"
      ],
      "execution_count": 111,
      "outputs": [
        {
          "output_type": "stream",
          "text": [
            "Model: \"model_4\"\n",
            "__________________________________________________________________________________________________\n",
            "Layer (type)                    Output Shape         Param #     Connected to                     \n",
            "==================================================================================================\n",
            "input_5 (InputLayer)            [(None, 1)]          0                                            \n",
            "__________________________________________________________________________________________________\n",
            "input_6 (InputLayer)            [(None, 1)]          0                                            \n",
            "__________________________________________________________________________________________________\n",
            "embedding_4 (Embedding)         (None, 1, 12)        7320        input_5[0][0]                    \n",
            "__________________________________________________________________________________________________\n",
            "embedding_5 (Embedding)         (None, 1, 12)        116688      input_6[0][0]                    \n",
            "__________________________________________________________________________________________________\n",
            "flatten_6 (Flatten)             (None, 12)           0           embedding_4[0][0]                \n",
            "__________________________________________________________________________________________________\n",
            "flatten_7 (Flatten)             (None, 12)           0           embedding_5[0][0]                \n",
            "__________________________________________________________________________________________________\n",
            "flatten_8 (Flatten)             (None, 12)           0           flatten_6[0][0]                  \n",
            "__________________________________________________________________________________________________\n",
            "flatten_9 (Flatten)             (None, 12)           0           flatten_7[0][0]                  \n",
            "__________________________________________________________________________________________________\n",
            "concatenate_4 (Concatenate)     (None, 24)           0           flatten_8[0][0]                  \n",
            "                                                                 flatten_9[0][0]                  \n",
            "__________________________________________________________________________________________________\n",
            "dense_12 (Dense)                (None, 400)          10000       concatenate_4[0][0]              \n",
            "__________________________________________________________________________________________________\n",
            "dropout_4 (Dropout)             (None, 400)          0           dense_12[0][0]                   \n",
            "__________________________________________________________________________________________________\n",
            "dense_13 (Dense)                (None, 400)          160400      dropout_4[0][0]                  \n",
            "__________________________________________________________________________________________________\n",
            "dense_14 (Dense)                (None, 1)            401         dense_13[0][0]                   \n",
            "==================================================================================================\n",
            "Total params: 294,809\n",
            "Trainable params: 294,809\n",
            "Non-trainable params: 0\n",
            "__________________________________________________________________________________________________\n"
          ],
          "name": "stdout"
        }
      ]
    }
  ]
}