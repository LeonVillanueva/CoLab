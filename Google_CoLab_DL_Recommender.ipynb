{
  "nbformat": 4,
  "nbformat_minor": 0,
  "metadata": {
    "colab": {
      "name": "Google_CoLab_DL_Recommender.ipynb",
      "provenance": [],
      "collapsed_sections": [],
      "toc_visible": true,
      "authorship_tag": "ABX9TyOGWsyqz+kct3TmYFlPWB9c",
      "include_colab_link": true
    },
    "kernelspec": {
      "name": "python3",
      "display_name": "Python 3"
    }
  },
  "cells": [
    {
      "cell_type": "markdown",
      "metadata": {
        "id": "view-in-github",
        "colab_type": "text"
      },
      "source": [
        "<a href=\"https://colab.research.google.com/github/LeonVillanueva/CoLab/blob/master/Google_CoLab_DL_Recommender.ipynb\" target=\"_parent\"><img src=\"https://colab.research.google.com/assets/colab-badge.svg\" alt=\"Open In Colab\"/></a>"
      ]
    },
    {
      "cell_type": "markdown",
      "metadata": {
        "id": "BJbSP_VBzojM",
        "colab_type": "text"
      },
      "source": [
        "### Loading Libraries"
      ]
    },
    {
      "cell_type": "code",
      "metadata": {
        "id": "xsiyq8_yyyp-",
        "colab_type": "code",
        "colab": {}
      },
      "source": [
        "!pip install -q tensorflow==2.0.0-beta1"
      ],
      "execution_count": 0,
      "outputs": []
    },
    {
      "cell_type": "code",
      "metadata": {
        "id": "vjyi4Wlsx1Qx",
        "colab_type": "code",
        "colab": {}
      },
      "source": [
        "%%capture\n",
        "import numpy as np\n",
        "import matplotlib.pyplot as plt\n",
        "import pandas as pd\n",
        "import tensorflow as tf"
      ],
      "execution_count": 0,
      "outputs": []
    },
    {
      "cell_type": "code",
      "metadata": {
        "id": "fGeJZ21_x59N",
        "colab_type": "code",
        "colab": {}
      },
      "source": [
        "from sklearn.model_selection import train_test_split\n",
        "from sklearn.preprocessing import StandardScaler"
      ],
      "execution_count": 0,
      "outputs": []
    },
    {
      "cell_type": "code",
      "metadata": {
        "id": "cxcHkUqdx6gV",
        "colab_type": "code",
        "colab": {}
      },
      "source": [
        "from tensorflow.keras.layers import Input, Conv2D, Dense, Flatten, Dropout, Concatenate, GlobalMaxPooling2D, MaxPooling1D, GaussianNoise, BatchNormalization, MaxPooling2D, SimpleRNN, GRU, LSTM, GlobalMaxPooling1D, Embedding\n",
        "from tensorflow.keras.models import Model, Sequential\n",
        "from tensorflow.keras.optimizers import SGD, Adam\n",
        "from tensorflow.keras.preprocessing.image import ImageDataGenerator\n",
        "from tensorflow.keras.preprocessing.sequence import TimeseriesGenerator\n",
        "from tensorflow.keras.preprocessing.sequence import pad_sequences\n",
        "from tensorflow.keras.preprocessing.text import Tokenizer"
      ],
      "execution_count": 0,
      "outputs": []
    },
    {
      "cell_type": "code",
      "metadata": {
        "id": "ZJECW34Dx9_9",
        "colab_type": "code",
        "colab": {}
      },
      "source": [
        "from scipy import stats\n",
        "import math\n",
        "import seaborn as sns\n",
        "import re\n",
        "from nltk.stem import WordNetLemmatizer\n",
        "import re"
      ],
      "execution_count": 0,
      "outputs": []
    },
    {
      "cell_type": "markdown",
      "metadata": {
        "id": "UER65I0Xzshz",
        "colab_type": "text"
      },
      "source": [
        "### Data"
      ]
    },
    {
      "cell_type": "code",
      "metadata": {
        "id": "-8mE4dTeznxk",
        "colab_type": "code",
        "colab": {}
      },
      "source": [
        "# !wget -nc http://files.grouplens.org/datasets/movielens/ml-20m.zip"
      ],
      "execution_count": 0,
      "outputs": []
    },
    {
      "cell_type": "code",
      "metadata": {
        "id": "UQrmblfe0MWr",
        "colab_type": "code",
        "colab": {}
      },
      "source": [
        "# !unzip ml-20m.zip"
      ],
      "execution_count": 0,
      "outputs": []
    },
    {
      "cell_type": "code",
      "metadata": {
        "id": "u8efZwCF0YEa",
        "colab_type": "code",
        "colab": {}
      },
      "source": [
        "df = pd.read_csv ('ml-20m/ratings.csv')"
      ],
      "execution_count": 0,
      "outputs": []
    },
    {
      "cell_type": "code",
      "metadata": {
        "id": "7lVrHkIu0hbx",
        "colab_type": "code",
        "colab": {}
      },
      "source": [
        "df.sort_values (by='timestamp', inplace=True, ascending=True)"
      ],
      "execution_count": 0,
      "outputs": []
    },
    {
      "cell_type": "code",
      "metadata": {
        "id": "SVncnFCP0f4R",
        "colab_type": "code",
        "colab": {
          "base_uri": "https://localhost:8080/",
          "height": 136
        },
        "outputId": "33cd9e50-7c34-478d-b3b3-f9bc87f3ba0c"
      },
      "source": [
        "df.head(3)"
      ],
      "execution_count": 59,
      "outputs": [
        {
          "output_type": "execute_result",
          "data": {
            "text/html": [
              "<div>\n",
              "<style scoped>\n",
              "    .dataframe tbody tr th:only-of-type {\n",
              "        vertical-align: middle;\n",
              "    }\n",
              "\n",
              "    .dataframe tbody tr th {\n",
              "        vertical-align: top;\n",
              "    }\n",
              "\n",
              "    .dataframe thead th {\n",
              "        text-align: right;\n",
              "    }\n",
              "</style>\n",
              "<table border=\"1\" class=\"dataframe\">\n",
              "  <thead>\n",
              "    <tr style=\"text-align: right;\">\n",
              "      <th></th>\n",
              "      <th>userId</th>\n",
              "      <th>movieId</th>\n",
              "      <th>rating</th>\n",
              "      <th>timestamp</th>\n",
              "    </tr>\n",
              "  </thead>\n",
              "  <tbody>\n",
              "    <tr>\n",
              "      <th>4182421</th>\n",
              "      <td>28507</td>\n",
              "      <td>1176</td>\n",
              "      <td>4.0</td>\n",
              "      <td>789652004</td>\n",
              "    </tr>\n",
              "    <tr>\n",
              "      <th>18950979</th>\n",
              "      <td>131160</td>\n",
              "      <td>1079</td>\n",
              "      <td>3.0</td>\n",
              "      <td>789652009</td>\n",
              "    </tr>\n",
              "    <tr>\n",
              "      <th>18950936</th>\n",
              "      <td>131160</td>\n",
              "      <td>47</td>\n",
              "      <td>5.0</td>\n",
              "      <td>789652009</td>\n",
              "    </tr>\n",
              "  </tbody>\n",
              "</table>\n",
              "</div>"
            ],
            "text/plain": [
              "          userId  movieId  rating  timestamp\n",
              "4182421    28507     1176     4.0  789652004\n",
              "18950979  131160     1079     3.0  789652009\n",
              "18950936  131160       47     5.0  789652009"
            ]
          },
          "metadata": {
            "tags": []
          },
          "execution_count": 59
        }
      ]
    },
    {
      "cell_type": "code",
      "metadata": {
        "id": "7tKuGELv00PB",
        "colab_type": "code",
        "colab": {}
      },
      "source": [
        "cutoff = int(len(df)*.80)\n",
        "df['user_id'] = pd.Categorical (df['userId'])\n",
        "df['user_id'] = df['user_id'].cat.codes\n",
        "df['movie_id'] = pd.Categorical (df['movieId'])\n",
        "df['movie_id'] = df['movie_id'].cat.codes\n",
        "train, test = df.iloc[:cutoff], df.iloc[cutoff:]"
      ],
      "execution_count": 0,
      "outputs": []
    },
    {
      "cell_type": "code",
      "metadata": {
        "id": "P1P2nr611Rwc",
        "colab_type": "code",
        "colab": {
          "base_uri": "https://localhost:8080/",
          "height": 136
        },
        "outputId": "a58b1d13-e44d-4235-d019-51d7b0f24b6f"
      },
      "source": [
        "df.head(3)"
      ],
      "execution_count": 61,
      "outputs": [
        {
          "output_type": "execute_result",
          "data": {
            "text/html": [
              "<div>\n",
              "<style scoped>\n",
              "    .dataframe tbody tr th:only-of-type {\n",
              "        vertical-align: middle;\n",
              "    }\n",
              "\n",
              "    .dataframe tbody tr th {\n",
              "        vertical-align: top;\n",
              "    }\n",
              "\n",
              "    .dataframe thead th {\n",
              "        text-align: right;\n",
              "    }\n",
              "</style>\n",
              "<table border=\"1\" class=\"dataframe\">\n",
              "  <thead>\n",
              "    <tr style=\"text-align: right;\">\n",
              "      <th></th>\n",
              "      <th>userId</th>\n",
              "      <th>movieId</th>\n",
              "      <th>rating</th>\n",
              "      <th>timestamp</th>\n",
              "      <th>user_id</th>\n",
              "      <th>movie_id</th>\n",
              "    </tr>\n",
              "  </thead>\n",
              "  <tbody>\n",
              "    <tr>\n",
              "      <th>4182421</th>\n",
              "      <td>28507</td>\n",
              "      <td>1176</td>\n",
              "      <td>4.0</td>\n",
              "      <td>789652004</td>\n",
              "      <td>28506</td>\n",
              "      <td>1153</td>\n",
              "    </tr>\n",
              "    <tr>\n",
              "      <th>18950979</th>\n",
              "      <td>131160</td>\n",
              "      <td>1079</td>\n",
              "      <td>3.0</td>\n",
              "      <td>789652009</td>\n",
              "      <td>131159</td>\n",
              "      <td>1057</td>\n",
              "    </tr>\n",
              "    <tr>\n",
              "      <th>18950936</th>\n",
              "      <td>131160</td>\n",
              "      <td>47</td>\n",
              "      <td>5.0</td>\n",
              "      <td>789652009</td>\n",
              "      <td>131159</td>\n",
              "      <td>46</td>\n",
              "    </tr>\n",
              "  </tbody>\n",
              "</table>\n",
              "</div>"
            ],
            "text/plain": [
              "          userId  movieId  rating  timestamp  user_id  movie_id\n",
              "4182421    28507     1176     4.0  789652004    28506      1153\n",
              "18950979  131160     1079     3.0  789652009   131159      1057\n",
              "18950936  131160       47     5.0  789652009   131159        46"
            ]
          },
          "metadata": {
            "tags": []
          },
          "execution_count": 61
        }
      ]
    },
    {
      "cell_type": "code",
      "metadata": {
        "id": "0pDz-7vm4WQP",
        "colab_type": "code",
        "colab": {}
      },
      "source": [
        "U = len(set(df['user_id']))\n",
        "M = len(set(df['movie_id']))"
      ],
      "execution_count": 0,
      "outputs": []
    },
    {
      "cell_type": "code",
      "metadata": {
        "id": "Cj5xHiMd9KHh",
        "colab_type": "code",
        "colab": {}
      },
      "source": [
        "K = 12 # embedding dimensions"
      ],
      "execution_count": 0,
      "outputs": []
    },
    {
      "cell_type": "code",
      "metadata": {
        "id": "Tg_uZWLR9P2w",
        "colab_type": "code",
        "colab": {}
      },
      "source": [
        "user_ids = df['user_id'].values\n",
        "movie_ids = df['movie_id'].values\n",
        "rating = df['rating'].values"
      ],
      "execution_count": 0,
      "outputs": []
    },
    {
      "cell_type": "code",
      "metadata": {
        "id": "zlVsvGoUCOLT",
        "colab_type": "code",
        "colab": {
          "base_uri": "https://localhost:8080/",
          "height": 34
        },
        "outputId": "21f7df95-22c9-485e-a6c6-0e38dbee412b"
      },
      "source": [
        "len(user_ids) == len(movie_ids), len(movie_ids) == len(rating)"
      ],
      "execution_count": 78,
      "outputs": [
        {
          "output_type": "execute_result",
          "data": {
            "text/plain": [
              "(True, True)"
            ]
          },
          "metadata": {
            "tags": []
          },
          "execution_count": 78
        }
      ]
    },
    {
      "cell_type": "code",
      "metadata": {
        "id": "s8Z-84v0DyCV",
        "colab_type": "code",
        "colab": {}
      },
      "source": [
        "p = np.random.permutation (len(user_ids))"
      ],
      "execution_count": 0,
      "outputs": []
    },
    {
      "cell_type": "code",
      "metadata": {
        "id": "U5xfp80HD4sa",
        "colab_type": "code",
        "colab": {}
      },
      "source": [
        "user_ids = user_ids[p]\n",
        "movie_ids = movie_ids[p]\n",
        "rating = rating[p]"
      ],
      "execution_count": 0,
      "outputs": []
    },
    {
      "cell_type": "code",
      "metadata": {
        "id": "WZ4kS9cGEDla",
        "colab_type": "code",
        "colab": {}
      },
      "source": [
        "train_user = user_ids[:cutoff]\n",
        "train_movie = movie_ids[:cutoff]\n",
        "train_rating = rating[:cutoff]\n",
        "\n",
        "test_user = user_ids[cutoff:]\n",
        "test_movie = movie_ids[cutoff:]\n",
        "test_rating = rating[cutoff:]\n",
        "\n",
        "rating_mean = train_rating.mean()"
      ],
      "execution_count": 0,
      "outputs": []
    },
    {
      "cell_type": "code",
      "metadata": {
        "id": "Kauxm7WLFDri",
        "colab_type": "code",
        "colab": {}
      },
      "source": [
        "train_rating = train_rating - rating_mean\n",
        "test_rating = test_rating - rating_mean"
      ],
      "execution_count": 0,
      "outputs": []
    },
    {
      "cell_type": "code",
      "metadata": {
        "id": "A9_hiaqY9kaI",
        "colab_type": "code",
        "colab": {}
      },
      "source": [
        "u = Input ((1,))\n",
        "m = Input ((1,))"
      ],
      "execution_count": 0,
      "outputs": []
    },
    {
      "cell_type": "code",
      "metadata": {
        "id": "P5fU2WIZ9yM4",
        "colab_type": "code",
        "colab": {}
      },
      "source": [
        "u_emb = Embedding (U,K) (u) # samples, 1, K\n",
        "m_emb = Embedding (M,K) (m)"
      ],
      "execution_count": 0,
      "outputs": []
    },
    {
      "cell_type": "code",
      "metadata": {
        "id": "0Sz1WO35_RDe",
        "colab_type": "code",
        "colab": {}
      },
      "source": [
        "u_emb = Flatten () (u_emb) # samples, K\n",
        "m_emb = Flatten () (m_emb)\n",
        "\n",
        "x = Concatenate () ([u_emb, m_emb])\n",
        "x = Dense (400, activation='relu') (x)\n",
        "x = Dropout (0.2) (x)\n",
        "x = Dense (400, activation='relu') (x)\n",
        "x = Dense (1, activation='relu') (x)\n",
        "\n",
        "model = Model(inputs=[u,m], outputs=x)"
      ],
      "execution_count": 0,
      "outputs": []
    },
    {
      "cell_type": "code",
      "metadata": {
        "id": "YvX9YCWQAw2d",
        "colab_type": "code",
        "colab": {}
      },
      "source": [
        "adam = tf.keras.optimizers.Adam (learning_rate=0.005, decay=5e-6)"
      ],
      "execution_count": 0,
      "outputs": []
    },
    {
      "cell_type": "code",
      "metadata": {
        "id": "4yTBMov1Brsl",
        "colab_type": "code",
        "colab": {}
      },
      "source": [
        "model.compile (optimizer=adam,\n",
        "               loss='mse')"
      ],
      "execution_count": 0,
      "outputs": []
    },
    {
      "cell_type": "code",
      "metadata": {
        "id": "QVd7SqB1Bxsm",
        "colab_type": "code",
        "colab": {}
      },
      "source": [
        "epochs = 16\n",
        "\n",
        "r = model.fit ([train_user, train_movie], train_rating, validation_data=([test_user, test_movie], test_rating), verbose=False, epochs=epochs, batch_size=1024)"
      ],
      "execution_count": 0,
      "outputs": []
    },
    {
      "cell_type": "code",
      "metadata": {
        "id": "kGDuirA_Fom7",
        "colab_type": "code",
        "colab": {}
      },
      "source": [
        "plt.plot (r.history['loss'], label='loss', color='#840000')\n",
        "plt.plot (r.history['val_loss'], label='validation loss', color='#00035b')\n",
        "plt.legend ()"
      ],
      "execution_count": 0,
      "outputs": []
    },
    {
      "cell_type": "code",
      "metadata": {
        "id": "LZ8gewiIIKEk",
        "colab_type": "code",
        "colab": {}
      },
      "source": [
        "model.evaluate()"
      ],
      "execution_count": 0,
      "outputs": []
    },
    {
      "cell_type": "code",
      "metadata": {
        "id": "zSzP-WadIOLz",
        "colab_type": "code",
        "colab": {}
      },
      "source": [
        "model.summary()"
      ],
      "execution_count": 0,
      "outputs": []
    }
  ]
}