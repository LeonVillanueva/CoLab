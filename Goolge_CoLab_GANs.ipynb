{
  "nbformat": 4,
  "nbformat_minor": 0,
  "metadata": {
    "colab": {
      "name": "Goolge_CoLab_GANs.ipynb",
      "provenance": [],
      "mount_file_id": "1rzEfnCDzlfB21YGR4s1qUGQaKrhNKthM",
      "authorship_tag": "ABX9TyNe++T5MWfmwKAkg73E7jFU",
      "include_colab_link": true
    },
    "kernelspec": {
      "name": "python3",
      "display_name": "Python 3"
    }
  },
  "cells": [
    {
      "cell_type": "markdown",
      "metadata": {
        "id": "view-in-github",
        "colab_type": "text"
      },
      "source": [
        "<a href=\"https://colab.research.google.com/github/LeonVillanueva/CoLab/blob/master/Goolge_CoLab_GANs.ipynb\" target=\"_parent\"><img src=\"https://colab.research.google.com/assets/colab-badge.svg\" alt=\"Open In Colab\"/></a>"
      ]
    },
    {
      "cell_type": "code",
      "metadata": {
        "id": "zR9W9unSFBss",
        "colab_type": "code",
        "outputId": "9078a6aa-ef83-43a7-f629-ef45048dad82",
        "colab": {
          "base_uri": "https://localhost:8080/",
          "height": 68
        }
      },
      "source": [
        "!pip install -q tensorflow==2.0.0-beta1"
      ],
      "execution_count": 1,
      "outputs": [
        {
          "output_type": "stream",
          "text": [
            "\u001b[K     |████████████████████████████████| 87.9MB 64kB/s \n",
            "\u001b[K     |████████████████████████████████| 3.1MB 50.3MB/s \n",
            "\u001b[K     |████████████████████████████████| 501kB 27.9MB/s \n",
            "\u001b[?25h"
          ],
          "name": "stdout"
        }
      ]
    },
    {
      "cell_type": "code",
      "metadata": {
        "id": "W9mQsnhKD45n",
        "colab_type": "code",
        "colab": {}
      },
      "source": [
        "%%capture\n",
        "import numpy as np\n",
        "import matplotlib.pyplot as plt\n",
        "import pandas as pd\n",
        "import tensorflow as tf"
      ],
      "execution_count": 0,
      "outputs": []
    },
    {
      "cell_type": "code",
      "metadata": {
        "id": "Wgn7cG-TFP6R",
        "colab_type": "code",
        "colab": {}
      },
      "source": [
        "from tensorflow.keras.layers import Input, Conv2D, Dense, Flatten, Dropout, Concatenate, GlobalMaxPooling2D, MaxPooling1D, GaussianNoise, BatchNormalization, MaxPooling2D, SimpleRNN, GRU, LSTM, GlobalMaxPooling1D, Embedding, LeakyReLU, BatchNormalization\n",
        "from tensorflow.keras.models import Model, Sequential\n",
        "from tensorflow.keras.optimizers import SGD, Adam\n",
        "from tensorflow.keras.preprocessing.image import ImageDataGenerator\n",
        "from tensorflow.keras.preprocessing.sequence import TimeseriesGenerator\n",
        "from tensorflow.keras.preprocessing.sequence import pad_sequences\n",
        "from tensorflow.keras.preprocessing.text import Tokenizer\n",
        "from tensorflow.keras.datasets import mnist"
      ],
      "execution_count": 0,
      "outputs": []
    },
    {
      "cell_type": "code",
      "metadata": {
        "id": "BJNDXw83FS-7",
        "colab_type": "code",
        "colab": {}
      },
      "source": [
        "from sklearn.model_selection import train_test_split\n",
        "from sklearn.preprocessing import StandardScaler"
      ],
      "execution_count": 0,
      "outputs": []
    },
    {
      "cell_type": "code",
      "metadata": {
        "id": "Yk1hP3RbFVnY",
        "colab_type": "code",
        "colab": {}
      },
      "source": [
        "from scipy import stats\n",
        "import math\n",
        "import seaborn as sns\n",
        "import re\n",
        "from nltk.stem import WordNetLemmatizer\n",
        "import re"
      ],
      "execution_count": 0,
      "outputs": []
    },
    {
      "cell_type": "markdown",
      "metadata": {
        "id": "x45-qkbsK4cF",
        "colab_type": "text"
      },
      "source": [
        "### Loading the Data"
      ]
    },
    {
      "cell_type": "code",
      "metadata": {
        "id": "w3dZGb2JK6HG",
        "colab_type": "code",
        "colab": {}
      },
      "source": [
        "mnist = mnist"
      ],
      "execution_count": 0,
      "outputs": []
    },
    {
      "cell_type": "code",
      "metadata": {
        "id": "_8BIVJENK7-p",
        "colab_type": "code",
        "colab": {
          "base_uri": "https://localhost:8080/",
          "height": 51
        },
        "outputId": "3bff1f10-acab-49a9-bc15-2b1e04fd3341"
      },
      "source": [
        "(X_train, y_train), (X_test, y_test) = mnist.load_data()"
      ],
      "execution_count": 8,
      "outputs": [
        {
          "output_type": "stream",
          "text": [
            "Downloading data from https://storage.googleapis.com/tensorflow/tf-keras-datasets/mnist.npz\n",
            "11493376/11490434 [==============================] - 0s 0us/step\n"
          ],
          "name": "stdout"
        }
      ]
    },
    {
      "cell_type": "code",
      "metadata": {
        "id": "oAnjXQ-OLEBg",
        "colab_type": "code",
        "colab": {
          "base_uri": "https://localhost:8080/",
          "height": 34
        },
        "outputId": "8372a49e-c43c-4ec1-9cf9-af6409cb270a"
      },
      "source": [
        "X_train.shape, y_train.shape, X_test.shape, y_test.shape"
      ],
      "execution_count": 9,
      "outputs": [
        {
          "output_type": "execute_result",
          "data": {
            "text/plain": [
              "((60000, 28, 28), (60000,), (10000, 28, 28), (10000,))"
            ]
          },
          "metadata": {
            "tags": []
          },
          "execution_count": 9
        }
      ]
    },
    {
      "cell_type": "code",
      "metadata": {
        "id": "c8VPHpotLK8A",
        "colab_type": "code",
        "colab": {
          "base_uri": "https://localhost:8080/",
          "height": 34
        },
        "outputId": "cc3980cd-ef92-45ca-826b-5039a4bb7c56"
      },
      "source": [
        "np.max (X_train[0])"
      ],
      "execution_count": 12,
      "outputs": [
        {
          "output_type": "execute_result",
          "data": {
            "text/plain": [
              "255"
            ]
          },
          "metadata": {
            "tags": []
          },
          "execution_count": 12
        }
      ]
    },
    {
      "cell_type": "code",
      "metadata": {
        "id": "8dPxOSRELThA",
        "colab_type": "code",
        "colab": {}
      },
      "source": [
        "X_train = X_train / 255.0 * 2 + 1\n",
        "X_test = X_test / 255.0 * 2 + 1"
      ],
      "execution_count": 0,
      "outputs": []
    },
    {
      "cell_type": "code",
      "metadata": {
        "id": "B_Eft6GYLjRy",
        "colab_type": "code",
        "colab": {}
      },
      "source": [
        "X_train = X_train.reshape (-1, 28**2)"
      ],
      "execution_count": 0,
      "outputs": []
    },
    {
      "cell_type": "code",
      "metadata": {
        "id": "uueECDOXL1sY",
        "colab_type": "code",
        "colab": {}
      },
      "source": [
        "X_test = X_test.reshape (-1, 28**2)"
      ],
      "execution_count": 0,
      "outputs": []
    },
    {
      "cell_type": "code",
      "metadata": {
        "id": "OQ_lBsXTL8CH",
        "colab_type": "code",
        "colab": {}
      },
      "source": [
        "latent = 128"
      ],
      "execution_count": 0,
      "outputs": []
    },
    {
      "cell_type": "code",
      "metadata": {
        "id": "6sduJhQjMA7n",
        "colab_type": "code",
        "colab": {}
      },
      "source": [
        "def generator_nn (latent):\n",
        "  i = Input (shape=(latent,))\n",
        "  x = Dense (256, activation=LeakyReLU(alpha=0.2))  (i)\n",
        "  x = BatchNormalization (momentum=0.8) (x)\n",
        "  x = Dense (512, activation=LeakyReLU(alpha=0.2))  (x)\n",
        "  x = BatchNormalization (momentum=0.8) (x)\n",
        "  x = Dense (1024, activation=LeakyReLU(alpha=0.2))  (x)\n",
        "  x = BatchNormalization (momentum=0.8) (x)\n",
        "  x = Dense (28**2, activation='tanh') (x)\n",
        "\n",
        "  model = Model (i, x)\n",
        "  return model"
      ],
      "execution_count": 0,
      "outputs": []
    },
    {
      "cell_type": "code",
      "metadata": {
        "id": "T17O3YeGMF54",
        "colab_type": "code",
        "colab": {}
      },
      "source": [
        "def discriminator_nn (image):\n",
        "  i = Input (shape=(image,))\n",
        "  x = Dense (512, activation=LeakyReLU(alpha=0.2))  (i)\n",
        "  x = Dense (256, activation=LeakyReLU(alpha=0.2))  (x)\n",
        "  x = Dense (1, activation='sigmoid') (x)\n",
        "  model = Model (i, x)\n",
        "  return model"
      ],
      "execution_count": 0,
      "outputs": []
    },
    {
      "cell_type": "code",
      "metadata": {
        "id": "B3tNx4VNNINH",
        "colab_type": "code",
        "colab": {}
      },
      "source": [
        "discriminator = discriminator_nn (28**2)\n",
        "discriminator.compile (\n",
        "    loss = 'binary_crossentropy',\n",
        "    optimizer = Adam (0.0002, 0.5),\n",
        "    metrics=['accuracy']\n",
        ")"
      ],
      "execution_count": 0,
      "outputs": []
    },
    {
      "cell_type": "code",
      "metadata": {
        "id": "clhDOzwnNmk-",
        "colab_type": "code",
        "colab": {}
      },
      "source": [
        "generator = generator_nn (latent)\n",
        "z = Input (shape=(latent,))\n",
        "image = generator (z)"
      ],
      "execution_count": 0,
      "outputs": []
    },
    {
      "cell_type": "code",
      "metadata": {
        "id": "UDZcN4CeOfD9",
        "colab_type": "code",
        "colab": {}
      },
      "source": [
        "discriminator.trainable = False"
      ],
      "execution_count": 0,
      "outputs": []
    },
    {
      "cell_type": "code",
      "metadata": {
        "id": "_G7oIVqdOiH2",
        "colab_type": "code",
        "colab": {}
      },
      "source": [
        "fake_pred"
      ],
      "execution_count": 0,
      "outputs": []
    }
  ]
}