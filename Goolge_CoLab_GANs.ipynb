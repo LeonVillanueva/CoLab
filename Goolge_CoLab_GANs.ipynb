{
  "nbformat": 4,
  "nbformat_minor": 0,
  "metadata": {
    "colab": {
      "name": "Goolge_CoLab_GANs.ipynb",
      "provenance": [],
      "toc_visible": true,
      "mount_file_id": "1rzEfnCDzlfB21YGR4s1qUGQaKrhNKthM",
      "authorship_tag": "ABX9TyO8Up2oVeKN5EKA7iiBqfi2",
      "include_colab_link": true
    },
    "kernelspec": {
      "name": "python3",
      "display_name": "Python 3"
    }
  },
  "cells": [
    {
      "cell_type": "markdown",
      "metadata": {
        "id": "view-in-github",
        "colab_type": "text"
      },
      "source": [
        "<a href=\"https://colab.research.google.com/github/LeonVillanueva/CoLab/blob/master/Goolge_CoLab_GANs.ipynb\" target=\"_parent\"><img src=\"https://colab.research.google.com/assets/colab-badge.svg\" alt=\"Open In Colab\"/></a>"
      ]
    },
    {
      "cell_type": "code",
      "metadata": {
        "id": "zR9W9unSFBss",
        "colab_type": "code",
        "colab": {}
      },
      "source": [
        "!pip install -q tensorflow==2.0.0-beta1"
      ],
      "execution_count": 0,
      "outputs": []
    },
    {
      "cell_type": "code",
      "metadata": {
        "id": "W9mQsnhKD45n",
        "colab_type": "code",
        "colab": {}
      },
      "source": [
        "%%capture\n",
        "import numpy as np\n",
        "import matplotlib.pyplot as plt\n",
        "import pandas as pd\n",
        "import tensorflow as tf"
      ],
      "execution_count": 0,
      "outputs": []
    },
    {
      "cell_type": "code",
      "metadata": {
        "id": "Wgn7cG-TFP6R",
        "colab_type": "code",
        "colab": {}
      },
      "source": [
        "from tensorflow.keras.layers import Input, Conv2D, Dense, Flatten, Dropout, Concatenate, GlobalMaxPooling2D, MaxPooling1D, GaussianNoise, BatchNormalization, MaxPooling2D, SimpleRNN, GRU, LSTM, GlobalMaxPooling1D, Embedding, LeakyReLU, BatchNormalization\n",
        "from tensorflow.keras.models import Model, Sequential\n",
        "from tensorflow.keras.optimizers import SGD, Adam\n",
        "from tensorflow.keras.preprocessing.image import ImageDataGenerator\n",
        "from tensorflow.keras.preprocessing.sequence import TimeseriesGenerator\n",
        "from tensorflow.keras.preprocessing.sequence import pad_sequences\n",
        "from tensorflow.keras.preprocessing.text import Tokenizer\n",
        "from tensorflow.keras.datasets import mnist"
      ],
      "execution_count": 0,
      "outputs": []
    },
    {
      "cell_type": "code",
      "metadata": {
        "id": "BJNDXw83FS-7",
        "colab_type": "code",
        "colab": {}
      },
      "source": [
        "from sklearn.model_selection import train_test_split\n",
        "from sklearn.preprocessing import StandardScaler"
      ],
      "execution_count": 0,
      "outputs": []
    },
    {
      "cell_type": "code",
      "metadata": {
        "id": "Yk1hP3RbFVnY",
        "colab_type": "code",
        "colab": {}
      },
      "source": [
        "from scipy import stats\n",
        "import math\n",
        "import seaborn as sns\n",
        "import re\n",
        "from nltk.stem import WordNetLemmatizer\n",
        "import re\n",
        "import os"
      ],
      "execution_count": 0,
      "outputs": []
    },
    {
      "cell_type": "markdown",
      "metadata": {
        "id": "x45-qkbsK4cF",
        "colab_type": "text"
      },
      "source": [
        "### Loading the Data"
      ]
    },
    {
      "cell_type": "code",
      "metadata": {
        "id": "w3dZGb2JK6HG",
        "colab_type": "code",
        "colab": {}
      },
      "source": [
        "mnist = mnist"
      ],
      "execution_count": 0,
      "outputs": []
    },
    {
      "cell_type": "code",
      "metadata": {
        "id": "_8BIVJENK7-p",
        "colab_type": "code",
        "colab": {}
      },
      "source": [
        "(X_train, y_train), (X_test, y_test) = mnist.load_data()"
      ],
      "execution_count": 0,
      "outputs": []
    },
    {
      "cell_type": "code",
      "metadata": {
        "id": "oAnjXQ-OLEBg",
        "colab_type": "code",
        "outputId": "42a6dacb-56ee-4a85-c939-070e91e001af",
        "colab": {
          "base_uri": "https://localhost:8080/",
          "height": 34
        }
      },
      "source": [
        "X_train.shape, y_train.shape, X_test.shape, y_test.shape"
      ],
      "execution_count": 61,
      "outputs": [
        {
          "output_type": "execute_result",
          "data": {
            "text/plain": [
              "((60000, 28, 28), (60000,), (10000, 28, 28), (10000,))"
            ]
          },
          "metadata": {
            "tags": []
          },
          "execution_count": 61
        }
      ]
    },
    {
      "cell_type": "code",
      "metadata": {
        "id": "c8VPHpotLK8A",
        "colab_type": "code",
        "outputId": "e0b4285a-bb76-4855-e877-0fbc5ff3b0c2",
        "colab": {
          "base_uri": "https://localhost:8080/",
          "height": 34
        }
      },
      "source": [
        "np.max (X_train[0])"
      ],
      "execution_count": 62,
      "outputs": [
        {
          "output_type": "execute_result",
          "data": {
            "text/plain": [
              "255"
            ]
          },
          "metadata": {
            "tags": []
          },
          "execution_count": 62
        }
      ]
    },
    {
      "cell_type": "code",
      "metadata": {
        "id": "xdxlQ1pJ6765",
        "colab_type": "code",
        "colab": {
          "base_uri": "https://localhost:8080/",
          "height": 281
        },
        "outputId": "fa14ed13-ccbc-45ec-8fab-8e06aac24bc1"
      },
      "source": [
        "plt.imshow (X_train[1], cmap='Blues')"
      ],
      "execution_count": 63,
      "outputs": [
        {
          "output_type": "execute_result",
          "data": {
            "text/plain": [
              "<matplotlib.image.AxesImage at 0x7fc8526a7128>"
            ]
          },
          "metadata": {
            "tags": []
          },
          "execution_count": 63
        },
        {
          "output_type": "display_data",
          "data": {
            "image/png": "[encoded data removed]",
            "text/plain": [
              "<Figure size 432x288 with 1 Axes>"
            ]
          },
          "metadata": {
            "tags": []
          }
        }
      ]
    },
    {
      "cell_type": "code",
      "metadata": {
        "id": "8dPxOSRELThA",
        "colab_type": "code",
        "colab": {}
      },
      "source": [
        "X_train = X_train / 255.0 * 2 + 1\n",
        "X_test = X_test / 255.0 * 2 + 1"
      ],
      "execution_count": 0,
      "outputs": []
    },
    {
      "cell_type": "code",
      "metadata": {
        "id": "WyQ8kteLyu-C",
        "colab_type": "code",
        "colab": {}
      },
      "source": [
        "N, H, W = X_train.shape\n",
        "D = H * W"
      ],
      "execution_count": 0,
      "outputs": []
    },
    {
      "cell_type": "code",
      "metadata": {
        "id": "B_Eft6GYLjRy",
        "colab_type": "code",
        "colab": {}
      },
      "source": [
        "X_train = X_train.reshape (-1, D)"
      ],
      "execution_count": 0,
      "outputs": []
    },
    {
      "cell_type": "code",
      "metadata": {
        "id": "uueECDOXL1sY",
        "colab_type": "code",
        "colab": {}
      },
      "source": [
        "X_test = X_test.reshape (-1, D)"
      ],
      "execution_count": 0,
      "outputs": []
    },
    {
      "cell_type": "code",
      "metadata": {
        "id": "dlVLG7Aw7FqP",
        "colab_type": "code",
        "colab": {
          "base_uri": "https://localhost:8080/",
          "height": 34
        },
        "outputId": "1ea4ac29-338b-4019-fff7-79241de50271"
      },
      "source": [
        "X_train.shape"
      ],
      "execution_count": 68,
      "outputs": [
        {
          "output_type": "execute_result",
          "data": {
            "text/plain": [
              "(60000, 784)"
            ]
          },
          "metadata": {
            "tags": []
          },
          "execution_count": 68
        }
      ]
    },
    {
      "cell_type": "code",
      "metadata": {
        "id": "OQ_lBsXTL8CH",
        "colab_type": "code",
        "colab": {}
      },
      "source": [
        "latent = 100"
      ],
      "execution_count": 0,
      "outputs": []
    },
    {
      "cell_type": "markdown",
      "metadata": {
        "id": "LNUfDsVjPsPd",
        "colab_type": "text"
      },
      "source": [
        "### *Generator*"
      ]
    },
    {
      "cell_type": "code",
      "metadata": {
        "id": "6sduJhQjMA7n",
        "colab_type": "code",
        "colab": {}
      },
      "source": [
        "def generator_nn (latent):\n",
        "  i = Input (shape=(latent,))\n",
        "  x = Dense (256, activation=LeakyReLU(alpha=0.2))  (i)\n",
        "  x = BatchNormalization (momentum=0.8) (x)\n",
        "  x = Dense (512, activation=LeakyReLU(alpha=0.2))  (x)\n",
        "  x = BatchNormalization (momentum=0.8) (x)\n",
        "  x = Dense (1024, activation=LeakyReLU(alpha=0.2))  (x)\n",
        "  x = BatchNormalization (momentum=0.8) (x)\n",
        "  x = Dense (D, activation='tanh') (x) # values are -1 to 1, centered at 0\n",
        "\n",
        "  model = Model (i, x)\n",
        "  return model"
      ],
      "execution_count": 0,
      "outputs": []
    },
    {
      "cell_type": "markdown",
      "metadata": {
        "id": "ULVGfbX0Pm9l",
        "colab_type": "text"
      },
      "source": [
        "### *Discrimnator*"
      ]
    },
    {
      "cell_type": "code",
      "metadata": {
        "id": "T17O3YeGMF54",
        "colab_type": "code",
        "colab": {}
      },
      "source": [
        "def discriminator_nn (image):\n",
        "  i = Input (shape=(image,))\n",
        "  x = Dense (1024, activation=LeakyReLU(alpha=0.2))  (i)\n",
        "  x = BatchNormalization (momentum=0.8) (x)\n",
        "  x = Dense (512, activation=LeakyReLU(alpha=0.2))  (x)\n",
        "  x = Dropout (0.5) (x)\n",
        "  x = BatchNormalization (momentum=0.8) (x)\n",
        "  x = Dense (256, activation=LeakyReLU(alpha=0.2))  (x)\n",
        "  x = BatchNormalization (momentum=0.8) (x)\n",
        "  x = Dense (1, activation='sigmoid') (x)\n",
        "  model = Model (i, x)\n",
        "  return model"
      ],
      "execution_count": 0,
      "outputs": []
    },
    {
      "cell_type": "markdown",
      "metadata": {
        "id": "g1gM7gy5zYB_",
        "colab_type": "text"
      },
      "source": [
        "### *Compile and Combine* "
      ]
    },
    {
      "cell_type": "code",
      "metadata": {
        "id": "B3tNx4VNNINH",
        "colab_type": "code",
        "colab": {}
      },
      "source": [
        "discriminator = discriminator_nn (D)\n",
        "discriminator.compile (\n",
        "    loss = 'binary_crossentropy',\n",
        "    optimizer = Adam (0.0001, 0.5),\n",
        "    metrics=['accuracy']\n",
        ")"
      ],
      "execution_count": 0,
      "outputs": []
    },
    {
      "cell_type": "code",
      "metadata": {
        "id": "clhDOzwnNmk-",
        "colab_type": "code",
        "colab": {}
      },
      "source": [
        "generator = generator_nn (latent)\n",
        "z = Input (shape=(latent,)) # noise sample\n",
        "image = generator (z) # pass z into the generator\n",
        "discriminator.trainable = False # freeze weights\n",
        "\n",
        "fake_pred = discriminator (image) # pass 'image' into discrimator, labeled 'real', this will be flipped later\n",
        "                                  # true output is fake, by labeled as real\n",
        "\n",
        "combined = Model (z, fake_pred)\n",
        "\n",
        "combined.compile (\n",
        "    loss = 'binary_crossentropy',\n",
        "    optimizer = Adam (0.0001, 0.5)\n",
        ")"
      ],
      "execution_count": 0,
      "outputs": []
    },
    {
      "cell_type": "markdown",
      "metadata": {
        "id": "_2Sf8ng9P9oe",
        "colab_type": "text"
      },
      "source": [
        "### *Training*"
      ]
    },
    {
      "cell_type": "code",
      "metadata": {
        "id": "hAd8URAxQBTt",
        "colab_type": "code",
        "colab": {}
      },
      "source": [
        "batch = 32\n",
        "epochs = 12000\n",
        "sample_period = 2000 # show a sample every 'n' periods"
      ],
      "execution_count": 0,
      "outputs": []
    },
    {
      "cell_type": "code",
      "metadata": {
        "id": "e4DjEggqQwBk",
        "colab_type": "code",
        "colab": {}
      },
      "source": [
        "ones = np.ones (batch) # creating batch labels ahead of time"
      ],
      "execution_count": 0,
      "outputs": []
    },
    {
      "cell_type": "code",
      "metadata": {
        "id": "8L2BlW5_Q0cU",
        "colab_type": "code",
        "colab": {}
      },
      "source": [
        "zeros = np.zeros (batch)"
      ],
      "execution_count": 0,
      "outputs": []
    },
    {
      "cell_type": "code",
      "metadata": {
        "id": "OZJxzPXTQ3F7",
        "colab_type": "code",
        "colab": {}
      },
      "source": [
        "d_losses = []\n",
        "g_losses = []"
      ],
      "execution_count": 0,
      "outputs": []
    },
    {
      "cell_type": "code",
      "metadata": {
        "id": "rR7SxKnCRD40",
        "colab_type": "code",
        "colab": {}
      },
      "source": [
        "#os.makedirs ('gan_images') # storage"
      ],
      "execution_count": 0,
      "outputs": []
    },
    {
      "cell_type": "code",
      "metadata": {
        "id": "9Vys438XRPgx",
        "colab_type": "code",
        "colab": {}
      },
      "source": [
        "def sample_images (epoch):\n",
        "  rows, cols = 5, 5\n",
        "  noise = np.random.randn (rows*cols, latent)\n",
        "  images = generator.predict (noise) # have the generator make a sample image from the noise\n",
        "\n",
        "  images = 0.5 * images + 0.5 # rescaling to be between 0 and 1\n",
        "\n",
        "  fig, axs = plt.subplots (rows, cols)\n",
        "  idx = 0\n",
        "  for i in range(rows):\n",
        "    for j in range(cols):\n",
        "      axs[i, j].imshow(images[idx].reshape(H,W), cmap='Blues')\n",
        "      axs[i, j].axis('off')\n",
        "      idx += 1 # this is just graphing 1 by 1\n",
        "  fig.savefig ('gan_images/%d.png' % epoch)\n",
        "  plt.close()"
      ],
      "execution_count": 0,
      "outputs": []
    },
    {
      "cell_type": "code",
      "metadata": {
        "id": "BZsVBv29SL63",
        "colab_type": "code",
        "outputId": "fe979359-f318-4f5f-e5b8-79cc2bbe3a4b",
        "colab": {
          "base_uri": "https://localhost:8080/",
          "height": 85
        }
      },
      "source": [
        "for epoch in range (epochs):\n",
        "  # train discriminator\n",
        "  idx = np.random.randint (0, X_train.shape[0], batch) # select random images from index 0 to size of X_train, in a batch size group\n",
        "  real_images = X_train [idx]\n",
        "\n",
        "  noise = np.random.randn (batch, latent)\n",
        "  fake_images = generator.predict(noise)\n",
        "\n",
        "  generator.trainable = False\n",
        "  discriminator.trainable = True\n",
        "\n",
        "  d_loss_real, d_acc_real = discriminator.train_on_batch (real_images, ones) # (X, y)\n",
        "  d_loss_fake, d_acc_fake = discriminator.train_on_batch (fake_images, zeros)\n",
        "\n",
        "  d_loss = 0.5 * (d_loss_real + d_loss_fake) # mean of losses and accuracies\n",
        "  d_acc = 0.5 * (d_acc_real + d_acc_fake)\n",
        "\n",
        "  # train generator\n",
        "  noise = np.random.randn (batch, latent)\n",
        "  \n",
        "  generator.trainable = True\n",
        "  discriminator.trainable = False\n",
        "\n",
        "  g_loss = combined.train_on_batch (noise, ones) # flipped from discriminator\n",
        "\n",
        "  d_losses.append (d_loss)\n",
        "  g_losses.append (g_loss)\n",
        "\n",
        "  if epoch % sample_period == 0:\n",
        "    print ('Discriminator Loss : %a' %d_loss)\n",
        "    print ('Generator Loss : %a' %g_loss) \n",
        "    print ('Epoch : %a' %epoch )\n",
        "    print ('***')\n",
        "\n",
        "  if epoch % 1000 == 0:\n",
        "    sample_images (epoch=epoch)"
      ],
      "execution_count": 0,
      "outputs": [
        {
          "output_type": "stream",
          "text": [
            "Discriminator Loss : 0.900506854057312\n",
            "Generator Loss : 0.9293334\n",
            "Epoch : 0\n",
            "***\n"
          ],
          "name": "stdout"
        }
      ]
    },
    {
      "cell_type": "code",
      "metadata": {
        "id": "Ve73N_weXa6j",
        "colab_type": "code",
        "outputId": "b52d532f-e843-45f0-8940-a5ef3e9f173d",
        "colab": {
          "base_uri": "https://localhost:8080/",
          "height": 281
        }
      },
      "source": [
        "plt.plot (g_losses, label='Generator Loss', color='#840000')\n",
        "plt.plot (d_losses, label='Discriminator Loss', color='#00035b')\n",
        "plt.legend ()"
      ],
      "execution_count": 52,
      "outputs": [
        {
          "output_type": "execute_result",
          "data": {
            "text/plain": [
              "<matplotlib.legend.Legend at 0x7fc8527fe7f0>"
            ]
          },
          "metadata": {
            "tags": []
          },
          "execution_count": 52
        },
        {
          "output_type": "display_data",
          "data": {
            "image/png": "[encoded data removed]",
            "text/plain": [
              "<Figure size 432x288 with 1 Axes>"
            ]
          },
          "metadata": {
            "tags": []
          }
        }
      ]
    },
    {
      "cell_type": "markdown",
      "metadata": {
        "id": "vcGLqp80as-l",
        "colab_type": "text"
      },
      "source": [
        "### Plotting Results"
      ]
    },
    {
      "cell_type": "code",
      "metadata": {
        "id": "bSEpXVgxZcWO",
        "colab_type": "code",
        "colab": {}
      },
      "source": [
        "from skimage.io import imread"
      ],
      "execution_count": 0,
      "outputs": []
    },
    {
      "cell_type": "code",
      "metadata": {
        "id": "e2jna7GbZitF",
        "colab_type": "code",
        "colab": {}
      },
      "source": [
        "a = imread('gan_images/0.png')"
      ],
      "execution_count": 0,
      "outputs": []
    },
    {
      "cell_type": "code",
      "metadata": {
        "id": "6p0dnjHJagkV",
        "colab_type": "code",
        "colab": {}
      },
      "source": [
        ""
      ],
      "execution_count": 0,
      "outputs": []
    }
  ]
}