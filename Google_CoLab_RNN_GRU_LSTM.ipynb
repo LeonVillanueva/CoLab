{
  "nbformat": 4,
  "nbformat_minor": 0,
  "metadata": {
    "colab": {
      "name": " Google_CoLab_RNN_GRU_LSTM.ipynb",
      "provenance": [],
      "collapsed_sections": [],
      "authorship_tag": "ABX9TyO2BKnnbqr31hTVbVP8aQSR",
      "include_colab_link": true
    },
    "kernelspec": {
      "name": "python3",
      "display_name": "Python 3"
    }
  },
  "cells": [
    {
      "cell_type": "markdown",
      "metadata": {
        "id": "view-in-github",
        "colab_type": "text"
      },
      "source": [
        "<a href=\"https://colab.research.google.com/github/LeonVillanueva/CoLab/blob/master/Google_CoLab_RNN_GRU_LSTM.ipynb\" target=\"_parent\"><img src=\"https://colab.research.google.com/assets/colab-badge.svg\" alt=\"Open In Colab\"/></a>"
      ]
    },
    {
      "cell_type": "markdown",
      "metadata": {
        "id": "3E_cWV5qdFND",
        "colab_type": "text"
      },
      "source": [
        "### Importing Libraries"
      ]
    },
    {
      "cell_type": "code",
      "metadata": {
        "id": "aehArAougcL_",
        "colab_type": "code",
        "colab": {}
      },
      "source": [
        "!pip install -q tensorflow==2.0.0-beta1"
      ],
      "execution_count": 0,
      "outputs": []
    },
    {
      "cell_type": "code",
      "metadata": {
        "id": "47qVHUTIdJwX",
        "colab_type": "code",
        "colab": {}
      },
      "source": [
        "%%capture\n",
        "import numpy as np\n",
        "import matplotlib.pyplot as plt\n",
        "import pandas as pd\n",
        "import tensorflow as tf"
      ],
      "execution_count": 0,
      "outputs": []
    },
    {
      "cell_type": "code",
      "metadata": {
        "id": "ngtSZfV-dPyI",
        "colab_type": "code",
        "colab": {}
      },
      "source": [
        "from sklearn.model_selection import train_test_split\n",
        "from sklearn.preprocessing import StandardScaler"
      ],
      "execution_count": 0,
      "outputs": []
    },
    {
      "cell_type": "code",
      "metadata": {
        "id": "PjsDnBEBdRvc",
        "colab_type": "code",
        "colab": {}
      },
      "source": [
        "from tensorflow.keras.layers import Input, Conv2D, Dense, Flatten, Dropout, GlobalMaxPooling2D, GaussianNoise, BatchNormalization, MaxPooling2D, SimpleRNN\n",
        "from tensorflow.keras.models import Model\n",
        "from tensorflow.keras.optimizers import SGD, Adam\n",
        "from tensorflow.keras.preprocessing.image import ImageDataGenerator\n",
        "from tensorflow.keras.preprocessing.sequence import TimeseriesGenerator"
      ],
      "execution_count": 0,
      "outputs": []
    },
    {
      "cell_type": "code",
      "metadata": {
        "id": "jWrju786dUDn",
        "colab_type": "code",
        "outputId": "d438f2f8-21e3-4715-e382-aeacff51655f",
        "colab": {
          "base_uri": "https://localhost:8080/",
          "height": 33
        }
      },
      "source": [
        "\n",
        "tf.__version__"
      ],
      "execution_count": 82,
      "outputs": [
        {
          "output_type": "execute_result",
          "data": {
            "text/plain": [
              "'2.0.0-beta1'"
            ]
          },
          "metadata": {
            "tags": []
          },
          "execution_count": 82
        }
      ]
    },
    {
      "cell_type": "markdown",
      "metadata": {
        "id": "5zFMW8chGeub",
        "colab_type": "text"
      },
      "source": [
        "## **Simple RNN**"
      ]
    },
    {
      "cell_type": "markdown",
      "metadata": {
        "id": "255TPGXCGsW3",
        "colab_type": "text"
      },
      "source": [
        "### Synthetic Data"
      ]
    },
    {
      "cell_type": "markdown",
      "metadata": {
        "id": "9vOtCWHuLjO5",
        "colab_type": "text"
      },
      "source": [
        "> Two ways of creating synthetic Sine wave data."
      ]
    },
    {
      "cell_type": "code",
      "metadata": {
        "id": "0LpBrbz6GmHc",
        "colab_type": "code",
        "colab": {}
      },
      "source": [
        "series = np.linspace(1, 30)\n",
        "\n",
        "def f(x):\n",
        "    return np.sin(x) + np.random.normal (scale=0.5, size=len(x))\n",
        "\n",
        "series = f(series)"
      ],
      "execution_count": 0,
      "outputs": []
    },
    {
      "cell_type": "code",
      "metadata": {
        "id": "j455PM0YKr_6",
        "colab_type": "code",
        "colab": {}
      },
      "source": [
        "series = np.sin (0.1*np.arange(500)) + np.random.randn(500)*0.3 - np.random.randn(500)*0.05"
      ],
      "execution_count": 0,
      "outputs": []
    },
    {
      "cell_type": "code",
      "metadata": {
        "id": "e9EnPp4eHiWf",
        "colab_type": "code",
        "outputId": "ee1f65e7-4a2f-4faa-f7f5-0834007a9cde",
        "colab": {
          "base_uri": "https://localhost:8080/",
          "height": 265
        }
      },
      "source": [
        "plt.plot(series)\n",
        "plt.show()"
      ],
      "execution_count": 85,
      "outputs": [
        {
          "output_type": "display_data",
          "data": {
            "image/png": "[encoded data removed]",
            "text/plain": [
              "<Figure size 432x288 with 1 Axes>"
            ]
          },
          "metadata": {
            "tags": []
          }
        }
      ]
    },
    {
      "cell_type": "code",
      "metadata": {
        "id": "Ny9046jtLzQI",
        "colab_type": "code",
        "colab": {}
      },
      "source": [
        "# previous timesteps = T\n",
        "T = 10\n",
        "X = []\n",
        "y = []\n",
        "\n",
        "for t in range (len (series) - T) :\n",
        "  y.append (series[t + T])\n",
        "  X.append (series[t:t+T])"
      ],
      "execution_count": 0,
      "outputs": []
    },
    {
      "cell_type": "code",
      "metadata": {
        "id": "F82DWhs-L_0X",
        "colab_type": "code",
        "outputId": "9720e104-4713-4f94-8c76-693dfb877644",
        "colab": {
          "base_uri": "https://localhost:8080/",
          "height": 33
        }
      },
      "source": [
        "X = np.asarray (X).reshape (-1, T, 1)\n",
        "y = np.asarray (y)\n",
        "N = len (X)\n",
        "\n",
        "cot = np.int (np.floor (N * (3/4)))\n",
        "cot"
      ],
      "execution_count": 87,
      "outputs": [
        {
          "output_type": "execute_result",
          "data": {
            "text/plain": [
              "367"
            ]
          },
          "metadata": {
            "tags": []
          },
          "execution_count": 87
        }
      ]
    },
    {
      "cell_type": "code",
      "metadata": {
        "id": "U2vaOCVkMRsR",
        "colab_type": "code",
        "colab": {}
      },
      "source": [
        "X_train = X[:cot]\n",
        "X_test = X[cot:]\n",
        "y_train = y[:cot]\n",
        "y_test = y[cot:]"
      ],
      "execution_count": 0,
      "outputs": []
    },
    {
      "cell_type": "code",
      "metadata": {
        "id": "GaopfrvIMZb2",
        "colab_type": "code",
        "outputId": "bb067cd6-fb29-4af2-879a-ece4895d57f4",
        "colab": {
          "base_uri": "https://localhost:8080/",
          "height": 33
        }
      },
      "source": [
        "X.shape, y.shape"
      ],
      "execution_count": 89,
      "outputs": [
        {
          "output_type": "execute_result",
          "data": {
            "text/plain": [
              "((490, 10, 1), (490,))"
            ]
          },
          "metadata": {
            "tags": []
          },
          "execution_count": 89
        }
      ]
    },
    {
      "cell_type": "markdown",
      "metadata": {
        "id": "7KiFA9R8M3tK",
        "colab_type": "text"
      },
      "source": [
        "### Model Building"
      ]
    },
    {
      "cell_type": "code",
      "metadata": {
        "id": "0VDk1d8kM5Dy",
        "colab_type": "code",
        "colab": {}
      },
      "source": [
        "i = Input (shape=(T,1))\n",
        "\n",
        "x = SimpleRNN (10, activation='tanh') (i)\n",
        "x = Dense (1)(x)"
      ],
      "execution_count": 0,
      "outputs": []
    },
    {
      "cell_type": "code",
      "metadata": {
        "id": "VdkUfPi0NUD1",
        "colab_type": "code",
        "colab": {}
      },
      "source": [
        "model = Model (i, x)"
      ],
      "execution_count": 0,
      "outputs": []
    },
    {
      "cell_type": "code",
      "metadata": {
        "id": "yLuP7HRkOC_j",
        "colab_type": "code",
        "colab": {}
      },
      "source": [
        "adam = tf.keras.optimizers.Adam (learning_rate=0.1, decay=5e-5)"
      ],
      "execution_count": 0,
      "outputs": []
    },
    {
      "cell_type": "code",
      "metadata": {
        "id": "CVjl67FbNPcw",
        "colab_type": "code",
        "colab": {}
      },
      "source": [
        "model.compile (optimizer=adam,\n",
        "                    loss='mse')"
      ],
      "execution_count": 0,
      "outputs": []
    },
    {
      "cell_type": "code",
      "metadata": {
        "id": "H1PhbDPrNqJL",
        "colab_type": "code",
        "colab": {}
      },
      "source": [
        "epochs = 100"
      ],
      "execution_count": 0,
      "outputs": []
    },
    {
      "cell_type": "code",
      "metadata": {
        "id": "FFpl1JVXNr7c",
        "colab_type": "code",
        "colab": {}
      },
      "source": [
        "r = model.fit (X_train, y_train, epochs=epochs, verbose=False, validation_data=(X_test, y_test))"
      ],
      "execution_count": 0,
      "outputs": []
    },
    {
      "cell_type": "code",
      "metadata": {
        "id": "rlYKI89BN32M",
        "colab_type": "code",
        "outputId": "ba3936c0-7c84-4283-f19c-df19e6c34aaf",
        "colab": {
          "base_uri": "https://localhost:8080/",
          "height": 281
        }
      },
      "source": [
        "plt.plot (r.history['loss'], label='loss', color='#840000')\n",
        "plt.plot (r.history['val_loss'], label='validation loss', color='#00035b')\n",
        "plt.legend ()"
      ],
      "execution_count": 96,
      "outputs": [
        {
          "output_type": "execute_result",
          "data": {
            "text/plain": [
              "<matplotlib.legend.Legend at 0x7fb911be47b8>"
            ]
          },
          "metadata": {
            "tags": []
          },
          "execution_count": 96
        },
        {
          "output_type": "display_data",
          "data": {
            "image/png": "[encoded data removed]",
            "text/plain": [
              "<Figure size 432x288 with 1 Axes>"
            ]
          },
          "metadata": {
            "tags": []
          }
        }
      ]
    },
    {
      "cell_type": "markdown",
      "metadata": {
        "id": "y3883CWRO0xE",
        "colab_type": "text"
      },
      "source": [
        "### Forecasting"
      ]
    },
    {
      "cell_type": "code",
      "metadata": {
        "colab_type": "code",
        "id": "BD4Ex7gqXRxr",
        "colab": {}
      },
      "source": [
        "array = X_test[-1:]"
      ],
      "execution_count": 0,
      "outputs": []
    },
    {
      "cell_type": "code",
      "metadata": {
        "id": "fuBhPxVhO26S",
        "colab_type": "code",
        "outputId": "22925e24-f568-4cf1-eace-cf1754ecc16f",
        "colab": {
          "base_uri": "https://localhost:8080/",
          "height": 204
        }
      },
      "source": [
        "y_hats = []\n",
        "for c in range (10):\n",
        "  y_hat = model.predict(array)[0,0]\n",
        "  y_hats.append (y_hat)\n",
        "  sliced = array.reshape (-1,10).tolist()[0][1:]\n",
        "  sliced.append (y_hat)\n",
        "  array = np.asarray (sliced).reshape (-1,10,1)\n",
        "  print (sliced)"
      ],
      "execution_count": 106,
      "outputs": [
        {
          "output_type": "stream",
          "text": [
            "[-0.9751344919204712, -0.9751346111297607, -0.9751344919204712, -0.9751344919204712, -0.9751346111297607, -0.9751344919204712, -0.9751344919204712, -0.9751346111297607, -0.9751344919204712, -0.9751345]\n",
            "[-0.9751346111297607, -0.9751344919204712, -0.9751344919204712, -0.9751346111297607, -0.9751344919204712, -0.9751344919204712, -0.9751346111297607, -0.9751344919204712, -0.9751344919204712, -0.9751346]\n",
            "[-0.9751344919204712, -0.9751344919204712, -0.9751346111297607, -0.9751344919204712, -0.9751344919204712, -0.9751346111297607, -0.9751344919204712, -0.9751344919204712, -0.9751346111297607, -0.9751345]\n",
            "[-0.9751344919204712, -0.9751346111297607, -0.9751344919204712, -0.9751344919204712, -0.9751346111297607, -0.9751344919204712, -0.9751344919204712, -0.9751346111297607, -0.9751344919204712, -0.9751345]\n",
            "[-0.9751346111297607, -0.9751344919204712, -0.9751344919204712, -0.9751346111297607, -0.9751344919204712, -0.9751344919204712, -0.9751346111297607, -0.9751344919204712, -0.9751344919204712, -0.9751346]\n",
            "[-0.9751344919204712, -0.9751344919204712, -0.9751346111297607, -0.9751344919204712, -0.9751344919204712, -0.9751346111297607, -0.9751344919204712, -0.9751344919204712, -0.9751346111297607, -0.9751345]\n",
            "[-0.9751344919204712, -0.9751346111297607, -0.9751344919204712, -0.9751344919204712, -0.9751346111297607, -0.9751344919204712, -0.9751344919204712, -0.9751346111297607, -0.9751344919204712, -0.9751345]\n",
            "[-0.9751346111297607, -0.9751344919204712, -0.9751344919204712, -0.9751346111297607, -0.9751344919204712, -0.9751344919204712, -0.9751346111297607, -0.9751344919204712, -0.9751344919204712, -0.9751346]\n",
            "[-0.9751344919204712, -0.9751344919204712, -0.9751346111297607, -0.9751344919204712, -0.9751344919204712, -0.9751346111297607, -0.9751344919204712, -0.9751344919204712, -0.9751346111297607, -0.9751345]\n",
            "[-0.9751344919204712, -0.9751346111297607, -0.9751344919204712, -0.9751344919204712, -0.9751346111297607, -0.9751344919204712, -0.9751344919204712, -0.9751346111297607, -0.9751344919204712, -0.9751345]\n"
          ],
          "name": "stdout"
        }
      ]
    },
    {
      "cell_type": "code",
      "metadata": {
        "id": "t1FXCVr8YFSz",
        "colab_type": "code",
        "colab": {}
      },
      "source": [
        "# y_hats"
      ],
      "execution_count": 0,
      "outputs": []
    },
    {
      "cell_type": "code",
      "metadata": {
        "id": "QykEPFsnYseh",
        "colab_type": "code",
        "colab": {}
      },
      "source": [
        "forecast = model.predict(X_test).reshape(1,-1).tolist()[0]\n",
        "forecast = forecast + y_hats"
      ],
      "execution_count": 0,
      "outputs": []
    },
    {
      "cell_type": "code",
      "metadata": {
        "id": "BSy1JMURYhz2",
        "colab_type": "code",
        "colab": {
          "base_uri": "https://localhost:8080/",
          "height": 265
        },
        "outputId": "1d885da7-761a-45f2-a9a3-29cc16ca74d1"
      },
      "source": [
        "plt.plot(y_test, color='#ff474c', label='Real', linewidth=1, linestyle=':')\n",
        "plt.plot(forecast, color='#363737', label='Forecast', linewidth=3, linestyle=':', alpha=0.5)\n",
        "plt.legend(bbox_to_anchor=(1.05, 1), loc='upper left', borderaxespad=0.)\n",
        "plt.show()"
      ],
      "execution_count": 104,
      "outputs": [
        {
          "output_type": "display_data",
          "data": {
            "image/png": "[encoded data removed]",
            "text/plain": [
              "<Figure size 432x288 with 1 Axes>"
            ]
          },
          "metadata": {
            "tags": []
          }
        }
      ]
    },
    {
      "cell_type": "code",
      "metadata": {
        "id": "lkn1m1kWZFdp",
        "colab_type": "code",
        "colab": {}
      },
      "source": [
        ""
      ],
      "execution_count": 0,
      "outputs": []
    }
  ]
}