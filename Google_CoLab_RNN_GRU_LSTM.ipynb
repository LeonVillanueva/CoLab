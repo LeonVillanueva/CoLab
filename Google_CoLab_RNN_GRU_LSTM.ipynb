{
  "nbformat": 4,
  "nbformat_minor": 0,
  "metadata": {
    "colab": {
      "name": " Google_CoLab_RNN_GRU_LSTM.ipynb",
      "provenance": [],
      "collapsed_sections": [],
      "authorship_tag": "ABX9TyPcUxD7pjT/H8v/HeNoLvip",
      "include_colab_link": true
    },
    "kernelspec": {
      "name": "python3",
      "display_name": "Python 3"
    }
  },
  "cells": [
    {
      "cell_type": "markdown",
      "metadata": {
        "id": "view-in-github",
        "colab_type": "text"
      },
      "source": [
        "<a href=\"https://colab.research.google.com/github/LeonVillanueva/CoLab/blob/master/Google_CoLab_RNN_GRU_LSTM.ipynb\" target=\"_parent\"><img src=\"https://colab.research.google.com/assets/colab-badge.svg\" alt=\"Open In Colab\"/></a>"
      ]
    },
    {
      "cell_type": "markdown",
      "metadata": {
        "id": "3E_cWV5qdFND",
        "colab_type": "text"
      },
      "source": [
        "### Importing Libraries"
      ]
    },
    {
      "cell_type": "code",
      "metadata": {
        "id": "aehArAougcL_",
        "colab_type": "code",
        "colab": {
          "base_uri": "https://localhost:8080/",
          "height": 67
        },
        "outputId": "5ce759d7-4018-4bb8-ff39-f4a7061d54c0"
      },
      "source": [
        "!pip install -q tensorflow==2.0.0-beta1"
      ],
      "execution_count": 1,
      "outputs": [
        {
          "output_type": "stream",
          "text": [
            "\u001b[K     |████████████████████████████████| 87.9MB 64kB/s \n",
            "\u001b[K     |████████████████████████████████| 501kB 40.4MB/s \n",
            "\u001b[K     |████████████████████████████████| 3.1MB 44.2MB/s \n",
            "\u001b[?25h"
          ],
          "name": "stdout"
        }
      ]
    },
    {
      "cell_type": "code",
      "metadata": {
        "id": "47qVHUTIdJwX",
        "colab_type": "code",
        "colab": {}
      },
      "source": [
        "%%capture\n",
        "import numpy as np\n",
        "import matplotlib.pyplot as plt\n",
        "import pandas as pd\n",
        "import tensorflow as tf"
      ],
      "execution_count": 0,
      "outputs": []
    },
    {
      "cell_type": "code",
      "metadata": {
        "id": "ngtSZfV-dPyI",
        "colab_type": "code",
        "colab": {}
      },
      "source": [
        "from sklearn.model_selection import train_test_split\n",
        "from sklearn.preprocessing import StandardScaler"
      ],
      "execution_count": 0,
      "outputs": []
    },
    {
      "cell_type": "code",
      "metadata": {
        "id": "PjsDnBEBdRvc",
        "colab_type": "code",
        "colab": {}
      },
      "source": [
        "from tensorflow.keras.layers import Input, Conv2D, Dense, Flatten, Dropout, GlobalMaxPooling2D, GaussianNoise, BatchNormalization, MaxPooling2D, SimpleRNN\n",
        "from tensorflow.keras.models import Model\n",
        "from tensorflow.keras.optimizers import SGD, Adam\n",
        "from tensorflow.keras.preprocessing.image import ImageDataGenerator\n",
        "from tensorflow.keras.preprocessing.sequence import TimeseriesGenerator"
      ],
      "execution_count": 0,
      "outputs": []
    },
    {
      "cell_type": "code",
      "metadata": {
        "id": "jWrju786dUDn",
        "colab_type": "code",
        "outputId": "26ff6810-0f06-4936-93dd-f214c7c31694",
        "colab": {
          "base_uri": "https://localhost:8080/",
          "height": 33
        }
      },
      "source": [
        "\n",
        "tf.__version__"
      ],
      "execution_count": 5,
      "outputs": [
        {
          "output_type": "execute_result",
          "data": {
            "text/plain": [
              "'2.0.0-beta1'"
            ]
          },
          "metadata": {
            "tags": []
          },
          "execution_count": 5
        }
      ]
    },
    {
      "cell_type": "markdown",
      "metadata": {
        "id": "5zFMW8chGeub",
        "colab_type": "text"
      },
      "source": [
        "## **Simple RNN**"
      ]
    },
    {
      "cell_type": "markdown",
      "metadata": {
        "id": "255TPGXCGsW3",
        "colab_type": "text"
      },
      "source": [
        "### Synthetic Data"
      ]
    },
    {
      "cell_type": "markdown",
      "metadata": {
        "id": "9vOtCWHuLjO5",
        "colab_type": "text"
      },
      "source": [
        "> Two ways of creating synthetic Sine wave data."
      ]
    },
    {
      "cell_type": "code",
      "metadata": {
        "id": "0LpBrbz6GmHc",
        "colab_type": "code",
        "colab": {}
      },
      "source": [
        "series = np.linspace(1, 30)\n",
        "\n",
        "def f(x):\n",
        "    return np.sin(x) + np.random.normal (scale=0.5, size=len(x))\n",
        "\n",
        "series = f(series)"
      ],
      "execution_count": 0,
      "outputs": []
    },
    {
      "cell_type": "code",
      "metadata": {
        "id": "j455PM0YKr_6",
        "colab_type": "code",
        "colab": {}
      },
      "source": [
        "series = np.sin (0.1*np.arange(200)) + np.random.randn(200)*0.3 - np.random.randn(200)*0.05"
      ],
      "execution_count": 0,
      "outputs": []
    },
    {
      "cell_type": "code",
      "metadata": {
        "id": "e9EnPp4eHiWf",
        "colab_type": "code",
        "outputId": "993dca8a-688a-4c93-bd9f-9de2583131e0",
        "colab": {
          "base_uri": "https://localhost:8080/",
          "height": 265
        }
      },
      "source": [
        "plt.plot(series)\n",
        "plt.show()"
      ],
      "execution_count": 8,
      "outputs": [
        {
          "output_type": "display_data",
          "data": {
            "image/png": "[encoded data removed]",
            "text/plain": [
              "<Figure size 432x288 with 1 Axes>"
            ]
          },
          "metadata": {
            "tags": []
          }
        }
      ]
    },
    {
      "cell_type": "code",
      "metadata": {
        "id": "Ny9046jtLzQI",
        "colab_type": "code",
        "colab": {}
      },
      "source": [
        "# previous timesteps = T\n",
        "T = 10\n",
        "X = []\n",
        "y = []\n",
        "\n",
        "for t in range (len (series) - T) :\n",
        "  y.append (series[t + T])\n",
        "  X.append (series[t:t+T])"
      ],
      "execution_count": 0,
      "outputs": []
    },
    {
      "cell_type": "code",
      "metadata": {
        "id": "F82DWhs-L_0X",
        "colab_type": "code",
        "outputId": "d4bce8dc-5cc9-4f4f-a65c-47a37f2fd6a7",
        "colab": {
          "base_uri": "https://localhost:8080/",
          "height": 33
        }
      },
      "source": [
        "X = np.asarray (X).reshape (-1, T, 1)\n",
        "y = np.asarray (y)\n",
        "N = len (X)\n",
        "\n",
        "cot = np.int (np.floor (N * (3/4)))\n",
        "cot"
      ],
      "execution_count": 10,
      "outputs": [
        {
          "output_type": "execute_result",
          "data": {
            "text/plain": [
              "142"
            ]
          },
          "metadata": {
            "tags": []
          },
          "execution_count": 10
        }
      ]
    },
    {
      "cell_type": "code",
      "metadata": {
        "id": "U2vaOCVkMRsR",
        "colab_type": "code",
        "colab": {}
      },
      "source": [
        "X_train = X[:cot]\n",
        "X_test = X[cot:]\n",
        "y_train = y[:cot]\n",
        "y_test = y[cot:]"
      ],
      "execution_count": 0,
      "outputs": []
    },
    {
      "cell_type": "code",
      "metadata": {
        "id": "GaopfrvIMZb2",
        "colab_type": "code",
        "outputId": "4313cd80-dcee-4438-a4e6-6d272b9b514e",
        "colab": {
          "base_uri": "https://localhost:8080/",
          "height": 33
        }
      },
      "source": [
        "X.shape, y.shape"
      ],
      "execution_count": 12,
      "outputs": [
        {
          "output_type": "execute_result",
          "data": {
            "text/plain": [
              "((190, 10, 1), (190,))"
            ]
          },
          "metadata": {
            "tags": []
          },
          "execution_count": 12
        }
      ]
    },
    {
      "cell_type": "markdown",
      "metadata": {
        "id": "7KiFA9R8M3tK",
        "colab_type": "text"
      },
      "source": [
        "### Model Building"
      ]
    },
    {
      "cell_type": "code",
      "metadata": {
        "id": "0VDk1d8kM5Dy",
        "colab_type": "code",
        "colab": {}
      },
      "source": [
        "i = Input (shape=(T,1))\n",
        "\n",
        "x = SimpleRNN (10, activation='tanh') (i)\n",
        "x = Dense (1)(x)"
      ],
      "execution_count": 0,
      "outputs": []
    },
    {
      "cell_type": "code",
      "metadata": {
        "id": "VdkUfPi0NUD1",
        "colab_type": "code",
        "colab": {}
      },
      "source": [
        "model = Model (i, x)"
      ],
      "execution_count": 0,
      "outputs": []
    },
    {
      "cell_type": "code",
      "metadata": {
        "id": "yLuP7HRkOC_j",
        "colab_type": "code",
        "colab": {}
      },
      "source": [
        "adam = tf.keras.optimizers.Adam (learning_rate=0.1, decay=5e-5)"
      ],
      "execution_count": 0,
      "outputs": []
    },
    {
      "cell_type": "code",
      "metadata": {
        "id": "CVjl67FbNPcw",
        "colab_type": "code",
        "colab": {}
      },
      "source": [
        "model.compile (optimizer=adam,\n",
        "                    loss='mse')"
      ],
      "execution_count": 0,
      "outputs": []
    },
    {
      "cell_type": "code",
      "metadata": {
        "id": "H1PhbDPrNqJL",
        "colab_type": "code",
        "colab": {}
      },
      "source": [
        "epochs = 100"
      ],
      "execution_count": 0,
      "outputs": []
    },
    {
      "cell_type": "code",
      "metadata": {
        "id": "FFpl1JVXNr7c",
        "colab_type": "code",
        "colab": {}
      },
      "source": [
        "r = model.fit (X_train, y_train, epochs=epochs, verbose=False, validation_data=(X_test, y_test))"
      ],
      "execution_count": 0,
      "outputs": []
    },
    {
      "cell_type": "code",
      "metadata": {
        "id": "rlYKI89BN32M",
        "colab_type": "code",
        "outputId": "3b1d4642-42bd-4c9c-9886-4ddeb3cc6a47",
        "colab": {
          "base_uri": "https://localhost:8080/",
          "height": 281
        }
      },
      "source": [
        "plt.plot (r.history['loss'], label='loss', color='#840000')\n",
        "plt.plot (r.history['val_loss'], label='validation loss', color='#00035b')\n",
        "plt.legend ()"
      ],
      "execution_count": 19,
      "outputs": [
        {
          "output_type": "execute_result",
          "data": {
            "text/plain": [
              "<matplotlib.legend.Legend at 0x7fb916479860>"
            ]
          },
          "metadata": {
            "tags": []
          },
          "execution_count": 19
        },
        {
          "output_type": "display_data",
          "data": {
            "image/png": "[encoded data removed]",
            "text/plain": [
              "<Figure size 432x288 with 1 Axes>"
            ]
          },
          "metadata": {
            "tags": []
          }
        }
      ]
    },
    {
      "cell_type": "markdown",
      "metadata": {
        "id": "y3883CWRO0xE",
        "colab_type": "text"
      },
      "source": [
        "### Forecasting"
      ]
    },
    {
      "cell_type": "code",
      "metadata": {
        "colab_type": "code",
        "id": "BD4Ex7gqXRxr",
        "colab": {}
      },
      "source": [
        "array = X_test[-1:]"
      ],
      "execution_count": 0,
      "outputs": []
    },
    {
      "cell_type": "code",
      "metadata": {
        "id": "fuBhPxVhO26S",
        "colab_type": "code",
        "colab": {}
      },
      "source": [
        "y_hats = []\n",
        "for c in range (200):\n",
        "  y_hat = model.predict(array)[0,0]\n",
        "  y_hats.append (y_hat)\n",
        "  sliced = array.reshape (1,10).tolist()[0][1:]\n",
        "  sliced.append (y_hat)\n",
        "  array = np.asarray (sliced).reshape (-1,10,1)"
      ],
      "execution_count": 0,
      "outputs": []
    },
    {
      "cell_type": "code",
      "metadata": {
        "id": "t1FXCVr8YFSz",
        "colab_type": "code",
        "colab": {
          "base_uri": "https://localhost:8080/",
          "height": 1000
        },
        "outputId": "6014f415-827c-486f-d6aa-49de0ae86bcf"
      },
      "source": [
        "y_hats"
      ],
      "execution_count": 54,
      "outputs": [
        {
          "output_type": "execute_result",
          "data": {
            "text/plain": [
              "[0.75294507,\n",
              " 0.7515149,\n",
              " 0.75033486,\n",
              " 0.7493614,\n",
              " 0.7485584,\n",
              " 0.7478961,\n",
              " 0.7473496,\n",
              " 0.7468989,\n",
              " 0.7465267,\n",
              " 0.7462201,\n",
              " 0.7459668,\n",
              " 0.74575794,\n",
              " 0.7455857,\n",
              " 0.7454437,\n",
              " 0.7453265,\n",
              " 0.74522984,\n",
              " 0.74514997,\n",
              " 0.74508405,\n",
              " 0.7450298,\n",
              " 0.744985,\n",
              " 0.74494815,\n",
              " 0.74491763,\n",
              " 0.7448925,\n",
              " 0.74487174,\n",
              " 0.74485457,\n",
              " 0.7448405,\n",
              " 0.7448288,\n",
              " 0.7448193,\n",
              " 0.7448114,\n",
              " 0.74480486,\n",
              " 0.7447995,\n",
              " 0.7447951,\n",
              " 0.74479127,\n",
              " 0.7447883,\n",
              " 0.7447858,\n",
              " 0.74478376,\n",
              " 0.7447821,\n",
              " 0.7447808,\n",
              " 0.7447796,\n",
              " 0.74477875,\n",
              " 0.7447779,\n",
              " 0.7447772,\n",
              " 0.7447766,\n",
              " 0.7447761,\n",
              " 0.7447758,\n",
              " 0.74477553,\n",
              " 0.7447753,\n",
              " 0.7447752,\n",
              " 0.74477494,\n",
              " 0.7447748,\n",
              " 0.7447746,\n",
              " 0.74477446,\n",
              " 0.74477446,\n",
              " 0.74477446,\n",
              " 0.74477446,\n",
              " 0.74477446,\n",
              " 0.74477446,\n",
              " 0.74477446,\n",
              " 0.74477446,\n",
              " 0.74477446,\n",
              " 0.74477446,\n",
              " 0.74477446,\n",
              " 0.74477446,\n",
              " 0.74477446,\n",
              " 0.74477446,\n",
              " 0.74477446,\n",
              " 0.74477446,\n",
              " 0.74477446,\n",
              " 0.74477446,\n",
              " 0.74477446,\n",
              " 0.74477446,\n",
              " 0.74477446,\n",
              " 0.74477446,\n",
              " 0.74477446,\n",
              " 0.74477446,\n",
              " 0.74477446,\n",
              " 0.74477446,\n",
              " 0.74477446,\n",
              " 0.74477446,\n",
              " 0.74477446,\n",
              " 0.74477446,\n",
              " 0.74477446,\n",
              " 0.74477446,\n",
              " 0.74477446,\n",
              " 0.74477446,\n",
              " 0.74477446,\n",
              " 0.74477446,\n",
              " 0.74477446,\n",
              " 0.74477446,\n",
              " 0.74477446,\n",
              " 0.74477446,\n",
              " 0.74477446,\n",
              " 0.74477446,\n",
              " 0.74477446,\n",
              " 0.74477446,\n",
              " 0.74477446,\n",
              " 0.74477446,\n",
              " 0.74477446,\n",
              " 0.74477446,\n",
              " 0.74477446,\n",
              " 0.74477446,\n",
              " 0.74477446,\n",
              " 0.74477446,\n",
              " 0.74477446,\n",
              " 0.74477446,\n",
              " 0.74477446,\n",
              " 0.74477446,\n",
              " 0.74477446,\n",
              " 0.74477446,\n",
              " 0.74477446,\n",
              " 0.74477446,\n",
              " 0.74477446,\n",
              " 0.74477446,\n",
              " 0.74477446,\n",
              " 0.74477446,\n",
              " 0.74477446,\n",
              " 0.74477446,\n",
              " 0.74477446,\n",
              " 0.74477446,\n",
              " 0.74477446,\n",
              " 0.74477446,\n",
              " 0.74477446,\n",
              " 0.74477446,\n",
              " 0.74477446,\n",
              " 0.74477446,\n",
              " 0.74477446,\n",
              " 0.74477446,\n",
              " 0.74477446,\n",
              " 0.74477446,\n",
              " 0.74477446,\n",
              " 0.74477446,\n",
              " 0.74477446,\n",
              " 0.74477446,\n",
              " 0.74477446,\n",
              " 0.74477446,\n",
              " 0.74477446,\n",
              " 0.74477446,\n",
              " 0.74477446,\n",
              " 0.74477446,\n",
              " 0.74477446,\n",
              " 0.74477446,\n",
              " 0.74477446,\n",
              " 0.74477446,\n",
              " 0.74477446,\n",
              " 0.74477446,\n",
              " 0.74477446,\n",
              " 0.74477446,\n",
              " 0.74477446,\n",
              " 0.74477446,\n",
              " 0.74477446,\n",
              " 0.74477446,\n",
              " 0.74477446,\n",
              " 0.74477446,\n",
              " 0.74477446,\n",
              " 0.74477446,\n",
              " 0.74477446,\n",
              " 0.74477446,\n",
              " 0.74477446,\n",
              " 0.74477446,\n",
              " 0.74477446,\n",
              " 0.74477446,\n",
              " 0.74477446,\n",
              " 0.74477446,\n",
              " 0.74477446,\n",
              " 0.74477446,\n",
              " 0.74477446,\n",
              " 0.74477446,\n",
              " 0.74477446,\n",
              " 0.74477446,\n",
              " 0.74477446,\n",
              " 0.74477446,\n",
              " 0.74477446,\n",
              " 0.74477446,\n",
              " 0.74477446,\n",
              " 0.74477446,\n",
              " 0.74477446,\n",
              " 0.74477446,\n",
              " 0.74477446,\n",
              " 0.74477446,\n",
              " 0.74477446,\n",
              " 0.74477446,\n",
              " 0.74477446,\n",
              " 0.74477446,\n",
              " 0.74477446,\n",
              " 0.74477446,\n",
              " 0.74477446,\n",
              " 0.74477446,\n",
              " 0.74477446,\n",
              " 0.74477446,\n",
              " 0.74477446,\n",
              " 0.74477446,\n",
              " 0.74477446,\n",
              " 0.74477446,\n",
              " 0.74477446,\n",
              " 0.74477446,\n",
              " 0.74477446,\n",
              " 0.74477446,\n",
              " 0.74477446,\n",
              " 0.74477446,\n",
              " 0.74477446]"
            ]
          },
          "metadata": {
            "tags": []
          },
          "execution_count": 54
        }
      ]
    }
  ]
}