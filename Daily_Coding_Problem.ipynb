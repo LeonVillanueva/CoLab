{
  "nbformat": 4,
  "nbformat_minor": 0,
  "metadata": {
    "colab": {
      "name": "Daily Coding Problem.ipynb",
      "provenance": [],
      "collapsed_sections": [],
      "authorship_tag": "ABX9TyO9QvbKig+5W9874dwhMZ6k",
      "include_colab_link": true
    },
    "kernelspec": {
      "name": "python3",
      "display_name": "Python 3"
    }
  },
  "cells": [
    {
      "cell_type": "markdown",
      "metadata": {
        "id": "view-in-github",
        "colab_type": "text"
      },
      "source": [
        "<a href=\"https://colab.research.google.com/github/LeonVillanueva/CoLab/blob/master/Daily_Coding_Problem.ipynb\" target=\"_parent\"><img src=\"https://colab.research.google.com/assets/colab-badge.svg\" alt=\"Open In Colab\"/></a>"
      ]
    },
    {
      "cell_type": "markdown",
      "metadata": {
        "id": "phbFPTQoEeNx",
        "colab_type": "text"
      },
      "source": [
        "### Recursive Staircase Problem\n",
        "\n",
        "1. Input (N) Steps\n",
        "2. Input Array of (M) size of integers of (P) step size\n",
        "3. Output: Given the (P) step sizes how many unique way can you get to (N) (Assumption is without going over (N)).\n",
        "4. Plan of Attack: To go backwards from N, and create a \"tree\" from there, with (N) as the \"trunk\" and each \"branch\" are the possible smaller values (boolean check). Each unique final branch is each unique way.\n",
        "5. Consideration: Memory of each branch pathway given larger sizes of (N) and (M). "
      ]
    },
    {
      "cell_type": "code",
      "metadata": {
        "id": "WweTLLqxIt1L",
        "colab_type": "code",
        "colab": {}
      },
      "source": [
        "import numpy as np"
      ],
      "execution_count": 0,
      "outputs": []
    },
    {
      "cell_type": "code",
      "metadata": {
        "id": "OBrR_29cEcZt",
        "colab_type": "code",
        "colab": {}
      },
      "source": [
        "N = 5\n",
        "M = (1,2,3)"
      ],
      "execution_count": 0,
      "outputs": []
    },
    {
      "cell_type": "code",
      "metadata": {
        "id": "t71T9ZEUF0zL",
        "colab_type": "code",
        "colab": {}
      },
      "source": [
        "M = sorted (list (M))"
      ],
      "execution_count": 0,
      "outputs": []
    },
    {
      "cell_type": "code",
      "metadata": {
        "id": "-EbZe9L2HYuz",
        "colab_type": "code",
        "colab": {}
      },
      "source": [
        "def ways (N, M):\n",
        "  assert type (N) == int, 'Not an integer (N)'\n",
        "  for k in M:\n",
        "    assert type (k) == int, 'Not an integer (M)'\n",
        "  x = [0] * (N+1)\n",
        "  x[0] = (1)\n",
        "  for i in range (N):\n",
        "    total = 0\n",
        "    for j in M:\n",
        "      if i - j >= 0:\n",
        "        total += x[i-j]\n",
        "    x[i+1] = total\n",
        "  return x"
      ],
      "execution_count": 0,
      "outputs": []
    },
    {
      "cell_type": "code",
      "metadata": {
        "id": "r8ygRyQ2XqSr",
        "colab_type": "code",
        "colab": {
          "base_uri": "https://localhost:8080/",
          "height": 36
        },
        "outputId": "7293ab09-2220-4a4e-b1d3-eb777058a9a4"
      },
      "source": [
        "ways (N, M)"
      ],
      "execution_count": 80,
      "outputs": [
        {
          "output_type": "execute_result",
          "data": {
            "text/plain": [
              "[1, 0, 1, 1, 2, 2]"
            ]
          },
          "metadata": {
            "tags": []
          },
          "execution_count": 80
        }
      ]
    },
    {
      "cell_type": "code",
      "metadata": {
        "id": "l6j7Sh3GHcPT",
        "colab_type": "code",
        "colab": {}
      },
      "source": [
        "x = [0] * N\n",
        "x[0] = (1)"
      ],
      "execution_count": 0,
      "outputs": []
    },
    {
      "cell_type": "code",
      "metadata": {
        "id": "HLluqIToR2sc",
        "colab_type": "code",
        "colab": {}
      },
      "source": [
        ""
      ],
      "execution_count": 0,
      "outputs": []
    }
  ]
}