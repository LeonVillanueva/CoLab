{
  "nbformat": 4,
  "nbformat_minor": 0,
  "metadata": {
    "colab": {
      "name": "Daily Coding Problem.ipynb",
      "provenance": [],
      "collapsed_sections": [],
      "authorship_tag": "ABX9TyMlbgQOE8dobB1314sTXfGA",
      "include_colab_link": true
    },
    "kernelspec": {
      "name": "python3",
      "display_name": "Python 3"
    }
  },
  "cells": [
    {
      "cell_type": "markdown",
      "metadata": {
        "id": "view-in-github",
        "colab_type": "text"
      },
      "source": [
        "<a href=\"https://colab.research.google.com/github/LeonVillanueva/CoLab/blob/master/Daily_Coding_Problem.ipynb\" target=\"_parent\"><img src=\"https://colab.research.google.com/assets/colab-badge.svg\" alt=\"Open In Colab\"/></a>"
      ]
    },
    {
      "cell_type": "markdown",
      "metadata": {
        "id": "phbFPTQoEeNx",
        "colab_type": "text"
      },
      "source": [
        "### Recursive Staircase Problem\n",
        "\n",
        "1. Input (N) Steps\n",
        "2. Input Array of (M) size of integers of (P) step size\n",
        "3. Output: Given the (P) step sizes how many unique way can you get to (N) (Assumption is without going over (N)).\n",
        "4. Plan of Attack: To go backwards from N, and create a \"tree\" from there, with (N) as the \"trunk\" and each \"branch\" are the possible smaller values (boolean check). Each unique final branch is each unique way.\n",
        "5. Consideration: Memory of each branch pathway given larger sizes of (N) and (M). "
      ]
    },
    {
      "cell_type": "code",
      "metadata": {
        "id": "WweTLLqxIt1L",
        "colab_type": "code",
        "colab": {}
      },
      "source": [
        "import numpy as np"
      ],
      "execution_count": 0,
      "outputs": []
    },
    {
      "cell_type": "code",
      "metadata": {
        "id": "OBrR_29cEcZt",
        "colab_type": "code",
        "colab": {}
      },
      "source": [
        "N = 5\n",
        "M = (1,2,3)"
      ],
      "execution_count": 0,
      "outputs": []
    },
    {
      "cell_type": "code",
      "metadata": {
        "id": "t71T9ZEUF0zL",
        "colab_type": "code",
        "colab": {
          "base_uri": "https://localhost:8080/",
          "height": 36
        },
        "outputId": "c58c5d16-7695-4426-fe49-6119802a8028"
      },
      "source": [
        "M"
      ],
      "execution_count": 104,
      "outputs": [
        {
          "output_type": "execute_result",
          "data": {
            "text/plain": [
              "(1, 2, 3)"
            ]
          },
          "metadata": {
            "tags": []
          },
          "execution_count": 104
        }
      ]
    },
    {
      "cell_type": "code",
      "metadata": {
        "id": "-EbZe9L2HYuz",
        "colab_type": "code",
        "colab": {}
      },
      "source": [
        "def ways (N, M):\n",
        "  assert type (N) == int, 'Not an integer (N)'\n",
        "  for k in M:\n",
        "    assert type (k) == int, 'Not an integer (M)'\n",
        "  \n",
        "  if N == 0: return 1\n",
        "  nums = [np.nan] * N\n",
        "  nums[0] = 1\n",
        "  for i in range (1, N):\n",
        "    total = 0\n",
        "    for j in sorted(M):\n",
        "      total += nums [i-j]\n",
        "    nums[i] = total\n",
        "  return nums [N]"
      ],
      "execution_count": 0,
      "outputs": []
    },
    {
      "cell_type": "code",
      "metadata": {
        "id": "HLluqIToR2sc",
        "colab_type": "code",
        "colab": {
          "base_uri": "https://localhost:8080/",
          "height": 267
        },
        "outputId": "3ac5add6-6c37-4ef7-f009-e885965b8ca3"
      },
      "source": [
        "ways (N, M)"
      ],
      "execution_count": 109,
      "outputs": [
        {
          "output_type": "error",
          "ename": "IndexError",
          "evalue": "ignored",
          "traceback": [
            "\u001b[0;31m---------------------------------------------------------------------------\u001b[0m",
            "\u001b[0;31mIndexError\u001b[0m                                Traceback (most recent call last)",
            "\u001b[0;32m<ipython-input-109-6137a87e68cd>\u001b[0m in \u001b[0;36m<module>\u001b[0;34m()\u001b[0m\n\u001b[0;32m----> 1\u001b[0;31m \u001b[0mways\u001b[0m \u001b[0;34m(\u001b[0m\u001b[0mN\u001b[0m\u001b[0;34m,\u001b[0m \u001b[0mM\u001b[0m\u001b[0;34m)\u001b[0m\u001b[0;34m\u001b[0m\u001b[0;34m\u001b[0m\u001b[0m\n\u001b[0m",
            "\u001b[0;32m<ipython-input-108-9c4f7105e249>\u001b[0m in \u001b[0;36mways\u001b[0;34m(N, M)\u001b[0m\n\u001b[1;32m     12\u001b[0m       \u001b[0mtotal\u001b[0m \u001b[0;34m+=\u001b[0m \u001b[0mnums\u001b[0m \u001b[0;34m[\u001b[0m\u001b[0mi\u001b[0m\u001b[0;34m-\u001b[0m\u001b[0mj\u001b[0m\u001b[0;34m]\u001b[0m\u001b[0;34m\u001b[0m\u001b[0;34m\u001b[0m\u001b[0m\n\u001b[1;32m     13\u001b[0m     \u001b[0mnums\u001b[0m\u001b[0;34m[\u001b[0m\u001b[0mi\u001b[0m\u001b[0;34m]\u001b[0m \u001b[0;34m=\u001b[0m \u001b[0mtotal\u001b[0m\u001b[0;34m\u001b[0m\u001b[0;34m\u001b[0m\u001b[0m\n\u001b[0;32m---> 14\u001b[0;31m   \u001b[0;32mreturn\u001b[0m \u001b[0mnums\u001b[0m \u001b[0;34m[\u001b[0m\u001b[0mN\u001b[0m\u001b[0;34m]\u001b[0m\u001b[0;34m\u001b[0m\u001b[0;34m\u001b[0m\u001b[0m\n\u001b[0m",
            "\u001b[0;31mIndexError\u001b[0m: list index out of range"
          ]
        }
      ]
    },
    {
      "cell_type": "code",
      "metadata": {
        "id": "DqlWhOt4YrZL",
        "colab_type": "code",
        "colab": {}
      },
      "source": [
        ""
      ],
      "execution_count": 0,
      "outputs": []
    }
  ]
}