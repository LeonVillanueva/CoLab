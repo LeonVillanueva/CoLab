{
  "nbformat": 4,
  "nbformat_minor": 0,
  "metadata": {
    "colab": {
      "name": "Google_CoLab_LSTM_Stocks_Udemy.ipynb",
      "provenance": [],
      "authorship_tag": "ABX9TyMMVqYF7sOcwQ4pFjj8h7VX",
      "include_colab_link": true
    },
    "kernelspec": {
      "name": "python3",
      "display_name": "Python 3"
    }
  },
  "cells": [
    {
      "cell_type": "markdown",
      "metadata": {
        "id": "view-in-github",
        "colab_type": "text"
      },
      "source": [
        "<a href=\"https://colab.research.google.com/github/LeonVillanueva/CoLab/blob/master/Google_CoLab_LSTM_Stocks_Udemy.ipynb\" target=\"_parent\"><img src=\"https://colab.research.google.com/assets/colab-badge.svg\" alt=\"Open In Colab\"/></a>"
      ]
    },
    {
      "cell_type": "markdown",
      "metadata": {
        "id": "5dDiDKkg0hv7",
        "colab_type": "text"
      },
      "source": [
        "### Importing Libraries"
      ]
    },
    {
      "cell_type": "code",
      "metadata": {
        "id": "9A_Qr1mUyZ5x",
        "colab_type": "code",
        "colab": {
          "base_uri": "https://localhost:8080/",
          "height": 67
        },
        "outputId": "2194246e-e2d4-4b95-cae5-fbaa48820705"
      },
      "source": [
        "!pip install -q tensorflow==2.0.0-beta1"
      ],
      "execution_count": 1,
      "outputs": [
        {
          "output_type": "stream",
          "text": [
            "\u001b[K     |████████████████████████████████| 87.9MB 63kB/s \n",
            "\u001b[K     |████████████████████████████████| 3.1MB 53.8MB/s \n",
            "\u001b[K     |████████████████████████████████| 501kB 49.3MB/s \n",
            "\u001b[?25h"
          ],
          "name": "stdout"
        }
      ]
    },
    {
      "cell_type": "code",
      "metadata": {
        "id": "7iAIB28jyncg",
        "colab_type": "code",
        "colab": {}
      },
      "source": [
        "%%capture\n",
        "import numpy as np\n",
        "import matplotlib.pyplot as plt\n",
        "import pandas as pd\n",
        "import tensorflow as tf"
      ],
      "execution_count": 0,
      "outputs": []
    },
    {
      "cell_type": "code",
      "metadata": {
        "id": "J1PDVsRByq16",
        "colab_type": "code",
        "colab": {}
      },
      "source": [
        "import math\n",
        "import seaborn as sns"
      ],
      "execution_count": 0,
      "outputs": []
    },
    {
      "cell_type": "code",
      "metadata": {
        "id": "WtMbnpxVysu2",
        "colab_type": "code",
        "colab": {}
      },
      "source": [
        "from sklearn.model_selection import train_test_split\n",
        "from sklearn.preprocessing import StandardScaler"
      ],
      "execution_count": 0,
      "outputs": []
    },
    {
      "cell_type": "code",
      "metadata": {
        "id": "ypl5TALNyuvz",
        "colab_type": "code",
        "colab": {}
      },
      "source": [
        "from tensorflow.keras.layers import Input, Conv2D, Dense, Flatten, Dropout, GlobalMaxPooling2D, GaussianNoise, BatchNormalization, MaxPooling2D, SimpleRNN, GRU, LSTM, GlobalMaxPooling1D\n",
        "from tensorflow.keras.models import Model, Sequential\n",
        "from tensorflow.keras.optimizers import SGD, Adam\n",
        "from tensorflow.keras.preprocessing.image import ImageDataGenerator\n",
        "from tensorflow.keras.preprocessing.sequence import TimeseriesGenerator"
      ],
      "execution_count": 0,
      "outputs": []
    },
    {
      "cell_type": "code",
      "metadata": {
        "id": "zqg8crukywez",
        "colab_type": "code",
        "colab": {}
      },
      "source": [
        "from scipy import stats"
      ],
      "execution_count": 0,
      "outputs": []
    },
    {
      "cell_type": "markdown",
      "metadata": {
        "id": "ep_Lue-w0kvG",
        "colab_type": "text"
      },
      "source": [
        "### Loading & Transforming Data"
      ]
    },
    {
      "cell_type": "code",
      "metadata": {
        "id": "cB2nTV6S0qBG",
        "colab_type": "code",
        "colab": {}
      },
      "source": [
        "df = pd.read_csv('https://raw.githubusercontent.com/lazyprogrammer/machine_learning_examples/master/tf2.0/sbux.csv')"
      ],
      "execution_count": 0,
      "outputs": []
    },
    {
      "cell_type": "code",
      "metadata": {
        "id": "xE_s0PF80quH",
        "colab_type": "code",
        "outputId": "868b90c8-2be6-49a6-a43f-f94cfea5bc00",
        "colab": {
          "base_uri": "https://localhost:8080/",
          "height": 137
        }
      },
      "source": [
        "df.head(3)"
      ],
      "execution_count": 8,
      "outputs": [
        {
          "output_type": "execute_result",
          "data": {
            "text/html": [
              "<div>\n",
              "<style scoped>\n",
              "    .dataframe tbody tr th:only-of-type {\n",
              "        vertical-align: middle;\n",
              "    }\n",
              "\n",
              "    .dataframe tbody tr th {\n",
              "        vertical-align: top;\n",
              "    }\n",
              "\n",
              "    .dataframe thead th {\n",
              "        text-align: right;\n",
              "    }\n",
              "</style>\n",
              "<table border=\"1\" class=\"dataframe\">\n",
              "  <thead>\n",
              "    <tr style=\"text-align: right;\">\n",
              "      <th></th>\n",
              "      <th>date</th>\n",
              "      <th>open</th>\n",
              "      <th>high</th>\n",
              "      <th>low</th>\n",
              "      <th>close</th>\n",
              "      <th>volume</th>\n",
              "      <th>Name</th>\n",
              "    </tr>\n",
              "  </thead>\n",
              "  <tbody>\n",
              "    <tr>\n",
              "      <th>0</th>\n",
              "      <td>2013-02-08</td>\n",
              "      <td>27.92</td>\n",
              "      <td>28.325</td>\n",
              "      <td>27.920</td>\n",
              "      <td>28.185</td>\n",
              "      <td>7146296</td>\n",
              "      <td>SBUX</td>\n",
              "    </tr>\n",
              "    <tr>\n",
              "      <th>1</th>\n",
              "      <td>2013-02-11</td>\n",
              "      <td>28.26</td>\n",
              "      <td>28.260</td>\n",
              "      <td>27.930</td>\n",
              "      <td>28.070</td>\n",
              "      <td>5457354</td>\n",
              "      <td>SBUX</td>\n",
              "    </tr>\n",
              "    <tr>\n",
              "      <th>2</th>\n",
              "      <td>2013-02-12</td>\n",
              "      <td>28.00</td>\n",
              "      <td>28.275</td>\n",
              "      <td>27.975</td>\n",
              "      <td>28.130</td>\n",
              "      <td>8665592</td>\n",
              "      <td>SBUX</td>\n",
              "    </tr>\n",
              "  </tbody>\n",
              "</table>\n",
              "</div>"
            ],
            "text/plain": [
              "         date   open    high     low   close   volume  Name\n",
              "0  2013-02-08  27.92  28.325  27.920  28.185  7146296  SBUX\n",
              "1  2013-02-11  28.26  28.260  27.930  28.070  5457354  SBUX\n",
              "2  2013-02-12  28.00  28.275  27.975  28.130  8665592  SBUX"
            ]
          },
          "metadata": {
            "tags": []
          },
          "execution_count": 8
        }
      ]
    },
    {
      "cell_type": "code",
      "metadata": {
        "id": "u-sPNJhz0tlR",
        "colab_type": "code",
        "outputId": "8b5f1b0b-ace3-4154-8dc3-c73ef173bbd5",
        "colab": {
          "base_uri": "https://localhost:8080/",
          "height": 137
        }
      },
      "source": [
        "df.tail(3)"
      ],
      "execution_count": 9,
      "outputs": [
        {
          "output_type": "execute_result",
          "data": {
            "text/html": [
              "<div>\n",
              "<style scoped>\n",
              "    .dataframe tbody tr th:only-of-type {\n",
              "        vertical-align: middle;\n",
              "    }\n",
              "\n",
              "    .dataframe tbody tr th {\n",
              "        vertical-align: top;\n",
              "    }\n",
              "\n",
              "    .dataframe thead th {\n",
              "        text-align: right;\n",
              "    }\n",
              "</style>\n",
              "<table border=\"1\" class=\"dataframe\">\n",
              "  <thead>\n",
              "    <tr style=\"text-align: right;\">\n",
              "      <th></th>\n",
              "      <th>date</th>\n",
              "      <th>open</th>\n",
              "      <th>high</th>\n",
              "      <th>low</th>\n",
              "      <th>close</th>\n",
              "      <th>volume</th>\n",
              "      <th>Name</th>\n",
              "    </tr>\n",
              "  </thead>\n",
              "  <tbody>\n",
              "    <tr>\n",
              "      <th>1256</th>\n",
              "      <td>2018-02-05</td>\n",
              "      <td>55.530</td>\n",
              "      <td>56.26</td>\n",
              "      <td>54.57</td>\n",
              "      <td>54.69</td>\n",
              "      <td>16059955</td>\n",
              "      <td>SBUX</td>\n",
              "    </tr>\n",
              "    <tr>\n",
              "      <th>1257</th>\n",
              "      <td>2018-02-06</td>\n",
              "      <td>53.685</td>\n",
              "      <td>56.06</td>\n",
              "      <td>53.56</td>\n",
              "      <td>55.61</td>\n",
              "      <td>17415065</td>\n",
              "      <td>SBUX</td>\n",
              "    </tr>\n",
              "    <tr>\n",
              "      <th>1258</th>\n",
              "      <td>2018-02-07</td>\n",
              "      <td>55.080</td>\n",
              "      <td>55.43</td>\n",
              "      <td>54.44</td>\n",
              "      <td>54.46</td>\n",
              "      <td>13927022</td>\n",
              "      <td>SBUX</td>\n",
              "    </tr>\n",
              "  </tbody>\n",
              "</table>\n",
              "</div>"
            ],
            "text/plain": [
              "            date    open   high    low  close    volume  Name\n",
              "1256  2018-02-05  55.530  56.26  54.57  54.69  16059955  SBUX\n",
              "1257  2018-02-06  53.685  56.06  53.56  55.61  17415065  SBUX\n",
              "1258  2018-02-07  55.080  55.43  54.44  54.46  13927022  SBUX"
            ]
          },
          "metadata": {
            "tags": []
          },
          "execution_count": 9
        }
      ]
    },
    {
      "cell_type": "code",
      "metadata": {
        "id": "nRFY2pIT0uuR",
        "colab_type": "code",
        "colab": {}
      },
      "source": [
        "series = df['close'].values.reshape(-1, 1)"
      ],
      "execution_count": 0,
      "outputs": []
    },
    {
      "cell_type": "code",
      "metadata": {
        "id": "4sWO9TOB0xd4",
        "colab_type": "code",
        "outputId": "5145decc-4fdc-467c-d756-c4646625575a",
        "colab": {
          "base_uri": "https://localhost:8080/",
          "height": 134
        }
      },
      "source": [
        "series"
      ],
      "execution_count": 11,
      "outputs": [
        {
          "output_type": "execute_result",
          "data": {
            "text/plain": [
              "array([[28.185],\n",
              "       [28.07 ],\n",
              "       [28.13 ],\n",
              "       ...,\n",
              "       [54.69 ],\n",
              "       [55.61 ],\n",
              "       [54.46 ]])"
            ]
          },
          "metadata": {
            "tags": []
          },
          "execution_count": 11
        }
      ]
    },
    {
      "cell_type": "code",
      "metadata": {
        "id": "AO4d02vZ0y_3",
        "colab_type": "code",
        "colab": {}
      },
      "source": [
        "scaler = StandardScaler()\n",
        "scaler.fit(series[:len(series) // 2])\n",
        "series = scaler.transform(series).flatten()"
      ],
      "execution_count": 0,
      "outputs": []
    },
    {
      "cell_type": "code",
      "metadata": {
        "id": "svuXamTb05VP",
        "colab_type": "code",
        "colab": {}
      },
      "source": [
        "# previous timesteps = T\n",
        "T = 10\n",
        "X = []\n",
        "y = []\n",
        "\n",
        "for t in range (len (series) - T) :\n",
        "  y.append (series[t + T])\n",
        "  X.append (series[t:t+T])\n",
        "\n",
        "X = np.asarray (X).reshape (-1, T, 1)\n",
        "y = np.asarray (y)\n",
        "N = len (X)"
      ],
      "execution_count": 0,
      "outputs": []
    },
    {
      "cell_type": "code",
      "metadata": {
        "id": "3OCYgiq-5XbC",
        "colab_type": "code",
        "colab": {}
      },
      "source": [
        "cot = np.int (np.floor (N * (3/4)))\n",
        "\n",
        "X_train = X[:cot]\n",
        "X_test = X[cot:]\n",
        "y_train = y[:cot]\n",
        "y_test = y[cot:]"
      ],
      "execution_count": 0,
      "outputs": []
    },
    {
      "cell_type": "markdown",
      "metadata": {
        "id": "9yNITCID44pS",
        "colab_type": "text"
      },
      "source": [
        "### Model Building"
      ]
    },
    {
      "cell_type": "code",
      "metadata": {
        "id": "ILPnUxM00_M4",
        "colab_type": "code",
        "colab": {}
      },
      "source": [
        "i =  Input (shape=(T,1))\n",
        "\n",
        "x = LSTM (128, activation='tanh') (i)\n",
        "x = Dense (64)(x)\n",
        "x = Dropout (0.25)(x)\n",
        "x = Dense (1)(x)"
      ],
      "execution_count": 0,
      "outputs": []
    },
    {
      "cell_type": "code",
      "metadata": {
        "id": "EOAjzHhp5KFm",
        "colab_type": "code",
        "colab": {}
      },
      "source": [
        "model = Model (i, x)"
      ],
      "execution_count": 0,
      "outputs": []
    },
    {
      "cell_type": "code",
      "metadata": {
        "id": "63Dabkym5Kf5",
        "colab_type": "code",
        "colab": {}
      },
      "source": [
        "adam = tf.keras.optimizers.Adam (learning_rate=0.05, decay=5e-5)"
      ],
      "execution_count": 0,
      "outputs": []
    },
    {
      "cell_type": "code",
      "metadata": {
        "id": "uKQ0_4rs5ONY",
        "colab_type": "code",
        "colab": {}
      },
      "source": [
        "model.compile (optimizer=adam,\n",
        "                    loss='mse')"
      ],
      "execution_count": 0,
      "outputs": []
    },
    {
      "cell_type": "code",
      "metadata": {
        "id": "-asNe--E5QdY",
        "colab_type": "code",
        "colab": {}
      },
      "source": [
        "epochs = 100"
      ],
      "execution_count": 0,
      "outputs": []
    },
    {
      "cell_type": "code",
      "metadata": {
        "id": "07nY3oKD5Rex",
        "colab_type": "code",
        "colab": {}
      },
      "source": [
        "r = model.fit (X_train, y_train, epochs=epochs, verbose=False, validation_data=(X_test, y_test))"
      ],
      "execution_count": 0,
      "outputs": []
    },
    {
      "cell_type": "code",
      "metadata": {
        "id": "j6hPCcgB57_v",
        "colab_type": "code",
        "colab": {
          "base_uri": "https://localhost:8080/",
          "height": 281
        },
        "outputId": "3b265622-ff10-4a92-b28c-eed034555e4a"
      },
      "source": [
        "plt.plot (r.history['loss'], label='loss', color='#840000')\n",
        "plt.plot (r.history['val_loss'], label='validation loss', color='#00035b')\n",
        "plt.legend ()"
      ],
      "execution_count": 40,
      "outputs": [
        {
          "output_type": "execute_result",
          "data": {
            "text/plain": [
              "<matplotlib.legend.Legend at 0x7f54888abe10>"
            ]
          },
          "metadata": {
            "tags": []
          },
          "execution_count": 40
        },
        {
          "output_type": "display_data",
          "data": {
            "image/png": "[encoded data removed]",
            "text/plain": [
              "<Figure size 432x288 with 1 Axes>"
            ]
          },
          "metadata": {
            "tags": []
          }
        }
      ]
    },
    {
      "cell_type": "markdown",
      "metadata": {
        "id": "DImAZYlh6yqf",
        "colab_type": "text"
      },
      "source": [
        "### Forecasting"
      ]
    },
    {
      "cell_type": "code",
      "metadata": {
        "id": "Mgcmo-wL7LVi",
        "colab_type": "code",
        "colab": {
          "base_uri": "https://localhost:8080/",
          "height": 33
        },
        "outputId": "9da51705-b828-4875-904e-730ea4c24690"
      },
      "source": [
        "len(X_test)"
      ],
      "execution_count": 41,
      "outputs": [
        {
          "output_type": "execute_result",
          "data": {
            "text/plain": [
              "313"
            ]
          },
          "metadata": {
            "tags": []
          },
          "execution_count": 41
        }
      ]
    },
    {
      "cell_type": "code",
      "metadata": {
        "id": "gLGKXHe77e-H",
        "colab_type": "code",
        "colab": {
          "base_uri": "https://localhost:8080/",
          "height": 33
        },
        "outputId": "0587429b-5b81-4fb8-f0c4-87f0ad1b5668"
      },
      "source": [
        "X_test[], y_test[0]"
      ],
      "execution_count": 47,
      "outputs": [
        {
          "output_type": "execute_result",
          "data": {
            "text/plain": [
              "(array([2.22407801]), 2.2182537849455106)"
            ]
          },
          "metadata": {
            "tags": []
          },
          "execution_count": 47
        }
      ]
    },
    {
      "cell_type": "code",
      "metadata": {
        "id": "GXLMTiKW6zu9",
        "colab_type": "code",
        "colab": {}
      },
      "source": [
        "array = X_train[-1:]\n",
        "y_hats = []\n",
        "for c in range (313):\n",
        "  y_hat = model.predict(array)[0,0]\n",
        "  y_hats.append (y_hat)\n",
        "  sliced = array.reshape (-1,10).tolist()[0][1:]\n",
        "  sliced.append (y_hat)\n",
        "  array = np.asarray (sliced).reshape (-1,10).transpose().reshape(-1,10,1)\n",
        "  # print (array)"
      ],
      "execution_count": 0,
      "outputs": []
    },
    {
      "cell_type": "code",
      "metadata": {
        "id": "LavB9Ahb7EVV",
        "colab_type": "code",
        "colab": {
          "base_uri": "https://localhost:8080/",
          "height": 265
        },
        "outputId": "cb3bf817-0f03-4db2-e6be-0c67c705be00"
      },
      "source": [
        "plt.plot(y_test, color='#ff474c', label='Real', linewidth=1, linestyle=':')\n",
        "plt.plot(y_hats, color='#363737', label='Forecast', linewidth=3, linestyle=':', alpha=0.5)\n",
        "plt.legend(bbox_to_anchor=(1.05, 1), loc='upper left', borderaxespad=0.)\n",
        "plt.show()"
      ],
      "execution_count": 44,
      "outputs": [
        {
          "output_type": "display_data",
          "data": {
            "image/png": "[encoded data removed]",
            "text/plain": [
              "<Figure size 432x288 with 1 Axes>"
            ]
          },
          "metadata": {
            "tags": []
          }
        }
      ]
    },
    {
      "cell_type": "code",
      "metadata": {
        "id": "3cGw8h0d8GUB",
        "colab_type": "code",
        "colab": {}
      },
      "source": [
        ""
      ],
      "execution_count": 0,
      "outputs": []
    }
  ]
}