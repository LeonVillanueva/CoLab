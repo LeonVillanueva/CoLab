{
  "nbformat": 4,
  "nbformat_minor": 0,
  "metadata": {
    "colab": {
      "name": "Spam_Classifier_Udemy.ipynb",
      "provenance": [],
      "collapsed_sections": [],
      "authorship_tag": "ABX9TyNMX5PYS8u+4qVhS8FkRAM9",
      "include_colab_link": true
    },
    "kernelspec": {
      "name": "python3",
      "display_name": "Python 3"
    }
  },
  "cells": [
    {
      "cell_type": "markdown",
      "metadata": {
        "id": "view-in-github",
        "colab_type": "text"
      },
      "source": [
        "<a href=\"https://colab.research.google.com/github/LeonVillanueva/CoLab/blob/master/Spam_Classifier_Udemy.ipynb\" target=\"_parent\"><img src=\"https://colab.research.google.com/assets/colab-badge.svg\" alt=\"Open In Colab\"/></a>"
      ]
    },
    {
      "cell_type": "markdown",
      "metadata": {
        "id": "nrAd--UJ3GhK",
        "colab_type": "text"
      },
      "source": [
        "###[Spam Classifier](https://www.udemy.com/course/deep-learning-machine-learning-practical/learn/lecture/14977018#overview) with Naive Bayes"
      ]
    },
    {
      "cell_type": "code",
      "metadata": {
        "id": "OH03diA_3FEl",
        "colab_type": "code",
        "colab": {}
      },
      "source": [
        "import numpy as np\n",
        "import pandas as pd"
      ],
      "execution_count": 0,
      "outputs": []
    },
    {
      "cell_type": "markdown",
      "metadata": {
        "id": "RaVC-0I8bq4f",
        "colab_type": "text"
      },
      "source": [
        "1. Prior probability = Observed / Total \n",
        "2. Likelihood = Within Subset /  Subset of Observed Total (Radius?)\n",
        "3. Posterior = Likelihood * Prior\n"
      ]
    },
    {
      "cell_type": "code",
      "metadata": {
        "id": "vrlz4ZJwY-ht",
        "colab_type": "code",
        "colab": {}
      },
      "source": [
        ""
      ],
      "execution_count": 0,
      "outputs": []
    }
  ]
}