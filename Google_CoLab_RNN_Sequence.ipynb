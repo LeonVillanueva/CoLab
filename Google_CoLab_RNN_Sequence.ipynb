{
  "nbformat": 4,
  "nbformat_minor": 0,
  "metadata": {
    "colab": {
      "name": "Google_CoLab_RNN_Sequence.ipynb",
      "provenance": [],
      "collapsed_sections": [
        "QB1X6Gk7E6C2"
      ],
      "include_colab_link": true
    },
    "kernelspec": {
      "name": "python3",
      "display_name": "Python 3"
    }
  },
  "cells": [
    {
      "cell_type": "markdown",
      "metadata": {
        "id": "view-in-github",
        "colab_type": "text"
      },
      "source": [
        "<a href=\"https://colab.research.google.com/github/LeonVillanueva/CoLab/blob/master/Google_CoLab_RNN_Sequence.ipynb\" target=\"_parent\"><img src=\"https://colab.research.google.com/assets/colab-badge.svg\" alt=\"Open In Colab\"/></a>"
      ]
    },
    {
      "cell_type": "markdown",
      "metadata": {
        "id": "TmEfq2GG_CrN",
        "colab_type": "text"
      },
      "source": [
        "# **Sequence Models**"
      ]
    },
    {
      "cell_type": "markdown",
      "metadata": {
        "id": "QB1X6Gk7E6C2",
        "colab_type": "text"
      },
      "source": [
        "### Importing Libraries"
      ]
    },
    {
      "cell_type": "code",
      "metadata": {
        "id": "xD9XlA8B-_y2",
        "colab_type": "code",
        "colab": {}
      },
      "source": [
        "!pip install -q tensorflow==2.0.0-beta1"
      ],
      "execution_count": 0,
      "outputs": []
    },
    {
      "cell_type": "code",
      "metadata": {
        "id": "qD5cDZMk_NMS",
        "colab_type": "code",
        "colab": {}
      },
      "source": [
        "%%capture\n",
        "import numpy as np\n",
        "import matplotlib.pyplot as plt\n",
        "import pandas as pd\n",
        "import tensorflow as tf\n",
        "import seaborn as sns"
      ],
      "execution_count": 0,
      "outputs": []
    },
    {
      "cell_type": "code",
      "metadata": {
        "id": "wE3crdP3_Qcc",
        "colab_type": "code",
        "colab": {}
      },
      "source": [
        "from sklearn.model_selection import train_test_split\n",
        "from sklearn.preprocessing import StandardScaler"
      ],
      "execution_count": 0,
      "outputs": []
    },
    {
      "cell_type": "code",
      "metadata": {
        "id": "9dKExEg__TcA",
        "colab_type": "code",
        "colab": {}
      },
      "source": [
        "from tensorflow.keras.layers import Input, Conv2D, Dense, Flatten, Dropout, GlobalMaxPooling2D, GaussianNoise, BatchNormalization, MaxPooling2D\n",
        "from tensorflow.keras.models import Model\n",
        "from tensorflow.keras.preprocessing.image import ImageDataGenerator\n",
        "from tensorflow.keras.preprocessing.sequence import TimeseriesGenerator"
      ],
      "execution_count": 0,
      "outputs": []
    },
    {
      "cell_type": "code",
      "metadata": {
        "id": "XlNToMam_kjX",
        "colab_type": "code",
        "outputId": "66442611-9880-48db-9272-cd1f2eecb679",
        "colab": {
          "base_uri": "https://localhost:8080/",
          "height": 36
        }
      },
      "source": [
        "tf.__version__"
      ],
      "execution_count": 85,
      "outputs": [
        {
          "output_type": "execute_result",
          "data": {
            "text/plain": [
              "'2.0.0-beta1'"
            ]
          },
          "metadata": {
            "tags": []
          },
          "execution_count": 85
        }
      ]
    },
    {
      "cell_type": "markdown",
      "metadata": {
        "id": "68dWaqrvD8Vg",
        "colab_type": "text"
      },
      "source": [
        "## Autoregressive Model"
      ]
    },
    {
      "cell_type": "markdown",
      "metadata": {
        "id": "abor9R7GE0ht",
        "colab_type": "text"
      },
      "source": [
        "### Synthetic Data"
      ]
    },
    {
      "cell_type": "code",
      "metadata": {
        "id": "3TZhTzvF_n8_",
        "colab_type": "code",
        "colab": {}
      },
      "source": [
        "# synthetic data\n",
        "series = np.sin (0.1*np.arange(200))"
      ],
      "execution_count": 0,
      "outputs": []
    },
    {
      "cell_type": "code",
      "metadata": {
        "id": "hi6nA310D4rY",
        "colab_type": "code",
        "outputId": "3cc095ab-ae0b-4373-b813-4d6938f96b84",
        "colab": {
          "base_uri": "https://localhost:8080/",
          "height": 265
        }
      },
      "source": [
        "plt.plot(series)\n",
        "plt.show()"
      ],
      "execution_count": 87,
      "outputs": [
        {
          "output_type": "display_data",
          "data": {
            "image/png": "[encoded data removed]",
            "text/plain": [
              "<Figure size 432x288 with 1 Axes>"
            ]
          },
          "metadata": {
            "tags": []
          }
        }
      ]
    },
    {
      "cell_type": "code",
      "metadata": {
        "id": "P2qoY-C3EPyn",
        "colab_type": "code",
        "colab": {}
      },
      "source": [
        "shape = series.shape"
      ],
      "execution_count": 0,
      "outputs": []
    },
    {
      "cell_type": "markdown",
      "metadata": {
        "id": "LfjIiwsPxB9-",
        "colab_type": "text"
      },
      "source": [
        ">https://stackoverflow.com/questions/36986815/what-is-the-parameter-max-q-size-used-for-in-model-fit-generator\n",
        "\n",
        ">https://realpython.com/introduction-to-python-generators/\n",
        "\n",
        ">https://machinelearningmastery.com/how-to-use-the-timeseriesgenerator-for-time-series-forecasting-in-keras/"
      ]
    },
    {
      "cell_type": "markdown",
      "metadata": {
        "id": "9BiYmilDInZ9",
        "colab_type": "text"
      },
      "source": [
        "### Data Building (Generator)"
      ]
    },
    {
      "cell_type": "code",
      "metadata": {
        "id": "LlK4iXFaIkMT",
        "colab_type": "code",
        "colab": {}
      },
      "source": [
        "def gen (series, length=10, batch_size=20) :\n",
        "  \n",
        "  while True :\n",
        "      i = np.random.randint (length + 1, len(series)+1)\n",
        "      x = series [i - length - 1 : i-1]\n",
        "      y = series [i]\n",
        "      yield np.asarray (x), np.asarray (y)"
      ],
      "execution_count": 0,
      "outputs": []
    },
    {
      "cell_type": "code",
      "metadata": {
        "id": "A68NgWLkOjri",
        "colab_type": "code",
        "outputId": "cf0eec72-4716-4fa0-a0d4-992c14f07ae9",
        "colab": {
          "base_uri": "https://localhost:8080/",
          "height": 73
        }
      },
      "source": [
        "next (gen(series))\n"
      ],
      "execution_count": 90,
      "outputs": [
        {
          "output_type": "execute_result",
          "data": {
            "text/plain": [
              "(array([-0.35822928, -0.26323179, -0.16560418, -0.0663219 ,  0.03362305,\n",
              "         0.13323204,  0.23150983,  0.32747444,  0.42016704,  0.50866146]),\n",
              " array(0.66956976))"
            ]
          },
          "metadata": {
            "tags": []
          },
          "execution_count": 90
        }
      ]
    },
    {
      "cell_type": "code",
      "metadata": {
        "id": "9bG0lnn98nb3",
        "colab_type": "code",
        "colab": {}
      },
      "source": [
        "time = TimeseriesGenerator (series, series, length=10, shuffle=False, batch_size=20)"
      ],
      "execution_count": 0,
      "outputs": []
    },
    {
      "cell_type": "markdown",
      "metadata": {
        "id": "DaIw4WyO1n8o",
        "colab_type": "text"
      },
      "source": [
        "### Data Building (Non-Generator)"
      ]
    },
    {
      "cell_type": "code",
      "metadata": {
        "id": "bZ3NtWFR1vjd",
        "colab_type": "code",
        "colab": {}
      },
      "source": [
        "# previous timesteps = T\n",
        "T = 10\n",
        "X = []\n",
        "y = []\n",
        "\n",
        "for t in range (len (series) - T) :\n",
        "  y.append (series[t + T])\n",
        "  X.append (series[t:t+T])"
      ],
      "execution_count": 0,
      "outputs": []
    },
    {
      "cell_type": "code",
      "metadata": {
        "id": "s9y2tXFy1vVy",
        "colab_type": "code",
        "colab": {}
      },
      "source": [
        "X = np.asarray (X).reshape (-1, T)\n",
        "y = np.asarray (y)\n",
        "N = len (X)"
      ],
      "execution_count": 0,
      "outputs": []
    },
    {
      "cell_type": "code",
      "metadata": {
        "id": "VPaKpO35347Q",
        "colab_type": "code",
        "colab": {
          "base_uri": "https://localhost:8080/",
          "height": 36
        },
        "outputId": "1ffd1eda-5b83-41b2-974a-6bc8434d674d"
      },
      "source": [
        "cot = np.int (np.floor (N * (2/3)))\n",
        "cot"
      ],
      "execution_count": 94,
      "outputs": [
        {
          "output_type": "execute_result",
          "data": {
            "text/plain": [
              "126"
            ]
          },
          "metadata": {
            "tags": []
          },
          "execution_count": 94
        }
      ]
    },
    {
      "cell_type": "code",
      "metadata": {
        "id": "JXKqqNch5c9_",
        "colab_type": "code",
        "colab": {}
      },
      "source": [
        "X_train = X[:cot]\n",
        "X_test = X[cot:]\n",
        "y_train = y[:cot]\n",
        "y_test = y[cot:]"
      ],
      "execution_count": 0,
      "outputs": []
    },
    {
      "cell_type": "code",
      "metadata": {
        "id": "Qj4M3rff_1jU",
        "colab_type": "code",
        "colab": {}
      },
      "source": [
        "y_test_hat = y[cot-T:]"
      ],
      "execution_count": 0,
      "outputs": []
    },
    {
      "cell_type": "code",
      "metadata": {
        "id": "l1mF9Xk-6SGC",
        "colab_type": "code",
        "colab": {}
      },
      "source": [
        "time_hat = TimeseriesGenerator (y_test_hat, y_test_hat, length=10, shuffle=False, batch_size=20)"
      ],
      "execution_count": 0,
      "outputs": []
    },
    {
      "cell_type": "markdown",
      "metadata": {
        "id": "4MFgZ_7bFBKU",
        "colab_type": "text"
      },
      "source": [
        "### Model Building"
      ]
    },
    {
      "cell_type": "code",
      "metadata": {
        "id": "dvomPGuNFAJf",
        "colab_type": "code",
        "colab": {}
      },
      "source": [
        "i = Input (shape=(10,))"
      ],
      "execution_count": 0,
      "outputs": []
    },
    {
      "cell_type": "code",
      "metadata": {
        "id": "cx-d9dtYE36N",
        "colab_type": "code",
        "colab": {}
      },
      "source": [
        "x = Dense (8, activation='relu')(i)\n",
        "x = Dense (8, activation='relu')(x)\n",
        "x = Dropout (0.5) (x)\n",
        "x = Dense (1)(x)"
      ],
      "execution_count": 0,
      "outputs": []
    },
    {
      "cell_type": "code",
      "metadata": {
        "id": "WY6hKeVUIAKo",
        "colab_type": "code",
        "colab": {}
      },
      "source": [
        "sequence = Model (i, x)"
      ],
      "execution_count": 0,
      "outputs": []
    },
    {
      "cell_type": "code",
      "metadata": {
        "id": "3QapFyJHEpgQ",
        "colab_type": "code",
        "colab": {}
      },
      "source": [
        "sequence.compile (optimizer='adam',\n",
        "                    loss='mse')"
      ],
      "execution_count": 0,
      "outputs": []
    },
    {
      "cell_type": "code",
      "metadata": {
        "id": "p2hcOU0_IFb3",
        "colab_type": "code",
        "colab": {}
      },
      "source": [
        "epochs = 100"
      ],
      "execution_count": 0,
      "outputs": []
    },
    {
      "cell_type": "code",
      "metadata": {
        "id": "EJCOcaulIPmm",
        "colab_type": "code",
        "outputId": "7ef00a84-de9d-43c2-e65d-1211844473ee",
        "colab": {
          "base_uri": "https://localhost:8080/",
          "height": 36
        }
      },
      "source": [
        "sequence.fit_generator (time, steps_per_epoch=100, epochs=epochs, verbose=False)"
      ],
      "execution_count": 102,
      "outputs": [
        {
          "output_type": "execute_result",
          "data": {
            "text/plain": [
              "<tensorflow.python.keras.callbacks.History at 0x7fc95e17b2b0>"
            ]
          },
          "metadata": {
            "tags": []
          },
          "execution_count": 102
        }
      ]
    },
    {
      "cell_type": "code",
      "metadata": {
        "id": "25--qkkR9wlY",
        "colab_type": "code",
        "outputId": "9af65f9d-2a1b-482a-98f6-9bc7ef5cb5af",
        "colab": {
          "base_uri": "https://localhost:8080/",
          "height": 36
        }
      },
      "source": [
        "sequence.evaluate_generator (time)"
      ],
      "execution_count": 110,
      "outputs": [
        {
          "output_type": "execute_result",
          "data": {
            "text/plain": [
              "0.0264655870385468"
            ]
          },
          "metadata": {
            "tags": []
          },
          "execution_count": 110
        }
      ]
    },
    {
      "cell_type": "code",
      "metadata": {
        "id": "wc8XIR_b6qtq",
        "colab_type": "code",
        "colab": {}
      },
      "source": [
        "sequence_n = Model (i, x)"
      ],
      "execution_count": 0,
      "outputs": []
    },
    {
      "cell_type": "code",
      "metadata": {
        "id": "1ftna1rW65u8",
        "colab_type": "code",
        "colab": {}
      },
      "source": [
        "sequence_n.compile (optimizer='adam',\n",
        "                    loss='mse')"
      ],
      "execution_count": 0,
      "outputs": []
    },
    {
      "cell_type": "code",
      "metadata": {
        "id": "wHyfKUzV7K_G",
        "colab_type": "code",
        "colab": {
          "base_uri": "https://localhost:8080/",
          "height": 36
        },
        "outputId": "e53663ce-24a8-49c8-838c-32bba3a040a8"
      },
      "source": [
        "sequence_n.fit (X_train, y_train, epochs=epochs, verbose=False, validation_data=(X_test, y_test))"
      ],
      "execution_count": 113,
      "outputs": [
        {
          "output_type": "execute_result",
          "data": {
            "text/plain": [
              "<tensorflow.python.keras.callbacks.History at 0x7fc95dc90208>"
            ]
          },
          "metadata": {
            "tags": []
          },
          "execution_count": 113
        }
      ]
    },
    {
      "cell_type": "code",
      "metadata": {
        "id": "JQDDITaA7cF9",
        "colab_type": "code",
        "colab": {
          "base_uri": "https://localhost:8080/",
          "height": 54
        },
        "outputId": "6eb97aa9-20df-4627-b3d2-220e08858337"
      },
      "source": [
        "sequence_n.evaluate (X_train, y_train)"
      ],
      "execution_count": 114,
      "outputs": [
        {
          "output_type": "stream",
          "text": [
            "126/126 [==============================] - 0s 283us/sample - loss: 0.0155\n"
          ],
          "name": "stdout"
        },
        {
          "output_type": "execute_result",
          "data": {
            "text/plain": [
              "0.01549683478734796"
            ]
          },
          "metadata": {
            "tags": []
          },
          "execution_count": 114
        }
      ]
    },
    {
      "cell_type": "code",
      "metadata": {
        "id": "XiTBY4cl92Re",
        "colab_type": "code",
        "colab": {
          "base_uri": "https://localhost:8080/",
          "height": 36
        },
        "outputId": "b3f0146f-9cf4-4419-d9b4-ace4c33000f3"
      },
      "source": [
        "sequence.predict_generator (time_hat)[-1][0]"
      ],
      "execution_count": 124,
      "outputs": [
        {
          "output_type": "execute_result",
          "data": {
            "text/plain": [
              "0.7295056"
            ]
          },
          "metadata": {
            "tags": []
          },
          "execution_count": 124
        }
      ]
    },
    {
      "cell_type": "code",
      "metadata": {
        "id": "9FoorZF48dWZ",
        "colab_type": "code",
        "colab": {}
      },
      "source": [
        "from_gen = sequence.predict_generator (time_hat)"
      ],
      "execution_count": 0,
      "outputs": []
    },
    {
      "cell_type": "code",
      "metadata": {
        "id": "HqRFN9om8piZ",
        "colab_type": "code",
        "colab": {
          "base_uri": "https://localhost:8080/",
          "height": 36
        },
        "outputId": "567d632a-9664-429c-c609-a8c0fb9a358b"
      },
      "source": [
        "type (series)"
      ],
      "execution_count": 127,
      "outputs": [
        {
          "output_type": "execute_result",
          "data": {
            "text/plain": [
              "numpy.ndarray"
            ]
          },
          "metadata": {
            "tags": []
          },
          "execution_count": 127
        }
      ]
    },
    {
      "cell_type": "code",
      "metadata": {
        "id": "miy4cy4J6k1s",
        "colab_type": "code",
        "colab": {
          "base_uri": "https://localhost:8080/",
          "height": 36
        },
        "outputId": "33774c12-1d1a-435d-a129-73bd2567e044"
      },
      "source": [
        "y_test[-1]"
      ],
      "execution_count": 129,
      "outputs": [
        {
          "output_type": "execute_result",
          "data": {
            "text/plain": [
              "0.8676441006416691"
            ]
          },
          "metadata": {
            "tags": []
          },
          "execution_count": 129
        }
      ]
    },
    {
      "cell_type": "code",
      "metadata": {
        "id": "xyeRJ2DS7o6U",
        "colab_type": "code",
        "colab": {
          "base_uri": "https://localhost:8080/",
          "height": 36
        },
        "outputId": "2112b60a-2b70-4ef8-d098-a0ea00869099"
      },
      "source": [
        "sequence_n.predict (X_test) [-1][0]"
      ],
      "execution_count": 130,
      "outputs": [
        {
          "output_type": "execute_result",
          "data": {
            "text/plain": [
              "0.72950554"
            ]
          },
          "metadata": {
            "tags": []
          },
          "execution_count": 130
        }
      ]
    },
    {
      "cell_type": "code",
      "metadata": {
        "id": "7vxxcF-p9By7",
        "colab_type": "code",
        "colab": {}
      },
      "source": [
        "from_data = sequence_n.predict (X_test)"
      ],
      "execution_count": 0,
      "outputs": []
    },
    {
      "cell_type": "markdown",
      "metadata": {
        "id": "A3SKExT98HQj",
        "colab_type": "text"
      },
      "source": [
        "### Graph"
      ]
    },
    {
      "cell_type": "code",
      "metadata": {
        "id": "jQIPxhzf8JaS",
        "colab_type": "code",
        "colab": {
          "base_uri": "https://localhost:8080/",
          "height": 265
        },
        "outputId": "12fcf468-c702-48bf-8b78-df94f180a9d4"
      },
      "source": [
        "plt.plot(y_test, color='#ff474c', label='Real')\n",
        "plt.plot(from_gen, color='#95d0fc', label='Generator')\n",
        "plt.plot(from_data, color='#76ff7b', label='Split')\n",
        "plt.legend(bbox_to_anchor=(1.05, 1), loc='upper left', borderaxespad=0.)\n",
        "plt.show()"
      ],
      "execution_count": 132,
      "outputs": [
        {
          "output_type": "display_data",
          "data": {
            "image/png": "[encoded data removed]",
            "text/plain": [
              "<Figure size 432x288 with 1 Axes>"
            ]
          },
          "metadata": {
            "tags": []
          }
        }
      ]
    },
    {
      "cell_type": "markdown",
      "metadata": {
        "id": "Xw1bqIgZ-qhB",
        "colab_type": "text"
      },
      "source": [
        "### Observations\n",
        "\n",
        "1.   Tested and graphed (Generated vs Split Data for RNN)\n",
        "2.   From this simple test, I would conclude that data splitting is a more accurate in predicting the sine wave pattern. As Split (green) is closer to the actual sine wave (red)\n",
        "3.   Both implementations still followed the Sine wave pattern.\n",
        "4.   I believe I may have implemented the test generation incorrectly, the leftward shift is probably due to the my excluding ten items at the start.\n",
        "5.   After correcting implemenentation, Generator data is exactly matching the Split data. No superior data set, difference only arises from feasibility.\n",
        "\n"
      ]
    }
  ]
}