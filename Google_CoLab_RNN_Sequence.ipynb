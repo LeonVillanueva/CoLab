{
  "nbformat": 4,
  "nbformat_minor": 0,
  "metadata": {
    "colab": {
      "name": "Google_CoLab_RNN_Sequence.ipynb",
      "provenance": [],
      "collapsed_sections": [
        "QB1X6Gk7E6C2"
      ],
      "include_colab_link": true
    },
    "kernelspec": {
      "name": "python3",
      "display_name": "Python 3"
    }
  },
  "cells": [
    {
      "cell_type": "markdown",
      "metadata": {
        "id": "view-in-github",
        "colab_type": "text"
      },
      "source": [
        "<a href=\"https://colab.research.google.com/github/LeonVillanueva/CoLab/blob/master/Google_CoLab_RNN_Sequence.ipynb\" target=\"_parent\"><img src=\"https://colab.research.google.com/assets/colab-badge.svg\" alt=\"Open In Colab\"/></a>"
      ]
    },
    {
      "cell_type": "markdown",
      "metadata": {
        "id": "TmEfq2GG_CrN",
        "colab_type": "text"
      },
      "source": [
        "# **Sequence Models**"
      ]
    },
    {
      "cell_type": "markdown",
      "metadata": {
        "id": "QB1X6Gk7E6C2",
        "colab_type": "text"
      },
      "source": [
        "### Importing Libraries"
      ]
    },
    {
      "cell_type": "code",
      "metadata": {
        "id": "xD9XlA8B-_y2",
        "colab_type": "code",
        "colab": {
          "base_uri": "https://localhost:8080/",
          "height": 73
        },
        "outputId": "789a4e63-a973-407e-ea92-b3924556c44d"
      },
      "source": [
        "!pip install -q tensorflow==2.0.0-beta1"
      ],
      "execution_count": 1,
      "outputs": [
        {
          "output_type": "stream",
          "text": [
            "\u001b[K     |████████████████████████████████| 87.9MB 57kB/s \n",
            "\u001b[K     |████████████████████████████████| 501kB 50.9MB/s \n",
            "\u001b[K     |████████████████████████████████| 3.1MB 44.1MB/s \n",
            "\u001b[?25h"
          ],
          "name": "stdout"
        }
      ]
    },
    {
      "cell_type": "code",
      "metadata": {
        "id": "qD5cDZMk_NMS",
        "colab_type": "code",
        "colab": {}
      },
      "source": [
        "%%capture\n",
        "import numpy as np\n",
        "import matplotlib.pyplot as plt\n",
        "import pandas as pd\n",
        "import tensorflow as tf\n",
        "import seaborn as sns"
      ],
      "execution_count": 0,
      "outputs": []
    },
    {
      "cell_type": "code",
      "metadata": {
        "id": "wE3crdP3_Qcc",
        "colab_type": "code",
        "colab": {}
      },
      "source": [
        "from sklearn.model_selection import train_test_split\n",
        "from sklearn.preprocessing import StandardScaler"
      ],
      "execution_count": 0,
      "outputs": []
    },
    {
      "cell_type": "code",
      "metadata": {
        "id": "9dKExEg__TcA",
        "colab_type": "code",
        "colab": {}
      },
      "source": [
        "from tensorflow.keras.layers import Input, Conv2D, Dense, Flatten, Dropout, GlobalMaxPooling2D, GaussianNoise, BatchNormalization, MaxPooling2D\n",
        "from tensorflow.keras.models import Model\n",
        "from tensorflow.keras.preprocessing.image import ImageDataGenerator"
      ],
      "execution_count": 0,
      "outputs": []
    },
    {
      "cell_type": "code",
      "metadata": {
        "id": "XlNToMam_kjX",
        "colab_type": "code",
        "colab": {
          "base_uri": "https://localhost:8080/",
          "height": 36
        },
        "outputId": "7759f631-564e-4ac9-e456-4595aa80281a"
      },
      "source": [
        "tf.__version__"
      ],
      "execution_count": 8,
      "outputs": [
        {
          "output_type": "execute_result",
          "data": {
            "text/plain": [
              "'2.0.0-beta1'"
            ]
          },
          "metadata": {
            "tags": []
          },
          "execution_count": 8
        }
      ]
    },
    {
      "cell_type": "markdown",
      "metadata": {
        "id": "68dWaqrvD8Vg",
        "colab_type": "text"
      },
      "source": [
        "## Autoregressive Model"
      ]
    },
    {
      "cell_type": "markdown",
      "metadata": {
        "id": "abor9R7GE0ht",
        "colab_type": "text"
      },
      "source": [
        "### Synthetic Data"
      ]
    },
    {
      "cell_type": "code",
      "metadata": {
        "id": "3TZhTzvF_n8_",
        "colab_type": "code",
        "colab": {}
      },
      "source": [
        "# synthetic data\n",
        "series = np.sin (0.1*np.arange(200))"
      ],
      "execution_count": 0,
      "outputs": []
    },
    {
      "cell_type": "code",
      "metadata": {
        "id": "hi6nA310D4rY",
        "colab_type": "code",
        "colab": {
          "base_uri": "https://localhost:8080/",
          "height": 265
        },
        "outputId": "bd55a117-268e-4743-ea9d-09b50729a55d"
      },
      "source": [
        "plt.plot(series)\n",
        "plt.show()"
      ],
      "execution_count": 11,
      "outputs": [
        {
          "output_type": "display_data",
          "data": {
            "image/png": "[encoded data removed]",
            "text/plain": [
              "<Figure size 432x288 with 1 Axes>"
            ]
          },
          "metadata": {
            "tags": []
          }
        }
      ]
    },
    {
      "cell_type": "code",
      "metadata": {
        "id": "P2qoY-C3EPyn",
        "colab_type": "code",
        "colab": {}
      },
      "source": [
        "shape = series.shape"
      ],
      "execution_count": 0,
      "outputs": []
    },
    {
      "cell_type": "markdown",
      "metadata": {
        "id": "9BiYmilDInZ9",
        "colab_type": "text"
      },
      "source": [
        "### Build a Generator"
      ]
    },
    {
      "cell_type": "code",
      "metadata": {
        "id": "lYfIGJDUOHKH",
        "colab_type": "code",
        "colab": {}
      },
      "source": [
        ""
      ],
      "execution_count": 0,
      "outputs": []
    },
    {
      "cell_type": "code",
      "metadata": {
        "id": "LlK4iXFaIkMT",
        "colab_type": "code",
        "colab": {}
      },
      "source": [
        "def gen (series, size=10) :\n",
        "  i = np.random.randint (size + 1, len(series)+1)\n",
        "  x = series [i - size - 1 : i-1]\n",
        "  y = series [i]\n",
        "  return x, y"
      ],
      "execution_count": 0,
      "outputs": []
    },
    {
      "cell_type": "code",
      "metadata": {
        "id": "A68NgWLkOjri",
        "colab_type": "code",
        "colab": {
          "base_uri": "https://localhost:8080/",
          "height": 73
        },
        "outputId": "76bd4013-f9ee-426b-9518-3bb39c2a5d63"
      },
      "source": [
        "gen (series)"
      ],
      "execution_count": 43,
      "outputs": [
        {
          "output_type": "execute_result",
          "data": {
            "text/plain": [
              "(array([0.98935825, 0.96988981, 0.94073056, 0.90217183, 0.85459891,\n",
              "        0.79848711, 0.7343971 , 0.66296923, 0.58491719, 0.50102086]),\n",
              " 0.3190983623493521)"
            ]
          },
          "metadata": {
            "tags": []
          },
          "execution_count": 43
        }
      ]
    },
    {
      "cell_type": "markdown",
      "metadata": {
        "id": "4MFgZ_7bFBKU",
        "colab_type": "text"
      },
      "source": [
        "### Model Building"
      ]
    },
    {
      "cell_type": "code",
      "metadata": {
        "id": "dvomPGuNFAJf",
        "colab_type": "code",
        "colab": {}
      },
      "source": [
        "i = Input (shape=(10,))"
      ],
      "execution_count": 0,
      "outputs": []
    },
    {
      "cell_type": "code",
      "metadata": {
        "id": "cx-d9dtYE36N",
        "colab_type": "code",
        "colab": {}
      },
      "source": [
        "x = Dense (8, activation='relu')(i)\n",
        "x = Dense (8, activation='relu')(x)\n",
        "x = Dropout (0.5) (x)\n",
        "x = Dense (1, activation='relu')(x)"
      ],
      "execution_count": 0,
      "outputs": []
    },
    {
      "cell_type": "code",
      "metadata": {
        "id": "WY6hKeVUIAKo",
        "colab_type": "code",
        "colab": {}
      },
      "source": [
        "sequence = Model (i, x)"
      ],
      "execution_count": 0,
      "outputs": []
    },
    {
      "cell_type": "code",
      "metadata": {
        "id": "3QapFyJHEpgQ",
        "colab_type": "code",
        "colab": {}
      },
      "source": [
        "sequence.compile (optimizer='adam',\n",
        "                    loss='binary_crossentropy',\n",
        "                    metrics=['accuracy'])"
      ],
      "execution_count": 0,
      "outputs": []
    },
    {
      "cell_type": "code",
      "metadata": {
        "id": "p2hcOU0_IFb3",
        "colab_type": "code",
        "colab": {}
      },
      "source": [
        "epochs = 10"
      ],
      "execution_count": 0,
      "outputs": []
    },
    {
      "cell_type": "code",
      "metadata": {
        "id": "EJCOcaulIPmm",
        "colab_type": "code",
        "colab": {}
      },
      "source": [
        ""
      ],
      "execution_count": 0,
      "outputs": []
    }
  ]
}