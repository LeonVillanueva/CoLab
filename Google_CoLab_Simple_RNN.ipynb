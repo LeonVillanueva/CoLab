{
  "nbformat": 4,
  "nbformat_minor": 0,
  "metadata": {
    "colab": {
      "name": "Google_CoLab_Simple_RNN.ipynb",
      "provenance": [],
      "authorship_tag": "ABX9TyNjP7Ko5FgAQn7b23vigBJ+",
      "include_colab_link": true
    },
    "kernelspec": {
      "name": "python3",
      "display_name": "Python 3"
    }
  },
  "cells": [
    {
      "cell_type": "markdown",
      "metadata": {
        "id": "view-in-github",
        "colab_type": "text"
      },
      "source": [
        "<a href=\"https://colab.research.google.com/github/LeonVillanueva/CoLab/blob/master/Google_CoLab_Simple_RNN.ipynb\" target=\"_parent\"><img src=\"https://colab.research.google.com/assets/colab-badge.svg\" alt=\"Open In Colab\"/></a>"
      ]
    },
    {
      "cell_type": "code",
      "metadata": {
        "id": "hJKNO5ZjqZQT",
        "colab_type": "code",
        "colab": {}
      },
      "source": [
        "!pip install -q tensorflow==2.0.0"
      ],
      "execution_count": 0,
      "outputs": []
    },
    {
      "cell_type": "code",
      "metadata": {
        "id": "Wqp1wnzE0GRJ",
        "colab_type": "code",
        "colab": {}
      },
      "source": [
        "from sklearn.model_selection import train_test_split\n",
        "from sklearn.preprocessing import StandardScaler"
      ],
      "execution_count": 0,
      "outputs": []
    },
    {
      "cell_type": "code",
      "metadata": {
        "id": "PrVQpAWm0Kw_",
        "colab_type": "code",
        "colab": {}
      },
      "source": [
        "import numpy as np\n",
        "import matplotlib.pyplot as plt\n",
        "import pandas as pd\n",
        "import tensorflow as tf"
      ],
      "execution_count": 0,
      "outputs": []
    },
    {
      "cell_type": "code",
      "metadata": {
        "id": "BxfjvRsd0PIP",
        "colab_type": "code",
        "colab": {}
      },
      "source": [
        "from keras.layers import Input, LSTM, GRU\n",
        "from keras.models import Model"
      ],
      "execution_count": 0,
      "outputs": []
    },
    {
      "cell_type": "code",
      "metadata": {
        "id": "skeynCv00gjv",
        "colab_type": "code",
        "colab": {}
      },
      "source": [
        "# always understand the shape"
      ],
      "execution_count": 0,
      "outputs": []
    },
    {
      "cell_type": "code",
      "metadata": {
        "id": "GtNDsf55A-lE",
        "colab_type": "code",
        "colab": {}
      },
      "source": [
        "T, D, M = 8, 2, 3 # sequence/time, dimension/factors, nodes"
      ],
      "execution_count": 0,
      "outputs": []
    },
    {
      "cell_type": "code",
      "metadata": {
        "id": "Bq7RMLKCBDBE",
        "colab_type": "code",
        "colab": {}
      },
      "source": [
        "def my_lstm ():\n",
        "  input = Input (shape(T,D)) \n",
        "  rnn = LSTM (M, return_state=True)\n",
        "  x = rnn (input_)\n",
        "\n",
        "  model = Model (inputs=input_, outputs=x)\n",
        "  o, h, c = model.predict(X)\n",
        "\n",
        "  print ('o: ',o)\n",
        "  print ('h: ',h)\n",
        "  print ('c: ',c)"
      ],
      "execution_count": 0,
      "outputs": []
    }
  ]
}