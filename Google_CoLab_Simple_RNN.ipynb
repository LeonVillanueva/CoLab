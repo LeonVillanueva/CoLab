{
  "nbformat": 4,
  "nbformat_minor": 0,
  "metadata": {
    "colab": {
      "name": "Google_CoLab_Simple_RNN.ipynb",
      "provenance": [],
      "authorship_tag": "ABX9TyM18EkMswvXVowIijM0d0Ja",
      "include_colab_link": true
    },
    "kernelspec": {
      "name": "python3",
      "display_name": "Python 3"
    }
  },
  "cells": [
    {
      "cell_type": "markdown",
      "metadata": {
        "id": "view-in-github",
        "colab_type": "text"
      },
      "source": [
        "<a href=\"https://colab.research.google.com/github/LeonVillanueva/CoLab/blob/master/Google_CoLab_Simple_RNN.ipynb\" target=\"_parent\"><img src=\"https://colab.research.google.com/assets/colab-badge.svg\" alt=\"Open In Colab\"/></a>"
      ]
    },
    {
      "cell_type": "code",
      "metadata": {
        "id": "hJKNO5ZjqZQT",
        "colab_type": "code",
        "colab": {}
      },
      "source": [
        "!pip install -q tensorflow==2.0.0-beta-1"
      ],
      "execution_count": 0,
      "outputs": []
    },
    {
      "cell_type": "code",
      "metadata": {
        "id": "Wqp1wnzE0GRJ",
        "colab_type": "code",
        "colab": {}
      },
      "source": [
        "from sklearn.model_selection import train_test_split\n",
        "from sklearn.preprocessing import StandardScaler"
      ],
      "execution_count": 0,
      "outputs": []
    },
    {
      "cell_type": "code",
      "metadata": {
        "id": "PrVQpAWm0Kw_",
        "colab_type": "code",
        "colab": {}
      },
      "source": [
        "%%capture\n",
        "\n",
        "import numpy as np\n",
        "import matplotlib.pyplot as plt\n",
        "import pandas as pd\n",
        "import tensorflow as tf"
      ],
      "execution_count": 0,
      "outputs": []
    },
    {
      "cell_type": "code",
      "metadata": {
        "id": "BxfjvRsd0PIP",
        "colab_type": "code",
        "colab": {}
      },
      "source": [
        "from tensorflow.keras.layers import InputLayer, LSTM, GRU, Input\n",
        "from tensorflow.keras.models import Model"
      ],
      "execution_count": 0,
      "outputs": []
    },
    {
      "cell_type": "code",
      "metadata": {
        "id": "skeynCv00gjv",
        "colab_type": "code",
        "colab": {}
      },
      "source": [
        "# always understand the shape"
      ],
      "execution_count": 0,
      "outputs": []
    },
    {
      "cell_type": "code",
      "metadata": {
        "id": "GtNDsf55A-lE",
        "colab_type": "code",
        "colab": {}
      },
      "source": [
        "T, D, M = 8, 2, 3 # sequence/time, dimension/factors, nodes\n",
        "\n",
        "X = np.random.randn(1, T, D)"
      ],
      "execution_count": 0,
      "outputs": []
    },
    {
      "cell_type": "code",
      "metadata": {
        "id": "Bq7RMLKCBDBE",
        "colab_type": "code",
        "colab": {}
      },
      "source": [
        "def my_lstm ():\n",
        "  input = Input (shape=(T,D)) \n",
        "  rnn = LSTM (M, return_state=True)\n",
        "  x = rnn (input)\n",
        "\n",
        "  model = Model (inputs=input, outputs=x)\n",
        "  o, h, c = model.predict(X)\n",
        "\n",
        "  print ('o: ',o)\n",
        "  print ('h: ',h)\n",
        "  print ('c: ',c)"
      ],
      "execution_count": 0,
      "outputs": []
    },
    {
      "cell_type": "code",
      "metadata": {
        "id": "yAs31ssLCDgM",
        "colab_type": "code",
        "colab": {}
      },
      "source": [
        "def my_lstm2 ():\n",
        "  input = Input (shape=(T,D)) \n",
        "  rnn = LSTM (M, return_state=True, return_sequences=True)\n",
        "  x = rnn (input)\n",
        "\n",
        "  model = Model (inputs=input, outputs=x)\n",
        "  o, h, c = model.predict(X)\n",
        "\n",
        "  print ('o: ',o)\n",
        "  print ('h: ',h)\n",
        "  print ('c: ',c)"
      ],
      "execution_count": 0,
      "outputs": []
    },
    {
      "cell_type": "code",
      "metadata": {
        "id": "g6siZkV6CMoA",
        "colab_type": "code",
        "colab": {}
      },
      "source": [
        "def my_gru ():\n",
        "  input = Input (shape=(T,D)) \n",
        "  rnn = GRU (M, return_state=True)\n",
        "  x = rnn (input)\n",
        "\n",
        "  model = Model (inputs=input, outputs=x)\n",
        "  o, h = model.predict(X)\n",
        "\n",
        "  print ('o: ',o)\n",
        "  print ('h: ',h)"
      ],
      "execution_count": 0,
      "outputs": []
    },
    {
      "cell_type": "code",
      "metadata": {
        "id": "woRoqthBCRRg",
        "colab_type": "code",
        "colab": {}
      },
      "source": [
        "def my_gru2 ():\n",
        "  input = Input (shape=(T,D)) \n",
        "  rnn = GRU (M, return_state=True, return_sequences=True)\n",
        "  x = rnn (input)\n",
        "\n",
        "  model = Model (inputs=input, outputs=x)\n",
        "  o, h = model.predict(X)\n",
        "\n",
        "  print ('o: ',o)\n",
        "  print ('h: ',h)"
      ],
      "execution_count": 0,
      "outputs": []
    },
    {
      "cell_type": "code",
      "metadata": {
        "id": "PlDcnWSaM_OO",
        "colab_type": "code",
        "colab": {
          "base_uri": "https://localhost:8080/",
          "height": 68
        },
        "outputId": "8797fcc3-6099-454e-8c7e-26711dddbfaa"
      },
      "source": [
        "my_lstm ()"
      ],
      "execution_count": 80,
      "outputs": [
        {
          "output_type": "stream",
          "text": [
            "o:  [[-0.09858694 -0.12637061 -0.21457583]]\n",
            "h:  [[-0.09858694 -0.12637061 -0.21457583]]\n",
            "c:  [[-0.21308123 -0.30408397 -0.49650297]]\n"
          ],
          "name": "stdout"
        }
      ]
    },
    {
      "cell_type": "code",
      "metadata": {
        "id": "mjvYeGaSONB9",
        "colab_type": "code",
        "colab": {
          "base_uri": "https://localhost:8080/",
          "height": 187
        },
        "outputId": "3f15e616-e6bd-4e05-b081-3692ce321980"
      },
      "source": [
        "my_lstm2 ()"
      ],
      "execution_count": 82,
      "outputs": [
        {
          "output_type": "stream",
          "text": [
            "o:  [[[-0.1182261   0.13689746 -0.3003321 ]\n",
            "  [-0.17729257 -0.0577657  -0.01484796]\n",
            "  [ 0.00560337 -0.10245261  0.13659197]\n",
            "  [-0.16149825 -0.01220332 -0.12295623]\n",
            "  [-0.1598244  -0.01566353  0.0044998 ]\n",
            "  [-0.01283682 -0.09276518  0.14958733]\n",
            "  [-0.12793627 -0.04178969 -0.02982881]\n",
            "  [-0.14782223 -0.01416569 -0.02439476]]]\n",
            "h:  [[-0.14782223 -0.01416569 -0.02439476]]\n",
            "c:  [[-0.3298971  -0.03018496 -0.04893108]]\n"
          ],
          "name": "stdout"
        }
      ]
    },
    {
      "cell_type": "code",
      "metadata": {
        "id": "IJBBoQlWOeY0",
        "colab_type": "code",
        "colab": {
          "base_uri": "https://localhost:8080/",
          "height": 51
        },
        "outputId": "6e87af22-8e10-4785-e167-52cd422b26c8"
      },
      "source": [
        "my_gru ()"
      ],
      "execution_count": 83,
      "outputs": [
        {
          "output_type": "stream",
          "text": [
            "o:  [[ 0.16826515 -0.3128994   0.31435627]]\n",
            "h:  [[ 0.16826515 -0.3128994   0.31435627]]\n"
          ],
          "name": "stdout"
        }
      ]
    },
    {
      "cell_type": "code",
      "metadata": {
        "id": "9bkeO1XOOhgE",
        "colab_type": "code",
        "colab": {
          "base_uri": "https://localhost:8080/",
          "height": 170
        },
        "outputId": "e779a151-0385-4be4-97af-6aa51c08e37b"
      },
      "source": [
        "my_gru2 ()"
      ],
      "execution_count": 84,
      "outputs": [
        {
          "output_type": "stream",
          "text": [
            "o:  [[[-0.07858571  0.01696644  0.81793785]\n",
            "  [-0.23714423 -0.63776696  0.49423644]\n",
            "  [-0.31025308 -0.68709165  0.1260936 ]\n",
            "  [ 0.22029148 -0.49407932  0.5859366 ]\n",
            "  [-0.0141228  -0.40737993 -0.02373932]\n",
            "  [-0.10959917 -0.6325676  -0.20704135]\n",
            "  [ 0.11533076 -0.32929933  0.24530663]\n",
            "  [-0.05230639 -0.19762248  0.03746351]]]\n",
            "h:  [[-0.05230639 -0.19762248  0.03746351]]\n"
          ],
          "name": "stdout"
        }
      ]
    },
    {
      "cell_type": "code",
      "metadata": {
        "id": "4dsAegogOizk",
        "colab_type": "code",
        "colab": {}
      },
      "source": [
        ""
      ],
      "execution_count": 0,
      "outputs": []
    }
  ]
}