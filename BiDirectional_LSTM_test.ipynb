{
  "nbformat": 4,
  "nbformat_minor": 0,
  "metadata": {
    "colab": {
      "name": "BiDirectional_LSTM_test.ipynb",
      "provenance": [],
      "authorship_tag": "ABX9TyMidM9lICXVqxXsYqmGKWWS",
      "include_colab_link": true
    },
    "kernelspec": {
      "name": "python3",
      "display_name": "Python 3"
    }
  },
  "cells": [
    {
      "cell_type": "markdown",
      "metadata": {
        "id": "view-in-github",
        "colab_type": "text"
      },
      "source": [
        "<a href=\"https://colab.research.google.com/github/LeonVillanueva/CoLab/blob/master/BiDirectional_LSTM_test.ipynb\" target=\"_parent\"><img src=\"https://colab.research.google.com/assets/colab-badge.svg\" alt=\"Open In Colab\"/></a>"
      ]
    },
    {
      "cell_type": "code",
      "metadata": {
        "colab": {
          "base_uri": "https://localhost:8080/"
        },
        "id": "clmbfDMUclBT",
        "outputId": "943486c3-1139-4445-afef-b2491a0758fb"
      },
      "source": [
        "# https://deeplearningcourses.com/c/deep-learning-advanced-nlp\r\n",
        "from __future__ import print_function, division\r\n",
        "from builtins import range, input\r\n",
        "# Note: you may need to update your version of future\r\n",
        "# sudo pip install -U future\r\n",
        "\r\n",
        "from keras.models import Model\r\n",
        "from keras.layers import Input, LSTM, GRU, Bidirectional\r\n",
        "import numpy as np\r\n",
        "import matplotlib.pyplot as plt\r\n",
        "\r\n",
        "try:\r\n",
        "  import keras.backend as K\r\n",
        "  if len(K.tensorflow_backend._get_available_gpus()) > 0:\r\n",
        "    from keras.layers import CuDNNLSTM as LSTM\r\n",
        "    from keras.layers import CuDNNGRU as GRU\r\n",
        "except:\r\n",
        "  pass\r\n",
        "\r\n",
        "\r\n",
        "T = 8\r\n",
        "D = 2\r\n",
        "M = 3\r\n",
        "\r\n",
        "\r\n",
        "X = np.random.randn(1, T, D)\r\n",
        "\r\n",
        "\r\n",
        "input_ = Input(shape=(T, D))\r\n",
        "# rnn = Bidirectional(LSTM(M, return_state=True, return_sequences=True))\r\n",
        "rnn = Bidirectional(LSTM(M, return_state=True, return_sequences=False))\r\n",
        "x = rnn(input_)\r\n",
        "\r\n",
        "model = Model(inputs=input_, outputs=x)\r\n",
        "o, h1, c1, h2, c2 = model.predict(X)\r\n",
        "print(\"o:\", o)\r\n",
        "print(\"o.shape:\", o.shape)\r\n",
        "print(\"h1:\", h1)\r\n",
        "print(\"c1:\", c1)\r\n",
        "print(\"h2:\", h2)\r\n",
        "print(\"c2:\", c2)"
      ],
      "execution_count": 1,
      "outputs": [
        {
          "output_type": "stream",
          "text": [
            "o: [[ 0.38981655 -0.28675368 -0.28743696 -0.0487529   0.05282316 -0.16420059]]\n",
            "o.shape: (1, 6)\n",
            "h1: [[ 0.38981655 -0.28675368 -0.28743696]]\n",
            "c1: [[ 0.73298645 -0.9649924  -0.5098853 ]]\n",
            "h2: [[-0.0487529   0.05282316 -0.16420059]]\n",
            "c2: [[-0.09556133  0.1109786  -0.30491722]]\n"
          ],
          "name": "stdout"
        }
      ]
    },
    {
      "cell_type": "code",
      "metadata": {
        "colab": {
          "base_uri": "https://localhost:8080/",
          "height": 229
        },
        "id": "mbqjOTFec6z6",
        "outputId": "72c2399d-2738-43bc-cc22-ba22855b8582"
      },
      "source": [
        "input_ = Input(shape=(T, D))\r\n",
        "# rnn = Bidirectional(LSTM(M, return_state=True, return_sequences=True))\r\n",
        "rnn = Bidirectional(LSTM(M, return_state=False, return_sequences=False))\r\n",
        "x = rnn(input_)\r\n",
        "\r\n",
        "model = Model(inputs=input_, outputs=x)\r\n",
        "o, h1, c1, h2, c2 = model.predict(X)\r\n",
        "print(\"o:\", o)\r\n",
        "print(\"o.shape:\", o.shape)\r\n",
        "print(\"h1:\", h1)\r\n",
        "print(\"c1:\", c1)\r\n",
        "print(\"h2:\", h2)\r\n",
        "print(\"c2:\", c2)"
      ],
      "execution_count": 2,
      "outputs": [
        {
          "output_type": "error",
          "ename": "ValueError",
          "evalue": "ignored",
          "traceback": [
            "\u001b[0;31m---------------------------------------------------------------------------\u001b[0m",
            "\u001b[0;31mValueError\u001b[0m                                Traceback (most recent call last)",
            "\u001b[0;32m<ipython-input-2-4f815b292bcd>\u001b[0m in \u001b[0;36m<module>\u001b[0;34m()\u001b[0m\n\u001b[1;32m      5\u001b[0m \u001b[0;34m\u001b[0m\u001b[0m\n\u001b[1;32m      6\u001b[0m \u001b[0mmodel\u001b[0m \u001b[0;34m=\u001b[0m \u001b[0mModel\u001b[0m\u001b[0;34m(\u001b[0m\u001b[0minputs\u001b[0m\u001b[0;34m=\u001b[0m\u001b[0minput_\u001b[0m\u001b[0;34m,\u001b[0m \u001b[0moutputs\u001b[0m\u001b[0;34m=\u001b[0m\u001b[0mx\u001b[0m\u001b[0;34m)\u001b[0m\u001b[0;34m\u001b[0m\u001b[0;34m\u001b[0m\u001b[0m\n\u001b[0;32m----> 7\u001b[0;31m \u001b[0mo\u001b[0m\u001b[0;34m,\u001b[0m \u001b[0mh1\u001b[0m\u001b[0;34m,\u001b[0m \u001b[0mc1\u001b[0m\u001b[0;34m,\u001b[0m \u001b[0mh2\u001b[0m\u001b[0;34m,\u001b[0m \u001b[0mc2\u001b[0m \u001b[0;34m=\u001b[0m \u001b[0mmodel\u001b[0m\u001b[0;34m.\u001b[0m\u001b[0mpredict\u001b[0m\u001b[0;34m(\u001b[0m\u001b[0mX\u001b[0m\u001b[0;34m)\u001b[0m\u001b[0;34m\u001b[0m\u001b[0;34m\u001b[0m\u001b[0m\n\u001b[0m\u001b[1;32m      8\u001b[0m \u001b[0mprint\u001b[0m\u001b[0;34m(\u001b[0m\u001b[0;34m\"o:\"\u001b[0m\u001b[0;34m,\u001b[0m \u001b[0mo\u001b[0m\u001b[0;34m)\u001b[0m\u001b[0;34m\u001b[0m\u001b[0;34m\u001b[0m\u001b[0m\n\u001b[1;32m      9\u001b[0m \u001b[0mprint\u001b[0m\u001b[0;34m(\u001b[0m\u001b[0;34m\"o.shape:\"\u001b[0m\u001b[0;34m,\u001b[0m \u001b[0mo\u001b[0m\u001b[0;34m.\u001b[0m\u001b[0mshape\u001b[0m\u001b[0;34m)\u001b[0m\u001b[0;34m\u001b[0m\u001b[0;34m\u001b[0m\u001b[0m\n",
            "\u001b[0;31mValueError\u001b[0m: not enough values to unpack (expected 5, got 1)"
          ]
        }
      ]
    },
    {
      "cell_type": "code",
      "metadata": {
        "colab": {
          "base_uri": "https://localhost:8080/"
        },
        "id": "ZA-TBwFQdALn",
        "outputId": "1af1c50e-d5e2-4106-cd93-2d1f502e3443"
      },
      "source": [
        "input_ = Input(shape=(T, D))\r\n",
        "# rnn = Bidirectional(LSTM(M, return_state=True, return_sequences=True))\r\n",
        "rnn = Bidirectional(LSTM(M, return_state=True, return_sequences=True))\r\n",
        "x = rnn(input_)\r\n",
        "\r\n",
        "model = Model(inputs=input_, outputs=x)\r\n",
        "o, h1, c1, h2, c2 = model.predict(X)\r\n",
        "print(\"o:\", o)\r\n",
        "print(\"o.shape:\", o.shape)\r\n",
        "print(\"h1:\", h1)\r\n",
        "print(\"c1:\", c1)\r\n",
        "print(\"h2:\", h2)\r\n",
        "print(\"c2:\", c2)"
      ],
      "execution_count": 3,
      "outputs": [
        {
          "output_type": "stream",
          "text": [
            "o: [[[-5.6939553e-02  3.0707326e-02  9.5357466e-03 -1.2221542e-01\n",
            "   -1.6997999e-01 -1.7683618e-01]\n",
            "  [ 1.1184611e-02  6.3357949e-02 -1.1061962e-02 -1.8534935e-01\n",
            "   -3.1814182e-01 -2.0512073e-01]\n",
            "  [ 3.3977736e-02 -6.3901909e-02 -1.3359304e-02 -1.0683575e-01\n",
            "   -5.3240442e-01 -1.2411313e-01]\n",
            "  [-7.4076734e-02  1.6378609e-02 -2.5027802e-03  1.2297176e-02\n",
            "   -1.5436460e-01  4.6201766e-02]\n",
            "  [-7.6175493e-04 -7.4471205e-02 -2.3245717e-04 -2.8271934e-02\n",
            "   -5.1749718e-01 -9.9775590e-02]\n",
            "  [-1.0947303e-01 -3.3607908e-02  5.0747279e-02  3.4500021e-02\n",
            "   -9.8256148e-02  2.6469117e-02]\n",
            "  [-2.5131339e-02 -5.8549806e-02  2.4813537e-02 -3.4153055e-02\n",
            "   -2.9694232e-01 -1.0235178e-01]\n",
            "  [-2.6554650e-02 -9.2743151e-02  4.9203899e-02  4.0019780e-02\n",
            "   -2.3939574e-01  2.0563513e-02]]]\n",
            "o.shape: (1, 8, 6)\n",
            "h1: [[-0.02655465 -0.09274315  0.0492039 ]]\n",
            "c1: [[-0.07527899 -0.1608803   0.18144342]]\n",
            "h2: [[-0.12221542 -0.16997999 -0.17683618]]\n",
            "c2: [[-0.24683204 -0.40740585 -0.34948516]]\n"
          ],
          "name": "stdout"
        }
      ]
    }
  ]
}